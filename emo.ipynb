{
  "nbformat": 4,
  "nbformat_minor": 0,
  "metadata": {
    "colab": {
      "name": "emo.ipynb",
      "provenance": [],
      "mount_file_id": "1jRLStFHrJ3OsN99BUpvhhuZ7Lu_1Mie-",
      "authorship_tag": "ABX9TyMK6h8CAu2ylzGwdmuXSTSW",
      "include_colab_link": true
    },
    "kernelspec": {
      "name": "python3",
      "display_name": "Python 3"
    }
  },
  "cells": [
    {
      "cell_type": "markdown",
      "metadata": {
        "id": "view-in-github",
        "colab_type": "text"
      },
      "source": [
        "<a href=\"https://colab.research.google.com/github/ppkgtmm/emotion/blob/main/emo.ipynb\" target=\"_parent\"><img src=\"https://colab.research.google.com/assets/colab-badge.svg\" alt=\"Open In Colab\"/></a>"
      ]
    },
    {
      "cell_type": "code",
      "metadata": {
        "id": "qZMSiNCtjF_f"
      },
      "source": [
        "# !pip install keras-tuner\n",
        "# !git clone --branch utils https://github.com/ppkgtmm/sentiment.git sentiment"
      ],
      "execution_count": 2,
      "outputs": []
    },
    {
      "cell_type": "code",
      "metadata": {
        "id": "1d_Ehq8Ej6Fi"
      },
      "source": [
        "import pandas as pd\n",
        "from keras.preprocessing.text import  Tokenizer\n",
        "from keras.layers import Input, Dense, Embedding, Flatten\n",
        "from keras.models import Sequential\n",
        "from keras.metrics import Precision, Recall\n",
        "from keras.optimizers import Adam, RMSprop\n",
        "from kerastuner import HyperParameters\n",
        "import matplotlib.pyplot as plt\n",
        "from sklearn.model_selection import train_test_split\n",
        "from sentiment.utils import read_data, get_optimizer, get_sequences, split_data\n",
        "from sentiment.utils import get_tuner, get_model_from_config, get_callbacks\n",
        "from sentiment.utils import OH_fit_transform, OH_transform, load, dump, \\\n",
        "model_evaluate\n",
        "import numpy as np\n",
        "from imblearn.over_sampling import SMOTE\n",
        "from collections import Counter\n",
        "from keras.callbacks import LearningRateScheduler, EarlyStopping, ModelCheckpoint\n",
        "import math\n",
        "import keras.backend as K"
      ],
      "execution_count": 84,
      "outputs": []
    },
    {
      "cell_type": "code",
      "metadata": {
        "id": "3HxHBsy7kOfG"
      },
      "source": [
        "cols = ['text', 'target']\n",
        "data_path = '/content/drive/MyDrive/emotion/data/preprocessed.csv'\n",
        "metr = ['accuracy', 'val_accuracy', 'loss', 'val_loss']\n",
        "seed = 123456\n",
        "num_words = 10000\n",
        "max_len = 250"
      ],
      "execution_count": 12,
      "outputs": []
    },
    {
      "cell_type": "code",
      "metadata": {
        "colab": {
          "base_uri": "https://localhost:8080/",
          "height": 204
        },
        "id": "1j8swmcukjZL",
        "outputId": "412e06ff-6064-48a6-caa1-bb477c42f480"
      },
      "source": [
        "data = read_data(data_path,['text', 'emotions'])\n",
        "data.columns = cols\n",
        "data.sample(5)"
      ],
      "execution_count": 13,
      "outputs": [
        {
          "output_type": "execute_result",
          "data": {
            "text/html": [
              "<div>\n",
              "<style scoped>\n",
              "    .dataframe tbody tr th:only-of-type {\n",
              "        vertical-align: middle;\n",
              "    }\n",
              "\n",
              "    .dataframe tbody tr th {\n",
              "        vertical-align: top;\n",
              "    }\n",
              "\n",
              "    .dataframe thead th {\n",
              "        text-align: right;\n",
              "    }\n",
              "</style>\n",
              "<table border=\"1\" class=\"dataframe\">\n",
              "  <thead>\n",
              "    <tr style=\"text-align: right;\">\n",
              "      <th></th>\n",
              "      <th>text</th>\n",
              "      <th>target</th>\n",
              "    </tr>\n",
              "  </thead>\n",
              "  <tbody>\n",
              "    <tr>\n",
              "      <th>26295</th>\n",
              "      <td>i feel like i keep things pretty do</td>\n",
              "      <td>joy</td>\n",
              "    </tr>\n",
              "    <tr>\n",
              "      <th>34351</th>\n",
              "      <td>i feel i should have abused his caring nature ...</td>\n",
              "      <td>sadness</td>\n",
              "    </tr>\n",
              "    <tr>\n",
              "      <th>8273</th>\n",
              "      <td>i acted in the moment feeling that that studen...</td>\n",
              "      <td>sadness</td>\n",
              "    </tr>\n",
              "    <tr>\n",
              "      <th>40833</th>\n",
              "      <td>i feel a little bit lucky</td>\n",
              "      <td>joy</td>\n",
              "    </tr>\n",
              "    <tr>\n",
              "      <th>2452</th>\n",
              "      <td>i start to feel lively again and do not want t...</td>\n",
              "      <td>joy</td>\n",
              "    </tr>\n",
              "  </tbody>\n",
              "</table>\n",
              "</div>"
            ],
            "text/plain": [
              "                                                    text   target\n",
              "26295                i feel like i keep things pretty do      joy\n",
              "34351  i feel i should have abused his caring nature ...  sadness\n",
              "8273   i acted in the moment feeling that that studen...  sadness\n",
              "40833                          i feel a little bit lucky      joy\n",
              "2452   i start to feel lively again and do not want t...      joy"
            ]
          },
          "metadata": {
            "tags": []
          },
          "execution_count": 13
        }
      ]
    },
    {
      "cell_type": "code",
      "metadata": {
        "colab": {
          "base_uri": "https://localhost:8080/"
        },
        "id": "LVBTIRKgkuId",
        "outputId": "43950b2e-14e6-4653-89c8-390b631ce23d"
      },
      "source": [
        "data.shape"
      ],
      "execution_count": 15,
      "outputs": [
        {
          "output_type": "execute_result",
          "data": {
            "text/plain": [
              "(50000, 2)"
            ]
          },
          "metadata": {
            "tags": []
          },
          "execution_count": 15
        }
      ]
    },
    {
      "cell_type": "code",
      "metadata": {
        "colab": {
          "base_uri": "https://localhost:8080/"
        },
        "id": "S-M2YjYfllt7",
        "outputId": "9ce58189-6f54-4063-bb8a-280e8da752b3"
      },
      "source": [
        "data['target'].unique()"
      ],
      "execution_count": 18,
      "outputs": [
        {
          "output_type": "execute_result",
          "data": {
            "text/plain": [
              "array(['joy', 'fear', 'sadness', 'anger', 'love', 'surprise'],\n",
              "      dtype=object)"
            ]
          },
          "metadata": {
            "tags": []
          },
          "execution_count": 18
        }
      ]
    },
    {
      "cell_type": "code",
      "metadata": {
        "id": "wh8dV9h3luck"
      },
      "source": [
        "data = data[~data['target'].isin(['love'])]"
      ],
      "execution_count": 20,
      "outputs": []
    },
    {
      "cell_type": "code",
      "metadata": {
        "colab": {
          "base_uri": "https://localhost:8080/"
        },
        "id": "fjsT6hM7l8mC",
        "outputId": "f1ae3e41-f7f3-41d4-fa86-01974bac11ca"
      },
      "source": [
        "data['target'].unique()"
      ],
      "execution_count": 21,
      "outputs": [
        {
          "output_type": "execute_result",
          "data": {
            "text/plain": [
              "array(['joy', 'fear', 'sadness', 'anger', 'surprise'], dtype=object)"
            ]
          },
          "metadata": {
            "tags": []
          },
          "execution_count": 21
        }
      ]
    },
    {
      "cell_type": "code",
      "metadata": {
        "colab": {
          "base_uri": "https://localhost:8080/",
          "height": 204
        },
        "id": "PomMprCtmH0S",
        "outputId": "2c904777-327d-4cb0-9df5-856fdcda7b27"
      },
      "source": [
        "data.groupby('target').count().reset_index()"
      ],
      "execution_count": 24,
      "outputs": [
        {
          "output_type": "execute_result",
          "data": {
            "text/html": [
              "<div>\n",
              "<style scoped>\n",
              "    .dataframe tbody tr th:only-of-type {\n",
              "        vertical-align: middle;\n",
              "    }\n",
              "\n",
              "    .dataframe tbody tr th {\n",
              "        vertical-align: top;\n",
              "    }\n",
              "\n",
              "    .dataframe thead th {\n",
              "        text-align: right;\n",
              "    }\n",
              "</style>\n",
              "<table border=\"1\" class=\"dataframe\">\n",
              "  <thead>\n",
              "    <tr style=\"text-align: right;\">\n",
              "      <th></th>\n",
              "      <th>target</th>\n",
              "      <th>text</th>\n",
              "    </tr>\n",
              "  </thead>\n",
              "  <tbody>\n",
              "    <tr>\n",
              "      <th>0</th>\n",
              "      <td>anger</td>\n",
              "      <td>6923</td>\n",
              "    </tr>\n",
              "    <tr>\n",
              "      <th>1</th>\n",
              "      <td>fear</td>\n",
              "      <td>5635</td>\n",
              "    </tr>\n",
              "    <tr>\n",
              "      <th>2</th>\n",
              "      <td>joy</td>\n",
              "      <td>16982</td>\n",
              "    </tr>\n",
              "    <tr>\n",
              "      <th>3</th>\n",
              "      <td>sadness</td>\n",
              "      <td>14553</td>\n",
              "    </tr>\n",
              "    <tr>\n",
              "      <th>4</th>\n",
              "      <td>surprise</td>\n",
              "      <td>1744</td>\n",
              "    </tr>\n",
              "  </tbody>\n",
              "</table>\n",
              "</div>"
            ],
            "text/plain": [
              "     target   text\n",
              "0     anger   6923\n",
              "1      fear   5635\n",
              "2       joy  16982\n",
              "3   sadness  14553\n",
              "4  surprise   1744"
            ]
          },
          "metadata": {
            "tags": []
          },
          "execution_count": 24
        }
      ]
    },
    {
      "cell_type": "code",
      "metadata": {
        "id": "YfTudZBAks0D"
      },
      "source": [
        "train, test = train_test_split(data, test_size=0.35, \\\n",
        "                             random_state=seed, stratify=data['target'])\n",
        "val, test = train_test_split(test, test_size=0.5, \\\n",
        "                             random_state=seed, stratify=test['target'])"
      ],
      "execution_count": 22,
      "outputs": []
    },
    {
      "cell_type": "code",
      "metadata": {
        "colab": {
          "base_uri": "https://localhost:8080/"
        },
        "id": "re3U8PtkldF6",
        "outputId": "f046e660-fe29-4277-e670-c8d2769aefe6"
      },
      "source": [
        "train.shape, val.shape, test.shape"
      ],
      "execution_count": 23,
      "outputs": [
        {
          "output_type": "execute_result",
          "data": {
            "text/plain": [
              "((29794, 2), (8021, 2), (8022, 2))"
            ]
          },
          "metadata": {
            "tags": []
          },
          "execution_count": 23
        }
      ]
    },
    {
      "cell_type": "code",
      "metadata": {
        "colab": {
          "base_uri": "https://localhost:8080/"
        },
        "id": "VD4reG9tnaSm",
        "outputId": "abf1f4e2-aa0c-4af8-f71f-a9a36850ab04"
      },
      "source": [
        "print(val['target'].unique(), \\\n",
        "      train['target'].unique(), \\\n",
        "      test['target'].unique())"
      ],
      "execution_count": 29,
      "outputs": [
        {
          "output_type": "stream",
          "text": [
            "['fear' 'joy' 'anger' 'sadness' 'surprise'] ['fear' 'sadness' 'anger' 'joy' 'surprise'] ['anger' 'sadness' 'joy' 'surprise' 'fear']\n"
          ],
          "name": "stdout"
        }
      ]
    },
    {
      "cell_type": "code",
      "metadata": {
        "id": "Pi1Z-joxnCMl"
      },
      "source": [
        "tokenizer = Tokenizer(num_words=num_words, oov_token='OOV')\n",
        "tokenizer.fit_on_texts(train['text'])"
      ],
      "execution_count": 26,
      "outputs": []
    },
    {
      "cell_type": "code",
      "metadata": {
        "id": "WaUI43dBnIq9"
      },
      "source": [
        "train_x = get_sequences(tokenizer, max_len, train['text'])\n",
        "val_x = get_sequences(tokenizer, max_len, val['text'])\n",
        "test_x = get_sequences(tokenizer, max_len, test['text'])"
      ],
      "execution_count": 102,
      "outputs": []
    },
    {
      "cell_type": "code",
      "metadata": {
        "colab": {
          "base_uri": "https://localhost:8080/"
        },
        "id": "LF0aueHulkXX",
        "outputId": "8b356e73-d678-4593-ebd4-2c185891db9a"
      },
      "source": [
        "strategy = {\"anger\":16000, \"fear\":16000, \"surprise\":16000, \"sadness\": 16000, \"joy\": 16000}\n",
        "oversample = SMOTE(sampling_strategy=strategy)\n",
        "train_x, train_y = oversample.fit_resample(train_x,\\\n",
        "                                            train['target'])"
      ],
      "execution_count": null,
      "outputs": [
        {
          "output_type": "stream",
          "text": [
            "/usr/local/lib/python3.7/dist-packages/imblearn/utils/_validation.py:257: UserWarning: After over-sampling, the number of samples (16000) in class anger will be larger than the number of samples in the majority class (class #joy -> 11038)\n",
            "  n_samples_majority))\n",
            "/usr/local/lib/python3.7/dist-packages/imblearn/utils/_validation.py:257: UserWarning: After over-sampling, the number of samples (16000) in class fear will be larger than the number of samples in the majority class (class #joy -> 11038)\n",
            "  n_samples_majority))\n",
            "/usr/local/lib/python3.7/dist-packages/imblearn/utils/_validation.py:257: UserWarning: After over-sampling, the number of samples (16000) in class surprise will be larger than the number of samples in the majority class (class #joy -> 11038)\n",
            "  n_samples_majority))\n",
            "/usr/local/lib/python3.7/dist-packages/imblearn/utils/_validation.py:257: UserWarning: After over-sampling, the number of samples (16000) in class sadness will be larger than the number of samples in the majority class (class #joy -> 11038)\n",
            "  n_samples_majority))\n",
            "/usr/local/lib/python3.7/dist-packages/imblearn/utils/_validation.py:257: UserWarning: After over-sampling, the number of samples (16000) in class joy will be larger than the number of samples in the majority class (class #joy -> 11038)\n",
            "  n_samples_majority))\n",
            "/usr/local/lib/python3.7/dist-packages/sklearn/utils/deprecation.py:87: FutureWarning: Function safe_indexing is deprecated; safe_indexing is deprecated in version 0.22 and will be removed in version 0.24.\n",
            "  warnings.warn(msg, category=FutureWarning)\n",
            "/usr/local/lib/python3.7/dist-packages/sklearn/utils/deprecation.py:87: FutureWarning: Function safe_indexing is deprecated; safe_indexing is deprecated in version 0.22 and will be removed in version 0.24.\n",
            "  warnings.warn(msg, category=FutureWarning)\n",
            "/usr/local/lib/python3.7/dist-packages/sklearn/utils/deprecation.py:87: FutureWarning: Function safe_indexing is deprecated; safe_indexing is deprecated in version 0.22 and will be removed in version 0.24.\n",
            "  warnings.warn(msg, category=FutureWarning)\n"
          ],
          "name": "stderr"
        }
      ]
    },
    {
      "cell_type": "code",
      "metadata": {
        "id": "hlmz_1Z0neAG"
      },
      "source": [
        "counter = Counter(train_y)\n",
        "for k,v in counter.items():\n",
        "\tper = v / len(train_y) * 100\n",
        "\tprint('Class=%s, n=%d (%.3f%%)' % (k, v, per))\n",
        "# plot the distribution\n",
        "plt.bar(counter.keys(), counter.values())\n",
        "plt.show()"
      ],
      "execution_count": null,
      "outputs": []
    },
    {
      "cell_type": "code",
      "metadata": {
        "id": "6ciFPIi0oIj1"
      },
      "source": [
        "train_y = OH_fit_transform(pd.Series(train_y))\n",
        "val_y = OH_transform(val['target'])\n",
        "test_y = OH_transform(test['target'])"
      ],
      "execution_count": 37,
      "outputs": []
    },
    {
      "cell_type": "code",
      "metadata": {
        "id": "g1pF4H_AvQyU"
      },
      "source": [
        "def step_decay(epoch):\n",
        "\tinitial_lrate = 5e-5\n",
        "\tdrop = 0.5\n",
        "\tepochs_drop = 3\n",
        "\tlrate = initial_lrate * math.pow(drop, math.floor((1+epoch)/epochs_drop))\n",
        "\treturn lrate"
      ],
      "execution_count": 86,
      "outputs": []
    },
    {
      "cell_type": "code",
      "metadata": {
        "id": "fMQDUKijiLnu"
      },
      "source": [
        "def build_mlp():\n",
        "    model = Sequential()\n",
        "    model.add(Input(shape=(max_len)))\n",
        "    model.add(Embedding(num_words, 128))\n",
        "    model.add(Flatten())\n",
        "    model.add(Dense(5, activation='softmax'))\n",
        "    return model"
      ],
      "execution_count": 93,
      "outputs": []
    },
    {
      "cell_type": "code",
      "metadata": {
        "colab": {
          "base_uri": "https://localhost:8080/"
        },
        "id": "VrC40d0bp92a",
        "outputId": "feef2831-d227-4d35-a34a-75eb8924b432"
      },
      "source": [
        "K.clear_session()\n",
        "mlp_model = build_mlp()\n",
        "mlp_model.compile(\n",
        "        optimizer=Adam(),\n",
        "        loss='categorical_crossentropy',\n",
        "        metrics=[\n",
        "                 'accuracy',\n",
        "                 Precision(), \n",
        "                 Recall()\n",
        "              ]\n",
        "          )\n",
        "mlp_model.summary()"
      ],
      "execution_count": 94,
      "outputs": [
        {
          "output_type": "stream",
          "text": [
            "Model: \"sequential\"\n",
            "_________________________________________________________________\n",
            "Layer (type)                 Output Shape              Param #   \n",
            "=================================================================\n",
            "embedding (Embedding)        (None, 250, 128)          1280000   \n",
            "_________________________________________________________________\n",
            "flatten (Flatten)            (None, 32000)             0         \n",
            "_________________________________________________________________\n",
            "dense (Dense)                (None, 5)                 160005    \n",
            "=================================================================\n",
            "Total params: 1,440,005\n",
            "Trainable params: 1,440,005\n",
            "Non-trainable params: 0\n",
            "_________________________________________________________________\n"
          ],
          "name": "stdout"
        }
      ]
    },
    {
      "cell_type": "code",
      "metadata": {
        "id": "8Czb297EqCuo"
      },
      "source": [
        "file_path = 'emb_simple.h5'\n",
        "mlp_cb = [\n",
        "          EarlyStopping(monitor='val_accuracy', patience=5, mode='max', \\\n",
        "                        restore_best_weights=True),\n",
        "          ModelCheckpoint(file_path, monitor='val_accuracy', verbose=1, \\\n",
        "                          save_best_only=True,  mode='max'),\n",
        "          LearningRateScheduler(step_decay)\n",
        "          ]"
      ],
      "execution_count": 95,
      "outputs": []
    },
    {
      "cell_type": "code",
      "metadata": {
        "colab": {
          "base_uri": "https://localhost:8080/"
        },
        "id": "Va2F5wU7qOaT",
        "outputId": "f484e3b3-83d0-46bb-a48c-3f64f7d94c02"
      },
      "source": [
        "history_mlp = mlp_model.fit(\n",
        "    train_x,\n",
        "    train_y,\n",
        "    validation_data=(val_x, val_y),\n",
        "    epochs = 100,\n",
        "    batch_size=64,\n",
        "    callbacks=mlp_cb\n",
        ")"
      ],
      "execution_count": 96,
      "outputs": [
        {
          "output_type": "stream",
          "text": [
            "Epoch 1/100\n",
            "1071/1071 [==============================] - 36s 33ms/step - loss: 1.5859 - accuracy: 0.2391 - precision: 0.0000e+00 - recall: 0.0000e+00 - val_loss: 1.7292 - val_accuracy: 0.0987 - val_precision: 0.0000e+00 - val_recall: 0.0000e+00\n",
            "\n",
            "Epoch 00001: val_accuracy improved from -inf to 0.09874, saving model to emb_simple.h5\n",
            "Epoch 2/100\n",
            "1071/1071 [==============================] - 34s 32ms/step - loss: 1.5486 - accuracy: 0.2689 - precision: 0.0000e+00 - recall: 0.0000e+00 - val_loss: 1.6737 - val_accuracy: 0.1787 - val_precision: 0.0000e+00 - val_recall: 0.0000e+00\n",
            "\n",
            "Epoch 00002: val_accuracy improved from 0.09874 to 0.17866, saving model to emb_simple.h5\n",
            "Epoch 3/100\n",
            "1071/1071 [==============================] - 35s 33ms/step - loss: 1.4817 - accuracy: 0.3226 - precision: 0.0632 - recall: 1.0394e-05 - val_loss: 1.6218 - val_accuracy: 0.2666 - val_precision: 0.2857 - val_recall: 4.9869e-04\n",
            "\n",
            "Epoch 00003: val_accuracy improved from 0.17866 to 0.26655, saving model to emb_simple.h5\n",
            "Epoch 4/100\n",
            "1071/1071 [==============================] - 35s 33ms/step - loss: 1.4509 - accuracy: 0.3401 - precision: 0.4416 - recall: 7.0696e-04 - val_loss: 1.6096 - val_accuracy: 0.2849 - val_precision: 0.4286 - val_recall: 0.0022\n",
            "\n",
            "Epoch 00004: val_accuracy improved from 0.26655 to 0.28488, saving model to emb_simple.h5\n",
            "Epoch 5/100\n",
            "1071/1071 [==============================] - 34s 32ms/step - loss: 1.4240 - accuracy: 0.3601 - precision: 0.5622 - recall: 0.0028 - val_loss: 1.5901 - val_accuracy: 0.3138 - val_precision: 0.3750 - val_recall: 0.0030\n",
            "\n",
            "Epoch 00005: val_accuracy improved from 0.28488 to 0.31380, saving model to emb_simple.h5\n",
            "Epoch 6/100\n",
            "1071/1071 [==============================] - 34s 32ms/step - loss: 1.4045 - accuracy: 0.3786 - precision: 0.5313 - recall: 0.0052 - val_loss: 1.5714 - val_accuracy: 0.3376 - val_precision: 0.4766 - val_recall: 0.0064\n",
            "\n",
            "Epoch 00006: val_accuracy improved from 0.31380 to 0.33761, saving model to emb_simple.h5\n",
            "Epoch 7/100\n",
            "1071/1071 [==============================] - 34s 32ms/step - loss: 1.3911 - accuracy: 0.3906 - precision: 0.5643 - recall: 0.0092 - val_loss: 1.5630 - val_accuracy: 0.3432 - val_precision: 0.5238 - val_recall: 0.0096\n",
            "\n",
            "Epoch 00007: val_accuracy improved from 0.33761 to 0.34322, saving model to emb_simple.h5\n",
            "Epoch 8/100\n",
            "1071/1071 [==============================] - 34s 32ms/step - loss: 1.3844 - accuracy: 0.3951 - precision: 0.5762 - recall: 0.0106 - val_loss: 1.5558 - val_accuracy: 0.3542 - val_precision: 0.5337 - val_recall: 0.0128\n",
            "\n",
            "Epoch 00008: val_accuracy improved from 0.34322 to 0.35420, saving model to emb_simple.h5\n",
            "Epoch 9/100\n",
            "1071/1071 [==============================] - 33s 31ms/step - loss: 1.3736 - accuracy: 0.4015 - precision: 0.5895 - recall: 0.0123 - val_loss: 1.5428 - val_accuracy: 0.3689 - val_precision: 0.5439 - val_recall: 0.0155\n",
            "\n",
            "Epoch 00009: val_accuracy improved from 0.35420 to 0.36891, saving model to emb_simple.h5\n",
            "Epoch 10/100\n",
            "1071/1071 [==============================] - 34s 32ms/step - loss: 1.3695 - accuracy: 0.4095 - precision: 0.6006 - recall: 0.0131 - val_loss: 1.5366 - val_accuracy: 0.3716 - val_precision: 0.5564 - val_recall: 0.0178\n",
            "\n",
            "Epoch 00010: val_accuracy improved from 0.36891 to 0.37165, saving model to emb_simple.h5\n",
            "Epoch 11/100\n",
            "1071/1071 [==============================] - 34s 31ms/step - loss: 1.3637 - accuracy: 0.4130 - precision: 0.6242 - recall: 0.0143 - val_loss: 1.5277 - val_accuracy: 0.3842 - val_precision: 0.5725 - val_recall: 0.0187\n",
            "\n",
            "Epoch 00011: val_accuracy improved from 0.37165 to 0.38424, saving model to emb_simple.h5\n",
            "Epoch 12/100\n",
            "1071/1071 [==============================] - 34s 32ms/step - loss: 1.3624 - accuracy: 0.4178 - precision: 0.6444 - recall: 0.0161 - val_loss: 1.5257 - val_accuracy: 0.3899 - val_precision: 0.5699 - val_recall: 0.0193\n",
            "\n",
            "Epoch 00012: val_accuracy improved from 0.38424 to 0.38985, saving model to emb_simple.h5\n",
            "Epoch 13/100\n",
            "1071/1071 [==============================] - 36s 33ms/step - loss: 1.3575 - accuracy: 0.4211 - precision: 0.6227 - recall: 0.0177 - val_loss: 1.5281 - val_accuracy: 0.3832 - val_precision: 0.5760 - val_recall: 0.0203\n",
            "\n",
            "Epoch 00013: val_accuracy did not improve from 0.38985\n",
            "Epoch 14/100\n",
            "1071/1071 [==============================] - 34s 32ms/step - loss: 1.3557 - accuracy: 0.4232 - precision: 0.6125 - recall: 0.0169 - val_loss: 1.5165 - val_accuracy: 0.3955 - val_precision: 0.5842 - val_recall: 0.0221\n",
            "\n",
            "Epoch 00014: val_accuracy improved from 0.38985 to 0.39546, saving model to emb_simple.h5\n",
            "Epoch 15/100\n",
            "1071/1071 [==============================] - 34s 31ms/step - loss: 1.3536 - accuracy: 0.4249 - precision: 0.6285 - recall: 0.0183 - val_loss: 1.5209 - val_accuracy: 0.3897 - val_precision: 0.5825 - val_recall: 0.0224\n",
            "\n",
            "Epoch 00015: val_accuracy did not improve from 0.39546\n",
            "Epoch 16/100\n",
            "1071/1071 [==============================] - 34s 31ms/step - loss: 1.3536 - accuracy: 0.4247 - precision: 0.6177 - recall: 0.0189 - val_loss: 1.5193 - val_accuracy: 0.3926 - val_precision: 0.5877 - val_recall: 0.0226\n",
            "\n",
            "Epoch 00016: val_accuracy did not improve from 0.39546\n",
            "Epoch 17/100\n",
            "1071/1071 [==============================] - 34s 31ms/step - loss: 1.3521 - accuracy: 0.4253 - precision: 0.6339 - recall: 0.0172 - val_loss: 1.5149 - val_accuracy: 0.3988 - val_precision: 0.5890 - val_recall: 0.0239\n",
            "\n",
            "Epoch 00017: val_accuracy improved from 0.39546 to 0.39883, saving model to emb_simple.h5\n",
            "Epoch 18/100\n",
            "1071/1071 [==============================] - 34s 32ms/step - loss: 1.3501 - accuracy: 0.4290 - precision: 0.6338 - recall: 0.0188 - val_loss: 1.5135 - val_accuracy: 0.4013 - val_precision: 0.5839 - val_recall: 0.0234\n",
            "\n",
            "Epoch 00018: val_accuracy improved from 0.39883 to 0.40132, saving model to emb_simple.h5\n",
            "Epoch 19/100\n",
            "1071/1071 [==============================] - 34s 32ms/step - loss: 1.3480 - accuracy: 0.4307 - precision: 0.6255 - recall: 0.0189 - val_loss: 1.5137 - val_accuracy: 0.4007 - val_precision: 0.5920 - val_recall: 0.0241\n",
            "\n",
            "Epoch 00019: val_accuracy did not improve from 0.40132\n",
            "Epoch 20/100\n",
            "1071/1071 [==============================] - 33s 31ms/step - loss: 1.3483 - accuracy: 0.4303 - precision: 0.6389 - recall: 0.0198 - val_loss: 1.5122 - val_accuracy: 0.4013 - val_precision: 0.5921 - val_recall: 0.0244\n",
            "\n",
            "Epoch 00020: val_accuracy did not improve from 0.40132\n",
            "Epoch 21/100\n",
            "1071/1071 [==============================] - 33s 31ms/step - loss: 1.3470 - accuracy: 0.4278 - precision: 0.6382 - recall: 0.0194 - val_loss: 1.5130 - val_accuracy: 0.4023 - val_precision: 0.5859 - val_recall: 0.0238\n",
            "\n",
            "Epoch 00021: val_accuracy improved from 0.40132 to 0.40232, saving model to emb_simple.h5\n",
            "Epoch 22/100\n",
            "1071/1071 [==============================] - 34s 32ms/step - loss: 1.3500 - accuracy: 0.4254 - precision: 0.6466 - recall: 0.0196 - val_loss: 1.5121 - val_accuracy: 0.4036 - val_precision: 0.5891 - val_recall: 0.0243\n",
            "\n",
            "Epoch 00022: val_accuracy improved from 0.40232 to 0.40357, saving model to emb_simple.h5\n",
            "Epoch 23/100\n",
            "1071/1071 [==============================] - 34s 32ms/step - loss: 1.3470 - accuracy: 0.4308 - precision: 0.6389 - recall: 0.0206 - val_loss: 1.5117 - val_accuracy: 0.4037 - val_precision: 0.5909 - val_recall: 0.0243\n",
            "\n",
            "Epoch 00023: val_accuracy improved from 0.40357 to 0.40369, saving model to emb_simple.h5\n",
            "Epoch 24/100\n",
            "1071/1071 [==============================] - 34s 31ms/step - loss: 1.3461 - accuracy: 0.4271 - precision: 0.6445 - recall: 0.0198 - val_loss: 1.5116 - val_accuracy: 0.4036 - val_precision: 0.5921 - val_recall: 0.0244\n",
            "\n",
            "Epoch 00024: val_accuracy did not improve from 0.40369\n",
            "Epoch 25/100\n",
            "1071/1071 [==============================] - 34s 32ms/step - loss: 1.3497 - accuracy: 0.4268 - precision: 0.6418 - recall: 0.0199 - val_loss: 1.5114 - val_accuracy: 0.4037 - val_precision: 0.5934 - val_recall: 0.0246\n",
            "\n",
            "Epoch 00025: val_accuracy did not improve from 0.40369\n",
            "Epoch 26/100\n",
            "1071/1071 [==============================] - 34s 31ms/step - loss: 1.3461 - accuracy: 0.4292 - precision: 0.6629 - recall: 0.0202 - val_loss: 1.5110 - val_accuracy: 0.4038 - val_precision: 0.5964 - val_recall: 0.0247\n",
            "\n",
            "Epoch 00026: val_accuracy improved from 0.40369 to 0.40381, saving model to emb_simple.h5\n",
            "Epoch 27/100\n",
            "1071/1071 [==============================] - 34s 32ms/step - loss: 1.3465 - accuracy: 0.4280 - precision: 0.6366 - recall: 0.0200 - val_loss: 1.5109 - val_accuracy: 0.4037 - val_precision: 0.5946 - val_recall: 0.0247\n",
            "\n",
            "Epoch 00027: val_accuracy did not improve from 0.40381\n",
            "Epoch 28/100\n",
            "1071/1071 [==============================] - 35s 33ms/step - loss: 1.3478 - accuracy: 0.4286 - precision: 0.6482 - recall: 0.0218 - val_loss: 1.5108 - val_accuracy: 0.4036 - val_precision: 0.5958 - val_recall: 0.0248\n",
            "\n",
            "Epoch 00028: val_accuracy did not improve from 0.40381\n",
            "Epoch 29/100\n",
            "1071/1071 [==============================] - 34s 32ms/step - loss: 1.3452 - accuracy: 0.4297 - precision: 0.6392 - recall: 0.0204 - val_loss: 1.5108 - val_accuracy: 0.4036 - val_precision: 0.5952 - val_recall: 0.0249\n",
            "\n",
            "Epoch 00029: val_accuracy did not improve from 0.40381\n",
            "Epoch 30/100\n",
            "1071/1071 [==============================] - 34s 32ms/step - loss: 1.3480 - accuracy: 0.4304 - precision: 0.6414 - recall: 0.0196 - val_loss: 1.5107 - val_accuracy: 0.4036 - val_precision: 0.5952 - val_recall: 0.0249\n",
            "\n",
            "Epoch 00030: val_accuracy did not improve from 0.40381\n",
            "Epoch 31/100\n",
            "1071/1071 [==============================] - 34s 32ms/step - loss: 1.3499 - accuracy: 0.4274 - precision: 0.6454 - recall: 0.0205 - val_loss: 1.5107 - val_accuracy: 0.4037 - val_precision: 0.5952 - val_recall: 0.0249\n",
            "\n",
            "Epoch 00031: val_accuracy did not improve from 0.40381\n"
          ],
          "name": "stdout"
        }
      ]
    },
    {
      "cell_type": "code",
      "metadata": {
        "colab": {
          "base_uri": "https://localhost:8080/",
          "height": 285
        },
        "id": "6xYtTWqUqrl-",
        "outputId": "c89950a4-bb70-4dfa-e4ad-06974e8a80aa"
      },
      "source": [
        "pd.DataFrame(history_mlp.history)[metr].plot()"
      ],
      "execution_count": 97,
      "outputs": [
        {
          "output_type": "execute_result",
          "data": {
            "text/plain": [
              "<matplotlib.axes._subplots.AxesSubplot at 0x7f632d6d87d0>"
            ]
          },
          "metadata": {
            "tags": []
          },
          "execution_count": 97
        },
        {
          "output_type": "display_data",
          "data": {
            "image/png": "[encoded data removed]",
            "text/plain": [
              "<Figure size 432x288 with 1 Axes>"
            ]
          },
          "metadata": {
            "tags": [],
            "needs_background": "light"
          }
        }
      ]
    },
    {
      "cell_type": "code",
      "metadata": {
        "colab": {
          "base_uri": "https://localhost:8080/",
          "height": 623
        },
        "id": "C0cN9UMPz7B_",
        "outputId": "15f1fe0b-7fbe-49ae-d9ce-c0543ffdcd89"
      },
      "source": [
        "model_evaluate(mlp_model, test_x, test_y, 64)"
      ],
      "execution_count": 99,
      "outputs": [
        {
          "output_type": "stream",
          "text": [
            " 12/126 [=>............................] - ETA: 0s "
          ],
          "name": "stdout"
        },
        {
          "output_type": "stream",
          "text": [
            "/usr/local/lib/python3.7/dist-packages/tensorflow/python/keras/engine/sequential.py:450: UserWarning: `model.predict_classes()` is deprecated and will be removed after 2021-01-01. Please use instead:* `np.argmax(model.predict(x), axis=-1)`,   if your model does multi-class classification   (e.g. if it uses a `softmax` last-layer activation).* `(model.predict(x) > 0.5).astype(\"int32\")`,   if your model does binary classification   (e.g. if it uses a `sigmoid` last-layer activation).\n",
            "  warnings.warn('`model.predict_classes()` is deprecated and '\n"
          ],
          "name": "stderr"
        },
        {
          "output_type": "stream",
          "text": [
            "126/126 [==============================] - 1s 5ms/step\n",
            "Accuracy:\t41.0%\n",
            "\n",
            "\n",
            "              precision    recall  f1-score   support\n",
            "\n",
            "           0       0.26      0.33      0.29      1212\n",
            "           1       0.23      0.30      0.26       986\n",
            "           2       0.54      0.59      0.56      2972\n",
            "           3       0.59      0.31      0.41      2547\n",
            "           4       0.07      0.15      0.10       305\n",
            "\n",
            "    accuracy                           0.41      8022\n",
            "   macro avg       0.34      0.34      0.33      8022\n",
            "weighted avg       0.46      0.41      0.42      8022\n",
            "\n"
          ],
          "name": "stdout"
        },
        {
          "output_type": "display_data",
          "data": {
            "image/png": "[encoded data removed]",
            "text/plain": [
              "<Figure size 288x288 with 1 Axes>"
            ]
          },
          "metadata": {
            "tags": [],
            "needs_background": "light"
          }
        }
      ]
    },
    {
      "cell_type": "code",
      "metadata": {
        "colab": {
          "base_uri": "https://localhost:8080/"
        },
        "id": "QSuKXWLi0hfB",
        "outputId": "8e42d18e-bed6-46f1-a15a-d73c739406ff"
      },
      "source": [
        "mlp_model.predict(get_sequences(tokenizer,max_len,['I feel too good to see you']))"
      ],
      "execution_count": 101,
      "outputs": [
        {
          "output_type": "execute_result",
          "data": {
            "text/plain": [
              "array([[0.2258618 , 0.24411301, 0.2090826 , 0.20687103, 0.11407156]],\n",
              "      dtype=float32)"
            ]
          },
          "metadata": {
            "tags": []
          },
          "execution_count": 101
        }
      ]
    }
  ]
}
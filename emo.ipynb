{
  "nbformat": 4,
  "nbformat_minor": 0,
  "metadata": {
    "colab": {
      "name": "emo.ipynb",
      "provenance": [],
      "mount_file_id": "1jRLStFHrJ3OsN99BUpvhhuZ7Lu_1Mie-",
      "authorship_tag": "ABX9TyPYY6kOdCZpYsIMUid4gtlY",
      "include_colab_link": true
    },
    "kernelspec": {
      "name": "python3",
      "display_name": "Python 3"
    }
  },
  "cells": [
    {
      "cell_type": "markdown",
      "metadata": {
        "id": "view-in-github",
        "colab_type": "text"
      },
      "source": [
        "<a href=\"https://colab.research.google.com/github/ppkgtmm/emotion/blob/main/emo.ipynb\" target=\"_parent\"><img src=\"https://colab.research.google.com/assets/colab-badge.svg\" alt=\"Open In Colab\"/></a>"
      ]
    },
    {
      "cell_type": "code",
      "metadata": {
        "id": "qZMSiNCtjF_f"
      },
      "source": [
        "# !pip install keras-tuner\n",
        "# !git clone --branch utils https://github.com/ppkgtmm/sentiment.git sentiment"
      ],
      "execution_count": 2,
      "outputs": []
    },
    {
      "cell_type": "code",
      "metadata": {
        "id": "1d_Ehq8Ej6Fi"
      },
      "source": [
        "import pandas as pd\n",
        "from keras.preprocessing.text import  Tokenizer\n",
        "from keras.layers import Input, Dense, Embedding, Flatten\n",
        "from keras.models import Sequential\n",
        "from keras.metrics import Precision, Recall\n",
        "from keras.optimizers import Adam, RMSprop\n",
        "from kerastuner import HyperParameters\n",
        "import matplotlib.pyplot as plt\n",
        "from sklearn.model_selection import train_test_split\n",
        "from sentiment.utils import read_data, get_optimizer, get_sequences, split_data\n",
        "from sentiment.utils import get_tuner, get_model_from_config, get_callbacks\n",
        "from sentiment.utils import OH_fit_transform, OH_transform, load, dump, \\\n",
        "model_evaluate\n",
        "import numpy as np\n",
        "from imblearn.over_sampling import SMOTE\n",
        "from collections import Counter\n",
        "from keras.callbacks import LearningRateScheduler, EarlyStopping, ModelCheckpoint\n",
        "import math\n",
        "import keras.backend as K"
      ],
      "execution_count": 84,
      "outputs": []
    },
    {
      "cell_type": "code",
      "metadata": {
        "id": "3HxHBsy7kOfG"
      },
      "source": [
        "cols = ['text', 'target']\n",
        "data_path = '/content/drive/MyDrive/emotion/data/preprocessed.csv'\n",
        "metr = ['accuracy', 'val_accuracy', 'loss', 'val_loss']\n",
        "seed = 123456\n",
        "num_words = 10000\n",
        "max_len = 250"
      ],
      "execution_count": 12,
      "outputs": []
    },
    {
      "cell_type": "code",
      "metadata": {
        "colab": {
          "base_uri": "https://localhost:8080/",
          "height": 204
        },
        "id": "1j8swmcukjZL",
        "outputId": "412e06ff-6064-48a6-caa1-bb477c42f480"
      },
      "source": [
        "data = read_data(data_path,['text', 'emotions'])\n",
        "data.columns = cols\n",
        "data.sample(5)"
      ],
      "execution_count": 13,
      "outputs": [
        {
          "output_type": "execute_result",
          "data": {
            "text/html": [
              "<div>\n",
              "<style scoped>\n",
              "    .dataframe tbody tr th:only-of-type {\n",
              "        vertical-align: middle;\n",
              "    }\n",
              "\n",
              "    .dataframe tbody tr th {\n",
              "        vertical-align: top;\n",
              "    }\n",
              "\n",
              "    .dataframe thead th {\n",
              "        text-align: right;\n",
              "    }\n",
              "</style>\n",
              "<table border=\"1\" class=\"dataframe\">\n",
              "  <thead>\n",
              "    <tr style=\"text-align: right;\">\n",
              "      <th></th>\n",
              "      <th>text</th>\n",
              "      <th>target</th>\n",
              "    </tr>\n",
              "  </thead>\n",
              "  <tbody>\n",
              "    <tr>\n",
              "      <th>26295</th>\n",
              "      <td>i feel like i keep things pretty do</td>\n",
              "      <td>joy</td>\n",
              "    </tr>\n",
              "    <tr>\n",
              "      <th>34351</th>\n",
              "      <td>i feel i should have abused his caring nature ...</td>\n",
              "      <td>sadness</td>\n",
              "    </tr>\n",
              "    <tr>\n",
              "      <th>8273</th>\n",
              "      <td>i acted in the moment feeling that that studen...</td>\n",
              "      <td>sadness</td>\n",
              "    </tr>\n",
              "    <tr>\n",
              "      <th>40833</th>\n",
              "      <td>i feel a little bit lucky</td>\n",
              "      <td>joy</td>\n",
              "    </tr>\n",
              "    <tr>\n",
              "      <th>2452</th>\n",
              "      <td>i start to feel lively again and do not want t...</td>\n",
              "      <td>joy</td>\n",
              "    </tr>\n",
              "  </tbody>\n",
              "</table>\n",
              "</div>"
            ],
            "text/plain": [
              "                                                    text   target\n",
              "26295                i feel like i keep things pretty do      joy\n",
              "34351  i feel i should have abused his caring nature ...  sadness\n",
              "8273   i acted in the moment feeling that that studen...  sadness\n",
              "40833                          i feel a little bit lucky      joy\n",
              "2452   i start to feel lively again and do not want t...      joy"
            ]
          },
          "metadata": {
            "tags": []
          },
          "execution_count": 13
        }
      ]
    },
    {
      "cell_type": "code",
      "metadata": {
        "colab": {
          "base_uri": "https://localhost:8080/"
        },
        "id": "LVBTIRKgkuId",
        "outputId": "43950b2e-14e6-4653-89c8-390b631ce23d"
      },
      "source": [
        "data.shape"
      ],
      "execution_count": 15,
      "outputs": [
        {
          "output_type": "execute_result",
          "data": {
            "text/plain": [
              "(50000, 2)"
            ]
          },
          "metadata": {
            "tags": []
          },
          "execution_count": 15
        }
      ]
    },
    {
      "cell_type": "code",
      "metadata": {
        "colab": {
          "base_uri": "https://localhost:8080/"
        },
        "id": "S-M2YjYfllt7",
        "outputId": "9ce58189-6f54-4063-bb8a-280e8da752b3"
      },
      "source": [
        "data['target'].unique()"
      ],
      "execution_count": 18,
      "outputs": [
        {
          "output_type": "execute_result",
          "data": {
            "text/plain": [
              "array(['joy', 'fear', 'sadness', 'anger', 'love', 'surprise'],\n",
              "      dtype=object)"
            ]
          },
          "metadata": {
            "tags": []
          },
          "execution_count": 18
        }
      ]
    },
    {
      "cell_type": "code",
      "metadata": {
        "id": "wh8dV9h3luck"
      },
      "source": [
        "data = data[~data['target'].isin(['love'])]"
      ],
      "execution_count": 20,
      "outputs": []
    },
    {
      "cell_type": "code",
      "metadata": {
        "colab": {
          "base_uri": "https://localhost:8080/"
        },
        "id": "fjsT6hM7l8mC",
        "outputId": "f1ae3e41-f7f3-41d4-fa86-01974bac11ca"
      },
      "source": [
        "data['target'].unique()"
      ],
      "execution_count": 21,
      "outputs": [
        {
          "output_type": "execute_result",
          "data": {
            "text/plain": [
              "array(['joy', 'fear', 'sadness', 'anger', 'surprise'], dtype=object)"
            ]
          },
          "metadata": {
            "tags": []
          },
          "execution_count": 21
        }
      ]
    },
    {
      "cell_type": "code",
      "metadata": {
        "colab": {
          "base_uri": "https://localhost:8080/",
          "height": 204
        },
        "id": "PomMprCtmH0S",
        "outputId": "2c904777-327d-4cb0-9df5-856fdcda7b27"
      },
      "source": [
        "data.groupby('target').count().reset_index()"
      ],
      "execution_count": 24,
      "outputs": [
        {
          "output_type": "execute_result",
          "data": {
            "text/html": [
              "<div>\n",
              "<style scoped>\n",
              "    .dataframe tbody tr th:only-of-type {\n",
              "        vertical-align: middle;\n",
              "    }\n",
              "\n",
              "    .dataframe tbody tr th {\n",
              "        vertical-align: top;\n",
              "    }\n",
              "\n",
              "    .dataframe thead th {\n",
              "        text-align: right;\n",
              "    }\n",
              "</style>\n",
              "<table border=\"1\" class=\"dataframe\">\n",
              "  <thead>\n",
              "    <tr style=\"text-align: right;\">\n",
              "      <th></th>\n",
              "      <th>target</th>\n",
              "      <th>text</th>\n",
              "    </tr>\n",
              "  </thead>\n",
              "  <tbody>\n",
              "    <tr>\n",
              "      <th>0</th>\n",
              "      <td>anger</td>\n",
              "      <td>6923</td>\n",
              "    </tr>\n",
              "    <tr>\n",
              "      <th>1</th>\n",
              "      <td>fear</td>\n",
              "      <td>5635</td>\n",
              "    </tr>\n",
              "    <tr>\n",
              "      <th>2</th>\n",
              "      <td>joy</td>\n",
              "      <td>16982</td>\n",
              "    </tr>\n",
              "    <tr>\n",
              "      <th>3</th>\n",
              "      <td>sadness</td>\n",
              "      <td>14553</td>\n",
              "    </tr>\n",
              "    <tr>\n",
              "      <th>4</th>\n",
              "      <td>surprise</td>\n",
              "      <td>1744</td>\n",
              "    </tr>\n",
              "  </tbody>\n",
              "</table>\n",
              "</div>"
            ],
            "text/plain": [
              "     target   text\n",
              "0     anger   6923\n",
              "1      fear   5635\n",
              "2       joy  16982\n",
              "3   sadness  14553\n",
              "4  surprise   1744"
            ]
          },
          "metadata": {
            "tags": []
          },
          "execution_count": 24
        }
      ]
    },
    {
      "cell_type": "code",
      "metadata": {
        "id": "YfTudZBAks0D"
      },
      "source": [
        "train, test = train_test_split(data, test_size=0.35, \\\n",
        "                             random_state=seed, stratify=data['target'])\n",
        "val, test = train_test_split(test, test_size=0.5, \\\n",
        "                             random_state=seed, stratify=test['target'])"
      ],
      "execution_count": 22,
      "outputs": []
    },
    {
      "cell_type": "code",
      "metadata": {
        "colab": {
          "base_uri": "https://localhost:8080/"
        },
        "id": "re3U8PtkldF6",
        "outputId": "f046e660-fe29-4277-e670-c8d2769aefe6"
      },
      "source": [
        "train.shape, val.shape, test.shape"
      ],
      "execution_count": 23,
      "outputs": [
        {
          "output_type": "execute_result",
          "data": {
            "text/plain": [
              "((29794, 2), (8021, 2), (8022, 2))"
            ]
          },
          "metadata": {
            "tags": []
          },
          "execution_count": 23
        }
      ]
    },
    {
      "cell_type": "code",
      "metadata": {
        "colab": {
          "base_uri": "https://localhost:8080/"
        },
        "id": "VD4reG9tnaSm",
        "outputId": "abf1f4e2-aa0c-4af8-f71f-a9a36850ab04"
      },
      "source": [
        "print(val['target'].unique(), \\\n",
        "      train['target'].unique(), \\\n",
        "      test['target'].unique())"
      ],
      "execution_count": 29,
      "outputs": [
        {
          "output_type": "stream",
          "text": [
            "['fear' 'joy' 'anger' 'sadness' 'surprise'] ['fear' 'sadness' 'anger' 'joy' 'surprise'] ['anger' 'sadness' 'joy' 'surprise' 'fear']\n"
          ],
          "name": "stdout"
        }
      ]
    },
    {
      "cell_type": "code",
      "metadata": {
        "id": "Pi1Z-joxnCMl"
      },
      "source": [
        "tokenizer = Tokenizer(num_words=num_words, oov_token='OOV')\n",
        "tokenizer.fit_on_texts(train['text'])"
      ],
      "execution_count": 26,
      "outputs": []
    },
    {
      "cell_type": "code",
      "metadata": {
        "id": "WaUI43dBnIq9"
      },
      "source": [
        "train_x = get_sequences(tokenizer, max_len, train['text'])\n",
        "val_x = get_sequences(tokenizer, max_len, val['text'])\n",
        "test_x = get_sequences(tokenizer, max_len, test['text'])"
      ],
      "execution_count": 102,
      "outputs": []
    },
    {
      "cell_type": "code",
      "metadata": {
        "colab": {
          "base_uri": "https://localhost:8080/"
        },
        "id": "LF0aueHulkXX",
        "outputId": "8b356e73-d678-4593-ebd4-2c185891db9a"
      },
      "source": [
        "strategy = {\"anger\":16000, \"fear\":16000, \"surprise\":16000, \"sadness\": 16000, \"joy\": 16000}\n",
        "oversample = SMOTE(sampling_strategy=strategy)\n",
        "train_x, train_y = oversample.fit_resample(train_x,\\\n",
        "                                            train['target'])"
      ],
      "execution_count": 103,
      "outputs": [
        {
          "output_type": "stream",
          "text": [
            "/usr/local/lib/python3.7/dist-packages/imblearn/utils/_validation.py:257: UserWarning: After over-sampling, the number of samples (16000) in class anger will be larger than the number of samples in the majority class (class #joy -> 11038)\n",
            "  n_samples_majority))\n",
            "/usr/local/lib/python3.7/dist-packages/imblearn/utils/_validation.py:257: UserWarning: After over-sampling, the number of samples (16000) in class fear will be larger than the number of samples in the majority class (class #joy -> 11038)\n",
            "  n_samples_majority))\n",
            "/usr/local/lib/python3.7/dist-packages/imblearn/utils/_validation.py:257: UserWarning: After over-sampling, the number of samples (16000) in class surprise will be larger than the number of samples in the majority class (class #joy -> 11038)\n",
            "  n_samples_majority))\n",
            "/usr/local/lib/python3.7/dist-packages/imblearn/utils/_validation.py:257: UserWarning: After over-sampling, the number of samples (16000) in class sadness will be larger than the number of samples in the majority class (class #joy -> 11038)\n",
            "  n_samples_majority))\n",
            "/usr/local/lib/python3.7/dist-packages/imblearn/utils/_validation.py:257: UserWarning: After over-sampling, the number of samples (16000) in class joy will be larger than the number of samples in the majority class (class #joy -> 11038)\n",
            "  n_samples_majority))\n",
            "/usr/local/lib/python3.7/dist-packages/sklearn/utils/deprecation.py:87: FutureWarning: Function safe_indexing is deprecated; safe_indexing is deprecated in version 0.22 and will be removed in version 0.24.\n",
            "  warnings.warn(msg, category=FutureWarning)\n",
            "/usr/local/lib/python3.7/dist-packages/sklearn/utils/deprecation.py:87: FutureWarning: Function safe_indexing is deprecated; safe_indexing is deprecated in version 0.22 and will be removed in version 0.24.\n",
            "  warnings.warn(msg, category=FutureWarning)\n",
            "/usr/local/lib/python3.7/dist-packages/sklearn/utils/deprecation.py:87: FutureWarning: Function safe_indexing is deprecated; safe_indexing is deprecated in version 0.22 and will be removed in version 0.24.\n",
            "  warnings.warn(msg, category=FutureWarning)\n",
            "/usr/local/lib/python3.7/dist-packages/sklearn/utils/deprecation.py:87: FutureWarning: Function safe_indexing is deprecated; safe_indexing is deprecated in version 0.22 and will be removed in version 0.24.\n",
            "  warnings.warn(msg, category=FutureWarning)\n",
            "/usr/local/lib/python3.7/dist-packages/sklearn/utils/deprecation.py:87: FutureWarning: Function safe_indexing is deprecated; safe_indexing is deprecated in version 0.22 and will be removed in version 0.24.\n",
            "  warnings.warn(msg, category=FutureWarning)\n"
          ],
          "name": "stderr"
        }
      ]
    },
    {
      "cell_type": "code",
      "metadata": {
        "colab": {
          "base_uri": "https://localhost:8080/",
          "height": 350
        },
        "id": "hlmz_1Z0neAG",
        "outputId": "7ee41f30-1f3a-43b6-f5fa-26eeb850575b"
      },
      "source": [
        "counter = Counter(train_y)\n",
        "for k,v in counter.items():\n",
        "\tper = v / len(train_y) * 100\n",
        "\tprint('Class=%s, n=%d (%.3f%%)' % (k, v, per))\n",
        "# plot the distribution\n",
        "plt.bar(counter.keys(), counter.values())\n",
        "plt.show()"
      ],
      "execution_count": 104,
      "outputs": [
        {
          "output_type": "stream",
          "text": [
            "Class=fear, n=16000 (20.000%)\n",
            "Class=sadness, n=16000 (20.000%)\n",
            "Class=anger, n=16000 (20.000%)\n",
            "Class=joy, n=16000 (20.000%)\n",
            "Class=surprise, n=16000 (20.000%)\n"
          ],
          "name": "stdout"
        },
        {
          "output_type": "display_data",
          "data": {
            "image/png": "[encoded data removed]",
            "text/plain": [
              "<Figure size 432x288 with 1 Axes>"
            ]
          },
          "metadata": {
            "tags": [],
            "needs_background": "light"
          }
        }
      ]
    },
    {
      "cell_type": "code",
      "metadata": {
        "id": "6ciFPIi0oIj1"
      },
      "source": [
        "train_y = OH_fit_transform(pd.Series(train_y))\n",
        "val_y = OH_transform(val['target'])\n",
        "test_y = OH_transform(test['target'])"
      ],
      "execution_count": 105,
      "outputs": []
    },
    {
      "cell_type": "code",
      "metadata": {
        "id": "g1pF4H_AvQyU"
      },
      "source": [
        "def step_decay(epoch):\n",
        "\tinitial_lrate = 5e-5\n",
        "\tdrop = 0.5\n",
        "\tepochs_drop = 3\n",
        "\tlrate = initial_lrate * math.pow(drop, math.floor((1+epoch)/epochs_drop))\n",
        "\treturn lrate"
      ],
      "execution_count": 106,
      "outputs": []
    },
    {
      "cell_type": "code",
      "metadata": {
        "id": "fMQDUKijiLnu"
      },
      "source": [
        "def build_mlp():\n",
        "    model = Sequential()\n",
        "    model.add(Input(shape=(max_len)))\n",
        "    model.add(Embedding(num_words, 128))\n",
        "    model.add(Flatten())\n",
        "    model.add(Dense(5, activation='softmax'))\n",
        "    return model"
      ],
      "execution_count": 107,
      "outputs": []
    },
    {
      "cell_type": "code",
      "metadata": {
        "colab": {
          "base_uri": "https://localhost:8080/"
        },
        "id": "VrC40d0bp92a",
        "outputId": "e912d942-6b91-4dcf-c24a-fce5b066a888"
      },
      "source": [
        "K.clear_session()\n",
        "mlp_model = build_mlp()\n",
        "mlp_model.compile(\n",
        "        optimizer=Adam(),\n",
        "        loss='categorical_crossentropy',\n",
        "        metrics=[\n",
        "                 'accuracy',\n",
        "                 Precision(), \n",
        "                 Recall()\n",
        "              ]\n",
        "          )\n",
        "mlp_model.summary()"
      ],
      "execution_count": 108,
      "outputs": [
        {
          "output_type": "stream",
          "text": [
            "Model: \"sequential\"\n",
            "_________________________________________________________________\n",
            "Layer (type)                 Output Shape              Param #   \n",
            "=================================================================\n",
            "embedding (Embedding)        (None, 250, 128)          1280000   \n",
            "_________________________________________________________________\n",
            "flatten (Flatten)            (None, 32000)             0         \n",
            "_________________________________________________________________\n",
            "dense (Dense)                (None, 5)                 160005    \n",
            "=================================================================\n",
            "Total params: 1,440,005\n",
            "Trainable params: 1,440,005\n",
            "Non-trainable params: 0\n",
            "_________________________________________________________________\n"
          ],
          "name": "stdout"
        }
      ]
    },
    {
      "cell_type": "code",
      "metadata": {
        "id": "8Czb297EqCuo"
      },
      "source": [
        "file_path = 'emb.h5'\n",
        "mlp_cb = [\n",
        "          EarlyStopping(monitor='val_accuracy', patience=5, mode='max', \\\n",
        "                        restore_best_weights=True),\n",
        "          ModelCheckpoint(file_path, monitor='val_accuracy', verbose=1, \\\n",
        "                          save_best_only=True,  mode='max'),\n",
        "          LearningRateScheduler(step_decay)\n",
        "          ]"
      ],
      "execution_count": 109,
      "outputs": []
    },
    {
      "cell_type": "code",
      "metadata": {
        "colab": {
          "base_uri": "https://localhost:8080/"
        },
        "id": "Va2F5wU7qOaT",
        "outputId": "ffb5758d-2bfa-4d6a-df3c-0a4aba30d3b1"
      },
      "source": [
        "history_mlp = mlp_model.fit(\n",
        "    train_x,\n",
        "    train_y,\n",
        "    validation_data=(val_x, val_y),\n",
        "    epochs = 100,\n",
        "    batch_size=64,\n",
        "    callbacks=mlp_cb\n",
        ")"
      ],
      "execution_count": 110,
      "outputs": [
        {
          "output_type": "stream",
          "text": [
            "Epoch 1/100\n",
            "1250/1250 [==============================] - 39s 30ms/step - loss: 1.6085 - accuracy: 0.2109 - precision: 0.0000e+00 - recall: 0.0000e+00 - val_loss: 1.5678 - val_accuracy: 0.3598 - val_precision: 0.0000e+00 - val_recall: 0.0000e+00\n",
            "\n",
            "Epoch 00001: val_accuracy improved from -inf to 0.35981, saving model to emb.h5\n",
            "Epoch 2/100\n",
            "1250/1250 [==============================] - 37s 30ms/step - loss: 1.5918 - accuracy: 0.2636 - precision: 0.0000e+00 - recall: 0.0000e+00 - val_loss: 1.5447 - val_accuracy: 0.3516 - val_precision: 0.0000e+00 - val_recall: 0.0000e+00\n",
            "\n",
            "Epoch 00002: val_accuracy did not improve from 0.35981\n",
            "Epoch 3/100\n",
            "1250/1250 [==============================] - 39s 31ms/step - loss: 1.5624 - accuracy: 0.3079 - precision: 0.0000e+00 - recall: 0.0000e+00 - val_loss: 1.5295 - val_accuracy: 0.3577 - val_precision: 0.0000e+00 - val_recall: 0.0000e+00\n",
            "\n",
            "Epoch 00003: val_accuracy did not improve from 0.35981\n",
            "Epoch 4/100\n",
            "1250/1250 [==============================] - 37s 30ms/step - loss: 1.5468 - accuracy: 0.3192 - precision: 0.0000e+00 - recall: 0.0000e+00 - val_loss: 1.4863 - val_accuracy: 0.3821 - val_precision: 0.4000 - val_recall: 2.4935e-04\n",
            "\n",
            "Epoch 00004: val_accuracy improved from 0.35981 to 0.38212, saving model to emb.h5\n",
            "Epoch 5/100\n",
            "1250/1250 [==============================] - 38s 30ms/step - loss: 1.5322 - accuracy: 0.3307 - precision: 0.2501 - recall: 7.4059e-05 - val_loss: 1.4854 - val_accuracy: 0.3965 - val_precision: 0.5000 - val_recall: 7.4804e-04\n",
            "\n",
            "Epoch 00005: val_accuracy improved from 0.38212 to 0.39646, saving model to emb.h5\n",
            "Epoch 6/100\n",
            "1250/1250 [==============================] - 37s 30ms/step - loss: 1.5188 - accuracy: 0.3454 - precision: 0.4223 - recall: 5.1696e-04 - val_loss: 1.4692 - val_accuracy: 0.4155 - val_precision: 0.5600 - val_recall: 0.0017\n",
            "\n",
            "Epoch 00006: val_accuracy improved from 0.39646 to 0.41553, saving model to emb.h5\n",
            "Epoch 7/100\n",
            "1250/1250 [==============================] - 38s 31ms/step - loss: 1.5116 - accuracy: 0.3515 - precision: 0.4628 - recall: 7.8229e-04 - val_loss: 1.4531 - val_accuracy: 0.4155 - val_precision: 0.5882 - val_recall: 0.0037\n",
            "\n",
            "Epoch 00007: val_accuracy did not improve from 0.41553\n",
            "Epoch 8/100\n",
            "1250/1250 [==============================] - 37s 30ms/step - loss: 1.5045 - accuracy: 0.3600 - precision: 0.5356 - recall: 0.0018 - val_loss: 1.4446 - val_accuracy: 0.4256 - val_precision: 0.6207 - val_recall: 0.0045\n",
            "\n",
            "Epoch 00008: val_accuracy improved from 0.41553 to 0.42563, saving model to emb.h5\n",
            "Epoch 9/100\n",
            "1250/1250 [==============================] - 38s 30ms/step - loss: 1.4974 - accuracy: 0.3646 - precision: 0.5757 - recall: 0.0026 - val_loss: 1.4444 - val_accuracy: 0.4369 - val_precision: 0.6250 - val_recall: 0.0062\n",
            "\n",
            "Epoch 00009: val_accuracy improved from 0.42563 to 0.43685, saving model to emb.h5\n",
            "Epoch 10/100\n",
            "1250/1250 [==============================] - 37s 30ms/step - loss: 1.4956 - accuracy: 0.3699 - precision: 0.6165 - recall: 0.0031 - val_loss: 1.4383 - val_accuracy: 0.4391 - val_precision: 0.6389 - val_recall: 0.0057\n",
            "\n",
            "Epoch 00010: val_accuracy improved from 0.43685 to 0.43910, saving model to emb.h5\n",
            "Epoch 11/100\n",
            "1250/1250 [==============================] - 38s 30ms/step - loss: 1.4937 - accuracy: 0.3725 - precision: 0.5906 - recall: 0.0031 - val_loss: 1.4342 - val_accuracy: 0.4457 - val_precision: 0.6413 - val_recall: 0.0074\n",
            "\n",
            "Epoch 00011: val_accuracy improved from 0.43910 to 0.44571, saving model to emb.h5\n",
            "Epoch 12/100\n",
            "1250/1250 [==============================] - 39s 31ms/step - loss: 1.4871 - accuracy: 0.3760 - precision: 0.6861 - recall: 0.0042 - val_loss: 1.4250 - val_accuracy: 0.4511 - val_precision: 0.5971 - val_recall: 0.0103\n",
            "\n",
            "Epoch 00012: val_accuracy improved from 0.44571 to 0.45107, saving model to emb.h5\n",
            "Epoch 13/100\n",
            "1250/1250 [==============================] - 37s 30ms/step - loss: 1.4882 - accuracy: 0.3762 - precision: 0.6595 - recall: 0.0048 - val_loss: 1.4209 - val_accuracy: 0.4504 - val_precision: 0.6739 - val_recall: 0.0077\n",
            "\n",
            "Epoch 00013: val_accuracy did not improve from 0.45107\n",
            "Epoch 14/100\n",
            "1250/1250 [==============================] - 37s 30ms/step - loss: 1.4831 - accuracy: 0.3826 - precision: 0.6765 - recall: 0.0046 - val_loss: 1.4218 - val_accuracy: 0.4558 - val_precision: 0.6283 - val_recall: 0.0089\n",
            "\n",
            "Epoch 00014: val_accuracy improved from 0.45107 to 0.45580, saving model to emb.h5\n",
            "Epoch 15/100\n",
            "1250/1250 [==============================] - 38s 30ms/step - loss: 1.4824 - accuracy: 0.3804 - precision: 0.6425 - recall: 0.0050 - val_loss: 1.4196 - val_accuracy: 0.4605 - val_precision: 0.5942 - val_recall: 0.0102\n",
            "\n",
            "Epoch 00015: val_accuracy improved from 0.45580 to 0.46054, saving model to emb.h5\n",
            "Epoch 16/100\n",
            "1250/1250 [==============================] - 38s 30ms/step - loss: 1.4835 - accuracy: 0.3810 - precision: 0.6702 - recall: 0.0049 - val_loss: 1.4172 - val_accuracy: 0.4604 - val_precision: 0.5973 - val_recall: 0.0111\n",
            "\n",
            "Epoch 00016: val_accuracy did not improve from 0.46054\n",
            "Epoch 17/100\n",
            "1250/1250 [==============================] - 38s 31ms/step - loss: 1.4814 - accuracy: 0.3812 - precision: 0.6407 - recall: 0.0056 - val_loss: 1.4163 - val_accuracy: 0.4618 - val_precision: 0.5929 - val_recall: 0.0103\n",
            "\n",
            "Epoch 00017: val_accuracy improved from 0.46054 to 0.46179, saving model to emb.h5\n",
            "Epoch 18/100\n",
            "1250/1250 [==============================] - 38s 31ms/step - loss: 1.4820 - accuracy: 0.3820 - precision: 0.6725 - recall: 0.0053 - val_loss: 1.4140 - val_accuracy: 0.4630 - val_precision: 0.5973 - val_recall: 0.0111\n",
            "\n",
            "Epoch 00018: val_accuracy improved from 0.46179 to 0.46303, saving model to emb.h5\n",
            "Epoch 19/100\n",
            "1250/1250 [==============================] - 38s 31ms/step - loss: 1.4806 - accuracy: 0.3825 - precision: 0.6995 - recall: 0.0057 - val_loss: 1.4147 - val_accuracy: 0.4642 - val_precision: 0.6000 - val_recall: 0.0112\n",
            "\n",
            "Epoch 00019: val_accuracy improved from 0.46303 to 0.46416, saving model to emb.h5\n",
            "Epoch 20/100\n",
            "1250/1250 [==============================] - 39s 31ms/step - loss: 1.4805 - accuracy: 0.3867 - precision: 0.6556 - recall: 0.0053 - val_loss: 1.4131 - val_accuracy: 0.4654 - val_precision: 0.6026 - val_recall: 0.0113\n",
            "\n",
            "Epoch 00020: val_accuracy improved from 0.46416 to 0.46540, saving model to emb.h5\n",
            "Epoch 21/100\n",
            "1250/1250 [==============================] - 38s 31ms/step - loss: 1.4774 - accuracy: 0.3889 - precision: 0.6967 - recall: 0.0059 - val_loss: 1.4132 - val_accuracy: 0.4658 - val_precision: 0.6026 - val_recall: 0.0113\n",
            "\n",
            "Epoch 00021: val_accuracy improved from 0.46540 to 0.46578, saving model to emb.h5\n",
            "Epoch 22/100\n",
            "1250/1250 [==============================] - 38s 30ms/step - loss: 1.4793 - accuracy: 0.3874 - precision: 0.6662 - recall: 0.0057 - val_loss: 1.4126 - val_accuracy: 0.4659 - val_precision: 0.6053 - val_recall: 0.0115\n",
            "\n",
            "Epoch 00022: val_accuracy improved from 0.46578 to 0.46590, saving model to emb.h5\n",
            "Epoch 23/100\n",
            "1250/1250 [==============================] - 39s 31ms/step - loss: 1.4796 - accuracy: 0.3857 - precision: 0.6308 - recall: 0.0053 - val_loss: 1.4122 - val_accuracy: 0.4669 - val_precision: 0.6039 - val_recall: 0.0116\n",
            "\n",
            "Epoch 00023: val_accuracy improved from 0.46590 to 0.46690, saving model to emb.h5\n",
            "Epoch 24/100\n",
            "1250/1250 [==============================] - 38s 30ms/step - loss: 1.4775 - accuracy: 0.3865 - precision: 0.6513 - recall: 0.0054 - val_loss: 1.4121 - val_accuracy: 0.4668 - val_precision: 0.6065 - val_recall: 0.0117\n",
            "\n",
            "Epoch 00024: val_accuracy did not improve from 0.46690\n",
            "Epoch 25/100\n",
            "1250/1250 [==============================] - 38s 30ms/step - loss: 1.4776 - accuracy: 0.3862 - precision: 0.6780 - recall: 0.0062 - val_loss: 1.4119 - val_accuracy: 0.4671 - val_precision: 0.6065 - val_recall: 0.0117\n",
            "\n",
            "Epoch 00025: val_accuracy improved from 0.46690 to 0.46715, saving model to emb.h5\n",
            "Epoch 26/100\n",
            "1250/1250 [==============================] - 38s 30ms/step - loss: 1.4807 - accuracy: 0.3849 - precision: 0.6848 - recall: 0.0059 - val_loss: 1.4118 - val_accuracy: 0.4675 - val_precision: 0.6065 - val_recall: 0.0117\n",
            "\n",
            "Epoch 00026: val_accuracy improved from 0.46715 to 0.46752, saving model to emb.h5\n",
            "Epoch 27/100\n",
            "1250/1250 [==============================] - 38s 30ms/step - loss: 1.4782 - accuracy: 0.3878 - precision: 0.6671 - recall: 0.0063 - val_loss: 1.4117 - val_accuracy: 0.4676 - val_precision: 0.6065 - val_recall: 0.0117\n",
            "\n",
            "Epoch 00027: val_accuracy improved from 0.46752 to 0.46765, saving model to emb.h5\n",
            "Epoch 28/100\n",
            "1250/1250 [==============================] - 38s 30ms/step - loss: 1.4795 - accuracy: 0.3849 - precision: 0.6841 - recall: 0.0062 - val_loss: 1.4117 - val_accuracy: 0.4676 - val_precision: 0.6065 - val_recall: 0.0117\n",
            "\n",
            "Epoch 00028: val_accuracy did not improve from 0.46765\n",
            "Epoch 29/100\n",
            "1250/1250 [==============================] - 39s 31ms/step - loss: 1.4795 - accuracy: 0.3829 - precision: 0.6680 - recall: 0.0063 - val_loss: 1.4116 - val_accuracy: 0.4675 - val_precision: 0.6065 - val_recall: 0.0117\n",
            "\n",
            "Epoch 00029: val_accuracy did not improve from 0.46765\n",
            "Epoch 30/100\n",
            "1250/1250 [==============================] - 38s 30ms/step - loss: 1.4772 - accuracy: 0.3853 - precision: 0.7110 - recall: 0.0062 - val_loss: 1.4116 - val_accuracy: 0.4674 - val_precision: 0.6065 - val_recall: 0.0117\n",
            "\n",
            "Epoch 00030: val_accuracy did not improve from 0.46765\n",
            "Epoch 31/100\n",
            "1250/1250 [==============================] - 38s 30ms/step - loss: 1.4801 - accuracy: 0.3855 - precision: 0.6675 - recall: 0.0056 - val_loss: 1.4115 - val_accuracy: 0.4674 - val_precision: 0.6065 - val_recall: 0.0117\n",
            "\n",
            "Epoch 00031: val_accuracy did not improve from 0.46765\n",
            "Epoch 32/100\n",
            "1250/1250 [==============================] - 38s 31ms/step - loss: 1.4769 - accuracy: 0.3864 - precision: 0.7015 - recall: 0.0062 - val_loss: 1.4115 - val_accuracy: 0.4678 - val_precision: 0.6065 - val_recall: 0.0117\n",
            "\n",
            "Epoch 00032: val_accuracy improved from 0.46765 to 0.46777, saving model to emb.h5\n",
            "Epoch 33/100\n",
            "1250/1250 [==============================] - 38s 30ms/step - loss: 1.4784 - accuracy: 0.3878 - precision: 0.6758 - recall: 0.0062 - val_loss: 1.4115 - val_accuracy: 0.4678 - val_precision: 0.6065 - val_recall: 0.0117\n",
            "\n",
            "Epoch 00033: val_accuracy did not improve from 0.46777\n",
            "Epoch 34/100\n",
            "1250/1250 [==============================] - 38s 30ms/step - loss: 1.4780 - accuracy: 0.3861 - precision: 0.6674 - recall: 0.0060 - val_loss: 1.4115 - val_accuracy: 0.4678 - val_precision: 0.6065 - val_recall: 0.0117\n",
            "\n",
            "Epoch 00034: val_accuracy did not improve from 0.46777\n",
            "Epoch 35/100\n",
            "1250/1250 [==============================] - 38s 30ms/step - loss: 1.4783 - accuracy: 0.3892 - precision: 0.6752 - recall: 0.0061 - val_loss: 1.4114 - val_accuracy: 0.4678 - val_precision: 0.6065 - val_recall: 0.0117\n",
            "\n",
            "Epoch 00035: val_accuracy did not improve from 0.46777\n",
            "Epoch 36/100\n",
            "1250/1250 [==============================] - 38s 30ms/step - loss: 1.4785 - accuracy: 0.3853 - precision: 0.6855 - recall: 0.0063 - val_loss: 1.4114 - val_accuracy: 0.4678 - val_precision: 0.6065 - val_recall: 0.0117\n",
            "\n",
            "Epoch 00036: val_accuracy did not improve from 0.46777\n",
            "Epoch 37/100\n",
            "1250/1250 [==============================] - 39s 31ms/step - loss: 1.4799 - accuracy: 0.3842 - precision: 0.6845 - recall: 0.0060 - val_loss: 1.4114 - val_accuracy: 0.4678 - val_precision: 0.6065 - val_recall: 0.0117\n",
            "\n",
            "Epoch 00037: val_accuracy did not improve from 0.46777\n"
          ],
          "name": "stdout"
        }
      ]
    },
    {
      "cell_type": "code",
      "metadata": {
        "colab": {
          "base_uri": "https://localhost:8080/",
          "height": 282
        },
        "id": "6xYtTWqUqrl-",
        "outputId": "fb2edab9-0ec4-448f-c8a3-a0a8217d91ff"
      },
      "source": [
        "pd.DataFrame(history_mlp.history)[metr].plot()"
      ],
      "execution_count": 111,
      "outputs": [
        {
          "output_type": "execute_result",
          "data": {
            "text/plain": [
              "<matplotlib.axes._subplots.AxesSubplot at 0x7f632eb007d0>"
            ]
          },
          "metadata": {
            "tags": []
          },
          "execution_count": 111
        },
        {
          "output_type": "display_data",
          "data": {
            "image/png": "[encoded data removed]",
            "text/plain": [
              "<Figure size 432x288 with 1 Axes>"
            ]
          },
          "metadata": {
            "tags": [],
            "needs_background": "light"
          }
        }
      ]
    },
    {
      "cell_type": "code",
      "metadata": {
        "colab": {
          "base_uri": "https://localhost:8080/",
          "height": 623
        },
        "id": "C0cN9UMPz7B_",
        "outputId": "e17a7a8c-37a1-40c6-89a9-61e9d34b4ceb"
      },
      "source": [
        "model_evaluate(mlp_model, test_x, test_y, 64)"
      ],
      "execution_count": 112,
      "outputs": [
        {
          "output_type": "stream",
          "text": [
            " 26/126 [=====>........................] - ETA: 0s"
          ],
          "name": "stdout"
        },
        {
          "output_type": "stream",
          "text": [
            "/usr/local/lib/python3.7/dist-packages/tensorflow/python/keras/engine/sequential.py:450: UserWarning: `model.predict_classes()` is deprecated and will be removed after 2021-01-01. Please use instead:* `np.argmax(model.predict(x), axis=-1)`,   if your model does multi-class classification   (e.g. if it uses a `softmax` last-layer activation).* `(model.predict(x) > 0.5).astype(\"int32\")`,   if your model does binary classification   (e.g. if it uses a `sigmoid` last-layer activation).\n",
            "  warnings.warn('`model.predict_classes()` is deprecated and '\n"
          ],
          "name": "stderr"
        },
        {
          "output_type": "stream",
          "text": [
            "126/126 [==============================] - 1s 4ms/step\n",
            "Accuracy:\t46.6%\n",
            "\n",
            "\n",
            "              precision    recall  f1-score   support\n",
            "\n",
            "           0       0.36      0.10      0.16      1212\n",
            "           1       0.32      0.12      0.17       986\n",
            "           2       0.51      0.71      0.59      2972\n",
            "           3       0.49      0.53      0.51      2547\n",
            "           4       0.09      0.12      0.10       305\n",
            "\n",
            "    accuracy                           0.47      8022\n",
            "   macro avg       0.35      0.32      0.31      8022\n",
            "weighted avg       0.44      0.47      0.43      8022\n",
            "\n"
          ],
          "name": "stdout"
        },
        {
          "output_type": "display_data",
          "data": {
            "image/png": "[encoded data removed]",
            "text/plain": [
              "<Figure size 288x288 with 1 Axes>"
            ]
          },
          "metadata": {
            "tags": [],
            "needs_background": "light"
          }
        }
      ]
    },
    {
      "cell_type": "code",
      "metadata": {
        "colab": {
          "base_uri": "https://localhost:8080/"
        },
        "id": "QSuKXWLi0hfB",
        "outputId": "3aea8b62-0d04-4472-d7e3-b25f0241eb18"
      },
      "source": [
        "mlp_model.predict(get_sequences(tokenizer,max_len,['hate that guy']))"
      ],
      "execution_count": 121,
      "outputs": [
        {
          "output_type": "execute_result",
          "data": {
            "text/plain": [
              "array([[0.24867287, 0.27489805, 0.10455593, 0.18460459, 0.18726856]],\n",
              "      dtype=float32)"
            ]
          },
          "metadata": {
            "tags": []
          },
          "execution_count": 121
        }
      ]
    },
    {
      "cell_type": "code",
      "metadata": {
        "id": "STmKzsAc8Ota"
      },
      "source": [
        "# dump(tokenizer, '/content/drive/MyDrive/emotion/models/try_1/tokenizer.pickle')\n",
        "# dump(history_mlp.history, '/content/drive/MyDrive/emotion/models/try_1/history.pickle')"
      ],
      "execution_count": 123,
      "outputs": []
    }
  ]
}
{
  "nbformat": 4,
  "nbformat_minor": 0,
  "metadata": {
    "colab": {
      "name": "emo_emb.ipynb",
      "provenance": [],
      "mount_file_id": "1v89jl7vfhNt_2zn3fId6tUcI_WLuVslc",
      "authorship_tag": "ABX9TyN/wn9gO7HaqGCgd1g4b/1I",
      "include_colab_link": true
    },
    "kernelspec": {
      "name": "python3",
      "display_name": "Python 3"
    },
    "language_info": {
      "name": "python"
    },
    "accelerator": "GPU"
  },
  "cells": [
    {
      "cell_type": "markdown",
      "metadata": {
        "id": "view-in-github",
        "colab_type": "text"
      },
      "source": [
        "<a href=\"https://colab.research.google.com/github/ppkgtmm/emotion/blob/emb/emo_emb.ipynb\" target=\"_parent\"><img src=\"https://colab.research.google.com/assets/colab-badge.svg\" alt=\"Open In Colab\"/></a>"
      ]
    },
    {
      "cell_type": "code",
      "metadata": {
        "id": "Rk0PtGGMo5Ku"
      },
      "source": [
        "# !pip install -q keras-tuner\n",
        "# !rm -r emotion\n",
        "# !git clone --branch main https://github.com/ppkgtmm/emotion.git emotion"
      ],
      "execution_count": 2,
      "outputs": []
    },
    {
      "cell_type": "code",
      "metadata": {
        "id": "Ma5GvxjyqgXX"
      },
      "source": [
        "import pandas as pd\n",
        "import numpy as np\n",
        "from keras.preprocessing.text import  Tokenizer\n",
        "from emotion.models import utils, emb\n",
        "from kerastuner.tuners.bayesian import BayesianOptimization\n",
        "from kerastuner import HyperParameters"
      ],
      "execution_count": 4,
      "outputs": []
    },
    {
      "cell_type": "code",
      "metadata": {
        "id": "kMgoW0UZrAQm"
      },
      "source": [
        "num_words = 15000\n",
        "max_len = 300\n",
        "hp = HyperParameters()\n",
        "hp.Choice('output_dim',[16, 32, 64, 128, 256])\n",
        "hp.Choice('optimizer', ['adam', 'nadam', 'amsgrad'])\n",
        "hp.Fixed('max_len', max_len)\n",
        "hp.Fixed('num_words', num_words)\n",
        "seed = 1234"
      ],
      "execution_count": 17,
      "outputs": []
    },
    {
      "cell_type": "code",
      "metadata": {
        "colab": {
          "base_uri": "https://localhost:8080/",
          "height": 204
        },
        "id": "-srnPK6vrIxu",
        "outputId": "dfeb6f5e-8818-4779-a601-c2d611ab2a08"
      },
      "source": [
        "train, test = utils.read_and_split()\n",
        "train.sample(5)"
      ],
      "execution_count": 8,
      "outputs": [
        {
          "output_type": "execute_result",
          "data": {
            "text/html": [
              "<div>\n",
              "<style scoped>\n",
              "    .dataframe tbody tr th:only-of-type {\n",
              "        vertical-align: middle;\n",
              "    }\n",
              "\n",
              "    .dataframe tbody tr th {\n",
              "        vertical-align: top;\n",
              "    }\n",
              "\n",
              "    .dataframe thead th {\n",
              "        text-align: right;\n",
              "    }\n",
              "</style>\n",
              "<table border=\"1\" class=\"dataframe\">\n",
              "  <thead>\n",
              "    <tr style=\"text-align: right;\">\n",
              "      <th></th>\n",
              "      <th>text</th>\n",
              "      <th>target</th>\n",
              "    </tr>\n",
              "  </thead>\n",
              "  <tbody>\n",
              "    <tr>\n",
              "      <th>18073</th>\n",
              "      <td>i can feel that they are kind friendly and can...</td>\n",
              "      <td>joy</td>\n",
              "    </tr>\n",
              "    <tr>\n",
              "      <th>14849</th>\n",
              "      <td>i would even say are important as far as how m...</td>\n",
              "      <td>sadness</td>\n",
              "    </tr>\n",
              "    <tr>\n",
              "      <th>497</th>\n",
              "      <td>i am not working out the amount i would like t...</td>\n",
              "      <td>joy</td>\n",
              "    </tr>\n",
              "    <tr>\n",
              "      <th>3653</th>\n",
              "      <td>i will feel so glad to go sing me to sleep sin...</td>\n",
              "      <td>joy</td>\n",
              "    </tr>\n",
              "    <tr>\n",
              "      <th>17135</th>\n",
              "      <td>i get really frustrated whenever i talk with t...</td>\n",
              "      <td>love</td>\n",
              "    </tr>\n",
              "  </tbody>\n",
              "</table>\n",
              "</div>"
            ],
            "text/plain": [
              "                                                    text   target\n",
              "18073  i can feel that they are kind friendly and can...      joy\n",
              "14849  i would even say are important as far as how m...  sadness\n",
              "497    i am not working out the amount i would like t...      joy\n",
              "3653   i will feel so glad to go sing me to sleep sin...      joy\n",
              "17135  i get really frustrated whenever i talk with t...     love"
            ]
          },
          "metadata": {
            "tags": []
          },
          "execution_count": 8
        }
      ]
    },
    {
      "cell_type": "code",
      "metadata": {
        "colab": {
          "base_uri": "https://localhost:8080/"
        },
        "id": "d4JOKxZurSFP",
        "outputId": "9f7a356e-63a2-4c6d-d1af-3383842dc14b"
      },
      "source": [
        "train.shape, test.shape"
      ],
      "execution_count": 9,
      "outputs": [
        {
          "output_type": "execute_result",
          "data": {
            "text/plain": [
              "((17000, 2), (3000, 2))"
            ]
          },
          "metadata": {
            "tags": []
          },
          "execution_count": 9
        }
      ]
    },
    {
      "cell_type": "code",
      "metadata": {
        "id": "zYzGnnBtrWV1"
      },
      "source": [
        "tokenizer = Tokenizer(num_words=num_words, oov_token='OOV')\n",
        "tokenizer.fit_on_texts(train['text'])"
      ],
      "execution_count": 10,
      "outputs": []
    },
    {
      "cell_type": "code",
      "metadata": {
        "id": "uzwaW5QCrbwM"
      },
      "source": [
        "sequence_train = utils.get_sequences(tokenizer, train['text'], max_len)\n",
        "sequence_test = utils.get_sequences(tokenizer, test['text'], max_len)"
      ],
      "execution_count": 11,
      "outputs": []
    },
    {
      "cell_type": "code",
      "metadata": {
        "colab": {
          "base_uri": "https://localhost:8080/"
        },
        "id": "WBNw3Euoredf",
        "outputId": "8dfc9942-b394-4d46-ebfa-439c0390ebb9"
      },
      "source": [
        "print(train['target'].unique(), train['target'].unique())"
      ],
      "execution_count": 12,
      "outputs": [
        {
          "output_type": "stream",
          "text": [
            "['fear' 'joy' 'sadness' 'anger' 'surprise' 'love'] ['fear' 'joy' 'sadness' 'anger' 'surprise' 'love']\n"
          ],
          "name": "stdout"
        }
      ]
    },
    {
      "cell_type": "code",
      "metadata": {
        "id": "vzJROk1Qrjrt"
      },
      "source": [
        "target_train = utils.OH_fit_transform(train['target'])\n",
        "target_test = utils.OH_transform(test['target'])"
      ],
      "execution_count": 14,
      "outputs": []
    },
    {
      "cell_type": "code",
      "metadata": {
        "colab": {
          "base_uri": "https://localhost:8080/"
        },
        "id": "Je_0YQLJr1ou",
        "outputId": "c4f4daf0-eddd-4334-b067-bd13bab5c735"
      },
      "source": [
        "tuner = BayesianOptimization( emb.build_emb,\n",
        "                              'val_accuracy',\n",
        "                              12,\n",
        "                              executions_per_trial=2,\n",
        "                              hyperparameters=hp, \n",
        "                              seed=seed,\n",
        "                              num_initial_points=5,\n",
        "                              project_name='/content/drive/MyDrive/__ed__/emb_B32',\n",
        "                            )"
      ],
      "execution_count": 20,
      "outputs": [
        {
          "output_type": "stream",
          "text": [
            "Model: \"sequential\"\n",
            "_________________________________________________________________\n",
            "Layer (type)                 Output Shape              Param #   \n",
            "=================================================================\n",
            "embedding (Embedding)        (None, 300, 16)           240000    \n",
            "_________________________________________________________________\n",
            "flatten (Flatten)            (None, 4800)              0         \n",
            "_________________________________________________________________\n",
            "dense (Dense)                (None, 6)                 28806     \n",
            "=================================================================\n",
            "Total params: 268,806\n",
            "Trainable params: 268,806\n",
            "Non-trainable params: 0\n",
            "_________________________________________________________________\n"
          ],
          "name": "stdout"
        }
      ]
    },
    {
      "cell_type": "code",
      "metadata": {
        "colab": {
          "base_uri": "https://localhost:8080/"
        },
        "id": "1t1CfbDzsEqT",
        "outputId": "5e7227ba-aa1c-4424-9e8e-86c8d326b559"
      },
      "source": [
        "history = tuner.search(sequence_train, target_train,\n",
        "             validation_split=0.1,\n",
        "             epochs=3)"
      ],
      "execution_count": 21,
      "outputs": [
        {
          "output_type": "stream",
          "text": [
            "Trial 12 Complete [00h 02m 59s]\n",
            "val_accuracy: 0.8605882525444031\n",
            "\n",
            "Best val_accuracy So Far: 0.8632352948188782\n",
            "Total elapsed time: 00h 25m 20s\n",
            "INFO:tensorflow:Oracle triggered exit\n"
          ],
          "name": "stdout"
        }
      ]
    },
    {
      "cell_type": "code",
      "metadata": {
        "colab": {
          "base_uri": "https://localhost:8080/"
        },
        "id": "W20wiESetM8H",
        "outputId": "58726ece-a621-43ad-830c-db08573337fd"
      },
      "source": [
        "tuner.search_space_summary()"
      ],
      "execution_count": 22,
      "outputs": [
        {
          "output_type": "stream",
          "text": [
            "Search space summary\n",
            "Default search space size: 4\n",
            "output_dim (Choice)\n",
            "{'default': 16, 'conditions': [], 'values': [16, 32, 64, 128, 256], 'ordered': True}\n",
            "optimizer (Choice)\n",
            "{'default': 'adam', 'conditions': [], 'values': ['adam', 'nadam', 'amsgrad'], 'ordered': False}\n",
            "max_len (Fixed)\n",
            "{'conditions': [], 'value': 300}\n",
            "num_words (Fixed)\n",
            "{'conditions': [], 'value': 15000}\n"
          ],
          "name": "stdout"
        }
      ]
    },
    {
      "cell_type": "code",
      "metadata": {
        "colab": {
          "base_uri": "https://localhost:8080/"
        },
        "id": "cDnzDmsqzvzi",
        "outputId": "428cdbe8-7c29-4bb8-f918-58ed9a0e16f6"
      },
      "source": [
        "tuner.results_summary(num_trials=3)"
      ],
      "execution_count": 23,
      "outputs": [
        {
          "output_type": "stream",
          "text": [
            "Results summary\n",
            "Results in /content/drive/MyDrive/__ed__/emb_B32\n",
            "Showing 3 best trials\n",
            "Objective(name='val_accuracy', direction='max')\n",
            "Trial summary\n",
            "Hyperparameters:\n",
            "output_dim: 256\n",
            "optimizer: adam\n",
            "max_len: 300\n",
            "num_words: 15000\n",
            "Score: 0.8632352948188782\n",
            "Trial summary\n",
            "Hyperparameters:\n",
            "output_dim: 256\n",
            "optimizer: amsgrad\n",
            "max_len: 300\n",
            "num_words: 15000\n",
            "Score: 0.8623529374599457\n",
            "Trial summary\n",
            "Hyperparameters:\n",
            "output_dim: 256\n",
            "optimizer: amsgrad\n",
            "max_len: 300\n",
            "num_words: 15000\n",
            "Score: 0.8608823716640472\n"
          ],
          "name": "stdout"
        }
      ]
    },
    {
      "cell_type": "code",
      "metadata": {
        "colab": {
          "base_uri": "https://localhost:8080/"
        },
        "id": "kdMQN0lozzTI",
        "outputId": "6b25b771-eeb6-41d3-8423-018be5281b39"
      },
      "source": [
        "best_model = tuner.get_best_models(num_models=1)[0]"
      ],
      "execution_count": 24,
      "outputs": [
        {
          "output_type": "stream",
          "text": [
            "Model: \"sequential\"\n",
            "_________________________________________________________________\n",
            "Layer (type)                 Output Shape              Param #   \n",
            "=================================================================\n",
            "embedding (Embedding)        (None, 300, 256)          3840000   \n",
            "_________________________________________________________________\n",
            "flatten (Flatten)            (None, 76800)             0         \n",
            "_________________________________________________________________\n",
            "dense (Dense)                (None, 6)                 460806    \n",
            "=================================================================\n",
            "Total params: 4,300,806\n",
            "Trainable params: 4,300,806\n",
            "Non-trainable params: 0\n",
            "_________________________________________________________________\n"
          ],
          "name": "stdout"
        }
      ]
    },
    {
      "cell_type": "code",
      "metadata": {
        "colab": {
          "base_uri": "https://localhost:8080/"
        },
        "id": "Jzq4SxFi0QBG",
        "outputId": "e39745f4-45c9-4286-fe4b-b273ad4da532"
      },
      "source": [
        "model = emb.build_emb(tuner.get_best_hyperparameters(num_trials=1)[0])"
      ],
      "execution_count": 26,
      "outputs": [
        {
          "output_type": "stream",
          "text": [
            "Model: \"sequential_1\"\n",
            "_________________________________________________________________\n",
            "Layer (type)                 Output Shape              Param #   \n",
            "=================================================================\n",
            "embedding_1 (Embedding)      (None, 300, 256)          3840000   \n",
            "_________________________________________________________________\n",
            "flatten_1 (Flatten)          (None, 76800)             0         \n",
            "_________________________________________________________________\n",
            "dense_1 (Dense)              (None, 6)                 460806    \n",
            "=================================================================\n",
            "Total params: 4,300,806\n",
            "Trainable params: 4,300,806\n",
            "Non-trainable params: 0\n",
            "_________________________________________________________________\n"
          ],
          "name": "stdout"
        }
      ]
    },
    {
      "cell_type": "code",
      "metadata": {
        "id": "a0zbLzIo0kGB"
      },
      "source": [
        "cb = utils.get_callbacks('emb.h5')"
      ],
      "execution_count": 27,
      "outputs": []
    },
    {
      "cell_type": "code",
      "metadata": {
        "colab": {
          "base_uri": "https://localhost:8080/"
        },
        "id": "CMIX0qIQ0YGz",
        "outputId": "c227fdf7-1e1b-4197-e56b-8ef28e5310dd"
      },
      "source": [
        "history = model.fit(\n",
        "    sequence_train, target_train,\n",
        "    validation_split=0.1,\n",
        "    epochs=15,\n",
        "    callbacks=cb\n",
        ")"
      ],
      "execution_count": 30,
      "outputs": [
        {
          "output_type": "stream",
          "text": [
            "Epoch 1/15\n",
            "479/479 [==============================] - 29s 62ms/step - loss: 1.2020 - accuracy: 0.5704 - precision_1: 0.8637 - recall_1: 0.2746 - val_loss: 0.6719 - val_accuracy: 0.8082 - val_precision_1: 0.9031 - val_recall_1: 0.6471\n",
            "\n",
            "Epoch 00001: val_accuracy improved from -inf to 0.80824, saving model to emb.h5\n",
            "Epoch 2/15\n",
            "479/479 [==============================] - 29s 60ms/step - loss: 0.2999 - accuracy: 0.9235 - precision_1: 0.9496 - recall_1: 0.8737 - val_loss: 0.4386 - val_accuracy: 0.8618 - val_precision_1: 0.8959 - val_recall_1: 0.8100\n",
            "\n",
            "Epoch 00002: val_accuracy improved from 0.80824 to 0.86176, saving model to emb.h5\n",
            "Epoch 3/15\n",
            "479/479 [==============================] - 29s 60ms/step - loss: 0.0893 - accuracy: 0.9801 - precision_1: 0.9833 - recall_1: 0.9759 - val_loss: 0.4058 - val_accuracy: 0.8571 - val_precision_1: 0.8797 - val_recall_1: 0.8347\n",
            "\n",
            "Epoch 00003: val_accuracy did not improve from 0.86176\n",
            "Epoch 4/15\n",
            "479/479 [==============================] - 29s 60ms/step - loss: 0.0455 - accuracy: 0.9916 - precision_1: 0.9925 - recall_1: 0.9908 - val_loss: 0.4206 - val_accuracy: 0.8571 - val_precision_1: 0.8787 - val_recall_1: 0.8353\n",
            "\n",
            "Epoch 00004: val_accuracy did not improve from 0.86176\n",
            "Epoch 5/15\n",
            "479/479 [==============================] - 29s 60ms/step - loss: 0.0303 - accuracy: 0.9942 - precision_1: 0.9946 - recall_1: 0.9937 - val_loss: 0.4432 - val_accuracy: 0.8624 - val_precision_1: 0.8729 - val_recall_1: 0.8441\n",
            "\n",
            "Epoch 00005: val_accuracy improved from 0.86176 to 0.86235, saving model to emb.h5\n",
            "Epoch 6/15\n",
            "479/479 [==============================] - 28s 59ms/step - loss: 0.0240 - accuracy: 0.9955 - precision_1: 0.9957 - recall_1: 0.9953 - val_loss: 0.4583 - val_accuracy: 0.8547 - val_precision_1: 0.8709 - val_recall_1: 0.8412\n",
            "\n",
            "Epoch 00006: val_accuracy did not improve from 0.86235\n",
            "Epoch 7/15\n",
            "479/479 [==============================] - 29s 60ms/step - loss: 0.0235 - accuracy: 0.9950 - precision_1: 0.9951 - recall_1: 0.9950 - val_loss: 0.4744 - val_accuracy: 0.8518 - val_precision_1: 0.8630 - val_recall_1: 0.8412\n",
            "\n",
            "Epoch 00007: val_accuracy did not improve from 0.86235\n",
            "Epoch 8/15\n",
            "479/479 [==============================] - 28s 59ms/step - loss: 0.0204 - accuracy: 0.9956 - precision_1: 0.9956 - recall_1: 0.9956 - val_loss: 0.5202 - val_accuracy: 0.8553 - val_precision_1: 0.8633 - val_recall_1: 0.8471\n",
            "\n",
            "Epoch 00008: val_accuracy did not improve from 0.86235\n",
            "Epoch 9/15\n",
            "479/479 [==============================] - 28s 58ms/step - loss: 0.0215 - accuracy: 0.9958 - precision_1: 0.9958 - recall_1: 0.9957 - val_loss: 0.5643 - val_accuracy: 0.8441 - val_precision_1: 0.8586 - val_recall_1: 0.8324\n",
            "\n",
            "Epoch 00009: val_accuracy did not improve from 0.86235\n",
            "Epoch 10/15\n",
            "479/479 [==============================] - 28s 58ms/step - loss: 0.0212 - accuracy: 0.9958 - precision_1: 0.9958 - recall_1: 0.9958 - val_loss: 0.5574 - val_accuracy: 0.8471 - val_precision_1: 0.8570 - val_recall_1: 0.8388\n",
            "\n",
            "Epoch 00010: val_accuracy did not improve from 0.86235\n"
          ],
          "name": "stdout"
        }
      ]
    },
    {
      "cell_type": "code",
      "metadata": {
        "colab": {
          "base_uri": "https://localhost:8080/",
          "height": 285
        },
        "id": "uW5KjdQf2cKt",
        "outputId": "f39b68d1-3223-49c5-afd0-d3de7d22062e"
      },
      "source": [
        "metr = ['accuracy', 'val_accuracy', 'loss', 'val_loss']\n",
        "pd.DataFrame(history.history)[metr].plot()"
      ],
      "execution_count": 32,
      "outputs": [
        {
          "output_type": "execute_result",
          "data": {
            "text/plain": [
              "<matplotlib.axes._subplots.AxesSubplot at 0x7fba2cd08fd0>"
            ]
          },
          "metadata": {
            "tags": []
          },
          "execution_count": 32
        },
        {
          "output_type": "display_data",
          "data": {
            "image/png": "[encoded data removed]",
            "text/plain": [
              "<Figure size 432x288 with 1 Axes>"
            ]
          },
          "metadata": {
            "tags": [],
            "needs_background": "light"
          }
        }
      ]
    },
    {
      "cell_type": "code",
      "metadata": {
        "colab": {
          "base_uri": "https://localhost:8080/",
          "height": 563
        },
        "id": "paEB86O2z6De",
        "outputId": "10fd342b-f9f7-47c2-9c17-50c859024b36"
      },
      "source": [
        "utils.model_evaluate(model, sequence_test, target_test, 32)"
      ],
      "execution_count": 45,
      "outputs": [
        {
          "output_type": "stream",
          "text": [
            "22/94 [======>.......................] - ETA: 0s"
          ],
          "name": "stdout"
        },
        {
          "output_type": "stream",
          "text": [
            "/usr/local/lib/python3.7/dist-packages/tensorflow/python/keras/engine/sequential.py:450: UserWarning: `model.predict_classes()` is deprecated and will be removed after 2021-01-01. Please use instead:* `np.argmax(model.predict(x), axis=-1)`,   if your model does multi-class classification   (e.g. if it uses a `softmax` last-layer activation).* `(model.predict(x) > 0.5).astype(\"int32\")`,   if your model does binary classification   (e.g. if it uses a `sigmoid` last-layer activation).\n",
            "  warnings.warn('`model.predict_classes()` is deprecated and '\n"
          ],
          "name": "stderr"
        },
        {
          "output_type": "stream",
          "text": [
            "94/94 [==============================] - 0s 5ms/step\n",
            "Accuracy:\t84.5%\n",
            "\n",
            "\n",
            "              precision    recall  f1-score   support\n",
            "\n",
            "           0       0.85      0.84      0.84       406\n",
            "           1       0.85      0.71      0.77       356\n",
            "           2       0.85      0.90      0.87      1014\n",
            "           3       0.74      0.71      0.72       246\n",
            "           4       0.88      0.91      0.89       870\n",
            "           5       0.73      0.57      0.64       108\n",
            "\n",
            "    accuracy                           0.84      3000\n",
            "   macro avg       0.82      0.77      0.79      3000\n",
            "weighted avg       0.84      0.84      0.84      3000\n",
            "\n"
          ],
          "name": "stdout"
        },
        {
          "output_type": "display_data",
          "data": {
            "image/png": "[encoded data removed]",
            "text/plain": [
              "<Figure size 288x288 with 1 Axes>"
            ]
          },
          "metadata": {
            "tags": [],
            "needs_background": "light"
          }
        }
      ]
    },
    {
      "cell_type": "code",
      "metadata": {
        "id": "ua0b4wvX3AGB"
      },
      "source": [
        "# utils.dump(tokenizer,'/content/drive/MyDrive/__ed__/emb_B32/tokenizer.pickle')\n",
        "# utils.dump(history.history,'/content/drive/MyDrive/__ed__/emb_B32/history.pickle')"
      ],
      "execution_count": 46,
      "outputs": []
    },
    {
      "cell_type": "code",
      "metadata": {
        "colab": {
          "base_uri": "https://localhost:8080/",
          "height": 422
        },
        "id": "EU_CjX_Y4xVp",
        "outputId": "c1ba1a71-2c0b-4022-ea19-db01cf563f46"
      },
      "source": [
        "from keras.utils import plot_model\n",
        "plot_model(\n",
        "    model,\n",
        "    to_file='/content/drive/MyDrive/__ed__/emb_B32/plot.png',\n",
        "    show_shapes=True,\n",
        "    show_dtype=True,\n",
        "    show_layer_names=True\n",
        "    )"
      ],
      "execution_count": 48,
      "outputs": [
        {
          "output_type": "execute_result",
          "data": {
            "image/png": "[encoded data removed]",
            "text/plain": [
              "<IPython.core.display.Image object>"
            ]
          },
          "metadata": {
            "tags": []
          },
          "execution_count": 48
        }
      ]
    }
  ]
}
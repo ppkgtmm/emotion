{
  "nbformat": 4,
  "nbformat_minor": 0,
  "metadata": {
    "colab": {
      "name": "sample_emo.ipynb",
      "provenance": [],
      "mount_file_id": "1ONpyWqdE6ufpB3F3LzMz-JkSJ2ppfMrg",
      "authorship_tag": "ABX9TyOVwi0FhuZCUkyOPIXMee3E",
      "include_colab_link": true
    },
    "kernelspec": {
      "name": "python3",
      "display_name": "Python 3"
    },
    "accelerator": "GPU"
  },
  "cells": [
    {
      "cell_type": "markdown",
      "metadata": {
        "id": "view-in-github",
        "colab_type": "text"
      },
      "source": [
        "<a href=\"https://colab.research.google.com/github/ppkgtmm/emotion/blob/main/sample_emo.ipynb\" target=\"_parent\"><img src=\"https://colab.research.google.com/assets/colab-badge.svg\" alt=\"Open In Colab\"/></a>"
      ]
    },
    {
      "cell_type": "code",
      "metadata": {
        "id": "DbBg4CFkd5My"
      },
      "source": [
        "# !pip install keras-tuner\n",
        "# !rm -r sentiment\n",
        "# !git clone --branch utils https://github.com/ppkgtmm/sentiment.git sentiment"
      ],
      "execution_count": 2,
      "outputs": []
    },
    {
      "cell_type": "code",
      "metadata": {
        "colab": {
          "base_uri": "https://localhost:8080/"
        },
        "id": "CtsJVZ_xfV0T",
        "outputId": "2ac974ba-c969-46ed-cf7a-c2d0c5b4317a"
      },
      "source": [
        "import pandas as pd\n",
        "from keras.preprocessing.text import  Tokenizer\n",
        "from keras.layers import Input, Dense, Embedding, Flatten, LSTM, Bidirectional, \\\n",
        "Conv1D, MaxPool1D, AveragePooling1D, GlobalAveragePooling1D, GlobalAvgPool1D, \\\n",
        "GlobalMaxPool1D, GlobalMaxPooling1D \n",
        "from keras.models import Sequential\n",
        "from keras.metrics import Precision, Recall\n",
        "from keras.optimizers import Adam, RMSprop\n",
        "from kerastuner import HyperParameters\n",
        "import matplotlib.pyplot as plt\n",
        "from sklearn.model_selection import train_test_split\n",
        "from sentiment.utils import read_data, get_optimizer, get_sequences, split_data\n",
        "from sentiment.utils import get_tuner, get_model_from_config, get_callbacks\n",
        "from sentiment.utils import OH_fit_transform, OH_transform, load, dump, \\\n",
        "model_evaluate\n",
        "from sklearn.utils import class_weight\n",
        "import numpy as np\n",
        "from imblearn.over_sampling import SMOTE\n",
        "from collections import Counter"
      ],
      "execution_count": 3,
      "outputs": [
        {
          "output_type": "stream",
          "text": [
            "/usr/local/lib/python3.7/dist-packages/sklearn/externals/six.py:31: FutureWarning: The module is deprecated in version 0.21 and will be removed in version 0.23 since we've dropped support for Python 2.7. Please rely on the official version of six (https://pypi.org/project/six/).\n",
            "  \"(https://pypi.org/project/six/).\", FutureWarning)\n",
            "/usr/local/lib/python3.7/dist-packages/sklearn/utils/deprecation.py:144: FutureWarning: The sklearn.neighbors.base module is  deprecated in version 0.22 and will be removed in version 0.24. The corresponding classes / functions should instead be imported from sklearn.neighbors. Anything that cannot be imported from sklearn.neighbors is now part of the private API.\n",
            "  warnings.warn(message, FutureWarning)\n"
          ],
          "name": "stderr"
        }
      ]
    },
    {
      "cell_type": "code",
      "metadata": {
        "id": "HflRrBniff0F"
      },
      "source": [
        "cols = ['text', 'target']\n",
        "data_path = '/content/drive/MyDrive/emotion/data/go_preprocessed.csv'\n",
        "metr = ['accuracy', 'val_accuracy', 'loss', 'val_loss']\n",
        "seed = 123456\n",
        "num_words = 10000\n",
        "max_len = 250"
      ],
      "execution_count": 4,
      "outputs": []
    },
    {
      "cell_type": "code",
      "metadata": {
        "colab": {
          "base_uri": "https://localhost:8080/",
          "height": 204
        },
        "id": "cwXZoxwDfXHR",
        "outputId": "1238b339-71d6-4eb3-c790-268d31d48638"
      },
      "source": [
        "data = read_data(data_path,cols)\n",
        "data.sample(5)"
      ],
      "execution_count": 5,
      "outputs": [
        {
          "output_type": "execute_result",
          "data": {
            "text/html": [
              "<div>\n",
              "<style scoped>\n",
              "    .dataframe tbody tr th:only-of-type {\n",
              "        vertical-align: middle;\n",
              "    }\n",
              "\n",
              "    .dataframe tbody tr th {\n",
              "        vertical-align: top;\n",
              "    }\n",
              "\n",
              "    .dataframe thead th {\n",
              "        text-align: right;\n",
              "    }\n",
              "</style>\n",
              "<table border=\"1\" class=\"dataframe\">\n",
              "  <thead>\n",
              "    <tr style=\"text-align: right;\">\n",
              "      <th></th>\n",
              "      <th>text</th>\n",
              "      <th>target</th>\n",
              "    </tr>\n",
              "  </thead>\n",
              "  <tbody>\n",
              "    <tr>\n",
              "      <th>318</th>\n",
              "      <td>get blood orgies out of our ideology thanks</td>\n",
              "      <td>anger</td>\n",
              "    </tr>\n",
              "    <tr>\n",
              "      <th>86774</th>\n",
              "      <td>shocked we did not take him back and plunk him...</td>\n",
              "      <td>surprise</td>\n",
              "    </tr>\n",
              "    <tr>\n",
              "      <th>77098</th>\n",
              "      <td>goalpost shifting much</td>\n",
              "      <td>surprise</td>\n",
              "    </tr>\n",
              "    <tr>\n",
              "      <th>32737</th>\n",
              "      <td>when i do begin to peak all of name will know</td>\n",
              "      <td>joy</td>\n",
              "    </tr>\n",
              "    <tr>\n",
              "      <th>6216</th>\n",
              "      <td>whats all this meow</td>\n",
              "      <td>anger</td>\n",
              "    </tr>\n",
              "  </tbody>\n",
              "</table>\n",
              "</div>"
            ],
            "text/plain": [
              "                                                    text    target\n",
              "318          get blood orgies out of our ideology thanks     anger\n",
              "86774  shocked we did not take him back and plunk him...  surprise\n",
              "77098                             goalpost shifting much  surprise\n",
              "32737      when i do begin to peak all of name will know       joy\n",
              "6216                                 whats all this meow     anger"
            ]
          },
          "metadata": {
            "tags": []
          },
          "execution_count": 5
        }
      ]
    },
    {
      "cell_type": "code",
      "metadata": {
        "id": "E8s2Zw-4f5u-"
      },
      "source": [
        "train, test = train_test_split(data, test_size=0.35, \\\n",
        "                             random_state=seed, stratify=data['target'])"
      ],
      "execution_count": 6,
      "outputs": []
    },
    {
      "cell_type": "code",
      "metadata": {
        "id": "LGKGBTxNgZm_"
      },
      "source": [
        "val, test = train_test_split(test, test_size=0.5, \\\n",
        "                             random_state=seed, stratify=test['target'])"
      ],
      "execution_count": 7,
      "outputs": []
    },
    {
      "cell_type": "code",
      "metadata": {
        "colab": {
          "base_uri": "https://localhost:8080/"
        },
        "id": "vawGHZ_Zgjdd",
        "outputId": "f9688a6e-8a6d-4b75-e31f-e3c420626067"
      },
      "source": [
        "train.shape, val.shape, test.shape"
      ],
      "execution_count": 8,
      "outputs": [
        {
          "output_type": "execute_result",
          "data": {
            "text/plain": [
              "((57870, 2), (15580, 2), (15581, 2))"
            ]
          },
          "metadata": {
            "tags": []
          },
          "execution_count": 8
        }
      ]
    },
    {
      "cell_type": "code",
      "metadata": {
        "id": "6IEg2atzgrge"
      },
      "source": [
        "tokenizer = Tokenizer(num_words=num_words, oov_token='OOV')\n",
        "tokenizer.fit_on_texts(train['text'])"
      ],
      "execution_count": 9,
      "outputs": []
    },
    {
      "cell_type": "code",
      "metadata": {
        "id": "nTuIS_Swgy-A"
      },
      "source": [
        "sequence_train = get_sequences(tokenizer, max_len, train['text'])\n",
        "sequence_val = get_sequences(tokenizer, max_len, val['text'])\n",
        "sequence_test = get_sequences(tokenizer, max_len, test['text'])"
      ],
      "execution_count": 10,
      "outputs": []
    },
    {
      "cell_type": "code",
      "metadata": {
        "colab": {
          "base_uri": "https://localhost:8080/"
        },
        "id": "iyopJc62g2QB",
        "outputId": "2b47b124-2b72-48a9-ae6e-c033efaf3493"
      },
      "source": [
        "print(val['target'].unique(), \\\n",
        "      train['target'].unique(), \\\n",
        "      test['target'].unique())"
      ],
      "execution_count": 11,
      "outputs": [
        {
          "output_type": "stream",
          "text": [
            "['joy' 'anger' 'disgust' 'surprise' 'sadness' 'fear'] ['fear' 'joy' 'sadness' 'anger' 'surprise' 'disgust'] ['sadness' 'surprise' 'anger' 'joy' 'disgust' 'fear']\n"
          ],
          "name": "stdout"
        }
      ]
    },
    {
      "cell_type": "code",
      "metadata": {
        "colab": {
          "base_uri": "https://localhost:8080/"
        },
        "id": "lqUWJJr2ypHL",
        "outputId": "60c4e896-c405-423c-c840-cf10cd8f6d59"
      },
      "source": [
        "strategy = {\"anger\":60000, \"disgust\":60000, \"fear\":60000, \"joy\":40000, \"sadness\":60000, \"surprise\":60000}\n",
        "oversample = SMOTE(sampling_strategy=strategy)\n",
        "sequence_train, train_target = oversample.fit_resample(sequence_train,\\\n",
        "                                                       train['target'])"
      ],
      "execution_count": 12,
      "outputs": [
        {
          "output_type": "stream",
          "text": [
            "/usr/local/lib/python3.7/dist-packages/imblearn/utils/_validation.py:257: UserWarning: After over-sampling, the number of samples (60000) in class anger will be larger than the number of samples in the majority class (class #joy -> 22893)\n",
            "  n_samples_majority))\n",
            "/usr/local/lib/python3.7/dist-packages/imblearn/utils/_validation.py:257: UserWarning: After over-sampling, the number of samples (60000) in class disgust will be larger than the number of samples in the majority class (class #joy -> 22893)\n",
            "  n_samples_majority))\n",
            "/usr/local/lib/python3.7/dist-packages/imblearn/utils/_validation.py:257: UserWarning: After over-sampling, the number of samples (60000) in class fear will be larger than the number of samples in the majority class (class #joy -> 22893)\n",
            "  n_samples_majority))\n",
            "/usr/local/lib/python3.7/dist-packages/imblearn/utils/_validation.py:257: UserWarning: After over-sampling, the number of samples (40000) in class joy will be larger than the number of samples in the majority class (class #joy -> 22893)\n",
            "  n_samples_majority))\n",
            "/usr/local/lib/python3.7/dist-packages/imblearn/utils/_validation.py:257: UserWarning: After over-sampling, the number of samples (60000) in class sadness will be larger than the number of samples in the majority class (class #joy -> 22893)\n",
            "  n_samples_majority))\n",
            "/usr/local/lib/python3.7/dist-packages/imblearn/utils/_validation.py:257: UserWarning: After over-sampling, the number of samples (60000) in class surprise will be larger than the number of samples in the majority class (class #joy -> 22893)\n",
            "  n_samples_majority))\n",
            "/usr/local/lib/python3.7/dist-packages/sklearn/utils/deprecation.py:87: FutureWarning: Function safe_indexing is deprecated; safe_indexing is deprecated in version 0.22 and will be removed in version 0.24.\n",
            "  warnings.warn(msg, category=FutureWarning)\n",
            "/usr/local/lib/python3.7/dist-packages/sklearn/utils/deprecation.py:87: FutureWarning: Function safe_indexing is deprecated; safe_indexing is deprecated in version 0.22 and will be removed in version 0.24.\n",
            "  warnings.warn(msg, category=FutureWarning)\n",
            "/usr/local/lib/python3.7/dist-packages/sklearn/utils/deprecation.py:87: FutureWarning: Function safe_indexing is deprecated; safe_indexing is deprecated in version 0.22 and will be removed in version 0.24.\n",
            "  warnings.warn(msg, category=FutureWarning)\n",
            "/usr/local/lib/python3.7/dist-packages/sklearn/utils/deprecation.py:87: FutureWarning: Function safe_indexing is deprecated; safe_indexing is deprecated in version 0.22 and will be removed in version 0.24.\n",
            "  warnings.warn(msg, category=FutureWarning)\n",
            "/usr/local/lib/python3.7/dist-packages/sklearn/utils/deprecation.py:87: FutureWarning: Function safe_indexing is deprecated; safe_indexing is deprecated in version 0.22 and will be removed in version 0.24.\n",
            "  warnings.warn(msg, category=FutureWarning)\n",
            "/usr/local/lib/python3.7/dist-packages/sklearn/utils/deprecation.py:87: FutureWarning: Function safe_indexing is deprecated; safe_indexing is deprecated in version 0.22 and will be removed in version 0.24.\n",
            "  warnings.warn(msg, category=FutureWarning)\n"
          ],
          "name": "stderr"
        }
      ]
    },
    {
      "cell_type": "code",
      "metadata": {
        "colab": {
          "base_uri": "https://localhost:8080/",
          "height": 367
        },
        "id": "YI6tbKgNtmCF",
        "outputId": "07cda139-56ea-457a-c9d9-2294b9cf3b9f"
      },
      "source": [
        "counter = Counter(train_target)\n",
        "for k,v in counter.items():\n",
        "\tper = v / len(train_target) * 100\n",
        "\tprint('Class=%s, n=%d (%.3f%%)' % (k, v, per))\n",
        "# plot the distribution\n",
        "plt.bar(counter.keys(), counter.values())\n",
        "plt.show()"
      ],
      "execution_count": 13,
      "outputs": [
        {
          "output_type": "stream",
          "text": [
            "Class=fear, n=60000 (17.647%)\n",
            "Class=joy, n=40000 (11.765%)\n",
            "Class=sadness, n=60000 (17.647%)\n",
            "Class=anger, n=60000 (17.647%)\n",
            "Class=surprise, n=60000 (17.647%)\n",
            "Class=disgust, n=60000 (17.647%)\n"
          ],
          "name": "stdout"
        },
        {
          "output_type": "display_data",
          "data": {
            "image/png": "[encoded data removed]",
            "text/plain": [
              "<Figure size 432x288 with 1 Axes>"
            ]
          },
          "metadata": {
            "tags": [],
            "needs_background": "light"
          }
        }
      ]
    },
    {
      "cell_type": "code",
      "metadata": {
        "id": "i-pEY20j0JPO"
      },
      "source": [
        "train_target = OH_fit_transform(pd.Series(train_target))\n",
        "val_target = OH_transform(val['target'])\n",
        "test_target = OH_transform(test['target'])"
      ],
      "execution_count": 14,
      "outputs": []
    },
    {
      "cell_type": "code",
      "metadata": {
        "id": "fMQDUKijiLnu"
      },
      "source": [
        "def build_mlp():\n",
        "    model = Sequential()\n",
        "    model.add(Input(shape=(max_len)))\n",
        "    model.add(Dense(40, activation='sigmoid'))\n",
        "    model.add(Dense(60, activation='sigmoid'))\n",
        "    model.add(Dense(80, activation='sigmoid'))\n",
        "    model.add(Dense(100, activation='sigmoid'))\n",
        "    model.add(Dense(80, activation='sigmoid'))\n",
        "    model.add(Dense(60, activation='sigmoid'))\n",
        "    model.add(Dense(40, activation='sigmoid'))\n",
        "    model.add(Dense(6, activation='softmax'))\n",
        "    return model"
      ],
      "execution_count": 99,
      "outputs": []
    },
    {
      "cell_type": "code",
      "metadata": {
        "id": "tPGAsRGCha4Z"
      },
      "source": [
        "def build_emb():\n",
        "    model = Sequential()\n",
        "    model.add(Input(shape=(max_len)))\n",
        "    model.add(Embedding(num_words,32))\n",
        "    model.add(Flatten())\n",
        "    model.add(Dense(6, activation='softmax'))\n",
        "    return model"
      ],
      "execution_count": 28,
      "outputs": []
    },
    {
      "cell_type": "code",
      "metadata": {
        "colab": {
          "base_uri": "https://localhost:8080/"
        },
        "id": "fUHhz9eOiFdy",
        "outputId": "b4068ea9-a78c-4804-8799-18f41f866237"
      },
      "source": [
        "mlp_model = build_mlp()\n",
        "mlp_model.compile(\n",
        "        optimizer=Adam(learning_rate=5e-5),\n",
        "        loss='categorical_crossentropy',\n",
        "        metrics=[\n",
        "                 'accuracy',\n",
        "                 Precision(), \n",
        "                 Recall()\n",
        "              ]\n",
        "          )\n",
        "mlp_model.summary()"
      ],
      "execution_count": 51,
      "outputs": [
        {
          "output_type": "stream",
          "text": [
            "Model: \"sequential_5\"\n",
            "_________________________________________________________________\n",
            "Layer (type)                 Output Shape              Param #   \n",
            "=================================================================\n",
            "dense_13 (Dense)             (None, 40)                10040     \n",
            "_________________________________________________________________\n",
            "dense_14 (Dense)             (None, 60)                2460      \n",
            "_________________________________________________________________\n",
            "dense_15 (Dense)             (None, 80)                4880      \n",
            "_________________________________________________________________\n",
            "dense_16 (Dense)             (None, 100)               8100      \n",
            "_________________________________________________________________\n",
            "dense_17 (Dense)             (None, 80)                8080      \n",
            "_________________________________________________________________\n",
            "dense_18 (Dense)             (None, 60)                4860      \n",
            "_________________________________________________________________\n",
            "dense_19 (Dense)             (None, 40)                2440      \n",
            "_________________________________________________________________\n",
            "dense_20 (Dense)             (None, 6)                 246       \n",
            "=================================================================\n",
            "Total params: 41,106\n",
            "Trainable params: 41,106\n",
            "Non-trainable params: 0\n",
            "_________________________________________________________________\n"
          ],
          "name": "stdout"
        }
      ]
    },
    {
      "cell_type": "code",
      "metadata": {
        "id": "PGTMIUVdjAKe"
      },
      "source": [
        "mlp_cb = get_callbacks('mlp_3H.h5')"
      ],
      "execution_count": 56,
      "outputs": []
    },
    {
      "cell_type": "code",
      "metadata": {
        "colab": {
          "base_uri": "https://localhost:8080/"
        },
        "id": "11VsmPCSi7ML",
        "outputId": "eea86c1b-01f6-4e79-bc29-57a7d2804f81"
      },
      "source": [
        "history_mlp = mlp_model.fit(\n",
        "    sequence_train,\n",
        "    train_target,\n",
        "    validation_data=(sequence_val, val_target),\n",
        "    epochs = 100,\n",
        "    batch_size=64,\n",
        "    callbacks=mlp_cb\n",
        ")"
      ],
      "execution_count": 57,
      "outputs": [
        {
          "output_type": "stream",
          "text": [
            "Epoch 1/100\n",
            "905/905 [==============================] - 4s 4ms/step - loss: 1.5289 - accuracy: 0.3956 - precision_5: 0.0000e+00 - recall_5: 0.0000e+00 - val_loss: 1.5291 - val_accuracy: 0.3956 - val_precision_5: 0.0000e+00 - val_recall_5: 0.0000e+00\n",
            "\n",
            "Epoch 00001: val_loss improved from inf to 1.52914, saving model to mlp_3H.h5\n",
            "Epoch 2/100\n",
            "905/905 [==============================] - 3s 3ms/step - loss: 1.5290 - accuracy: 0.3956 - precision_5: 0.0000e+00 - recall_5: 0.0000e+00 - val_loss: 1.5291 - val_accuracy: 0.3956 - val_precision_5: 0.0000e+00 - val_recall_5: 0.0000e+00\n",
            "\n",
            "Epoch 00002: val_loss improved from 1.52914 to 1.52906, saving model to mlp_3H.h5\n",
            "Epoch 3/100\n",
            "905/905 [==============================] - 3s 3ms/step - loss: 1.5290 - accuracy: 0.3956 - precision_5: 0.0000e+00 - recall_5: 0.0000e+00 - val_loss: 1.5289 - val_accuracy: 0.3956 - val_precision_5: 0.0000e+00 - val_recall_5: 0.0000e+00\n",
            "\n",
            "Epoch 00003: val_loss improved from 1.52906 to 1.52895, saving model to mlp_3H.h5\n",
            "Epoch 4/100\n",
            "905/905 [==============================] - 3s 4ms/step - loss: 1.5290 - accuracy: 0.3956 - precision_5: 0.0000e+00 - recall_5: 0.0000e+00 - val_loss: 1.5289 - val_accuracy: 0.3956 - val_precision_5: 0.0000e+00 - val_recall_5: 0.0000e+00\n",
            "\n",
            "Epoch 00004: val_loss improved from 1.52895 to 1.52890, saving model to mlp_3H.h5\n",
            "Epoch 5/100\n",
            "905/905 [==============================] - 3s 3ms/step - loss: 1.5289 - accuracy: 0.3956 - precision_5: 0.0000e+00 - recall_5: 0.0000e+00 - val_loss: 1.5291 - val_accuracy: 0.3956 - val_precision_5: 0.0000e+00 - val_recall_5: 0.0000e+00\n",
            "\n",
            "Epoch 00005: val_loss did not improve from 1.52890\n",
            "Epoch 6/100\n",
            "905/905 [==============================] - 3s 3ms/step - loss: 1.5289 - accuracy: 0.3956 - precision_5: 0.0000e+00 - recall_5: 0.0000e+00 - val_loss: 1.5289 - val_accuracy: 0.3956 - val_precision_5: 0.0000e+00 - val_recall_5: 0.0000e+00\n",
            "\n",
            "Epoch 00006: val_loss did not improve from 1.52890\n",
            "Epoch 7/100\n",
            "905/905 [==============================] - 3s 3ms/step - loss: 1.5290 - accuracy: 0.3956 - precision_5: 0.0000e+00 - recall_5: 0.0000e+00 - val_loss: 1.5289 - val_accuracy: 0.3956 - val_precision_5: 0.0000e+00 - val_recall_5: 0.0000e+00\n",
            "\n",
            "Epoch 00007: val_loss improved from 1.52890 to 1.52887, saving model to mlp_3H.h5\n",
            "Epoch 8/100\n",
            "905/905 [==============================] - 3s 3ms/step - loss: 1.5290 - accuracy: 0.3956 - precision_5: 0.0000e+00 - recall_5: 0.0000e+00 - val_loss: 1.5289 - val_accuracy: 0.3956 - val_precision_5: 0.0000e+00 - val_recall_5: 0.0000e+00\n",
            "\n",
            "Epoch 00008: val_loss did not improve from 1.52887\n",
            "Epoch 9/100\n",
            "905/905 [==============================] - 3s 3ms/step - loss: 1.5290 - accuracy: 0.3956 - precision_5: 0.0000e+00 - recall_5: 0.0000e+00 - val_loss: 1.5290 - val_accuracy: 0.3956 - val_precision_5: 0.0000e+00 - val_recall_5: 0.0000e+00\n",
            "\n",
            "Epoch 00009: val_loss did not improve from 1.52887\n",
            "Epoch 10/100\n",
            "905/905 [==============================] - 3s 3ms/step - loss: 1.5290 - accuracy: 0.3956 - precision_5: 0.0000e+00 - recall_5: 0.0000e+00 - val_loss: 1.5289 - val_accuracy: 0.3956 - val_precision_5: 0.0000e+00 - val_recall_5: 0.0000e+00\n",
            "\n",
            "Epoch 00010: val_loss improved from 1.52887 to 1.52885, saving model to mlp_3H.h5\n",
            "Epoch 11/100\n",
            "905/905 [==============================] - 3s 3ms/step - loss: 1.5290 - accuracy: 0.3956 - precision_5: 0.0000e+00 - recall_5: 0.0000e+00 - val_loss: 1.5288 - val_accuracy: 0.3956 - val_precision_5: 0.0000e+00 - val_recall_5: 0.0000e+00\n",
            "\n",
            "Epoch 00011: val_loss improved from 1.52885 to 1.52882, saving model to mlp_3H.h5\n",
            "Epoch 12/100\n",
            "905/905 [==============================] - 3s 3ms/step - loss: 1.5290 - accuracy: 0.3956 - precision_5: 0.0000e+00 - recall_5: 0.0000e+00 - val_loss: 1.5289 - val_accuracy: 0.3956 - val_precision_5: 0.0000e+00 - val_recall_5: 0.0000e+00\n",
            "\n",
            "Epoch 00012: val_loss did not improve from 1.52882\n",
            "Epoch 13/100\n",
            "905/905 [==============================] - 3s 4ms/step - loss: 1.5289 - accuracy: 0.3956 - precision_5: 0.0000e+00 - recall_5: 0.0000e+00 - val_loss: 1.5291 - val_accuracy: 0.3956 - val_precision_5: 0.0000e+00 - val_recall_5: 0.0000e+00\n",
            "\n",
            "Epoch 00013: val_loss did not improve from 1.52882\n",
            "Epoch 14/100\n",
            "905/905 [==============================] - 3s 3ms/step - loss: 1.5290 - accuracy: 0.3956 - precision_5: 0.0000e+00 - recall_5: 0.0000e+00 - val_loss: 1.5288 - val_accuracy: 0.3956 - val_precision_5: 0.0000e+00 - val_recall_5: 0.0000e+00\n",
            "\n",
            "Epoch 00014: val_loss improved from 1.52882 to 1.52882, saving model to mlp_3H.h5\n",
            "Epoch 15/100\n",
            "905/905 [==============================] - 3s 3ms/step - loss: 1.5290 - accuracy: 0.3956 - precision_5: 0.0000e+00 - recall_5: 0.0000e+00 - val_loss: 1.5288 - val_accuracy: 0.3956 - val_precision_5: 0.0000e+00 - val_recall_5: 0.0000e+00\n",
            "\n",
            "Epoch 00015: val_loss did not improve from 1.52882\n",
            "Epoch 16/100\n",
            "905/905 [==============================] - 3s 3ms/step - loss: 1.5289 - accuracy: 0.3956 - precision_5: 0.0000e+00 - recall_5: 0.0000e+00 - val_loss: 1.5289 - val_accuracy: 0.3956 - val_precision_5: 0.0000e+00 - val_recall_5: 0.0000e+00\n",
            "\n",
            "Epoch 00016: val_loss did not improve from 1.52882\n",
            "Epoch 17/100\n",
            "905/905 [==============================] - 3s 3ms/step - loss: 1.5289 - accuracy: 0.3956 - precision_5: 0.0000e+00 - recall_5: 0.0000e+00 - val_loss: 1.5291 - val_accuracy: 0.3956 - val_precision_5: 0.0000e+00 - val_recall_5: 0.0000e+00\n",
            "\n",
            "Epoch 00017: val_loss did not improve from 1.52882\n",
            "Epoch 18/100\n",
            "905/905 [==============================] - 3s 3ms/step - loss: 1.5290 - accuracy: 0.3956 - precision_5: 0.0000e+00 - recall_5: 0.0000e+00 - val_loss: 1.5289 - val_accuracy: 0.3956 - val_precision_5: 0.0000e+00 - val_recall_5: 0.0000e+00\n",
            "\n",
            "Epoch 00018: val_loss did not improve from 1.52882\n",
            "Epoch 19/100\n",
            "905/905 [==============================] - 3s 3ms/step - loss: 1.5289 - accuracy: 0.3956 - precision_5: 0.0000e+00 - recall_5: 0.0000e+00 - val_loss: 1.5291 - val_accuracy: 0.3956 - val_precision_5: 0.0000e+00 - val_recall_5: 0.0000e+00\n",
            "\n",
            "Epoch 00019: val_loss did not improve from 1.52882\n"
          ],
          "name": "stdout"
        }
      ]
    },
    {
      "cell_type": "code",
      "metadata": {
        "colab": {
          "base_uri": "https://localhost:8080/",
          "height": 282
        },
        "id": "CpM53IY5qGpG",
        "outputId": "f05a03e7-4f0a-443c-de05-2fc0836e4371"
      },
      "source": [
        "pd.DataFrame(history_mlp.history)[metr].plot()"
      ],
      "execution_count": 80,
      "outputs": [
        {
          "output_type": "execute_result",
          "data": {
            "text/plain": [
              "<matplotlib.axes._subplots.AxesSubplot at 0x7fba5fc83c90>"
            ]
          },
          "metadata": {
            "tags": []
          },
          "execution_count": 80
        },
        {
          "output_type": "display_data",
          "data": {
            "image/png": "[encoded data removed]",
            "text/plain": [
              "<Figure size 432x288 with 1 Axes>"
            ]
          },
          "metadata": {
            "tags": [],
            "needs_background": "light"
          }
        }
      ]
    },
    {
      "cell_type": "code",
      "metadata": {
        "colab": {
          "base_uri": "https://localhost:8080/",
          "height": 674
        },
        "id": "dfhuh-StsQ5F",
        "outputId": "a11f68d0-3d89-43b4-ae3e-9fd9d99ec3bd"
      },
      "source": [
        "model_evaluate(mlp_model, sequence_test, test_target, 64)"
      ],
      "execution_count": 90,
      "outputs": [
        {
          "output_type": "stream",
          "text": [
            " 85/244 [=========>....................] - ETA: 0s"
          ],
          "name": "stdout"
        },
        {
          "output_type": "stream",
          "text": [
            "/usr/local/lib/python3.7/dist-packages/tensorflow/python/keras/engine/sequential.py:450: UserWarning: `model.predict_classes()` is deprecated and will be removed after 2021-01-01. Please use instead:* `np.argmax(model.predict(x), axis=-1)`,   if your model does multi-class classification   (e.g. if it uses a `softmax` last-layer activation).* `(model.predict(x) > 0.5).astype(\"int32\")`,   if your model does binary classification   (e.g. if it uses a `sigmoid` last-layer activation).\n",
            "  warnings.warn('`model.predict_classes()` is deprecated and '\n"
          ],
          "name": "stderr"
        },
        {
          "output_type": "stream",
          "text": [
            "244/244 [==============================] - 0s 1ms/step\n",
            "Accuracy:\t39.6%\n",
            "\n",
            "\n",
            "              precision    recall  f1-score   support\n",
            "\n",
            "           0       0.00      0.00      0.00      3099\n",
            "           1       0.00      0.00      0.00       708\n",
            "           2       0.00      0.00      0.00       540\n",
            "           3       0.40      1.00      0.57      6164\n",
            "           4       0.00      0.00      0.00      2004\n",
            "           5       0.00      0.00      0.00      3066\n",
            "\n",
            "    accuracy                           0.40     15581\n",
            "   macro avg       0.07      0.17      0.09     15581\n",
            "weighted avg       0.16      0.40      0.22     15581\n",
            "\n"
          ],
          "name": "stdout"
        },
        {
          "output_type": "stream",
          "text": [
            "/usr/local/lib/python3.7/dist-packages/sklearn/metrics/_classification.py:1272: UndefinedMetricWarning: Precision and F-score are ill-defined and being set to 0.0 in labels with no predicted samples. Use `zero_division` parameter to control this behavior.\n",
            "  _warn_prf(average, modifier, msg_start, len(result))\n"
          ],
          "name": "stderr"
        },
        {
          "output_type": "display_data",
          "data": {
            "image/png": "[encoded data removed]",
            "text/plain": [
              "<Figure size 288x288 with 1 Axes>"
            ]
          },
          "metadata": {
            "tags": [],
            "needs_background": "light"
          }
        }
      ]
    },
    {
      "cell_type": "markdown",
      "metadata": {
        "id": "T9TJUXVd3M9Y"
      },
      "source": [
        "## With oversampling"
      ]
    },
    {
      "cell_type": "code",
      "metadata": {
        "colab": {
          "base_uri": "https://localhost:8080/"
        },
        "id": "CzZrTiHzp4g-",
        "outputId": "17f36d36-90b3-480f-ee23-6c452fc5e65c"
      },
      "source": [
        "mlp_model2 = build_mlp()\n",
        "mlp_model2.compile(\n",
        "        optimizer=Adam(learning_rate=5e-5),\n",
        "        loss='categorical_crossentropy',\n",
        "        metrics=[\n",
        "                 'accuracy',\n",
        "                 Precision(), \n",
        "                 Recall()\n",
        "              ]\n",
        "          )\n",
        "mlp_model2.summary()"
      ],
      "execution_count": 126,
      "outputs": [
        {
          "output_type": "stream",
          "text": [
            "Model: \"sequential_10\"\n",
            "_________________________________________________________________\n",
            "Layer (type)                 Output Shape              Param #   \n",
            "=================================================================\n",
            "dense_39 (Dense)             (None, 40)                10040     \n",
            "_________________________________________________________________\n",
            "dense_40 (Dense)             (None, 60)                2460      \n",
            "_________________________________________________________________\n",
            "dense_41 (Dense)             (None, 80)                4880      \n",
            "_________________________________________________________________\n",
            "dense_42 (Dense)             (None, 100)               8100      \n",
            "_________________________________________________________________\n",
            "dense_43 (Dense)             (None, 80)                8080      \n",
            "_________________________________________________________________\n",
            "dense_44 (Dense)             (None, 60)                4860      \n",
            "_________________________________________________________________\n",
            "dense_45 (Dense)             (None, 40)                2440      \n",
            "_________________________________________________________________\n",
            "dense_46 (Dense)             (None, 6)                 246       \n",
            "=================================================================\n",
            "Total params: 41,106\n",
            "Trainable params: 41,106\n",
            "Non-trainable params: 0\n",
            "_________________________________________________________________\n"
          ],
          "name": "stdout"
        }
      ]
    },
    {
      "cell_type": "code",
      "metadata": {
        "id": "dCMs1Aflp_Zx"
      },
      "source": [
        "mlp2_cb = get_callbacks('mlp2_3H.h5')"
      ],
      "execution_count": 127,
      "outputs": []
    },
    {
      "cell_type": "code",
      "metadata": {
        "colab": {
          "base_uri": "https://localhost:8080/"
        },
        "id": "nVlC7O7jqKpK",
        "outputId": "7cd6b923-3697-4242-d790-42fe39b7f22f"
      },
      "source": [
        "history_mlp2 = mlp_model2.fit(\n",
        "    sequence_train,\n",
        "    train_target,\n",
        "    validation_data=(sequence_val, val_target),\n",
        "    epochs = 100,\n",
        "    batch_size=64,\n",
        "    callbacks=mlp2_cb\n",
        ")"
      ],
      "execution_count": 128,
      "outputs": [
        {
          "output_type": "stream",
          "text": [
            "Epoch 1/100\n",
            "5625/5625 [==============================] - 15s 3ms/step - loss: 1.8212 - accuracy: 0.1655 - precision_10: 0.0000e+00 - recall_10: 0.0000e+00 - val_loss: 1.7927 - val_accuracy: 0.1988 - val_precision_10: 0.0000e+00 - val_recall_10: 0.0000e+00\n",
            "\n",
            "Epoch 00001: val_loss improved from inf to 1.79273, saving model to mlp2_3H.h5\n",
            "Epoch 2/100\n",
            "5625/5625 [==============================] - 14s 3ms/step - loss: 1.7919 - accuracy: 0.1672 - precision_10: 0.0000e+00 - recall_10: 0.0000e+00 - val_loss: 1.7956 - val_accuracy: 0.1968 - val_precision_10: 0.0000e+00 - val_recall_10: 0.0000e+00\n",
            "\n",
            "Epoch 00002: val_loss did not improve from 1.79273\n",
            "Epoch 3/100\n",
            "5625/5625 [==============================] - 14s 3ms/step - loss: 1.7920 - accuracy: 0.1657 - precision_10: 0.0000e+00 - recall_10: 0.0000e+00 - val_loss: 1.7868 - val_accuracy: 0.3956 - val_precision_10: 0.0000e+00 - val_recall_10: 0.0000e+00\n",
            "\n",
            "Epoch 00003: val_loss improved from 1.79273 to 1.78684, saving model to mlp2_3H.h5\n",
            "Epoch 4/100\n",
            "5625/5625 [==============================] - 14s 3ms/step - loss: 1.7919 - accuracy: 0.1678 - precision_10: 0.0000e+00 - recall_10: 0.0000e+00 - val_loss: 1.7966 - val_accuracy: 0.1287 - val_precision_10: 0.0000e+00 - val_recall_10: 0.0000e+00\n",
            "\n",
            "Epoch 00004: val_loss did not improve from 1.78684\n",
            "Epoch 5/100\n",
            "5625/5625 [==============================] - 15s 3ms/step - loss: 1.7919 - accuracy: 0.1670 - precision_10: 0.0000e+00 - recall_10: 0.0000e+00 - val_loss: 1.7894 - val_accuracy: 0.1259 - val_precision_10: 0.0000e+00 - val_recall_10: 0.0000e+00\n",
            "\n",
            "Epoch 00005: val_loss did not improve from 1.78684\n",
            "Epoch 6/100\n",
            "5625/5625 [==============================] - 15s 3ms/step - loss: 1.7918 - accuracy: 0.1685 - precision_10: 0.0000e+00 - recall_10: 0.0000e+00 - val_loss: 1.7901 - val_accuracy: 0.1496 - val_precision_10: 0.0000e+00 - val_recall_10: 0.0000e+00\n",
            "\n",
            "Epoch 00006: val_loss did not improve from 1.78684\n",
            "Epoch 7/100\n",
            "5625/5625 [==============================] - 15s 3ms/step - loss: 1.7914 - accuracy: 0.1732 - precision_10: 0.0000e+00 - recall_10: 0.0000e+00 - val_loss: 1.7956 - val_accuracy: 0.1038 - val_precision_10: 0.0000e+00 - val_recall_10: 0.0000e+00\n",
            "\n",
            "Epoch 00007: val_loss did not improve from 1.78684\n",
            "Epoch 8/100\n",
            "5625/5625 [==============================] - 15s 3ms/step - loss: 1.7907 - accuracy: 0.1752 - precision_10: 0.0000e+00 - recall_10: 0.0000e+00 - val_loss: 1.7861 - val_accuracy: 0.1177 - val_precision_10: 0.0000e+00 - val_recall_10: 0.0000e+00\n",
            "\n",
            "Epoch 00008: val_loss improved from 1.78684 to 1.78613, saving model to mlp2_3H.h5\n",
            "Epoch 9/100\n",
            "5625/5625 [==============================] - 15s 3ms/step - loss: 1.7899 - accuracy: 0.1780 - precision_10: 0.0000e+00 - recall_10: 0.0000e+00 - val_loss: 1.7967 - val_accuracy: 0.0906 - val_precision_10: 0.0000e+00 - val_recall_10: 0.0000e+00\n",
            "\n",
            "Epoch 00009: val_loss did not improve from 1.78613\n",
            "Epoch 10/100\n",
            "5625/5625 [==============================] - 15s 3ms/step - loss: 1.7892 - accuracy: 0.1813 - precision_10: 0.0000e+00 - recall_10: 0.0000e+00 - val_loss: 1.8017 - val_accuracy: 0.1259 - val_precision_10: 0.0000e+00 - val_recall_10: 0.0000e+00\n",
            "\n",
            "Epoch 00010: val_loss did not improve from 1.78613\n",
            "Epoch 11/100\n",
            "5625/5625 [==============================] - 15s 3ms/step - loss: 1.7884 - accuracy: 0.1829 - precision_10: 0.0000e+00 - recall_10: 0.0000e+00 - val_loss: 1.7961 - val_accuracy: 0.0857 - val_precision_10: 0.0000e+00 - val_recall_10: 0.0000e+00\n",
            "\n",
            "Epoch 00011: val_loss did not improve from 1.78613\n",
            "Epoch 12/100\n",
            "5625/5625 [==============================] - 14s 3ms/step - loss: 1.7872 - accuracy: 0.1841 - precision_10: 0.0000e+00 - recall_10: 0.0000e+00 - val_loss: 1.7823 - val_accuracy: 0.2548 - val_precision_10: 0.0000e+00 - val_recall_10: 0.0000e+00\n",
            "\n",
            "Epoch 00012: val_loss improved from 1.78613 to 1.78226, saving model to mlp2_3H.h5\n",
            "Epoch 13/100\n",
            "5625/5625 [==============================] - 14s 3ms/step - loss: 1.7860 - accuracy: 0.1863 - precision_10: 0.0000e+00 - recall_10: 0.0000e+00 - val_loss: 1.7955 - val_accuracy: 0.1272 - val_precision_10: 0.0000e+00 - val_recall_10: 0.0000e+00\n",
            "\n",
            "Epoch 00013: val_loss did not improve from 1.78226\n",
            "Epoch 14/100\n",
            "5625/5625 [==============================] - 15s 3ms/step - loss: 1.7838 - accuracy: 0.1908 - precision_10: 0.0000e+00 - recall_10: 0.0000e+00 - val_loss: 1.8006 - val_accuracy: 0.0918 - val_precision_10: 0.0000e+00 - val_recall_10: 0.0000e+00\n",
            "\n",
            "Epoch 00014: val_loss did not improve from 1.78226\n",
            "Epoch 15/100\n",
            "5625/5625 [==============================] - 15s 3ms/step - loss: 1.7821 - accuracy: 0.1938 - precision_10: 0.0000e+00 - recall_10: 0.0000e+00 - val_loss: 1.7884 - val_accuracy: 0.1965 - val_precision_10: 0.0000e+00 - val_recall_10: 0.0000e+00\n",
            "\n",
            "Epoch 00015: val_loss did not improve from 1.78226\n",
            "Epoch 16/100\n",
            "5625/5625 [==============================] - 15s 3ms/step - loss: 1.7806 - accuracy: 0.1961 - precision_10: 0.0000e+00 - recall_10: 0.0000e+00 - val_loss: 1.7903 - val_accuracy: 0.2108 - val_precision_10: 0.0000e+00 - val_recall_10: 0.0000e+00\n",
            "\n",
            "Epoch 00016: val_loss did not improve from 1.78226\n",
            "Epoch 17/100\n",
            "5625/5625 [==============================] - 14s 3ms/step - loss: 1.7790 - accuracy: 0.1987 - precision_10: 0.0000e+00 - recall_10: 0.0000e+00 - val_loss: 1.7874 - val_accuracy: 0.1168 - val_precision_10: 0.0000e+00 - val_recall_10: 0.0000e+00\n",
            "\n",
            "Epoch 00017: val_loss did not improve from 1.78226\n"
          ],
          "name": "stdout"
        }
      ]
    },
    {
      "cell_type": "code",
      "metadata": {
        "colab": {
          "base_uri": "https://localhost:8080/",
          "height": 282
        },
        "id": "OztsNUkxsVk-",
        "outputId": "164a3c47-3d92-4fce-c63e-11595dc78ed7"
      },
      "source": [
        "pd.DataFrame(history_mlp2.history)[metr].plot()"
      ],
      "execution_count": 129,
      "outputs": [
        {
          "output_type": "execute_result",
          "data": {
            "text/plain": [
              "<matplotlib.axes._subplots.AxesSubplot at 0x7fba5fbbd310>"
            ]
          },
          "metadata": {
            "tags": []
          },
          "execution_count": 129
        },
        {
          "output_type": "display_data",
          "data": {
            "image/png": "[encoded data removed]",
            "text/plain": [
              "<Figure size 432x288 with 1 Axes>"
            ]
          },
          "metadata": {
            "tags": [],
            "needs_background": "light"
          }
        }
      ]
    },
    {
      "cell_type": "code",
      "metadata": {
        "colab": {
          "base_uri": "https://localhost:8080/",
          "height": 674
        },
        "id": "Sc2OQGxorPXk",
        "outputId": "a04b7373-e4ad-4d46-be2e-1cd262c3f1e5"
      },
      "source": [
        "model_evaluate(mlp_model2, sequence_test, test_target, 64)"
      ],
      "execution_count": 130,
      "outputs": [
        {
          "output_type": "stream",
          "text": [
            "100/244 [===========>..................] - ETA: 0s"
          ],
          "name": "stdout"
        },
        {
          "output_type": "stream",
          "text": [
            "/usr/local/lib/python3.7/dist-packages/tensorflow/python/keras/engine/sequential.py:450: UserWarning: `model.predict_classes()` is deprecated and will be removed after 2021-01-01. Please use instead:* `np.argmax(model.predict(x), axis=-1)`,   if your model does multi-class classification   (e.g. if it uses a `softmax` last-layer activation).* `(model.predict(x) > 0.5).astype(\"int32\")`,   if your model does binary classification   (e.g. if it uses a `sigmoid` last-layer activation).\n",
            "  warnings.warn('`model.predict_classes()` is deprecated and '\n"
          ],
          "name": "stderr"
        },
        {
          "output_type": "stream",
          "text": [
            "244/244 [==============================] - 0s 1ms/step\n",
            "Accuracy:\t25.5%\n",
            "\n",
            "\n",
            "              precision    recall  f1-score   support\n",
            "\n",
            "           0       0.00      0.00      0.00      3099\n",
            "           1       0.00      0.00      0.00       708\n",
            "           2       0.03      0.38      0.06       540\n",
            "           3       0.40      0.61      0.48      6164\n",
            "           4       0.00      0.00      0.00      2004\n",
            "           5       0.00      0.00      0.00      3066\n",
            "\n",
            "    accuracy                           0.26     15581\n",
            "   macro avg       0.07      0.17      0.09     15581\n",
            "weighted avg       0.16      0.26      0.19     15581\n",
            "\n"
          ],
          "name": "stdout"
        },
        {
          "output_type": "stream",
          "text": [
            "/usr/local/lib/python3.7/dist-packages/sklearn/metrics/_classification.py:1272: UndefinedMetricWarning: Precision and F-score are ill-defined and being set to 0.0 in labels with no predicted samples. Use `zero_division` parameter to control this behavior.\n",
            "  _warn_prf(average, modifier, msg_start, len(result))\n"
          ],
          "name": "stderr"
        },
        {
          "output_type": "display_data",
          "data": {
            "image/png": "[encoded data removed]",
            "text/plain": [
              "<Figure size 288x288 with 1 Axes>"
            ]
          },
          "metadata": {
            "tags": [],
            "needs_background": "light"
          }
        }
      ]
    },
    {
      "cell_type": "code",
      "metadata": {
        "id": "jnlLBxrOjHnf"
      },
      "source": [
        "emb_cb = get_callbacks('emb_3H.h5')"
      ],
      "execution_count": 54,
      "outputs": []
    },
    {
      "cell_type": "code",
      "metadata": {
        "colab": {
          "base_uri": "https://localhost:8080/"
        },
        "id": "yIxBSqdeiqdX",
        "outputId": "85a3c9c4-51b1-4376-a61f-912b74d8e822"
      },
      "source": [
        "emb_model = build_emb()\n",
        "emb_model.compile(\n",
        "        optimizer=Adam(learning_rate=5e-5),\n",
        "        loss='categorical_crossentropy',\n",
        "        metrics=[\n",
        "                 'accuracy',\n",
        "                 Precision(), \n",
        "                 Recall()\n",
        "              ]\n",
        "          )\n",
        "emb_model.summary()"
      ],
      "execution_count": 59,
      "outputs": [
        {
          "output_type": "stream",
          "text": [
            "Model: \"sequential_7\"\n",
            "_________________________________________________________________\n",
            "Layer (type)                 Output Shape              Param #   \n",
            "=================================================================\n",
            "embedding_2 (Embedding)      (None, 250, 32)           320000    \n",
            "_________________________________________________________________\n",
            "flatten_2 (Flatten)          (None, 8000)              0         \n",
            "_________________________________________________________________\n",
            "dense_22 (Dense)             (None, 6)                 48006     \n",
            "=================================================================\n",
            "Total params: 368,006\n",
            "Trainable params: 368,006\n",
            "Non-trainable params: 0\n",
            "_________________________________________________________________\n"
          ],
          "name": "stdout"
        }
      ]
    },
    {
      "cell_type": "code",
      "metadata": {
        "colab": {
          "base_uri": "https://localhost:8080/"
        },
        "id": "O4Kn1LHrmFJE",
        "outputId": "d5ba7e4d-2006-40ce-cca8-d0e040025e00"
      },
      "source": [
        "history_emb = emb_model.fit(\n",
        "    sequence_train,\n",
        "    train_target,\n",
        "    validation_data=(sequence_val, val_target),\n",
        "    epochs = 100,\n",
        "    batch_size=64,\n",
        "    callbacks=emb_cb\n",
        ")"
      ],
      "execution_count": 60,
      "outputs": [
        {
          "output_type": "stream",
          "text": [
            "Epoch 1/100\n",
            "905/905 [==============================] - 11s 11ms/step - loss: 1.5705 - accuracy: 0.3917 - precision_7: 0.0000e+00 - recall_7: 0.0000e+00 - val_loss: 1.5269 - val_accuracy: 0.3956 - val_precision_7: 0.0000e+00 - val_recall_7: 0.0000e+00\n",
            "\n",
            "Epoch 00001: val_loss improved from inf to 1.52694, saving model to emb.h5\n",
            "Epoch 2/100\n",
            "905/905 [==============================] - 9s 10ms/step - loss: 1.5260 - accuracy: 0.3942 - precision_7: 0.0000e+00 - recall_7: 0.0000e+00 - val_loss: 1.5234 - val_accuracy: 0.3956 - val_precision_7: 0.0000e+00 - val_recall_7: 0.0000e+00\n",
            "\n",
            "Epoch 00002: val_loss improved from 1.52694 to 1.52342, saving model to emb.h5\n",
            "Epoch 3/100\n",
            "905/905 [==============================] - 9s 10ms/step - loss: 1.5220 - accuracy: 0.3954 - precision_7: 0.4282 - recall_7: 8.1752e-05 - val_loss: 1.5180 - val_accuracy: 0.3956 - val_precision_7: 1.0000 - val_recall_7: 1.9255e-04\n",
            "\n",
            "Epoch 00003: val_loss improved from 1.52342 to 1.51803, saving model to emb.h5\n",
            "Epoch 4/100\n",
            "905/905 [==============================] - 10s 11ms/step - loss: 1.5184 - accuracy: 0.3948 - precision_7: 0.7645 - recall_7: 0.0036 - val_loss: 1.5116 - val_accuracy: 0.3956 - val_precision_7: 0.7180 - val_recall_7: 0.0443\n",
            "\n",
            "Epoch 00004: val_loss improved from 1.51803 to 1.51161, saving model to emb.h5\n",
            "Epoch 5/100\n",
            "905/905 [==============================] - 10s 11ms/step - loss: 1.5057 - accuracy: 0.3948 - precision_7: 0.7737 - recall_7: 0.0331 - val_loss: 1.4985 - val_accuracy: 0.3961 - val_precision_7: 0.7365 - val_recall_7: 0.0623\n",
            "\n",
            "Epoch 00005: val_loss improved from 1.51161 to 1.49854, saving model to emb.h5\n",
            "Epoch 6/100\n",
            "905/905 [==============================] - 10s 11ms/step - loss: 1.4893 - accuracy: 0.3991 - precision_7: 0.7772 - recall_7: 0.0624 - val_loss: 1.4855 - val_accuracy: 0.4007 - val_precision_7: 0.7416 - val_recall_7: 0.0832\n",
            "\n",
            "Epoch 00006: val_loss improved from 1.49854 to 1.48554, saving model to emb.h5\n",
            "Epoch 7/100\n",
            "905/905 [==============================] - 10s 11ms/step - loss: 1.4762 - accuracy: 0.3998 - precision_7: 0.7612 - recall_7: 0.0856 - val_loss: 1.4739 - val_accuracy: 0.4049 - val_precision_7: 0.7460 - val_recall_7: 0.0997\n",
            "\n",
            "Epoch 00007: val_loss improved from 1.48554 to 1.47386, saving model to emb.h5\n",
            "Epoch 8/100\n",
            "905/905 [==============================] - 9s 10ms/step - loss: 1.4545 - accuracy: 0.4132 - precision_7: 0.7425 - recall_7: 0.1217 - val_loss: 1.4634 - val_accuracy: 0.4107 - val_precision_7: 0.7418 - val_recall_7: 0.1138\n",
            "\n",
            "Epoch 00008: val_loss improved from 1.47386 to 1.46339, saving model to emb.h5\n",
            "Epoch 9/100\n",
            "905/905 [==============================] - 10s 11ms/step - loss: 1.4461 - accuracy: 0.4186 - precision_7: 0.7428 - recall_7: 0.1348 - val_loss: 1.4542 - val_accuracy: 0.4123 - val_precision_7: 0.7061 - val_recall_7: 0.1494\n",
            "\n",
            "Epoch 00009: val_loss improved from 1.46339 to 1.45416, saving model to emb.h5\n",
            "Epoch 10/100\n",
            "905/905 [==============================] - 10s 11ms/step - loss: 1.4329 - accuracy: 0.4248 - precision_7: 0.7405 - recall_7: 0.1512 - val_loss: 1.4466 - val_accuracy: 0.4150 - val_precision_7: 0.6855 - val_recall_7: 0.1683\n",
            "\n",
            "Epoch 00010: val_loss improved from 1.45416 to 1.44657, saving model to emb.h5\n",
            "Epoch 11/100\n",
            "905/905 [==============================] - 10s 11ms/step - loss: 1.4233 - accuracy: 0.4255 - precision_7: 0.7328 - recall_7: 0.1593 - val_loss: 1.4394 - val_accuracy: 0.4194 - val_precision_7: 0.7039 - val_recall_7: 0.1549\n",
            "\n",
            "Epoch 00011: val_loss improved from 1.44657 to 1.43941, saving model to emb.h5\n",
            "Epoch 12/100\n",
            "905/905 [==============================] - 11s 12ms/step - loss: 1.4111 - accuracy: 0.4345 - precision_7: 0.7256 - recall_7: 0.1685 - val_loss: 1.4337 - val_accuracy: 0.4240 - val_precision_7: 0.7026 - val_recall_7: 0.1556\n",
            "\n",
            "Epoch 00012: val_loss improved from 1.43941 to 1.43367, saving model to emb.h5\n",
            "Epoch 13/100\n",
            "905/905 [==============================] - 10s 11ms/step - loss: 1.4002 - accuracy: 0.4408 - precision_7: 0.7310 - recall_7: 0.1752 - val_loss: 1.4280 - val_accuracy: 0.4260 - val_precision_7: 0.6933 - val_recall_7: 0.1669\n",
            "\n",
            "Epoch 00013: val_loss improved from 1.43367 to 1.42799, saving model to emb.h5\n",
            "Epoch 14/100\n",
            "905/905 [==============================] - 10s 11ms/step - loss: 1.3927 - accuracy: 0.4447 - precision_7: 0.7305 - recall_7: 0.1814 - val_loss: 1.4235 - val_accuracy: 0.4280 - val_precision_7: 0.6883 - val_recall_7: 0.1712\n",
            "\n",
            "Epoch 00014: val_loss improved from 1.42799 to 1.42352, saving model to emb.h5\n",
            "Epoch 15/100\n",
            "905/905 [==============================] - 10s 11ms/step - loss: 1.3829 - accuracy: 0.4502 - precision_7: 0.7261 - recall_7: 0.1860 - val_loss: 1.4199 - val_accuracy: 0.4295 - val_precision_7: 0.6799 - val_recall_7: 0.1797\n",
            "\n",
            "Epoch 00015: val_loss improved from 1.42352 to 1.41985, saving model to emb.h5\n",
            "Epoch 16/100\n",
            "905/905 [==============================] - 9s 10ms/step - loss: 1.3708 - accuracy: 0.4572 - precision_7: 0.7295 - recall_7: 0.1938 - val_loss: 1.4161 - val_accuracy: 0.4340 - val_precision_7: 0.6876 - val_recall_7: 0.1702\n",
            "\n",
            "Epoch 00016: val_loss improved from 1.41985 to 1.41609, saving model to emb.h5\n",
            "Epoch 17/100\n",
            "905/905 [==============================] - 11s 12ms/step - loss: 1.3655 - accuracy: 0.4579 - precision_7: 0.7273 - recall_7: 0.1905 - val_loss: 1.4128 - val_accuracy: 0.4332 - val_precision_7: 0.6689 - val_recall_7: 0.1891\n",
            "\n",
            "Epoch 00017: val_loss improved from 1.41609 to 1.41277, saving model to emb.h5\n",
            "Epoch 18/100\n",
            "905/905 [==============================] - 9s 10ms/step - loss: 1.3631 - accuracy: 0.4601 - precision_7: 0.7250 - recall_7: 0.1941 - val_loss: 1.4099 - val_accuracy: 0.4340 - val_precision_7: 0.6698 - val_recall_7: 0.1877\n",
            "\n",
            "Epoch 00018: val_loss improved from 1.41277 to 1.40985, saving model to emb.h5\n",
            "Epoch 19/100\n",
            "905/905 [==============================] - 10s 11ms/step - loss: 1.3443 - accuracy: 0.4679 - precision_7: 0.7307 - recall_7: 0.2064 - val_loss: 1.4081 - val_accuracy: 0.4374 - val_precision_7: 0.6822 - val_recall_7: 0.1750\n",
            "\n",
            "Epoch 00019: val_loss improved from 1.40985 to 1.40812, saving model to emb.h5\n",
            "Epoch 20/100\n",
            "905/905 [==============================] - 9s 10ms/step - loss: 1.3428 - accuracy: 0.4703 - precision_7: 0.7302 - recall_7: 0.2025 - val_loss: 1.4057 - val_accuracy: 0.4344 - val_precision_7: 0.6592 - val_recall_7: 0.1957\n",
            "\n",
            "Epoch 00020: val_loss improved from 1.40812 to 1.40571, saving model to emb.h5\n",
            "Epoch 21/100\n",
            "905/905 [==============================] - 9s 10ms/step - loss: 1.3342 - accuracy: 0.4755 - precision_7: 0.7308 - recall_7: 0.2124 - val_loss: 1.4036 - val_accuracy: 0.4358 - val_precision_7: 0.6641 - val_recall_7: 0.1915\n",
            "\n",
            "Epoch 00021: val_loss improved from 1.40571 to 1.40358, saving model to emb.h5\n",
            "Epoch 22/100\n",
            "905/905 [==============================] - 10s 11ms/step - loss: 1.3243 - accuracy: 0.4779 - precision_7: 0.7251 - recall_7: 0.2123 - val_loss: 1.4022 - val_accuracy: 0.4367 - val_precision_7: 0.6632 - val_recall_7: 0.1898\n",
            "\n",
            "Epoch 00022: val_loss improved from 1.40358 to 1.40222, saving model to emb.h5\n",
            "Epoch 23/100\n",
            "905/905 [==============================] - 10s 11ms/step - loss: 1.3217 - accuracy: 0.4798 - precision_7: 0.7275 - recall_7: 0.2151 - val_loss: 1.4011 - val_accuracy: 0.4350 - val_precision_7: 0.6600 - val_recall_7: 0.1940\n",
            "\n",
            "Epoch 00023: val_loss improved from 1.40222 to 1.40114, saving model to emb.h5\n",
            "Epoch 24/100\n",
            "905/905 [==============================] - 9s 10ms/step - loss: 1.3126 - accuracy: 0.4834 - precision_7: 0.7270 - recall_7: 0.2198 - val_loss: 1.4001 - val_accuracy: 0.4367 - val_precision_7: 0.6504 - val_recall_7: 0.1999\n",
            "\n",
            "Epoch 00024: val_loss improved from 1.40114 to 1.40010, saving model to emb.h5\n",
            "Epoch 25/100\n",
            "905/905 [==============================] - 9s 10ms/step - loss: 1.3074 - accuracy: 0.4842 - precision_7: 0.7241 - recall_7: 0.2221 - val_loss: 1.3999 - val_accuracy: 0.4366 - val_precision_7: 0.6551 - val_recall_7: 0.1933\n",
            "\n",
            "Epoch 00025: val_loss improved from 1.40010 to 1.39988, saving model to emb.h5\n",
            "Epoch 26/100\n",
            "905/905 [==============================] - 8s 9ms/step - loss: 1.3028 - accuracy: 0.4873 - precision_7: 0.7217 - recall_7: 0.2256 - val_loss: 1.3991 - val_accuracy: 0.4344 - val_precision_7: 0.6488 - val_recall_7: 0.1976\n",
            "\n",
            "Epoch 00026: val_loss improved from 1.39988 to 1.39905, saving model to emb.h5\n",
            "Epoch 27/100\n",
            "905/905 [==============================] - 8s 9ms/step - loss: 1.2949 - accuracy: 0.4896 - precision_7: 0.7227 - recall_7: 0.2284 - val_loss: 1.3985 - val_accuracy: 0.4366 - val_precision_7: 0.6412 - val_recall_7: 0.2023\n",
            "\n",
            "Epoch 00027: val_loss improved from 1.39905 to 1.39847, saving model to emb.h5\n",
            "Epoch 28/100\n",
            "905/905 [==============================] - 8s 9ms/step - loss: 1.2884 - accuracy: 0.4948 - precision_7: 0.7195 - recall_7: 0.2333 - val_loss: 1.3986 - val_accuracy: 0.4356 - val_precision_7: 0.6394 - val_recall_7: 0.2043\n",
            "\n",
            "Epoch 00028: val_loss did not improve from 1.39847\n",
            "Epoch 29/100\n",
            "905/905 [==============================] - 9s 10ms/step - loss: 1.2853 - accuracy: 0.4970 - precision_7: 0.7208 - recall_7: 0.2348 - val_loss: 1.3986 - val_accuracy: 0.4352 - val_precision_7: 0.6342 - val_recall_7: 0.2062\n",
            "\n",
            "Epoch 00029: val_loss did not improve from 1.39847\n",
            "Epoch 30/100\n",
            "905/905 [==============================] - 8s 9ms/step - loss: 1.2771 - accuracy: 0.4984 - precision_7: 0.7191 - recall_7: 0.2385 - val_loss: 1.3989 - val_accuracy: 0.4345 - val_precision_7: 0.6299 - val_recall_7: 0.2085\n",
            "\n",
            "Epoch 00030: val_loss did not improve from 1.39847\n",
            "Epoch 31/100\n",
            "905/905 [==============================] - 8s 9ms/step - loss: 1.2715 - accuracy: 0.5013 - precision_7: 0.7173 - recall_7: 0.2422 - val_loss: 1.3997 - val_accuracy: 0.4340 - val_precision_7: 0.6265 - val_recall_7: 0.2092\n",
            "\n",
            "Epoch 00031: val_loss did not improve from 1.39847\n",
            "Epoch 32/100\n",
            "905/905 [==============================] - 9s 10ms/step - loss: 1.2625 - accuracy: 0.5049 - precision_7: 0.7202 - recall_7: 0.2463 - val_loss: 1.3999 - val_accuracy: 0.4331 - val_precision_7: 0.6218 - val_recall_7: 0.2117\n",
            "\n",
            "Epoch 00032: val_loss did not improve from 1.39847\n"
          ],
          "name": "stdout"
        }
      ]
    },
    {
      "cell_type": "code",
      "metadata": {
        "colab": {
          "base_uri": "https://localhost:8080/",
          "height": 282
        },
        "id": "2j5nJosgnxPW",
        "outputId": "219ee707-35bf-48e6-a251-eeaeb4ac844e"
      },
      "source": [
        "pd.DataFrame(history_emb.history)[metr].plot()"
      ],
      "execution_count": 61,
      "outputs": [
        {
          "output_type": "execute_result",
          "data": {
            "text/plain": [
              "<matplotlib.axes._subplots.AxesSubplot at 0x7fba606210d0>"
            ]
          },
          "metadata": {
            "tags": []
          },
          "execution_count": 61
        },
        {
          "output_type": "display_data",
          "data": {
            "image/png": "[encoded data removed]",
            "text/plain": [
              "<Figure size 432x288 with 1 Axes>"
            ]
          },
          "metadata": {
            "tags": [],
            "needs_background": "light"
          }
        }
      ]
    },
    {
      "cell_type": "code",
      "metadata": {
        "colab": {
          "base_uri": "https://localhost:8080/",
          "height": 674
        },
        "id": "duO-Aj8doHxc",
        "outputId": "7eac6c6c-b732-4db1-c5c4-d5221063ae02"
      },
      "source": [
        "model_evaluate(emb_model, sequence_test, test_target, 64)"
      ],
      "execution_count": 70,
      "outputs": [
        {
          "output_type": "stream",
          "text": [
            " 49/244 [=====>........................] - ETA: 0s"
          ],
          "name": "stdout"
        },
        {
          "output_type": "stream",
          "text": [
            "/usr/local/lib/python3.7/dist-packages/tensorflow/python/keras/engine/sequential.py:450: UserWarning: `model.predict_classes()` is deprecated and will be removed after 2021-01-01. Please use instead:* `np.argmax(model.predict(x), axis=-1)`,   if your model does multi-class classification   (e.g. if it uses a `softmax` last-layer activation).* `(model.predict(x) > 0.5).astype(\"int32\")`,   if your model does binary classification   (e.g. if it uses a `sigmoid` last-layer activation).\n",
            "  warnings.warn('`model.predict_classes()` is deprecated and '\n"
          ],
          "name": "stderr"
        },
        {
          "output_type": "stream",
          "text": [
            "244/244 [==============================] - 1s 2ms/step\n",
            "Accuracy:\t43.1%\n",
            "\n",
            "\n",
            "              precision    recall  f1-score   support\n",
            "\n",
            "           0       0.31      0.36      0.34      3099\n",
            "           1       0.00      0.00      0.00       708\n",
            "           2       0.00      0.00      0.00       540\n",
            "           3       0.50      0.78      0.61      6164\n",
            "           4       0.34      0.10      0.15      2004\n",
            "           5       0.33      0.19      0.24      3066\n",
            "\n",
            "    accuracy                           0.43     15581\n",
            "   macro avg       0.25      0.24      0.22     15581\n",
            "weighted avg       0.37      0.43      0.37     15581\n",
            "\n"
          ],
          "name": "stdout"
        },
        {
          "output_type": "stream",
          "text": [
            "/usr/local/lib/python3.7/dist-packages/sklearn/metrics/_classification.py:1272: UndefinedMetricWarning: Precision and F-score are ill-defined and being set to 0.0 in labels with no predicted samples. Use `zero_division` parameter to control this behavior.\n",
            "  _warn_prf(average, modifier, msg_start, len(result))\n"
          ],
          "name": "stderr"
        },
        {
          "output_type": "display_data",
          "data": {
            "image/png": "[encoded data removed]",
            "text/plain": [
              "<Figure size 288x288 with 1 Axes>"
            ]
          },
          "metadata": {
            "tags": [],
            "needs_background": "light"
          }
        }
      ]
    },
    {
      "cell_type": "markdown",
      "metadata": {
        "id": "H1QOD86A3oFr"
      },
      "source": [
        "## With oversampling"
      ]
    },
    {
      "cell_type": "code",
      "metadata": {
        "id": "zABKNtT92Cdy"
      },
      "source": [
        "emb_cb2 = get_callbacks('emb2_3H.h5')"
      ],
      "execution_count": 133,
      "outputs": []
    },
    {
      "cell_type": "code",
      "metadata": {
        "colab": {
          "base_uri": "https://localhost:8080/"
        },
        "id": "CSBHE84n2HwA",
        "outputId": "3da0c5b6-1001-43e6-bdc3-480f728aba65"
      },
      "source": [
        "emb_model2 = build_emb()\n",
        "emb_model2.compile(\n",
        "        optimizer=Adam(learning_rate=5e-5),\n",
        "        loss='categorical_crossentropy',\n",
        "        metrics=[\n",
        "                 'accuracy',\n",
        "                 Precision(), \n",
        "                 Recall()\n",
        "              ]\n",
        "          )\n",
        "emb_model2.summary()"
      ],
      "execution_count": 132,
      "outputs": [
        {
          "output_type": "stream",
          "text": [
            "Model: \"sequential_11\"\n",
            "_________________________________________________________________\n",
            "Layer (type)                 Output Shape              Param #   \n",
            "=================================================================\n",
            "embedding_3 (Embedding)      (None, 250, 32)           320000    \n",
            "_________________________________________________________________\n",
            "flatten_3 (Flatten)          (None, 8000)              0         \n",
            "_________________________________________________________________\n",
            "dense_47 (Dense)             (None, 6)                 48006     \n",
            "=================================================================\n",
            "Total params: 368,006\n",
            "Trainable params: 368,006\n",
            "Non-trainable params: 0\n",
            "_________________________________________________________________\n"
          ],
          "name": "stdout"
        }
      ]
    },
    {
      "cell_type": "code",
      "metadata": {
        "colab": {
          "base_uri": "https://localhost:8080/"
        },
        "id": "FZBFlMzu2LdA",
        "outputId": "c85d4921-6994-4e25-9b3e-ff83871aeac8"
      },
      "source": [
        "history_emb2 = emb_model2.fit(\n",
        "    sequence_train,\n",
        "    train_target,\n",
        "    validation_data=(sequence_val, val_target),\n",
        "    epochs = 100,\n",
        "    batch_size=64,\n",
        "    callbacks=emb_cb2\n",
        ")"
      ],
      "execution_count": 134,
      "outputs": [
        {
          "output_type": "stream",
          "text": [
            "Epoch 1/100\n",
            "5625/5625 [==============================] - 47s 8ms/step - loss: 1.7906 - accuracy: 0.1773 - precision_11: 0.0000e+00 - recall_11: 0.0000e+00 - val_loss: 1.7762 - val_accuracy: 0.2879 - val_precision_11: 0.0000e+00 - val_recall_11: 0.0000e+00\n",
            "\n",
            "Epoch 00001: val_loss improved from inf to 1.77618, saving model to emb2_3H.h5\n",
            "Epoch 2/100\n",
            "5625/5625 [==============================] - 45s 8ms/step - loss: 1.7850 - accuracy: 0.1946 - precision_11: 0.0000e+00 - recall_11: 0.0000e+00 - val_loss: 1.7520 - val_accuracy: 0.2901 - val_precision_11: 0.0000e+00 - val_recall_11: 0.0000e+00\n",
            "\n",
            "Epoch 00002: val_loss improved from 1.77618 to 1.75202, saving model to emb2_3H.h5\n",
            "Epoch 3/100\n",
            "5625/5625 [==============================] - 45s 8ms/step - loss: 1.7758 - accuracy: 0.2148 - precision_11: 0.0000e+00 - recall_11: 0.0000e+00 - val_loss: 1.7125 - val_accuracy: 0.3284 - val_precision_11: 1.0000 - val_recall_11: 6.4185e-05\n",
            "\n",
            "Epoch 00003: val_loss improved from 1.75202 to 1.71247, saving model to emb2_3H.h5\n",
            "Epoch 4/100\n",
            "5625/5625 [==============================] - 45s 8ms/step - loss: 1.7657 - accuracy: 0.2297 - precision_11: 0.3370 - recall_11: 7.4669e-06 - val_loss: 1.7074 - val_accuracy: 0.3012 - val_precision_11: 0.7059 - val_recall_11: 7.7022e-04\n",
            "\n",
            "Epoch 00004: val_loss improved from 1.71247 to 1.70741, saving model to emb2_3H.h5\n",
            "Epoch 5/100\n",
            "5625/5625 [==============================] - 48s 8ms/step - loss: 1.7571 - accuracy: 0.2381 - precision_11: 0.5379 - recall_11: 1.1598e-04 - val_loss: 1.6830 - val_accuracy: 0.3223 - val_precision_11: 0.7381 - val_recall_11: 0.0020\n",
            "\n",
            "Epoch 00005: val_loss improved from 1.70741 to 1.68301, saving model to emb2_3H.h5\n",
            "Epoch 6/100\n",
            "5625/5625 [==============================] - 48s 9ms/step - loss: 1.7505 - accuracy: 0.2445 - precision_11: 0.5589 - recall_11: 1.9536e-04 - val_loss: 1.6793 - val_accuracy: 0.3212 - val_precision_11: 0.7167 - val_recall_11: 0.0028\n",
            "\n",
            "Epoch 00006: val_loss improved from 1.68301 to 1.67925, saving model to emb2_3H.h5\n",
            "Epoch 7/100\n",
            "5625/5625 [==============================] - 49s 9ms/step - loss: 1.7435 - accuracy: 0.2521 - precision_11: 0.7519 - recall_11: 5.5659e-04 - val_loss: 1.6612 - val_accuracy: 0.3357 - val_precision_11: 0.7308 - val_recall_11: 0.0049\n",
            "\n",
            "Epoch 00007: val_loss improved from 1.67925 to 1.66123, saving model to emb2_3H.h5\n",
            "Epoch 8/100\n",
            "5625/5625 [==============================] - 45s 8ms/step - loss: 1.7371 - accuracy: 0.2585 - precision_11: 0.7028 - recall_11: 9.5408e-04 - val_loss: 1.6531 - val_accuracy: 0.3408 - val_precision_11: 0.7209 - val_recall_11: 0.0060\n",
            "\n",
            "Epoch 00008: val_loss improved from 1.66123 to 1.65314, saving model to emb2_3H.h5\n",
            "Epoch 9/100\n",
            "5625/5625 [==============================] - 45s 8ms/step - loss: 1.7316 - accuracy: 0.2634 - precision_11: 0.7277 - recall_11: 0.0015 - val_loss: 1.6522 - val_accuracy: 0.3374 - val_precision_11: 0.7273 - val_recall_11: 0.0082\n",
            "\n",
            "Epoch 00009: val_loss improved from 1.65314 to 1.65220, saving model to emb2_3H.h5\n",
            "Epoch 10/100\n",
            "5625/5625 [==============================] - 44s 8ms/step - loss: 1.7245 - accuracy: 0.2707 - precision_11: 0.7079 - recall_11: 0.0021 - val_loss: 1.6524 - val_accuracy: 0.3372 - val_precision_11: 0.7351 - val_recall_11: 0.0087\n",
            "\n",
            "Epoch 00010: val_loss did not improve from 1.65220\n",
            "Epoch 11/100\n",
            "5625/5625 [==============================] - 43s 8ms/step - loss: 1.7188 - accuracy: 0.2756 - precision_11: 0.7149 - recall_11: 0.0028 - val_loss: 1.6489 - val_accuracy: 0.3368 - val_precision_11: 0.7222 - val_recall_11: 0.0108\n",
            "\n",
            "Epoch 00011: val_loss improved from 1.65220 to 1.64892, saving model to emb2_3H.h5\n",
            "Epoch 12/100\n",
            "5625/5625 [==============================] - 45s 8ms/step - loss: 1.7137 - accuracy: 0.2807 - precision_11: 0.6749 - recall_11: 0.0030 - val_loss: 1.6401 - val_accuracy: 0.3415 - val_precision_11: 0.7203 - val_recall_11: 0.0144\n",
            "\n",
            "Epoch 00012: val_loss improved from 1.64892 to 1.64014, saving model to emb2_3H.h5\n",
            "Epoch 13/100\n",
            "5625/5625 [==============================] - 45s 8ms/step - loss: 1.7082 - accuracy: 0.2841 - precision_11: 0.6871 - recall_11: 0.0035 - val_loss: 1.6481 - val_accuracy: 0.3345 - val_precision_11: 0.7267 - val_recall_11: 0.0145\n",
            "\n",
            "Epoch 00013: val_loss did not improve from 1.64014\n",
            "Epoch 14/100\n",
            "5625/5625 [==============================] - 46s 8ms/step - loss: 1.7016 - accuracy: 0.2905 - precision_11: 0.6915 - recall_11: 0.0044 - val_loss: 1.6431 - val_accuracy: 0.3370 - val_precision_11: 0.7197 - val_recall_11: 0.0160\n",
            "\n",
            "Epoch 00014: val_loss did not improve from 1.64014\n",
            "Epoch 15/100\n",
            "5625/5625 [==============================] - 45s 8ms/step - loss: 1.6954 - accuracy: 0.2961 - precision_11: 0.6870 - recall_11: 0.0048 - val_loss: 1.6385 - val_accuracy: 0.3395 - val_precision_11: 0.7245 - val_recall_11: 0.0169\n",
            "\n",
            "Epoch 00015: val_loss improved from 1.64014 to 1.63850, saving model to emb2_3H.h5\n",
            "Epoch 16/100\n",
            "5625/5625 [==============================] - 46s 8ms/step - loss: 1.6888 - accuracy: 0.3002 - precision_11: 0.7053 - recall_11: 0.0055 - val_loss: 1.6410 - val_accuracy: 0.3354 - val_precision_11: 0.7082 - val_recall_11: 0.0182\n",
            "\n",
            "Epoch 00016: val_loss did not improve from 1.63850\n",
            "Epoch 17/100\n",
            "5625/5625 [==============================] - 47s 8ms/step - loss: 1.6829 - accuracy: 0.3044 - precision_11: 0.7156 - recall_11: 0.0061 - val_loss: 1.6337 - val_accuracy: 0.3394 - val_precision_11: 0.7095 - val_recall_11: 0.0216\n",
            "\n",
            "Epoch 00017: val_loss improved from 1.63850 to 1.63373, saving model to emb2_3H.h5\n",
            "Epoch 18/100\n",
            "5625/5625 [==============================] - 50s 9ms/step - loss: 1.6771 - accuracy: 0.3076 - precision_11: 0.6975 - recall_11: 0.0064 - val_loss: 1.6431 - val_accuracy: 0.3331 - val_precision_11: 0.6984 - val_recall_11: 0.0193\n",
            "\n",
            "Epoch 00018: val_loss did not improve from 1.63373\n",
            "Epoch 19/100\n",
            "5625/5625 [==============================] - 49s 9ms/step - loss: 1.6706 - accuracy: 0.3137 - precision_11: 0.6926 - recall_11: 0.0071 - val_loss: 1.6435 - val_accuracy: 0.3309 - val_precision_11: 0.6954 - val_recall_11: 0.0202\n",
            "\n",
            "Epoch 00019: val_loss did not improve from 1.63373\n",
            "Epoch 20/100\n",
            "5625/5625 [==============================] - 44s 8ms/step - loss: 1.6644 - accuracy: 0.3174 - precision_11: 0.6994 - recall_11: 0.0076 - val_loss: 1.6459 - val_accuracy: 0.3270 - val_precision_11: 0.7030 - val_recall_11: 0.0211\n",
            "\n",
            "Epoch 00020: val_loss did not improve from 1.63373\n",
            "Epoch 21/100\n",
            "5625/5625 [==============================] - 44s 8ms/step - loss: 1.6581 - accuracy: 0.3215 - precision_11: 0.7072 - recall_11: 0.0085 - val_loss: 1.6515 - val_accuracy: 0.3236 - val_precision_11: 0.6958 - val_recall_11: 0.0204\n",
            "\n",
            "Epoch 00021: val_loss did not improve from 1.63373\n",
            "Epoch 22/100\n",
            "5625/5625 [==============================] - 44s 8ms/step - loss: 1.6514 - accuracy: 0.3258 - precision_11: 0.7182 - recall_11: 0.0093 - val_loss: 1.6478 - val_accuracy: 0.3253 - val_precision_11: 0.6866 - val_recall_11: 0.0214\n",
            "\n",
            "Epoch 00022: val_loss did not improve from 1.63373\n"
          ],
          "name": "stdout"
        }
      ]
    },
    {
      "cell_type": "code",
      "metadata": {
        "colab": {
          "base_uri": "https://localhost:8080/",
          "height": 282
        },
        "id": "i_K56JVr3xTj",
        "outputId": "356438f3-43b9-4054-a6e8-8f7f959f3ef0"
      },
      "source": [
        "pd.DataFrame(history_emb2.history)[metr].plot()"
      ],
      "execution_count": 135,
      "outputs": [
        {
          "output_type": "execute_result",
          "data": {
            "text/plain": [
              "<matplotlib.axes._subplots.AxesSubplot at 0x7fba5614f390>"
            ]
          },
          "metadata": {
            "tags": []
          },
          "execution_count": 135
        },
        {
          "output_type": "display_data",
          "data": {
            "image/png": "[encoded data removed]",
            "text/plain": [
              "<Figure size 432x288 with 1 Axes>"
            ]
          },
          "metadata": {
            "tags": [],
            "needs_background": "light"
          }
        }
      ]
    },
    {
      "cell_type": "code",
      "metadata": {
        "colab": {
          "base_uri": "https://localhost:8080/",
          "height": 640
        },
        "id": "TJwtRlZI6WxP",
        "outputId": "0d54b9e1-42f5-4b32-a38c-456bdbb1d8bf"
      },
      "source": [
        "model_evaluate(emb_model2, sequence_test, test_target, 64)"
      ],
      "execution_count": 136,
      "outputs": [
        {
          "output_type": "stream",
          "text": [
            " 64/244 [======>.......................] - ETA: 0s"
          ],
          "name": "stdout"
        },
        {
          "output_type": "stream",
          "text": [
            "/usr/local/lib/python3.7/dist-packages/tensorflow/python/keras/engine/sequential.py:450: UserWarning: `model.predict_classes()` is deprecated and will be removed after 2021-01-01. Please use instead:* `np.argmax(model.predict(x), axis=-1)`,   if your model does multi-class classification   (e.g. if it uses a `softmax` last-layer activation).* `(model.predict(x) > 0.5).astype(\"int32\")`,   if your model does binary classification   (e.g. if it uses a `sigmoid` last-layer activation).\n",
            "  warnings.warn('`model.predict_classes()` is deprecated and '\n"
          ],
          "name": "stderr"
        },
        {
          "output_type": "stream",
          "text": [
            "244/244 [==============================] - 0s 2ms/step\n",
            "Accuracy:\t33.7%\n",
            "\n",
            "\n",
            "              precision    recall  f1-score   support\n",
            "\n",
            "           0       0.29      0.21      0.24      3099\n",
            "           1       0.08      0.18      0.11       708\n",
            "           2       0.06      0.15      0.08       540\n",
            "           3       0.49      0.61      0.55      6164\n",
            "           4       0.22      0.10      0.14      2004\n",
            "           5       0.24      0.13      0.17      3066\n",
            "\n",
            "    accuracy                           0.34     15581\n",
            "   macro avg       0.23      0.23      0.21     15581\n",
            "weighted avg       0.33      0.34      0.32     15581\n",
            "\n"
          ],
          "name": "stdout"
        },
        {
          "output_type": "display_data",
          "data": {
            "image/png": "[encoded data removed]",
            "text/plain": [
              "<Figure size 288x288 with 1 Axes>"
            ]
          },
          "metadata": {
            "tags": [],
            "needs_background": "light"
          }
        }
      ]
    },
    {
      "cell_type": "code",
      "metadata": {
        "id": "Tt6Q8bCH6t_7"
      },
      "source": [
        "def build_lstm():\n",
        "    model = Sequential()\n",
        "    model.add(Input(shape=(max_len)))\n",
        "    model.add(Embedding(num_words,32))\n",
        "    model.add(LSTM(20))\n",
        "    model.add(Dense(6, activation='softmax'))\n",
        "    return model"
      ],
      "execution_count": 15,
      "outputs": []
    },
    {
      "cell_type": "code",
      "metadata": {
        "colab": {
          "base_uri": "https://localhost:8080/"
        },
        "id": "-nL91p0u7xe7",
        "outputId": "0049922c-6425-4035-a898-7441705bc4bc"
      },
      "source": [
        "ls_model = build_lstm()\n",
        "ls_model.compile(\n",
        "        optimizer=Adam(learning_rate=5e-5),\n",
        "        loss='categorical_crossentropy',\n",
        "        metrics=[\n",
        "                 'accuracy',\n",
        "                 Precision(), \n",
        "                 Recall()\n",
        "              ]\n",
        "          )\n",
        "ls_model.summary()"
      ],
      "execution_count": 16,
      "outputs": [
        {
          "output_type": "stream",
          "text": [
            "Model: \"sequential\"\n",
            "_________________________________________________________________\n",
            "Layer (type)                 Output Shape              Param #   \n",
            "=================================================================\n",
            "embedding (Embedding)        (None, 250, 32)           320000    \n",
            "_________________________________________________________________\n",
            "lstm (LSTM)                  (None, 20)                4240      \n",
            "_________________________________________________________________\n",
            "dense (Dense)                (None, 6)                 126       \n",
            "=================================================================\n",
            "Total params: 324,366\n",
            "Trainable params: 324,366\n",
            "Non-trainable params: 0\n",
            "_________________________________________________________________\n"
          ],
          "name": "stdout"
        }
      ]
    },
    {
      "cell_type": "code",
      "metadata": {
        "id": "g9CYa9Zb77eR"
      },
      "source": [
        "cb_ls = get_callbacks('lstm.h5')"
      ],
      "execution_count": 17,
      "outputs": []
    },
    {
      "cell_type": "code",
      "metadata": {
        "colab": {
          "base_uri": "https://localhost:8080/"
        },
        "id": "Q-uBaVww8Asd",
        "outputId": "3fbf624c-e823-4abf-dbde-c795d6493cc5"
      },
      "source": [
        "history_ls = ls_model.fit(\n",
        "    sequence_train,\n",
        "    train_target,\n",
        "    validation_data=(sequence_val, val_target),\n",
        "    epochs = 100,\n",
        "    batch_size=64,\n",
        "    callbacks=cb_ls\n",
        ")"
      ],
      "execution_count": 18,
      "outputs": [
        {
          "output_type": "stream",
          "text": [
            "Epoch 1/100\n",
            "5313/5313 [==============================] - 87s 15ms/step - loss: 1.7826 - accuracy: 0.1809 - precision_1: 0.0000e+00 - recall_1: 0.0000e+00 - val_loss: 1.8436 - val_accuracy: 0.1951 - val_precision_1: 0.0000e+00 - val_recall_1: 0.0000e+00\n",
            "\n",
            "Epoch 00001: val_loss improved from inf to 1.84363, saving model to lstm.h5\n",
            "Epoch 2/100\n",
            "5313/5313 [==============================] - 80s 15ms/step - loss: 1.7671 - accuracy: 0.2075 - precision_1: 0.0000e+00 - recall_1: 0.0000e+00 - val_loss: 1.7947 - val_accuracy: 0.2463 - val_precision_1: 0.0000e+00 - val_recall_1: 0.0000e+00\n",
            "\n",
            "Epoch 00002: val_loss improved from 1.84363 to 1.79469, saving model to lstm.h5\n",
            "Epoch 3/100\n",
            "5313/5313 [==============================] - 80s 15ms/step - loss: 1.7546 - accuracy: 0.2188 - precision_1: 0.0000e+00 - recall_1: 0.0000e+00 - val_loss: 1.7762 - val_accuracy: 0.2540 - val_precision_1: 0.0000e+00 - val_recall_1: 0.0000e+00\n",
            "\n",
            "Epoch 00003: val_loss improved from 1.79469 to 1.77615, saving model to lstm.h5\n",
            "Epoch 4/100\n",
            "5313/5313 [==============================] - 80s 15ms/step - loss: 1.7484 - accuracy: 0.2239 - precision_1: 0.0523 - recall_1: 4.5118e-07 - val_loss: 1.7548 - val_accuracy: 0.2748 - val_precision_1: 0.5000 - val_recall_1: 1.2837e-04\n",
            "\n",
            "Epoch 00004: val_loss improved from 1.77615 to 1.75481, saving model to lstm.h5\n",
            "Epoch 5/100\n",
            "5313/5313 [==============================] - 82s 15ms/step - loss: 1.7411 - accuracy: 0.2311 - precision_1: 0.2892 - recall_1: 1.6302e-05 - val_loss: 1.7519 - val_accuracy: 0.2823 - val_precision_1: 0.6429 - val_recall_1: 5.7766e-04\n",
            "\n",
            "Epoch 00005: val_loss improved from 1.75481 to 1.75186, saving model to lstm.h5\n",
            "Epoch 6/100\n",
            "5313/5313 [==============================] - 82s 16ms/step - loss: 1.7355 - accuracy: 0.2360 - precision_1: 0.6462 - recall_1: 9.7036e-05 - val_loss: 1.7386 - val_accuracy: 0.2930 - val_precision_1: 0.6667 - val_recall_1: 0.0012\n",
            "\n",
            "Epoch 00006: val_loss improved from 1.75186 to 1.73862, saving model to lstm.h5\n",
            "Epoch 7/100\n",
            "5313/5313 [==============================] - 82s 15ms/step - loss: 1.7288 - accuracy: 0.2430 - precision_1: 0.7204 - recall_1: 2.0859e-04 - val_loss: 1.6957 - val_accuracy: 0.3228 - val_precision_1: 0.7237 - val_recall_1: 0.0035\n",
            "\n",
            "Epoch 00007: val_loss improved from 1.73862 to 1.69571, saving model to lstm.h5\n",
            "Epoch 8/100\n",
            "5313/5313 [==============================] - 81s 15ms/step - loss: 1.7225 - accuracy: 0.2483 - precision_1: 0.7440 - recall_1: 4.6573e-04 - val_loss: 1.6506 - val_accuracy: 0.3478 - val_precision_1: 0.7151 - val_recall_1: 0.0079\n",
            "\n",
            "Epoch 00008: val_loss improved from 1.69571 to 1.65060, saving model to lstm.h5\n",
            "Epoch 9/100\n",
            "5313/5313 [==============================] - 83s 16ms/step - loss: 1.7164 - accuracy: 0.2519 - precision_1: 0.7562 - recall_1: 0.0013 - val_loss: 1.6736 - val_accuracy: 0.3359 - val_precision_1: 0.7500 - val_recall_1: 0.0121\n",
            "\n",
            "Epoch 00009: val_loss did not improve from 1.65060\n",
            "Epoch 10/100\n",
            "5313/5313 [==============================] - 83s 16ms/step - loss: 1.7106 - accuracy: 0.2576 - precision_1: 0.7025 - recall_1: 0.0024 - val_loss: 1.6466 - val_accuracy: 0.3482 - val_precision_1: 0.7377 - val_recall_1: 0.0222\n",
            "\n",
            "Epoch 00010: val_loss improved from 1.65060 to 1.64663, saving model to lstm.h5\n",
            "Epoch 11/100\n",
            "5313/5313 [==============================] - 84s 16ms/step - loss: 1.7048 - accuracy: 0.2618 - precision_1: 0.7336 - recall_1: 0.0042 - val_loss: 1.6471 - val_accuracy: 0.3425 - val_precision_1: 0.6914 - val_recall_1: 0.0269\n",
            "\n",
            "Epoch 00011: val_loss did not improve from 1.64663\n",
            "Epoch 12/100\n",
            "5313/5313 [==============================] - 84s 16ms/step - loss: 1.6995 - accuracy: 0.2661 - precision_1: 0.7072 - recall_1: 0.0059 - val_loss: 1.6361 - val_accuracy: 0.3499 - val_precision_1: 0.7089 - val_recall_1: 0.0384\n",
            "\n",
            "Epoch 00012: val_loss improved from 1.64663 to 1.63611, saving model to lstm.h5\n",
            "Epoch 13/100\n",
            "5313/5313 [==============================] - 83s 16ms/step - loss: 1.6953 - accuracy: 0.2708 - precision_1: 0.6927 - recall_1: 0.0077 - val_loss: 1.6410 - val_accuracy: 0.3434 - val_precision_1: 0.7039 - val_recall_1: 0.0424\n",
            "\n",
            "Epoch 00013: val_loss did not improve from 1.63611\n",
            "Epoch 14/100\n",
            "5313/5313 [==============================] - 82s 15ms/step - loss: 1.6921 - accuracy: 0.2725 - precision_1: 0.6975 - recall_1: 0.0094 - val_loss: 1.6206 - val_accuracy: 0.3521 - val_precision_1: 0.6631 - val_recall_1: 0.0556\n",
            "\n",
            "Epoch 00014: val_loss improved from 1.63611 to 1.62061, saving model to lstm.h5\n",
            "Epoch 15/100\n",
            "5313/5313 [==============================] - 82s 15ms/step - loss: 1.6864 - accuracy: 0.2761 - precision_1: 0.6813 - recall_1: 0.0113 - val_loss: 1.6363 - val_accuracy: 0.3468 - val_precision_1: 0.6642 - val_recall_1: 0.0574\n",
            "\n",
            "Epoch 00015: val_loss did not improve from 1.62061\n",
            "Epoch 16/100\n",
            "5313/5313 [==============================] - 82s 16ms/step - loss: 1.6842 - accuracy: 0.2789 - precision_1: 0.6754 - recall_1: 0.0126 - val_loss: 1.6520 - val_accuracy: 0.3347 - val_precision_1: 0.6755 - val_recall_1: 0.0506\n",
            "\n",
            "Epoch 00016: val_loss did not improve from 1.62061\n",
            "Epoch 17/100\n",
            "5313/5313 [==============================] - 83s 16ms/step - loss: 1.6780 - accuracy: 0.2836 - precision_1: 0.6839 - recall_1: 0.0139 - val_loss: 1.6225 - val_accuracy: 0.3467 - val_precision_1: 0.6418 - val_recall_1: 0.0651\n",
            "\n",
            "Epoch 00017: val_loss did not improve from 1.62061\n",
            "Epoch 18/100\n",
            "5313/5313 [==============================] - 84s 16ms/step - loss: 1.6746 - accuracy: 0.2854 - precision_1: 0.6868 - recall_1: 0.0154 - val_loss: 1.6333 - val_accuracy: 0.3416 - val_precision_1: 0.6405 - val_recall_1: 0.0592\n",
            "\n",
            "Epoch 00018: val_loss did not improve from 1.62061\n",
            "Epoch 19/100\n",
            "5313/5313 [==============================] - 84s 16ms/step - loss: 1.6723 - accuracy: 0.2871 - precision_1: 0.6759 - recall_1: 0.0160 - val_loss: 1.6519 - val_accuracy: 0.3329 - val_precision_1: 0.6676 - val_recall_1: 0.0601\n",
            "\n",
            "Epoch 00019: val_loss did not improve from 1.62061\n"
          ],
          "name": "stdout"
        }
      ]
    },
    {
      "cell_type": "code",
      "metadata": {
        "colab": {
          "base_uri": "https://localhost:8080/",
          "height": 282
        },
        "id": "NL1D4J4JGhQm",
        "outputId": "45f1b3c6-76bf-4d19-bc1c-d12db985fb97"
      },
      "source": [
        "pd.DataFrame(history_ls.history)[metr].plot()"
      ],
      "execution_count": 19,
      "outputs": [
        {
          "output_type": "execute_result",
          "data": {
            "text/plain": [
              "<matplotlib.axes._subplots.AxesSubplot at 0x7ff5db2bd710>"
            ]
          },
          "metadata": {
            "tags": []
          },
          "execution_count": 19
        },
        {
          "output_type": "display_data",
          "data": {
            "image/png": "[encoded data removed]",
            "text/plain": [
              "<Figure size 432x288 with 1 Axes>"
            ]
          },
          "metadata": {
            "tags": [],
            "needs_background": "light"
          }
        }
      ]
    },
    {
      "cell_type": "code",
      "metadata": {
        "colab": {
          "base_uri": "https://localhost:8080/",
          "height": 640
        },
        "id": "mNBqAh-UGtvc",
        "outputId": "56740f6f-0db1-4a76-b00e-ba89fceb7fe3"
      },
      "source": [
        "model_evaluate(ls_model, sequence_test, test_target, 64)"
      ],
      "execution_count": 20,
      "outputs": [
        {
          "output_type": "stream",
          "text": [
            "/usr/local/lib/python3.7/dist-packages/tensorflow/python/keras/engine/sequential.py:450: UserWarning: `model.predict_classes()` is deprecated and will be removed after 2021-01-01. Please use instead:* `np.argmax(model.predict(x), axis=-1)`,   if your model does multi-class classification   (e.g. if it uses a `softmax` last-layer activation).* `(model.predict(x) > 0.5).astype(\"int32\")`,   if your model does binary classification   (e.g. if it uses a `sigmoid` last-layer activation).\n",
            "  warnings.warn('`model.predict_classes()` is deprecated and '\n"
          ],
          "name": "stderr"
        },
        {
          "output_type": "stream",
          "text": [
            "244/244 [==============================] - 2s 6ms/step\n",
            "Accuracy:\t35.1%\n",
            "\n",
            "\n",
            "              precision    recall  f1-score   support\n",
            "\n",
            "           0       0.29      0.27      0.28      3099\n",
            "           1       0.10      0.16      0.12       708\n",
            "           2       0.10      0.17      0.12       540\n",
            "           3       0.54      0.56      0.55      6164\n",
            "           4       0.24      0.06      0.09      2004\n",
            "           5       0.24      0.28      0.26      3066\n",
            "\n",
            "    accuracy                           0.35     15581\n",
            "   macro avg       0.25      0.25      0.24     15581\n",
            "weighted avg       0.35      0.35      0.34     15581\n",
            "\n"
          ],
          "name": "stdout"
        },
        {
          "output_type": "display_data",
          "data": {
            "image/png": "[encoded data removed]",
            "text/plain": [
              "<Figure size 288x288 with 1 Axes>"
            ]
          },
          "metadata": {
            "tags": [],
            "needs_background": "light"
          }
        }
      ]
    }
  ]
}
{
  "nbformat": 4,
  "nbformat_minor": 0,
  "metadata": {
    "colab": {
      "name": "sample_emo.ipynb",
      "provenance": [],
      "mount_file_id": "1ONpyWqdE6ufpB3F3LzMz-JkSJ2ppfMrg",
      "authorship_tag": "ABX9TyNpamhBGqR0C/kpAFjiyaNx",
      "include_colab_link": true
    },
    "kernelspec": {
      "name": "python3",
      "display_name": "Python 3"
    }
  },
  "cells": [
    {
      "cell_type": "markdown",
      "metadata": {
        "id": "view-in-github",
        "colab_type": "text"
      },
      "source": [
        "<a href=\"https://colab.research.google.com/github/ppkgtmm/emotion/blob/main/sample_emo.ipynb\" target=\"_parent\"><img src=\"https://colab.research.google.com/assets/colab-badge.svg\" alt=\"Open In Colab\"/></a>"
      ]
    },
    {
      "cell_type": "code",
      "metadata": {
        "id": "DbBg4CFkd5My"
      },
      "source": [
        "# !pip install keras-tuner\n",
        "# !rm -r sentiment\n",
        "# !git clone --branch utils https://github.com/ppkgtmm/sentiment.git sentiment"
      ],
      "execution_count": 2,
      "outputs": []
    },
    {
      "cell_type": "code",
      "metadata": {
        "id": "CtsJVZ_xfV0T"
      },
      "source": [
        "import pandas as pd\n",
        "from keras.preprocessing.text import  Tokenizer\n",
        "from keras.layers import Input, Dense, Embedding, Flatten\n",
        "from keras.models import Sequential\n",
        "from keras.metrics import Precision, Recall\n",
        "from keras.optimizers import Adam, RMSprop\n",
        "from kerastuner import HyperParameters\n",
        "import matplotlib.pyplot as plt\n",
        "from sklearn.model_selection import train_test_split\n",
        "from sentiment.utils import read_data, get_optimizer, get_sequences, split_data\n",
        "from sentiment.utils import get_tuner, get_model_from_config, get_callbacks\n",
        "from sentiment.utils import OH_fit_transform, OH_transform, load, dump, \\\n",
        "model_evaluate\n",
        "from sklearn.utils import class_weight\n",
        "import numpy as np\n",
        "from imblearn.over_sampling import SMOTE"
      ],
      "execution_count": 93,
      "outputs": []
    },
    {
      "cell_type": "code",
      "metadata": {
        "id": "HflRrBniff0F"
      },
      "source": [
        "cols = ['text', 'target']\n",
        "data_path = '/content/drive/MyDrive/emotion/data/go_preprocessed.csv'\n",
        "metr = ['accuracy', 'val_accuracy', 'loss', 'val_loss']\n",
        "seed = 123456\n",
        "num_words = 10000\n",
        "max_len = 250"
      ],
      "execution_count": 36,
      "outputs": []
    },
    {
      "cell_type": "code",
      "metadata": {
        "colab": {
          "base_uri": "https://localhost:8080/",
          "height": 204
        },
        "id": "cwXZoxwDfXHR",
        "outputId": "dfc3cc13-5b10-4dcf-c73d-0bb4b3377cfc"
      },
      "source": [
        "data = read_data(data_path,cols)\n",
        "data.sample(5)"
      ],
      "execution_count": 5,
      "outputs": [
        {
          "output_type": "execute_result",
          "data": {
            "text/html": [
              "<div>\n",
              "<style scoped>\n",
              "    .dataframe tbody tr th:only-of-type {\n",
              "        vertical-align: middle;\n",
              "    }\n",
              "\n",
              "    .dataframe tbody tr th {\n",
              "        vertical-align: top;\n",
              "    }\n",
              "\n",
              "    .dataframe thead th {\n",
              "        text-align: right;\n",
              "    }\n",
              "</style>\n",
              "<table border=\"1\" class=\"dataframe\">\n",
              "  <thead>\n",
              "    <tr style=\"text-align: right;\">\n",
              "      <th></th>\n",
              "      <th>text</th>\n",
              "      <th>target</th>\n",
              "    </tr>\n",
              "  </thead>\n",
              "  <tbody>\n",
              "    <tr>\n",
              "      <th>18179</th>\n",
              "      <td>i love name but hate royals and wow this versi...</td>\n",
              "      <td>disgust</td>\n",
              "    </tr>\n",
              "    <tr>\n",
              "      <th>9465</th>\n",
              "      <td>traded me away the bastard kidding aside it th...</td>\n",
              "      <td>anger</td>\n",
              "    </tr>\n",
              "    <tr>\n",
              "      <th>50283</th>\n",
              "      <td>no the bubble is love the bubble is life with ...</td>\n",
              "      <td>joy</td>\n",
              "    </tr>\n",
              "    <tr>\n",
              "      <th>60913</th>\n",
              "      <td>we tried the place i go is just a rundown old ...</td>\n",
              "      <td>sadness</td>\n",
              "    </tr>\n",
              "    <tr>\n",
              "      <th>25851</th>\n",
              "      <td>name was good in my love from the star</td>\n",
              "      <td>joy</td>\n",
              "    </tr>\n",
              "  </tbody>\n",
              "</table>\n",
              "</div>"
            ],
            "text/plain": [
              "                                                    text   target\n",
              "18179  i love name but hate royals and wow this versi...  disgust\n",
              "9465   traded me away the bastard kidding aside it th...    anger\n",
              "50283  no the bubble is love the bubble is life with ...      joy\n",
              "60913  we tried the place i go is just a rundown old ...  sadness\n",
              "25851             name was good in my love from the star      joy"
            ]
          },
          "metadata": {
            "tags": []
          },
          "execution_count": 5
        }
      ]
    },
    {
      "cell_type": "code",
      "metadata": {
        "id": "E8s2Zw-4f5u-"
      },
      "source": [
        "train, test = train_test_split(data, test_size=0.35, \\\n",
        "                             random_state=seed, stratify=data['target'])"
      ],
      "execution_count": 8,
      "outputs": []
    },
    {
      "cell_type": "code",
      "metadata": {
        "id": "LGKGBTxNgZm_"
      },
      "source": [
        "val, test = train_test_split(test, test_size=0.5, \\\n",
        "                             random_state=seed, stratify=test['target'])"
      ],
      "execution_count": 9,
      "outputs": []
    },
    {
      "cell_type": "code",
      "metadata": {
        "colab": {
          "base_uri": "https://localhost:8080/"
        },
        "id": "vawGHZ_Zgjdd",
        "outputId": "1218c3fd-b8fe-46d4-a5bb-67ada7e5815b"
      },
      "source": [
        "train.shape, val.shape, test.shape"
      ],
      "execution_count": 10,
      "outputs": [
        {
          "output_type": "execute_result",
          "data": {
            "text/plain": [
              "((57870, 2), (15580, 2), (15581, 2))"
            ]
          },
          "metadata": {
            "tags": []
          },
          "execution_count": 10
        }
      ]
    },
    {
      "cell_type": "code",
      "metadata": {
        "id": "6IEg2atzgrge"
      },
      "source": [
        "tokenizer = Tokenizer(num_words=num_words, oov_token='OOV')\n",
        "tokenizer.fit_on_texts(train['text'])"
      ],
      "execution_count": 11,
      "outputs": []
    },
    {
      "cell_type": "code",
      "metadata": {
        "id": "nTuIS_Swgy-A"
      },
      "source": [
        "sequence_train = get_sequences(tokenizer, max_len, train['text'])\n",
        "sequence_val = get_sequences(tokenizer, max_len, val['text'])\n",
        "sequence_test = get_sequences(tokenizer, max_len, test['text'])"
      ],
      "execution_count": 17,
      "outputs": []
    },
    {
      "cell_type": "code",
      "metadata": {
        "colab": {
          "base_uri": "https://localhost:8080/"
        },
        "id": "iyopJc62g2QB",
        "outputId": "bb6c2d28-601e-4ebf-d858-7644d7fd9bae"
      },
      "source": [
        "print(val['target'].unique(), \\\n",
        "      train['target'].unique(), \\\n",
        "      test['target'].unique())"
      ],
      "execution_count": 18,
      "outputs": [
        {
          "output_type": "stream",
          "text": [
            "['joy' 'anger' 'disgust' 'surprise' 'sadness' 'fear'] ['fear' 'joy' 'sadness' 'anger' 'surprise' 'disgust'] ['sadness' 'surprise' 'anger' 'joy' 'disgust' 'fear']\n"
          ],
          "name": "stdout"
        }
      ]
    },
    {
      "cell_type": "code",
      "metadata": {
        "id": "njk213W5hELL"
      },
      "source": [
        "train_target = OH_fit_transform(train['target'])\n",
        "val_target = OH_transform(val['target'])\n",
        "test_target = OH_transform(test['target'])"
      ],
      "execution_count": 19,
      "outputs": []
    },
    {
      "cell_type": "code",
      "metadata": {
        "id": "xp8p8ny5pKlq"
      },
      "source": [
        "# class_weights = class_weight.compute_class_weight('balanced',\n",
        "#                                                  np.unique(train['target']),\n",
        "#                                                  np.ravel(train['target']))"
      ],
      "execution_count": 76,
      "outputs": []
    },
    {
      "cell_type": "code",
      "metadata": {
        "colab": {
          "base_uri": "https://localhost:8080/"
        },
        "id": "DAmesuztoQls",
        "outputId": "0f416212-38df-499f-8e77-e7f5f9c8d1aa"
      },
      "source": [
        "# class_weights"
      ],
      "execution_count": 77,
      "outputs": [
        {
          "output_type": "execute_result",
          "data": {
            "text/plain": [
              "array([0.83796699, 3.66869532, 4.80568012, 0.42130782, 1.29567437,\n",
              "       0.84701853])"
            ]
          },
          "metadata": {
            "tags": []
          },
          "execution_count": 77
        }
      ]
    },
    {
      "cell_type": "code",
      "metadata": {
        "colab": {
          "base_uri": "https://localhost:8080/"
        },
        "id": "TbXbvtf3s8oZ",
        "outputId": "3dbb8467-f5d6-4f8b-cb9c-584c21955ac4"
      },
      "source": [
        "oversample = SMOTE()\n",
        "sequence_train, train_target = oversample.fit_resample(sequence_train,\\\n",
        "                                                       train_target)"
      ],
      "execution_count": null,
      "outputs": [
        {
          "output_type": "stream",
          "text": [
            "/usr/local/lib/python3.7/dist-packages/sklearn/utils/deprecation.py:87: FutureWarning: Function safe_indexing is deprecated; safe_indexing is deprecated in version 0.22 and will be removed in version 0.24.\n",
            "  warnings.warn(msg, category=FutureWarning)\n",
            "/usr/local/lib/python3.7/dist-packages/sklearn/utils/deprecation.py:87: FutureWarning: Function safe_indexing is deprecated; safe_indexing is deprecated in version 0.22 and will be removed in version 0.24.\n",
            "  warnings.warn(msg, category=FutureWarning)\n",
            "/usr/local/lib/python3.7/dist-packages/sklearn/utils/deprecation.py:87: FutureWarning: Function safe_indexing is deprecated; safe_indexing is deprecated in version 0.22 and will be removed in version 0.24.\n",
            "  warnings.warn(msg, category=FutureWarning)\n",
            "/usr/local/lib/python3.7/dist-packages/sklearn/utils/deprecation.py:87: FutureWarning: Function safe_indexing is deprecated; safe_indexing is deprecated in version 0.22 and will be removed in version 0.24.\n",
            "  warnings.warn(msg, category=FutureWarning)\n",
            "/usr/local/lib/python3.7/dist-packages/sklearn/utils/deprecation.py:87: FutureWarning: Function safe_indexing is deprecated; safe_indexing is deprecated in version 0.22 and will be removed in version 0.24.\n",
            "  warnings.warn(msg, category=FutureWarning)\n"
          ],
          "name": "stderr"
        }
      ]
    },
    {
      "cell_type": "code",
      "metadata": {
        "id": "YI6tbKgNtmCF"
      },
      "source": [
        ""
      ],
      "execution_count": null,
      "outputs": []
    },
    {
      "cell_type": "code",
      "metadata": {
        "id": "fMQDUKijiLnu"
      },
      "source": [
        "def build_mlp():\n",
        "    model = Sequential()\n",
        "    model.add(Input(shape=(max_len)))\n",
        "    model.add(Dense(40, activation='sigmoid'))\n",
        "    model.add(Dense(60, activation='sigmoid'))\n",
        "    model.add(Dense(80, activation='sigmoid'))\n",
        "    model.add(Dense(100, activation='sigmoid'))\n",
        "    model.add(Dense(80, activation='sigmoid'))\n",
        "    model.add(Dense(60, activation='sigmoid'))\n",
        "    model.add(Dense(40, activation='sigmoid'))\n",
        "    model.add(Dense(6, activation='softmax'))\n",
        "    return model"
      ],
      "execution_count": 50,
      "outputs": []
    },
    {
      "cell_type": "code",
      "metadata": {
        "id": "tPGAsRGCha4Z"
      },
      "source": [
        "def build_emb():\n",
        "    model = Sequential()\n",
        "    model.add(Input(shape=(max_len)))\n",
        "    model.add(Embedding(num_words,32))\n",
        "    model.add(Flatten())\n",
        "    model.add(Dense(6, activation='softmax'))\n",
        "    return model"
      ],
      "execution_count": 28,
      "outputs": []
    },
    {
      "cell_type": "code",
      "metadata": {
        "colab": {
          "base_uri": "https://localhost:8080/"
        },
        "id": "fUHhz9eOiFdy",
        "outputId": "b4068ea9-a78c-4804-8799-18f41f866237"
      },
      "source": [
        "mlp_model = build_mlp()\n",
        "mlp_model.compile(\n",
        "        optimizer=Adam(learning_rate=5e-5),\n",
        "        loss='categorical_crossentropy',\n",
        "        metrics=[\n",
        "                 'accuracy',\n",
        "                 Precision(), \n",
        "                 Recall()\n",
        "              ]\n",
        "          )\n",
        "mlp_model.summary()"
      ],
      "execution_count": 51,
      "outputs": [
        {
          "output_type": "stream",
          "text": [
            "Model: \"sequential_5\"\n",
            "_________________________________________________________________\n",
            "Layer (type)                 Output Shape              Param #   \n",
            "=================================================================\n",
            "dense_13 (Dense)             (None, 40)                10040     \n",
            "_________________________________________________________________\n",
            "dense_14 (Dense)             (None, 60)                2460      \n",
            "_________________________________________________________________\n",
            "dense_15 (Dense)             (None, 80)                4880      \n",
            "_________________________________________________________________\n",
            "dense_16 (Dense)             (None, 100)               8100      \n",
            "_________________________________________________________________\n",
            "dense_17 (Dense)             (None, 80)                8080      \n",
            "_________________________________________________________________\n",
            "dense_18 (Dense)             (None, 60)                4860      \n",
            "_________________________________________________________________\n",
            "dense_19 (Dense)             (None, 40)                2440      \n",
            "_________________________________________________________________\n",
            "dense_20 (Dense)             (None, 6)                 246       \n",
            "=================================================================\n",
            "Total params: 41,106\n",
            "Trainable params: 41,106\n",
            "Non-trainable params: 0\n",
            "_________________________________________________________________\n"
          ],
          "name": "stdout"
        }
      ]
    },
    {
      "cell_type": "code",
      "metadata": {
        "id": "PGTMIUVdjAKe"
      },
      "source": [
        "mlp_cb = get_callbacks('mlp_3H.h5')"
      ],
      "execution_count": 56,
      "outputs": []
    },
    {
      "cell_type": "code",
      "metadata": {
        "colab": {
          "base_uri": "https://localhost:8080/"
        },
        "id": "11VsmPCSi7ML",
        "outputId": "eea86c1b-01f6-4e79-bc29-57a7d2804f81"
      },
      "source": [
        "history_mlp = mlp_model.fit(\n",
        "    sequence_train,\n",
        "    train_target,\n",
        "    validation_data=(sequence_val, val_target),\n",
        "    epochs = 100,\n",
        "    batch_size=64,\n",
        "    callbacks=mlp_cb\n",
        ")"
      ],
      "execution_count": 57,
      "outputs": [
        {
          "output_type": "stream",
          "text": [
            "Epoch 1/100\n",
            "905/905 [==============================] - 4s 4ms/step - loss: 1.5289 - accuracy: 0.3956 - precision_5: 0.0000e+00 - recall_5: 0.0000e+00 - val_loss: 1.5291 - val_accuracy: 0.3956 - val_precision_5: 0.0000e+00 - val_recall_5: 0.0000e+00\n",
            "\n",
            "Epoch 00001: val_loss improved from inf to 1.52914, saving model to mlp_3H.h5\n",
            "Epoch 2/100\n",
            "905/905 [==============================] - 3s 3ms/step - loss: 1.5290 - accuracy: 0.3956 - precision_5: 0.0000e+00 - recall_5: 0.0000e+00 - val_loss: 1.5291 - val_accuracy: 0.3956 - val_precision_5: 0.0000e+00 - val_recall_5: 0.0000e+00\n",
            "\n",
            "Epoch 00002: val_loss improved from 1.52914 to 1.52906, saving model to mlp_3H.h5\n",
            "Epoch 3/100\n",
            "905/905 [==============================] - 3s 3ms/step - loss: 1.5290 - accuracy: 0.3956 - precision_5: 0.0000e+00 - recall_5: 0.0000e+00 - val_loss: 1.5289 - val_accuracy: 0.3956 - val_precision_5: 0.0000e+00 - val_recall_5: 0.0000e+00\n",
            "\n",
            "Epoch 00003: val_loss improved from 1.52906 to 1.52895, saving model to mlp_3H.h5\n",
            "Epoch 4/100\n",
            "905/905 [==============================] - 3s 4ms/step - loss: 1.5290 - accuracy: 0.3956 - precision_5: 0.0000e+00 - recall_5: 0.0000e+00 - val_loss: 1.5289 - val_accuracy: 0.3956 - val_precision_5: 0.0000e+00 - val_recall_5: 0.0000e+00\n",
            "\n",
            "Epoch 00004: val_loss improved from 1.52895 to 1.52890, saving model to mlp_3H.h5\n",
            "Epoch 5/100\n",
            "905/905 [==============================] - 3s 3ms/step - loss: 1.5289 - accuracy: 0.3956 - precision_5: 0.0000e+00 - recall_5: 0.0000e+00 - val_loss: 1.5291 - val_accuracy: 0.3956 - val_precision_5: 0.0000e+00 - val_recall_5: 0.0000e+00\n",
            "\n",
            "Epoch 00005: val_loss did not improve from 1.52890\n",
            "Epoch 6/100\n",
            "905/905 [==============================] - 3s 3ms/step - loss: 1.5289 - accuracy: 0.3956 - precision_5: 0.0000e+00 - recall_5: 0.0000e+00 - val_loss: 1.5289 - val_accuracy: 0.3956 - val_precision_5: 0.0000e+00 - val_recall_5: 0.0000e+00\n",
            "\n",
            "Epoch 00006: val_loss did not improve from 1.52890\n",
            "Epoch 7/100\n",
            "905/905 [==============================] - 3s 3ms/step - loss: 1.5290 - accuracy: 0.3956 - precision_5: 0.0000e+00 - recall_5: 0.0000e+00 - val_loss: 1.5289 - val_accuracy: 0.3956 - val_precision_5: 0.0000e+00 - val_recall_5: 0.0000e+00\n",
            "\n",
            "Epoch 00007: val_loss improved from 1.52890 to 1.52887, saving model to mlp_3H.h5\n",
            "Epoch 8/100\n",
            "905/905 [==============================] - 3s 3ms/step - loss: 1.5290 - accuracy: 0.3956 - precision_5: 0.0000e+00 - recall_5: 0.0000e+00 - val_loss: 1.5289 - val_accuracy: 0.3956 - val_precision_5: 0.0000e+00 - val_recall_5: 0.0000e+00\n",
            "\n",
            "Epoch 00008: val_loss did not improve from 1.52887\n",
            "Epoch 9/100\n",
            "905/905 [==============================] - 3s 3ms/step - loss: 1.5290 - accuracy: 0.3956 - precision_5: 0.0000e+00 - recall_5: 0.0000e+00 - val_loss: 1.5290 - val_accuracy: 0.3956 - val_precision_5: 0.0000e+00 - val_recall_5: 0.0000e+00\n",
            "\n",
            "Epoch 00009: val_loss did not improve from 1.52887\n",
            "Epoch 10/100\n",
            "905/905 [==============================] - 3s 3ms/step - loss: 1.5290 - accuracy: 0.3956 - precision_5: 0.0000e+00 - recall_5: 0.0000e+00 - val_loss: 1.5289 - val_accuracy: 0.3956 - val_precision_5: 0.0000e+00 - val_recall_5: 0.0000e+00\n",
            "\n",
            "Epoch 00010: val_loss improved from 1.52887 to 1.52885, saving model to mlp_3H.h5\n",
            "Epoch 11/100\n",
            "905/905 [==============================] - 3s 3ms/step - loss: 1.5290 - accuracy: 0.3956 - precision_5: 0.0000e+00 - recall_5: 0.0000e+00 - val_loss: 1.5288 - val_accuracy: 0.3956 - val_precision_5: 0.0000e+00 - val_recall_5: 0.0000e+00\n",
            "\n",
            "Epoch 00011: val_loss improved from 1.52885 to 1.52882, saving model to mlp_3H.h5\n",
            "Epoch 12/100\n",
            "905/905 [==============================] - 3s 3ms/step - loss: 1.5290 - accuracy: 0.3956 - precision_5: 0.0000e+00 - recall_5: 0.0000e+00 - val_loss: 1.5289 - val_accuracy: 0.3956 - val_precision_5: 0.0000e+00 - val_recall_5: 0.0000e+00\n",
            "\n",
            "Epoch 00012: val_loss did not improve from 1.52882\n",
            "Epoch 13/100\n",
            "905/905 [==============================] - 3s 4ms/step - loss: 1.5289 - accuracy: 0.3956 - precision_5: 0.0000e+00 - recall_5: 0.0000e+00 - val_loss: 1.5291 - val_accuracy: 0.3956 - val_precision_5: 0.0000e+00 - val_recall_5: 0.0000e+00\n",
            "\n",
            "Epoch 00013: val_loss did not improve from 1.52882\n",
            "Epoch 14/100\n",
            "905/905 [==============================] - 3s 3ms/step - loss: 1.5290 - accuracy: 0.3956 - precision_5: 0.0000e+00 - recall_5: 0.0000e+00 - val_loss: 1.5288 - val_accuracy: 0.3956 - val_precision_5: 0.0000e+00 - val_recall_5: 0.0000e+00\n",
            "\n",
            "Epoch 00014: val_loss improved from 1.52882 to 1.52882, saving model to mlp_3H.h5\n",
            "Epoch 15/100\n",
            "905/905 [==============================] - 3s 3ms/step - loss: 1.5290 - accuracy: 0.3956 - precision_5: 0.0000e+00 - recall_5: 0.0000e+00 - val_loss: 1.5288 - val_accuracy: 0.3956 - val_precision_5: 0.0000e+00 - val_recall_5: 0.0000e+00\n",
            "\n",
            "Epoch 00015: val_loss did not improve from 1.52882\n",
            "Epoch 16/100\n",
            "905/905 [==============================] - 3s 3ms/step - loss: 1.5289 - accuracy: 0.3956 - precision_5: 0.0000e+00 - recall_5: 0.0000e+00 - val_loss: 1.5289 - val_accuracy: 0.3956 - val_precision_5: 0.0000e+00 - val_recall_5: 0.0000e+00\n",
            "\n",
            "Epoch 00016: val_loss did not improve from 1.52882\n",
            "Epoch 17/100\n",
            "905/905 [==============================] - 3s 3ms/step - loss: 1.5289 - accuracy: 0.3956 - precision_5: 0.0000e+00 - recall_5: 0.0000e+00 - val_loss: 1.5291 - val_accuracy: 0.3956 - val_precision_5: 0.0000e+00 - val_recall_5: 0.0000e+00\n",
            "\n",
            "Epoch 00017: val_loss did not improve from 1.52882\n",
            "Epoch 18/100\n",
            "905/905 [==============================] - 3s 3ms/step - loss: 1.5290 - accuracy: 0.3956 - precision_5: 0.0000e+00 - recall_5: 0.0000e+00 - val_loss: 1.5289 - val_accuracy: 0.3956 - val_precision_5: 0.0000e+00 - val_recall_5: 0.0000e+00\n",
            "\n",
            "Epoch 00018: val_loss did not improve from 1.52882\n",
            "Epoch 19/100\n",
            "905/905 [==============================] - 3s 3ms/step - loss: 1.5289 - accuracy: 0.3956 - precision_5: 0.0000e+00 - recall_5: 0.0000e+00 - val_loss: 1.5291 - val_accuracy: 0.3956 - val_precision_5: 0.0000e+00 - val_recall_5: 0.0000e+00\n",
            "\n",
            "Epoch 00019: val_loss did not improve from 1.52882\n"
          ],
          "name": "stdout"
        }
      ]
    },
    {
      "cell_type": "code",
      "metadata": {
        "colab": {
          "base_uri": "https://localhost:8080/",
          "height": 282
        },
        "id": "CpM53IY5qGpG",
        "outputId": "f05a03e7-4f0a-443c-de05-2fc0836e4371"
      },
      "source": [
        "pd.DataFrame(history_mlp.history)[metr].plot()"
      ],
      "execution_count": 80,
      "outputs": [
        {
          "output_type": "execute_result",
          "data": {
            "text/plain": [
              "<matplotlib.axes._subplots.AxesSubplot at 0x7fba5fc83c90>"
            ]
          },
          "metadata": {
            "tags": []
          },
          "execution_count": 80
        },
        {
          "output_type": "display_data",
          "data": {
            "image/png": "[encoded data removed]",
            "text/plain": [
              "<Figure size 432x288 with 1 Axes>"
            ]
          },
          "metadata": {
            "tags": [],
            "needs_background": "light"
          }
        }
      ]
    },
    {
      "cell_type": "code",
      "metadata": {
        "colab": {
          "base_uri": "https://localhost:8080/",
          "height": 674
        },
        "id": "dfhuh-StsQ5F",
        "outputId": "a11f68d0-3d89-43b4-ae3e-9fd9d99ec3bd"
      },
      "source": [
        "model_evaluate(mlp_model, sequence_test, test_target, 64)"
      ],
      "execution_count": 90,
      "outputs": [
        {
          "output_type": "stream",
          "text": [
            " 85/244 [=========>....................] - ETA: 0s"
          ],
          "name": "stdout"
        },
        {
          "output_type": "stream",
          "text": [
            "/usr/local/lib/python3.7/dist-packages/tensorflow/python/keras/engine/sequential.py:450: UserWarning: `model.predict_classes()` is deprecated and will be removed after 2021-01-01. Please use instead:* `np.argmax(model.predict(x), axis=-1)`,   if your model does multi-class classification   (e.g. if it uses a `softmax` last-layer activation).* `(model.predict(x) > 0.5).astype(\"int32\")`,   if your model does binary classification   (e.g. if it uses a `sigmoid` last-layer activation).\n",
            "  warnings.warn('`model.predict_classes()` is deprecated and '\n"
          ],
          "name": "stderr"
        },
        {
          "output_type": "stream",
          "text": [
            "244/244 [==============================] - 0s 1ms/step\n",
            "Accuracy:\t39.6%\n",
            "\n",
            "\n",
            "              precision    recall  f1-score   support\n",
            "\n",
            "           0       0.00      0.00      0.00      3099\n",
            "           1       0.00      0.00      0.00       708\n",
            "           2       0.00      0.00      0.00       540\n",
            "           3       0.40      1.00      0.57      6164\n",
            "           4       0.00      0.00      0.00      2004\n",
            "           5       0.00      0.00      0.00      3066\n",
            "\n",
            "    accuracy                           0.40     15581\n",
            "   macro avg       0.07      0.17      0.09     15581\n",
            "weighted avg       0.16      0.40      0.22     15581\n",
            "\n"
          ],
          "name": "stdout"
        },
        {
          "output_type": "stream",
          "text": [
            "/usr/local/lib/python3.7/dist-packages/sklearn/metrics/_classification.py:1272: UndefinedMetricWarning: Precision and F-score are ill-defined and being set to 0.0 in labels with no predicted samples. Use `zero_division` parameter to control this behavior.\n",
            "  _warn_prf(average, modifier, msg_start, len(result))\n"
          ],
          "name": "stderr"
        },
        {
          "output_type": "display_data",
          "data": {
            "image/png": "[encoded data removed]",
            "text/plain": [
              "<Figure size 288x288 with 1 Axes>"
            ]
          },
          "metadata": {
            "tags": [],
            "needs_background": "light"
          }
        }
      ]
    },
    {
      "cell_type": "code",
      "metadata": {
        "colab": {
          "base_uri": "https://localhost:8080/"
        },
        "id": "CzZrTiHzp4g-",
        "outputId": "dce10951-3a47-440a-e037-0499e1042446"
      },
      "source": [
        "mlp_model2 = build_mlp()\n",
        "mlp_model2.compile(\n",
        "        optimizer=Adam(learning_rate=5e-5),\n",
        "        loss='categorical_crossentropy',\n",
        "        metrics=[\n",
        "                 'accuracy',\n",
        "                 Precision(), \n",
        "                 Recall()\n",
        "              ]\n",
        "          )\n",
        "mlp_model2.summary()"
      ],
      "execution_count": 78,
      "outputs": [
        {
          "output_type": "stream",
          "text": [
            "Model: \"sequential_8\"\n",
            "_________________________________________________________________\n",
            "Layer (type)                 Output Shape              Param #   \n",
            "=================================================================\n",
            "dense_23 (Dense)             (None, 40)                10040     \n",
            "_________________________________________________________________\n",
            "dense_24 (Dense)             (None, 60)                2460      \n",
            "_________________________________________________________________\n",
            "dense_25 (Dense)             (None, 80)                4880      \n",
            "_________________________________________________________________\n",
            "dense_26 (Dense)             (None, 100)               8100      \n",
            "_________________________________________________________________\n",
            "dense_27 (Dense)             (None, 80)                8080      \n",
            "_________________________________________________________________\n",
            "dense_28 (Dense)             (None, 60)                4860      \n",
            "_________________________________________________________________\n",
            "dense_29 (Dense)             (None, 40)                2440      \n",
            "_________________________________________________________________\n",
            "dense_30 (Dense)             (None, 6)                 246       \n",
            "=================================================================\n",
            "Total params: 41,106\n",
            "Trainable params: 41,106\n",
            "Non-trainable params: 0\n",
            "_________________________________________________________________\n"
          ],
          "name": "stdout"
        }
      ]
    },
    {
      "cell_type": "code",
      "metadata": {
        "id": "dCMs1Aflp_Zx"
      },
      "source": [
        "mlp2_cb = get_callbacks('mlp2_3H.h5')"
      ],
      "execution_count": 79,
      "outputs": []
    },
    {
      "cell_type": "code",
      "metadata": {
        "colab": {
          "base_uri": "https://localhost:8080/"
        },
        "id": "nVlC7O7jqKpK",
        "outputId": "25199d19-55eb-483c-d5e3-f6c09df3d6c9"
      },
      "source": [
        "history_mlp2 = mlp_model2.fit(\n",
        "    sequence_train,\n",
        "    train_target,\n",
        "    validation_data=(sequence_val, val_target),\n",
        "    epochs = 100,\n",
        "    batch_size=64,\n",
        "    callbacks=mlp2_cb,\n",
        "    class_weight=dict(enumerate(class_weights))\n",
        ")"
      ],
      "execution_count": 88,
      "outputs": [
        {
          "output_type": "stream",
          "text": [
            "Epoch 1/100\n",
            "905/905 [==============================] - 3s 3ms/step - loss: 1.7921 - accuracy: 0.0957 - precision_8: 0.0000e+00 - recall_8: 0.0000e+00 - val_loss: 1.7828 - val_accuracy: 0.3956 - val_precision_8: 0.0000e+00 - val_recall_8: 0.0000e+00\n",
            "\n",
            "Epoch 00001: val_loss improved from 1.78844 to 1.78282, saving model to mlp2_3H.h5\n",
            "Epoch 2/100\n",
            "905/905 [==============================] - 3s 3ms/step - loss: 1.7922 - accuracy: 0.1440 - precision_8: 0.0000e+00 - recall_8: 0.0000e+00 - val_loss: 1.7892 - val_accuracy: 0.3956 - val_precision_8: 0.0000e+00 - val_recall_8: 0.0000e+00\n",
            "\n",
            "Epoch 00002: val_loss did not improve from 1.78282\n",
            "Epoch 3/100\n",
            "905/905 [==============================] - 3s 3ms/step - loss: 1.7921 - accuracy: 0.1556 - precision_8: 0.0000e+00 - recall_8: 0.0000e+00 - val_loss: 1.7969 - val_accuracy: 0.0347 - val_precision_8: 0.0000e+00 - val_recall_8: 0.0000e+00\n",
            "\n",
            "Epoch 00003: val_loss did not improve from 1.78282\n",
            "Epoch 4/100\n",
            "905/905 [==============================] - 3s 3ms/step - loss: 1.7921 - accuracy: 0.1226 - precision_8: 0.0000e+00 - recall_8: 0.0000e+00 - val_loss: 1.7911 - val_accuracy: 0.1968 - val_precision_8: 0.0000e+00 - val_recall_8: 0.0000e+00\n",
            "\n",
            "Epoch 00004: val_loss did not improve from 1.78282\n",
            "Epoch 5/100\n",
            "905/905 [==============================] - 3s 3ms/step - loss: 1.7921 - accuracy: 0.1896 - precision_8: 0.0000e+00 - recall_8: 0.0000e+00 - val_loss: 1.7961 - val_accuracy: 0.0454 - val_precision_8: 0.0000e+00 - val_recall_8: 0.0000e+00\n",
            "\n",
            "Epoch 00005: val_loss did not improve from 1.78282\n",
            "Epoch 6/100\n",
            "905/905 [==============================] - 3s 3ms/step - loss: 1.7920 - accuracy: 0.0999 - precision_8: 0.0000e+00 - recall_8: 0.0000e+00 - val_loss: 1.7879 - val_accuracy: 0.0347 - val_precision_8: 0.0000e+00 - val_recall_8: 0.0000e+00\n",
            "\n",
            "Epoch 00006: val_loss did not improve from 1.78282\n"
          ],
          "name": "stdout"
        }
      ]
    },
    {
      "cell_type": "code",
      "metadata": {
        "colab": {
          "base_uri": "https://localhost:8080/",
          "height": 282
        },
        "id": "OztsNUkxsVk-",
        "outputId": "454f6323-59f9-4b28-c3d2-c9fdc6c2c73f"
      },
      "source": [
        "pd.DataFrame(history_mlp2.history)[metr].plot()"
      ],
      "execution_count": 91,
      "outputs": [
        {
          "output_type": "execute_result",
          "data": {
            "text/plain": [
              "<matplotlib.axes._subplots.AxesSubplot at 0x7fba5fadbf50>"
            ]
          },
          "metadata": {
            "tags": []
          },
          "execution_count": 91
        },
        {
          "output_type": "display_data",
          "data": {
            "image/png": "[encoded data removed]",
            "text/plain": [
              "<Figure size 432x288 with 1 Axes>"
            ]
          },
          "metadata": {
            "tags": [],
            "needs_background": "light"
          }
        }
      ]
    },
    {
      "cell_type": "code",
      "metadata": {
        "colab": {
          "base_uri": "https://localhost:8080/",
          "height": 674
        },
        "id": "Sc2OQGxorPXk",
        "outputId": "82d05801-15bd-4112-f81b-75f78cdc8d9e"
      },
      "source": [
        "model_evaluate(mlp_model2, sequence_test, test_target, 64)"
      ],
      "execution_count": 89,
      "outputs": [
        {
          "output_type": "stream",
          "text": [
            "139/244 [================>.............] - ETA: 0s"
          ],
          "name": "stdout"
        },
        {
          "output_type": "stream",
          "text": [
            "/usr/local/lib/python3.7/dist-packages/tensorflow/python/keras/engine/sequential.py:450: UserWarning: `model.predict_classes()` is deprecated and will be removed after 2021-01-01. Please use instead:* `np.argmax(model.predict(x), axis=-1)`,   if your model does multi-class classification   (e.g. if it uses a `softmax` last-layer activation).* `(model.predict(x) > 0.5).astype(\"int32\")`,   if your model does binary classification   (e.g. if it uses a `sigmoid` last-layer activation).\n",
            "  warnings.warn('`model.predict_classes()` is deprecated and '\n"
          ],
          "name": "stderr"
        },
        {
          "output_type": "stream",
          "text": [
            "244/244 [==============================] - 0s 1ms/step\n",
            "Accuracy:\t39.6%\n",
            "\n",
            "\n",
            "              precision    recall  f1-score   support\n",
            "\n",
            "           0       0.00      0.00      0.00      3099\n",
            "           1       0.00      0.00      0.00       708\n",
            "           2       0.00      0.00      0.00       540\n",
            "           3       0.40      1.00      0.57      6164\n",
            "           4       0.00      0.00      0.00      2004\n",
            "           5       0.00      0.00      0.00      3066\n",
            "\n",
            "    accuracy                           0.40     15581\n",
            "   macro avg       0.07      0.17      0.09     15581\n",
            "weighted avg       0.16      0.40      0.22     15581\n",
            "\n"
          ],
          "name": "stdout"
        },
        {
          "output_type": "stream",
          "text": [
            "/usr/local/lib/python3.7/dist-packages/sklearn/metrics/_classification.py:1272: UndefinedMetricWarning: Precision and F-score are ill-defined and being set to 0.0 in labels with no predicted samples. Use `zero_division` parameter to control this behavior.\n",
            "  _warn_prf(average, modifier, msg_start, len(result))\n"
          ],
          "name": "stderr"
        },
        {
          "output_type": "display_data",
          "data": {
            "image/png": "[encoded data removed]",
            "text/plain": [
              "<Figure size 288x288 with 1 Axes>"
            ]
          },
          "metadata": {
            "tags": [],
            "needs_background": "light"
          }
        }
      ]
    },
    {
      "cell_type": "code",
      "metadata": {
        "id": "jnlLBxrOjHnf"
      },
      "source": [
        "emb_cb = get_callbacks('emb.h5')"
      ],
      "execution_count": 54,
      "outputs": []
    },
    {
      "cell_type": "code",
      "metadata": {
        "colab": {
          "base_uri": "https://localhost:8080/"
        },
        "id": "yIxBSqdeiqdX",
        "outputId": "85a3c9c4-51b1-4376-a61f-912b74d8e822"
      },
      "source": [
        "emb_model = build_emb()\n",
        "emb_model.compile(\n",
        "        optimizer=Adam(learning_rate=5e-5),\n",
        "        loss='categorical_crossentropy',\n",
        "        metrics=[\n",
        "                 'accuracy',\n",
        "                 Precision(), \n",
        "                 Recall()\n",
        "              ]\n",
        "          )\n",
        "emb_model.summary()"
      ],
      "execution_count": 59,
      "outputs": [
        {
          "output_type": "stream",
          "text": [
            "Model: \"sequential_7\"\n",
            "_________________________________________________________________\n",
            "Layer (type)                 Output Shape              Param #   \n",
            "=================================================================\n",
            "embedding_2 (Embedding)      (None, 250, 32)           320000    \n",
            "_________________________________________________________________\n",
            "flatten_2 (Flatten)          (None, 8000)              0         \n",
            "_________________________________________________________________\n",
            "dense_22 (Dense)             (None, 6)                 48006     \n",
            "=================================================================\n",
            "Total params: 368,006\n",
            "Trainable params: 368,006\n",
            "Non-trainable params: 0\n",
            "_________________________________________________________________\n"
          ],
          "name": "stdout"
        }
      ]
    },
    {
      "cell_type": "code",
      "metadata": {
        "colab": {
          "base_uri": "https://localhost:8080/"
        },
        "id": "O4Kn1LHrmFJE",
        "outputId": "d5ba7e4d-2006-40ce-cca8-d0e040025e00"
      },
      "source": [
        "history_emb = emb_model.fit(\n",
        "    sequence_train,\n",
        "    train_target,\n",
        "    validation_data=(sequence_val, val_target),\n",
        "    epochs = 100,\n",
        "    batch_size=64,\n",
        "    callbacks=emb_cb\n",
        ")"
      ],
      "execution_count": 60,
      "outputs": [
        {
          "output_type": "stream",
          "text": [
            "Epoch 1/100\n",
            "905/905 [==============================] - 11s 11ms/step - loss: 1.5705 - accuracy: 0.3917 - precision_7: 0.0000e+00 - recall_7: 0.0000e+00 - val_loss: 1.5269 - val_accuracy: 0.3956 - val_precision_7: 0.0000e+00 - val_recall_7: 0.0000e+00\n",
            "\n",
            "Epoch 00001: val_loss improved from inf to 1.52694, saving model to emb.h5\n",
            "Epoch 2/100\n",
            "905/905 [==============================] - 9s 10ms/step - loss: 1.5260 - accuracy: 0.3942 - precision_7: 0.0000e+00 - recall_7: 0.0000e+00 - val_loss: 1.5234 - val_accuracy: 0.3956 - val_precision_7: 0.0000e+00 - val_recall_7: 0.0000e+00\n",
            "\n",
            "Epoch 00002: val_loss improved from 1.52694 to 1.52342, saving model to emb.h5\n",
            "Epoch 3/100\n",
            "905/905 [==============================] - 9s 10ms/step - loss: 1.5220 - accuracy: 0.3954 - precision_7: 0.4282 - recall_7: 8.1752e-05 - val_loss: 1.5180 - val_accuracy: 0.3956 - val_precision_7: 1.0000 - val_recall_7: 1.9255e-04\n",
            "\n",
            "Epoch 00003: val_loss improved from 1.52342 to 1.51803, saving model to emb.h5\n",
            "Epoch 4/100\n",
            "905/905 [==============================] - 10s 11ms/step - loss: 1.5184 - accuracy: 0.3948 - precision_7: 0.7645 - recall_7: 0.0036 - val_loss: 1.5116 - val_accuracy: 0.3956 - val_precision_7: 0.7180 - val_recall_7: 0.0443\n",
            "\n",
            "Epoch 00004: val_loss improved from 1.51803 to 1.51161, saving model to emb.h5\n",
            "Epoch 5/100\n",
            "905/905 [==============================] - 10s 11ms/step - loss: 1.5057 - accuracy: 0.3948 - precision_7: 0.7737 - recall_7: 0.0331 - val_loss: 1.4985 - val_accuracy: 0.3961 - val_precision_7: 0.7365 - val_recall_7: 0.0623\n",
            "\n",
            "Epoch 00005: val_loss improved from 1.51161 to 1.49854, saving model to emb.h5\n",
            "Epoch 6/100\n",
            "905/905 [==============================] - 10s 11ms/step - loss: 1.4893 - accuracy: 0.3991 - precision_7: 0.7772 - recall_7: 0.0624 - val_loss: 1.4855 - val_accuracy: 0.4007 - val_precision_7: 0.7416 - val_recall_7: 0.0832\n",
            "\n",
            "Epoch 00006: val_loss improved from 1.49854 to 1.48554, saving model to emb.h5\n",
            "Epoch 7/100\n",
            "905/905 [==============================] - 10s 11ms/step - loss: 1.4762 - accuracy: 0.3998 - precision_7: 0.7612 - recall_7: 0.0856 - val_loss: 1.4739 - val_accuracy: 0.4049 - val_precision_7: 0.7460 - val_recall_7: 0.0997\n",
            "\n",
            "Epoch 00007: val_loss improved from 1.48554 to 1.47386, saving model to emb.h5\n",
            "Epoch 8/100\n",
            "905/905 [==============================] - 9s 10ms/step - loss: 1.4545 - accuracy: 0.4132 - precision_7: 0.7425 - recall_7: 0.1217 - val_loss: 1.4634 - val_accuracy: 0.4107 - val_precision_7: 0.7418 - val_recall_7: 0.1138\n",
            "\n",
            "Epoch 00008: val_loss improved from 1.47386 to 1.46339, saving model to emb.h5\n",
            "Epoch 9/100\n",
            "905/905 [==============================] - 10s 11ms/step - loss: 1.4461 - accuracy: 0.4186 - precision_7: 0.7428 - recall_7: 0.1348 - val_loss: 1.4542 - val_accuracy: 0.4123 - val_precision_7: 0.7061 - val_recall_7: 0.1494\n",
            "\n",
            "Epoch 00009: val_loss improved from 1.46339 to 1.45416, saving model to emb.h5\n",
            "Epoch 10/100\n",
            "905/905 [==============================] - 10s 11ms/step - loss: 1.4329 - accuracy: 0.4248 - precision_7: 0.7405 - recall_7: 0.1512 - val_loss: 1.4466 - val_accuracy: 0.4150 - val_precision_7: 0.6855 - val_recall_7: 0.1683\n",
            "\n",
            "Epoch 00010: val_loss improved from 1.45416 to 1.44657, saving model to emb.h5\n",
            "Epoch 11/100\n",
            "905/905 [==============================] - 10s 11ms/step - loss: 1.4233 - accuracy: 0.4255 - precision_7: 0.7328 - recall_7: 0.1593 - val_loss: 1.4394 - val_accuracy: 0.4194 - val_precision_7: 0.7039 - val_recall_7: 0.1549\n",
            "\n",
            "Epoch 00011: val_loss improved from 1.44657 to 1.43941, saving model to emb.h5\n",
            "Epoch 12/100\n",
            "905/905 [==============================] - 11s 12ms/step - loss: 1.4111 - accuracy: 0.4345 - precision_7: 0.7256 - recall_7: 0.1685 - val_loss: 1.4337 - val_accuracy: 0.4240 - val_precision_7: 0.7026 - val_recall_7: 0.1556\n",
            "\n",
            "Epoch 00012: val_loss improved from 1.43941 to 1.43367, saving model to emb.h5\n",
            "Epoch 13/100\n",
            "905/905 [==============================] - 10s 11ms/step - loss: 1.4002 - accuracy: 0.4408 - precision_7: 0.7310 - recall_7: 0.1752 - val_loss: 1.4280 - val_accuracy: 0.4260 - val_precision_7: 0.6933 - val_recall_7: 0.1669\n",
            "\n",
            "Epoch 00013: val_loss improved from 1.43367 to 1.42799, saving model to emb.h5\n",
            "Epoch 14/100\n",
            "905/905 [==============================] - 10s 11ms/step - loss: 1.3927 - accuracy: 0.4447 - precision_7: 0.7305 - recall_7: 0.1814 - val_loss: 1.4235 - val_accuracy: 0.4280 - val_precision_7: 0.6883 - val_recall_7: 0.1712\n",
            "\n",
            "Epoch 00014: val_loss improved from 1.42799 to 1.42352, saving model to emb.h5\n",
            "Epoch 15/100\n",
            "905/905 [==============================] - 10s 11ms/step - loss: 1.3829 - accuracy: 0.4502 - precision_7: 0.7261 - recall_7: 0.1860 - val_loss: 1.4199 - val_accuracy: 0.4295 - val_precision_7: 0.6799 - val_recall_7: 0.1797\n",
            "\n",
            "Epoch 00015: val_loss improved from 1.42352 to 1.41985, saving model to emb.h5\n",
            "Epoch 16/100\n",
            "905/905 [==============================] - 9s 10ms/step - loss: 1.3708 - accuracy: 0.4572 - precision_7: 0.7295 - recall_7: 0.1938 - val_loss: 1.4161 - val_accuracy: 0.4340 - val_precision_7: 0.6876 - val_recall_7: 0.1702\n",
            "\n",
            "Epoch 00016: val_loss improved from 1.41985 to 1.41609, saving model to emb.h5\n",
            "Epoch 17/100\n",
            "905/905 [==============================] - 11s 12ms/step - loss: 1.3655 - accuracy: 0.4579 - precision_7: 0.7273 - recall_7: 0.1905 - val_loss: 1.4128 - val_accuracy: 0.4332 - val_precision_7: 0.6689 - val_recall_7: 0.1891\n",
            "\n",
            "Epoch 00017: val_loss improved from 1.41609 to 1.41277, saving model to emb.h5\n",
            "Epoch 18/100\n",
            "905/905 [==============================] - 9s 10ms/step - loss: 1.3631 - accuracy: 0.4601 - precision_7: 0.7250 - recall_7: 0.1941 - val_loss: 1.4099 - val_accuracy: 0.4340 - val_precision_7: 0.6698 - val_recall_7: 0.1877\n",
            "\n",
            "Epoch 00018: val_loss improved from 1.41277 to 1.40985, saving model to emb.h5\n",
            "Epoch 19/100\n",
            "905/905 [==============================] - 10s 11ms/step - loss: 1.3443 - accuracy: 0.4679 - precision_7: 0.7307 - recall_7: 0.2064 - val_loss: 1.4081 - val_accuracy: 0.4374 - val_precision_7: 0.6822 - val_recall_7: 0.1750\n",
            "\n",
            "Epoch 00019: val_loss improved from 1.40985 to 1.40812, saving model to emb.h5\n",
            "Epoch 20/100\n",
            "905/905 [==============================] - 9s 10ms/step - loss: 1.3428 - accuracy: 0.4703 - precision_7: 0.7302 - recall_7: 0.2025 - val_loss: 1.4057 - val_accuracy: 0.4344 - val_precision_7: 0.6592 - val_recall_7: 0.1957\n",
            "\n",
            "Epoch 00020: val_loss improved from 1.40812 to 1.40571, saving model to emb.h5\n",
            "Epoch 21/100\n",
            "905/905 [==============================] - 9s 10ms/step - loss: 1.3342 - accuracy: 0.4755 - precision_7: 0.7308 - recall_7: 0.2124 - val_loss: 1.4036 - val_accuracy: 0.4358 - val_precision_7: 0.6641 - val_recall_7: 0.1915\n",
            "\n",
            "Epoch 00021: val_loss improved from 1.40571 to 1.40358, saving model to emb.h5\n",
            "Epoch 22/100\n",
            "905/905 [==============================] - 10s 11ms/step - loss: 1.3243 - accuracy: 0.4779 - precision_7: 0.7251 - recall_7: 0.2123 - val_loss: 1.4022 - val_accuracy: 0.4367 - val_precision_7: 0.6632 - val_recall_7: 0.1898\n",
            "\n",
            "Epoch 00022: val_loss improved from 1.40358 to 1.40222, saving model to emb.h5\n",
            "Epoch 23/100\n",
            "905/905 [==============================] - 10s 11ms/step - loss: 1.3217 - accuracy: 0.4798 - precision_7: 0.7275 - recall_7: 0.2151 - val_loss: 1.4011 - val_accuracy: 0.4350 - val_precision_7: 0.6600 - val_recall_7: 0.1940\n",
            "\n",
            "Epoch 00023: val_loss improved from 1.40222 to 1.40114, saving model to emb.h5\n",
            "Epoch 24/100\n",
            "905/905 [==============================] - 9s 10ms/step - loss: 1.3126 - accuracy: 0.4834 - precision_7: 0.7270 - recall_7: 0.2198 - val_loss: 1.4001 - val_accuracy: 0.4367 - val_precision_7: 0.6504 - val_recall_7: 0.1999\n",
            "\n",
            "Epoch 00024: val_loss improved from 1.40114 to 1.40010, saving model to emb.h5\n",
            "Epoch 25/100\n",
            "905/905 [==============================] - 9s 10ms/step - loss: 1.3074 - accuracy: 0.4842 - precision_7: 0.7241 - recall_7: 0.2221 - val_loss: 1.3999 - val_accuracy: 0.4366 - val_precision_7: 0.6551 - val_recall_7: 0.1933\n",
            "\n",
            "Epoch 00025: val_loss improved from 1.40010 to 1.39988, saving model to emb.h5\n",
            "Epoch 26/100\n",
            "905/905 [==============================] - 8s 9ms/step - loss: 1.3028 - accuracy: 0.4873 - precision_7: 0.7217 - recall_7: 0.2256 - val_loss: 1.3991 - val_accuracy: 0.4344 - val_precision_7: 0.6488 - val_recall_7: 0.1976\n",
            "\n",
            "Epoch 00026: val_loss improved from 1.39988 to 1.39905, saving model to emb.h5\n",
            "Epoch 27/100\n",
            "905/905 [==============================] - 8s 9ms/step - loss: 1.2949 - accuracy: 0.4896 - precision_7: 0.7227 - recall_7: 0.2284 - val_loss: 1.3985 - val_accuracy: 0.4366 - val_precision_7: 0.6412 - val_recall_7: 0.2023\n",
            "\n",
            "Epoch 00027: val_loss improved from 1.39905 to 1.39847, saving model to emb.h5\n",
            "Epoch 28/100\n",
            "905/905 [==============================] - 8s 9ms/step - loss: 1.2884 - accuracy: 0.4948 - precision_7: 0.7195 - recall_7: 0.2333 - val_loss: 1.3986 - val_accuracy: 0.4356 - val_precision_7: 0.6394 - val_recall_7: 0.2043\n",
            "\n",
            "Epoch 00028: val_loss did not improve from 1.39847\n",
            "Epoch 29/100\n",
            "905/905 [==============================] - 9s 10ms/step - loss: 1.2853 - accuracy: 0.4970 - precision_7: 0.7208 - recall_7: 0.2348 - val_loss: 1.3986 - val_accuracy: 0.4352 - val_precision_7: 0.6342 - val_recall_7: 0.2062\n",
            "\n",
            "Epoch 00029: val_loss did not improve from 1.39847\n",
            "Epoch 30/100\n",
            "905/905 [==============================] - 8s 9ms/step - loss: 1.2771 - accuracy: 0.4984 - precision_7: 0.7191 - recall_7: 0.2385 - val_loss: 1.3989 - val_accuracy: 0.4345 - val_precision_7: 0.6299 - val_recall_7: 0.2085\n",
            "\n",
            "Epoch 00030: val_loss did not improve from 1.39847\n",
            "Epoch 31/100\n",
            "905/905 [==============================] - 8s 9ms/step - loss: 1.2715 - accuracy: 0.5013 - precision_7: 0.7173 - recall_7: 0.2422 - val_loss: 1.3997 - val_accuracy: 0.4340 - val_precision_7: 0.6265 - val_recall_7: 0.2092\n",
            "\n",
            "Epoch 00031: val_loss did not improve from 1.39847\n",
            "Epoch 32/100\n",
            "905/905 [==============================] - 9s 10ms/step - loss: 1.2625 - accuracy: 0.5049 - precision_7: 0.7202 - recall_7: 0.2463 - val_loss: 1.3999 - val_accuracy: 0.4331 - val_precision_7: 0.6218 - val_recall_7: 0.2117\n",
            "\n",
            "Epoch 00032: val_loss did not improve from 1.39847\n"
          ],
          "name": "stdout"
        }
      ]
    },
    {
      "cell_type": "code",
      "metadata": {
        "colab": {
          "base_uri": "https://localhost:8080/",
          "height": 282
        },
        "id": "2j5nJosgnxPW",
        "outputId": "219ee707-35bf-48e6-a251-eeaeb4ac844e"
      },
      "source": [
        "pd.DataFrame(history_emb.history)[metr].plot()"
      ],
      "execution_count": 61,
      "outputs": [
        {
          "output_type": "execute_result",
          "data": {
            "text/plain": [
              "<matplotlib.axes._subplots.AxesSubplot at 0x7fba606210d0>"
            ]
          },
          "metadata": {
            "tags": []
          },
          "execution_count": 61
        },
        {
          "output_type": "display_data",
          "data": {
            "image/png": "[encoded data removed]",
            "text/plain": [
              "<Figure size 432x288 with 1 Axes>"
            ]
          },
          "metadata": {
            "tags": [],
            "needs_background": "light"
          }
        }
      ]
    },
    {
      "cell_type": "code",
      "metadata": {
        "colab": {
          "base_uri": "https://localhost:8080/",
          "height": 674
        },
        "id": "duO-Aj8doHxc",
        "outputId": "7eac6c6c-b732-4db1-c5c4-d5221063ae02"
      },
      "source": [
        "model_evaluate(emb_model, sequence_test, test_target, 64)"
      ],
      "execution_count": 70,
      "outputs": [
        {
          "output_type": "stream",
          "text": [
            " 49/244 [=====>........................] - ETA: 0s"
          ],
          "name": "stdout"
        },
        {
          "output_type": "stream",
          "text": [
            "/usr/local/lib/python3.7/dist-packages/tensorflow/python/keras/engine/sequential.py:450: UserWarning: `model.predict_classes()` is deprecated and will be removed after 2021-01-01. Please use instead:* `np.argmax(model.predict(x), axis=-1)`,   if your model does multi-class classification   (e.g. if it uses a `softmax` last-layer activation).* `(model.predict(x) > 0.5).astype(\"int32\")`,   if your model does binary classification   (e.g. if it uses a `sigmoid` last-layer activation).\n",
            "  warnings.warn('`model.predict_classes()` is deprecated and '\n"
          ],
          "name": "stderr"
        },
        {
          "output_type": "stream",
          "text": [
            "244/244 [==============================] - 1s 2ms/step\n",
            "Accuracy:\t43.1%\n",
            "\n",
            "\n",
            "              precision    recall  f1-score   support\n",
            "\n",
            "           0       0.31      0.36      0.34      3099\n",
            "           1       0.00      0.00      0.00       708\n",
            "           2       0.00      0.00      0.00       540\n",
            "           3       0.50      0.78      0.61      6164\n",
            "           4       0.34      0.10      0.15      2004\n",
            "           5       0.33      0.19      0.24      3066\n",
            "\n",
            "    accuracy                           0.43     15581\n",
            "   macro avg       0.25      0.24      0.22     15581\n",
            "weighted avg       0.37      0.43      0.37     15581\n",
            "\n"
          ],
          "name": "stdout"
        },
        {
          "output_type": "stream",
          "text": [
            "/usr/local/lib/python3.7/dist-packages/sklearn/metrics/_classification.py:1272: UndefinedMetricWarning: Precision and F-score are ill-defined and being set to 0.0 in labels with no predicted samples. Use `zero_division` parameter to control this behavior.\n",
            "  _warn_prf(average, modifier, msg_start, len(result))\n"
          ],
          "name": "stderr"
        },
        {
          "output_type": "display_data",
          "data": {
            "image/png": "[encoded data removed]",
            "text/plain": [
              "<Figure size 288x288 with 1 Axes>"
            ]
          },
          "metadata": {
            "tags": [],
            "needs_background": "light"
          }
        }
      ]
    }
  ]
}
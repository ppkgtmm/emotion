{
  "nbformat": 4,
  "nbformat_minor": 0,
  "metadata": {
    "colab": {
      "name": "sample_emo.ipynb",
      "provenance": [],
      "mount_file_id": "1ONpyWqdE6ufpB3F3LzMz-JkSJ2ppfMrg",
      "authorship_tag": "ABX9TyNNPD0JHzTIuohH8XaEGJLe",
      "include_colab_link": true
    },
    "kernelspec": {
      "name": "python3",
      "display_name": "Python 3"
    }
  },
  "cells": [
    {
      "cell_type": "markdown",
      "metadata": {
        "id": "view-in-github",
        "colab_type": "text"
      },
      "source": [
        "<a href=\"https://colab.research.google.com/github/ppkgtmm/emotion/blob/main/sample_emo.ipynb\" target=\"_parent\"><img src=\"https://colab.research.google.com/assets/colab-badge.svg\" alt=\"Open In Colab\"/></a>"
      ]
    },
    {
      "cell_type": "code",
      "metadata": {
        "id": "DbBg4CFkd5My"
      },
      "source": [
        "# !pip install keras-tuner\n",
        "# !rm -r sentiment\n",
        "# !git clone --branch utils https://github.com/ppkgtmm/sentiment.git sentiment"
      ],
      "execution_count": 2,
      "outputs": []
    },
    {
      "cell_type": "code",
      "metadata": {
        "id": "CtsJVZ_xfV0T"
      },
      "source": [
        "import pandas as pd\n",
        "from keras.preprocessing.text import  Tokenizer\n",
        "from keras.layers import Input, Dense, Embedding, Flatten\n",
        "from keras.models import Sequential\n",
        "from keras.metrics import Precision, Recall\n",
        "from keras.optimizers import Adam, RMSprop\n",
        "from kerastuner import HyperParameters\n",
        "import matplotlib.pyplot as plt\n",
        "from sklearn.model_selection import train_test_split\n",
        "from sentiment.utils import read_data, get_optimizer, get_sequences, split_data\n",
        "from sentiment.utils import get_tuner, get_model_from_config, get_callbacks\n",
        "from sentiment.utils import OH_fit_transform, OH_transform, load, dump, \\\n",
        "model_evaluate"
      ],
      "execution_count": 43,
      "outputs": []
    },
    {
      "cell_type": "code",
      "metadata": {
        "id": "HflRrBniff0F"
      },
      "source": [
        "cols = ['text', 'target']\n",
        "data_path = '/content/drive/MyDrive/emotion/data/go_preprocessed.csv'\n",
        "metr = ['accuracy', 'val_accuracy', 'loss', 'val_loss']\n",
        "seed = 123456\n",
        "num_words = 10000\n",
        "max_len = 250"
      ],
      "execution_count": 36,
      "outputs": []
    },
    {
      "cell_type": "code",
      "metadata": {
        "colab": {
          "base_uri": "https://localhost:8080/",
          "height": 204
        },
        "id": "cwXZoxwDfXHR",
        "outputId": "dfc3cc13-5b10-4dcf-c73d-0bb4b3377cfc"
      },
      "source": [
        "data = read_data(data_path,cols)\n",
        "data.sample(5)"
      ],
      "execution_count": 5,
      "outputs": [
        {
          "output_type": "execute_result",
          "data": {
            "text/html": [
              "<div>\n",
              "<style scoped>\n",
              "    .dataframe tbody tr th:only-of-type {\n",
              "        vertical-align: middle;\n",
              "    }\n",
              "\n",
              "    .dataframe tbody tr th {\n",
              "        vertical-align: top;\n",
              "    }\n",
              "\n",
              "    .dataframe thead th {\n",
              "        text-align: right;\n",
              "    }\n",
              "</style>\n",
              "<table border=\"1\" class=\"dataframe\">\n",
              "  <thead>\n",
              "    <tr style=\"text-align: right;\">\n",
              "      <th></th>\n",
              "      <th>text</th>\n",
              "      <th>target</th>\n",
              "    </tr>\n",
              "  </thead>\n",
              "  <tbody>\n",
              "    <tr>\n",
              "      <th>18179</th>\n",
              "      <td>i love name but hate royals and wow this versi...</td>\n",
              "      <td>disgust</td>\n",
              "    </tr>\n",
              "    <tr>\n",
              "      <th>9465</th>\n",
              "      <td>traded me away the bastard kidding aside it th...</td>\n",
              "      <td>anger</td>\n",
              "    </tr>\n",
              "    <tr>\n",
              "      <th>50283</th>\n",
              "      <td>no the bubble is love the bubble is life with ...</td>\n",
              "      <td>joy</td>\n",
              "    </tr>\n",
              "    <tr>\n",
              "      <th>60913</th>\n",
              "      <td>we tried the place i go is just a rundown old ...</td>\n",
              "      <td>sadness</td>\n",
              "    </tr>\n",
              "    <tr>\n",
              "      <th>25851</th>\n",
              "      <td>name was good in my love from the star</td>\n",
              "      <td>joy</td>\n",
              "    </tr>\n",
              "  </tbody>\n",
              "</table>\n",
              "</div>"
            ],
            "text/plain": [
              "                                                    text   target\n",
              "18179  i love name but hate royals and wow this versi...  disgust\n",
              "9465   traded me away the bastard kidding aside it th...    anger\n",
              "50283  no the bubble is love the bubble is life with ...      joy\n",
              "60913  we tried the place i go is just a rundown old ...  sadness\n",
              "25851             name was good in my love from the star      joy"
            ]
          },
          "metadata": {
            "tags": []
          },
          "execution_count": 5
        }
      ]
    },
    {
      "cell_type": "code",
      "metadata": {
        "id": "E8s2Zw-4f5u-"
      },
      "source": [
        "train, test = train_test_split(data, test_size=0.35, \\\n",
        "                             random_state=seed, stratify=data['target'])"
      ],
      "execution_count": 8,
      "outputs": []
    },
    {
      "cell_type": "code",
      "metadata": {
        "id": "LGKGBTxNgZm_"
      },
      "source": [
        "val, test = train_test_split(test, test_size=0.5, \\\n",
        "                             random_state=seed, stratify=test['target'])"
      ],
      "execution_count": 9,
      "outputs": []
    },
    {
      "cell_type": "code",
      "metadata": {
        "colab": {
          "base_uri": "https://localhost:8080/"
        },
        "id": "vawGHZ_Zgjdd",
        "outputId": "1218c3fd-b8fe-46d4-a5bb-67ada7e5815b"
      },
      "source": [
        "train.shape, val.shape, test.shape"
      ],
      "execution_count": 10,
      "outputs": [
        {
          "output_type": "execute_result",
          "data": {
            "text/plain": [
              "((57870, 2), (15580, 2), (15581, 2))"
            ]
          },
          "metadata": {
            "tags": []
          },
          "execution_count": 10
        }
      ]
    },
    {
      "cell_type": "code",
      "metadata": {
        "id": "6IEg2atzgrge"
      },
      "source": [
        "tokenizer = Tokenizer(num_words=num_words, oov_token='OOV')\n",
        "tokenizer.fit_on_texts(train['text'])"
      ],
      "execution_count": 11,
      "outputs": []
    },
    {
      "cell_type": "code",
      "metadata": {
        "id": "nTuIS_Swgy-A"
      },
      "source": [
        "sequence_train = get_sequences(tokenizer, max_len, train['text'])\n",
        "sequence_val = get_sequences(tokenizer, max_len, val['text'])\n",
        "sequence_test = get_sequences(tokenizer, max_len, test['text'])"
      ],
      "execution_count": 17,
      "outputs": []
    },
    {
      "cell_type": "code",
      "metadata": {
        "colab": {
          "base_uri": "https://localhost:8080/"
        },
        "id": "iyopJc62g2QB",
        "outputId": "bb6c2d28-601e-4ebf-d858-7644d7fd9bae"
      },
      "source": [
        "print(val['target'].unique(), \\\n",
        "      train['target'].unique(), \\\n",
        "      test['target'].unique())"
      ],
      "execution_count": 18,
      "outputs": [
        {
          "output_type": "stream",
          "text": [
            "['joy' 'anger' 'disgust' 'surprise' 'sadness' 'fear'] ['fear' 'joy' 'sadness' 'anger' 'surprise' 'disgust'] ['sadness' 'surprise' 'anger' 'joy' 'disgust' 'fear']\n"
          ],
          "name": "stdout"
        }
      ]
    },
    {
      "cell_type": "code",
      "metadata": {
        "id": "njk213W5hELL"
      },
      "source": [
        "train_target = OH_fit_transform(train['target'])\n",
        "val_target = OH_transform(val['target'])\n",
        "test_target = OH_transform(test['target'])"
      ],
      "execution_count": 19,
      "outputs": []
    },
    {
      "cell_type": "code",
      "metadata": {
        "id": "fMQDUKijiLnu"
      },
      "source": [
        "def build_mlp():\n",
        "    model = Sequential()\n",
        "    model.add(Input(shape=(max_len)))\n",
        "    model.add(Dense(40, activation='sigmoid'))\n",
        "    model.add(Dense(60, activation='sigmoid'))\n",
        "    model.add(Dense(80, activation='sigmoid'))\n",
        "    model.add(Dense(100, activation='sigmoid'))\n",
        "    model.add(Dense(80, activation='sigmoid'))\n",
        "    model.add(Dense(60, activation='sigmoid'))\n",
        "    model.add(Dense(40, activation='sigmoid'))\n",
        "    model.add(Dense(6, activation='softmax'))\n",
        "    return model"
      ],
      "execution_count": 50,
      "outputs": []
    },
    {
      "cell_type": "code",
      "metadata": {
        "id": "tPGAsRGCha4Z"
      },
      "source": [
        "def build_emb():\n",
        "    model = Sequential()\n",
        "    model.add(Input(shape=(max_len)))\n",
        "    model.add(Embedding(num_words,32))\n",
        "    model.add(Flatten())\n",
        "    model.add(Dense(6, activation='softmax'))\n",
        "    return model"
      ],
      "execution_count": 28,
      "outputs": []
    },
    {
      "cell_type": "code",
      "metadata": {
        "colab": {
          "base_uri": "https://localhost:8080/"
        },
        "id": "fUHhz9eOiFdy",
        "outputId": "b4068ea9-a78c-4804-8799-18f41f866237"
      },
      "source": [
        "mlp_model = build_mlp()\n",
        "mlp_model.compile(\n",
        "        optimizer=Adam(learning_rate=5e-5),\n",
        "        loss='categorical_crossentropy',\n",
        "        metrics=[\n",
        "                 'accuracy',\n",
        "                 Precision(), \n",
        "                 Recall()\n",
        "              ]\n",
        "          )\n",
        "mlp_model.summary()"
      ],
      "execution_count": 51,
      "outputs": [
        {
          "output_type": "stream",
          "text": [
            "Model: \"sequential_5\"\n",
            "_________________________________________________________________\n",
            "Layer (type)                 Output Shape              Param #   \n",
            "=================================================================\n",
            "dense_13 (Dense)             (None, 40)                10040     \n",
            "_________________________________________________________________\n",
            "dense_14 (Dense)             (None, 60)                2460      \n",
            "_________________________________________________________________\n",
            "dense_15 (Dense)             (None, 80)                4880      \n",
            "_________________________________________________________________\n",
            "dense_16 (Dense)             (None, 100)               8100      \n",
            "_________________________________________________________________\n",
            "dense_17 (Dense)             (None, 80)                8080      \n",
            "_________________________________________________________________\n",
            "dense_18 (Dense)             (None, 60)                4860      \n",
            "_________________________________________________________________\n",
            "dense_19 (Dense)             (None, 40)                2440      \n",
            "_________________________________________________________________\n",
            "dense_20 (Dense)             (None, 6)                 246       \n",
            "=================================================================\n",
            "Total params: 41,106\n",
            "Trainable params: 41,106\n",
            "Non-trainable params: 0\n",
            "_________________________________________________________________\n"
          ],
          "name": "stdout"
        }
      ]
    },
    {
      "cell_type": "code",
      "metadata": {
        "id": "PGTMIUVdjAKe"
      },
      "source": [
        "mlp_cb = get_callbacks('mlp_3H.h5')"
      ],
      "execution_count": 30,
      "outputs": []
    },
    {
      "cell_type": "code",
      "metadata": {
        "colab": {
          "base_uri": "https://localhost:8080/"
        },
        "id": "11VsmPCSi7ML",
        "outputId": "3f2925d2-36aa-4778-ea9e-ca5348156837"
      },
      "source": [
        "history_mlp = mlp_model.fit(\n",
        "    sequence_train,\n",
        "    train_target,\n",
        "    validation_data=(sequence_val, val_target),\n",
        "    epochs = 100,\n",
        "    batch_size=64,\n",
        "    callbacks=mlp_cb\n",
        ")"
      ],
      "execution_count": 52,
      "outputs": [
        {
          "output_type": "stream",
          "text": [
            "Epoch 1/100\n",
            "905/905 [==============================] - 4s 3ms/step - loss: 1.8113 - accuracy: 0.2156 - precision_5: 0.0000e+00 - recall_5: 0.0000e+00 - val_loss: 1.5374 - val_accuracy: 0.3956 - val_precision_5: 0.0000e+00 - val_recall_5: 0.0000e+00\n",
            "\n",
            "Epoch 00001: val_loss did not improve from 1.52669\n",
            "Epoch 2/100\n",
            "905/905 [==============================] - 3s 3ms/step - loss: 1.5289 - accuracy: 0.4001 - precision_5: 0.0000e+00 - recall_5: 0.0000e+00 - val_loss: 1.5291 - val_accuracy: 0.3956 - val_precision_5: 0.0000e+00 - val_recall_5: 0.0000e+00\n",
            "\n",
            "Epoch 00002: val_loss did not improve from 1.52669\n",
            "Epoch 3/100\n",
            "905/905 [==============================] - 3s 3ms/step - loss: 1.5323 - accuracy: 0.3948 - precision_5: 0.0000e+00 - recall_5: 0.0000e+00 - val_loss: 1.5290 - val_accuracy: 0.3956 - val_precision_5: 0.0000e+00 - val_recall_5: 0.0000e+00\n",
            "\n",
            "Epoch 00003: val_loss did not improve from 1.52669\n",
            "Epoch 4/100\n",
            "905/905 [==============================] - 3s 3ms/step - loss: 1.5333 - accuracy: 0.3938 - precision_5: 0.0000e+00 - recall_5: 0.0000e+00 - val_loss: 1.5289 - val_accuracy: 0.3956 - val_precision_5: 0.0000e+00 - val_recall_5: 0.0000e+00\n",
            "\n",
            "Epoch 00004: val_loss did not improve from 1.52669\n",
            "Epoch 5/100\n",
            "905/905 [==============================] - 3s 3ms/step - loss: 1.5295 - accuracy: 0.3957 - precision_5: 0.0000e+00 - recall_5: 0.0000e+00 - val_loss: 1.5292 - val_accuracy: 0.3956 - val_precision_5: 0.0000e+00 - val_recall_5: 0.0000e+00\n",
            "\n",
            "Epoch 00005: val_loss did not improve from 1.52669\n",
            "Epoch 6/100\n",
            "905/905 [==============================] - 3s 3ms/step - loss: 1.5304 - accuracy: 0.3929 - precision_5: 0.0000e+00 - recall_5: 0.0000e+00 - val_loss: 1.5289 - val_accuracy: 0.3956 - val_precision_5: 0.0000e+00 - val_recall_5: 0.0000e+00\n",
            "\n",
            "Epoch 00006: val_loss did not improve from 1.52669\n",
            "Epoch 7/100\n",
            "905/905 [==============================] - 3s 3ms/step - loss: 1.5299 - accuracy: 0.3945 - precision_5: 0.0000e+00 - recall_5: 0.0000e+00 - val_loss: 1.5291 - val_accuracy: 0.3956 - val_precision_5: 0.0000e+00 - val_recall_5: 0.0000e+00\n",
            "\n",
            "Epoch 00007: val_loss did not improve from 1.52669\n",
            "Epoch 8/100\n",
            "905/905 [==============================] - 3s 3ms/step - loss: 1.5317 - accuracy: 0.3957 - precision_5: 0.0000e+00 - recall_5: 0.0000e+00 - val_loss: 1.5292 - val_accuracy: 0.3956 - val_precision_5: 0.0000e+00 - val_recall_5: 0.0000e+00\n",
            "\n",
            "Epoch 00008: val_loss did not improve from 1.52669\n",
            "Epoch 9/100\n",
            "905/905 [==============================] - 3s 3ms/step - loss: 1.5280 - accuracy: 0.3950 - precision_5: 0.0000e+00 - recall_5: 0.0000e+00 - val_loss: 1.5289 - val_accuracy: 0.3956 - val_precision_5: 0.0000e+00 - val_recall_5: 0.0000e+00\n",
            "\n",
            "Epoch 00009: val_loss did not improve from 1.52669\n",
            "Epoch 10/100\n",
            "905/905 [==============================] - 3s 3ms/step - loss: 1.5293 - accuracy: 0.3975 - precision_5: 0.0000e+00 - recall_5: 0.0000e+00 - val_loss: 1.5289 - val_accuracy: 0.3956 - val_precision_5: 0.0000e+00 - val_recall_5: 0.0000e+00\n",
            "\n",
            "Epoch 00010: val_loss did not improve from 1.52669\n",
            "Epoch 11/100\n",
            "905/905 [==============================] - 3s 3ms/step - loss: 1.5285 - accuracy: 0.3964 - precision_5: 0.0000e+00 - recall_5: 0.0000e+00 - val_loss: 1.5292 - val_accuracy: 0.3956 - val_precision_5: 0.0000e+00 - val_recall_5: 0.0000e+00\n",
            "\n",
            "Epoch 00011: val_loss did not improve from 1.52669\n",
            "Epoch 12/100\n",
            "905/905 [==============================] - 3s 3ms/step - loss: 1.5254 - accuracy: 0.3975 - precision_5: 0.0000e+00 - recall_5: 0.0000e+00 - val_loss: 1.5289 - val_accuracy: 0.3956 - val_precision_5: 0.0000e+00 - val_recall_5: 0.0000e+00\n",
            "\n",
            "Epoch 00012: val_loss did not improve from 1.52669\n",
            "Epoch 13/100\n",
            "905/905 [==============================] - 3s 3ms/step - loss: 1.5292 - accuracy: 0.3954 - precision_5: 0.0000e+00 - recall_5: 0.0000e+00 - val_loss: 1.5289 - val_accuracy: 0.3956 - val_precision_5: 0.0000e+00 - val_recall_5: 0.0000e+00\n",
            "\n",
            "Epoch 00013: val_loss did not improve from 1.52669\n",
            "Epoch 14/100\n",
            "905/905 [==============================] - 3s 3ms/step - loss: 1.5261 - accuracy: 0.3988 - precision_5: 0.0000e+00 - recall_5: 0.0000e+00 - val_loss: 1.5289 - val_accuracy: 0.3956 - val_precision_5: 0.0000e+00 - val_recall_5: 0.0000e+00\n",
            "\n",
            "Epoch 00014: val_loss did not improve from 1.52669\n",
            "Epoch 15/100\n",
            "905/905 [==============================] - 3s 3ms/step - loss: 1.5295 - accuracy: 0.3934 - precision_5: 0.0000e+00 - recall_5: 0.0000e+00 - val_loss: 1.5289 - val_accuracy: 0.3956 - val_precision_5: 0.0000e+00 - val_recall_5: 0.0000e+00\n",
            "\n",
            "Epoch 00015: val_loss did not improve from 1.52669\n",
            "Epoch 16/100\n",
            "905/905 [==============================] - 3s 3ms/step - loss: 1.5294 - accuracy: 0.3931 - precision_5: 0.0000e+00 - recall_5: 0.0000e+00 - val_loss: 1.5289 - val_accuracy: 0.3956 - val_precision_5: 0.0000e+00 - val_recall_5: 0.0000e+00\n",
            "\n",
            "Epoch 00016: val_loss did not improve from 1.52669\n",
            "Epoch 17/100\n",
            "905/905 [==============================] - 3s 3ms/step - loss: 1.5300 - accuracy: 0.3938 - precision_5: 0.0000e+00 - recall_5: 0.0000e+00 - val_loss: 1.5288 - val_accuracy: 0.3956 - val_precision_5: 0.0000e+00 - val_recall_5: 0.0000e+00\n",
            "\n",
            "Epoch 00017: val_loss did not improve from 1.52669\n",
            "Epoch 18/100\n",
            "905/905 [==============================] - 3s 3ms/step - loss: 1.5311 - accuracy: 0.3937 - precision_5: 0.0000e+00 - recall_5: 0.0000e+00 - val_loss: 1.5291 - val_accuracy: 0.3956 - val_precision_5: 0.0000e+00 - val_recall_5: 0.0000e+00\n",
            "\n",
            "Epoch 00018: val_loss did not improve from 1.52669\n",
            "Epoch 19/100\n",
            "905/905 [==============================] - 3s 3ms/step - loss: 1.5282 - accuracy: 0.3973 - precision_5: 0.0000e+00 - recall_5: 0.0000e+00 - val_loss: 1.5289 - val_accuracy: 0.3956 - val_precision_5: 0.0000e+00 - val_recall_5: 0.0000e+00\n",
            "\n",
            "Epoch 00019: val_loss did not improve from 1.52669\n",
            "Epoch 20/100\n",
            "905/905 [==============================] - 3s 3ms/step - loss: 1.5273 - accuracy: 0.3970 - precision_5: 0.0000e+00 - recall_5: 0.0000e+00 - val_loss: 1.5288 - val_accuracy: 0.3956 - val_precision_5: 0.0000e+00 - val_recall_5: 0.0000e+00\n",
            "\n",
            "Epoch 00020: val_loss did not improve from 1.52669\n",
            "Epoch 21/100\n",
            "905/905 [==============================] - 3s 3ms/step - loss: 1.5256 - accuracy: 0.3947 - precision_5: 0.0000e+00 - recall_5: 0.0000e+00 - val_loss: 1.5289 - val_accuracy: 0.3956 - val_precision_5: 0.0000e+00 - val_recall_5: 0.0000e+00\n",
            "\n",
            "Epoch 00021: val_loss did not improve from 1.52669\n",
            "Epoch 22/100\n",
            "905/905 [==============================] - 3s 3ms/step - loss: 1.5334 - accuracy: 0.3946 - precision_5: 0.0000e+00 - recall_5: 0.0000e+00 - val_loss: 1.5291 - val_accuracy: 0.3956 - val_precision_5: 0.0000e+00 - val_recall_5: 0.0000e+00\n",
            "\n",
            "Epoch 00022: val_loss did not improve from 1.52669\n"
          ],
          "name": "stdout"
        }
      ]
    },
    {
      "cell_type": "code",
      "metadata": {
        "colab": {
          "base_uri": "https://localhost:8080/",
          "height": 282
        },
        "id": "TQp8Ly7dkAip",
        "outputId": "a0a758b5-2fb1-4caa-fb51-0da9285c6929"
      },
      "source": [
        "pd.DataFrame(history_mlp.history)[metr].plot()"
      ],
      "execution_count": 53,
      "outputs": [
        {
          "output_type": "execute_result",
          "data": {
            "text/plain": [
              "<matplotlib.axes._subplots.AxesSubplot at 0x7fba63280550>"
            ]
          },
          "metadata": {
            "tags": []
          },
          "execution_count": 53
        },
        {
          "output_type": "display_data",
          "data": {
            "image/png": "[encoded data removed]",
            "text/plain": [
              "<Figure size 432x288 with 1 Axes>"
            ]
          },
          "metadata": {
            "tags": [],
            "needs_background": "light"
          }
        }
      ]
    },
    {
      "cell_type": "code",
      "metadata": {
        "id": "jnlLBxrOjHnf"
      },
      "source": [
        "emb_cb = get_callbacks('emb.h5')"
      ],
      "execution_count": 31,
      "outputs": []
    },
    {
      "cell_type": "code",
      "metadata": {
        "colab": {
          "base_uri": "https://localhost:8080/"
        },
        "id": "yIxBSqdeiqdX",
        "outputId": "2d946316-a5fc-4b40-b2e5-1a001b0546e1"
      },
      "source": [
        "emb_model = build_emb()\n",
        "emb_model.compile(\n",
        "        optimizer='Adam',\n",
        "        loss='categorical_crossentropy',\n",
        "        metrics=[\n",
        "                 'accuracy',\n",
        "                 Precision(), \n",
        "                 Recall()\n",
        "              ]\n",
        "          )\n",
        "emb_model.summary()"
      ],
      "execution_count": 29,
      "outputs": [
        {
          "output_type": "stream",
          "text": [
            "Model: \"sequential_2\"\n",
            "_________________________________________________________________\n",
            "Layer (type)                 Output Shape              Param #   \n",
            "=================================================================\n",
            "embedding (Embedding)        (None, 250, 32)           320000    \n",
            "_________________________________________________________________\n",
            "flatten (Flatten)            (None, 8000)              0         \n",
            "_________________________________________________________________\n",
            "dense_4 (Dense)              (None, 6)                 48006     \n",
            "=================================================================\n",
            "Total params: 368,006\n",
            "Trainable params: 368,006\n",
            "Non-trainable params: 0\n",
            "_________________________________________________________________\n"
          ],
          "name": "stdout"
        }
      ]
    }
  ]
}
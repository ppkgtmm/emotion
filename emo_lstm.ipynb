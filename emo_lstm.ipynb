{
  "nbformat": 4,
  "nbformat_minor": 0,
  "metadata": {
    "colab": {
      "name": "emo_lstm.ipynb",
      "provenance": [],
      "mount_file_id": "1JuX9U9tl8i1LtGkpn2gKvEUcpYZhaq-L",
      "authorship_tag": "ABX9TyP6CqPRWKzAAdJzFXwC/80i",
      "include_colab_link": true
    },
    "kernelspec": {
      "name": "python3",
      "display_name": "Python 3"
    },
    "language_info": {
      "name": "python"
    },
    "accelerator": "GPU"
  },
  "cells": [
    {
      "cell_type": "markdown",
      "metadata": {
        "id": "view-in-github",
        "colab_type": "text"
      },
      "source": [
        "<a href=\"https://colab.research.google.com/github/ppkgtmm/emotion/blob/LSTM/emo_lstm.ipynb\" target=\"_parent\"><img src=\"https://colab.research.google.com/assets/colab-badge.svg\" alt=\"Open In Colab\"/></a>"
      ]
    },
    {
      "cell_type": "code",
      "metadata": {
        "id": "WMj6s3qN_lQy"
      },
      "source": [
        "# !pip install -q keras-tuner\n",
        "# !rm -r emotion\n",
        "# !git clone --branch LSTM https://github.com/ppkgtmm/emotion.git emotion"
      ],
      "execution_count": 2,
      "outputs": []
    },
    {
      "cell_type": "code",
      "metadata": {
        "id": "b-q1M4K2Algm"
      },
      "source": [
        "import pandas as pd\n",
        "import numpy as np\n",
        "from keras.preprocessing.text import  Tokenizer\n",
        "from emotion.models import utils, lstm\n",
        "from kerastuner.tuners.bayesian import BayesianOptimization\n",
        "from kerastuner import HyperParameters"
      ],
      "execution_count": 3,
      "outputs": []
    },
    {
      "cell_type": "code",
      "metadata": {
        "id": "NAVRZDTwAwu-"
      },
      "source": [
        "num_words = 15000\n",
        "max_len = 300\n",
        "hp = HyperParameters()\n",
        "hp.Choice('output_dim',[128, 256])\n",
        "hp.Choice('optimizer', ['adam', 'amsgrad'])\n",
        "hp.Choice('lstm_units', [16, 32, 64, 128])\n",
        "hp.Fixed('max_len', max_len)\n",
        "hp.Fixed('num_words', num_words)\n",
        "seed = 1234"
      ],
      "execution_count": 4,
      "outputs": []
    },
    {
      "cell_type": "code",
      "metadata": {
        "colab": {
          "base_uri": "https://localhost:8080/",
          "height": 204
        },
        "id": "FQOC9c7TA4s7",
        "outputId": "0195bb22-35b5-4115-eb91-af9b781ab788"
      },
      "source": [
        "train, test = utils.read_and_split()\n",
        "train.sample(5)"
      ],
      "execution_count": 7,
      "outputs": [
        {
          "output_type": "execute_result",
          "data": {
            "text/html": [
              "<div>\n",
              "<style scoped>\n",
              "    .dataframe tbody tr th:only-of-type {\n",
              "        vertical-align: middle;\n",
              "    }\n",
              "\n",
              "    .dataframe tbody tr th {\n",
              "        vertical-align: top;\n",
              "    }\n",
              "\n",
              "    .dataframe thead th {\n",
              "        text-align: right;\n",
              "    }\n",
              "</style>\n",
              "<table border=\"1\" class=\"dataframe\">\n",
              "  <thead>\n",
              "    <tr style=\"text-align: right;\">\n",
              "      <th></th>\n",
              "      <th>text</th>\n",
              "      <th>target</th>\n",
              "    </tr>\n",
              "  </thead>\n",
              "  <tbody>\n",
              "    <tr>\n",
              "      <th>10357</th>\n",
              "      <td>i feel this urge to update because i resigned ...</td>\n",
              "      <td>sadness</td>\n",
              "    </tr>\n",
              "    <tr>\n",
              "      <th>12165</th>\n",
              "      <td>i feel threatened i feel fear</td>\n",
              "      <td>fear</td>\n",
              "    </tr>\n",
              "    <tr>\n",
              "      <th>1797</th>\n",
              "      <td>i am feeling very shaky</td>\n",
              "      <td>fear</td>\n",
              "    </tr>\n",
              "    <tr>\n",
              "      <th>6230</th>\n",
              "      <td>i liked just talking to someone and that butte...</td>\n",
              "      <td>love</td>\n",
              "    </tr>\n",
              "    <tr>\n",
              "      <th>9951</th>\n",
              "      <td>ive been feeling kinda crappy the last couple ...</td>\n",
              "      <td>sadness</td>\n",
              "    </tr>\n",
              "  </tbody>\n",
              "</table>\n",
              "</div>"
            ],
            "text/plain": [
              "                                                    text   target\n",
              "10357  i feel this urge to update because i resigned ...  sadness\n",
              "12165                      i feel threatened i feel fear     fear\n",
              "1797                             i am feeling very shaky     fear\n",
              "6230   i liked just talking to someone and that butte...     love\n",
              "9951   ive been feeling kinda crappy the last couple ...  sadness"
            ]
          },
          "metadata": {
            "tags": []
          },
          "execution_count": 7
        }
      ]
    },
    {
      "cell_type": "code",
      "metadata": {
        "id": "npcoa-SxBEZd"
      },
      "source": [
        "tokenizer = Tokenizer(num_words=num_words, oov_token='OOV')\n",
        "tokenizer.fit_on_texts(train['text'])"
      ],
      "execution_count": 8,
      "outputs": []
    },
    {
      "cell_type": "code",
      "metadata": {
        "id": "JdIp5TGeBGSd"
      },
      "source": [
        "sequence_train = utils.get_sequences(tokenizer, train['text'], max_len)\n",
        "sequence_test = utils.get_sequences(tokenizer, test['text'], max_len)"
      ],
      "execution_count": 9,
      "outputs": []
    },
    {
      "cell_type": "code",
      "metadata": {
        "id": "HmbC2TsxBJXw"
      },
      "source": [
        "target_train = utils.OH_fit_transform(train['target'])\n",
        "target_test = utils.OH_transform(test['target'])"
      ],
      "execution_count": 10,
      "outputs": []
    },
    {
      "cell_type": "code",
      "metadata": {
        "colab": {
          "base_uri": "https://localhost:8080/"
        },
        "id": "35A1fO1ABMhC",
        "outputId": "ac944c27-3bfd-48ca-c7e2-bcf7576cb2d5"
      },
      "source": [
        "tuner = BayesianOptimization( lstm.build_lstm,\n",
        "                              'val_accuracy',\n",
        "                              16,\n",
        "                              executions_per_trial=2,\n",
        "                              hyperparameters=hp, \n",
        "                              seed=seed,\n",
        "                              num_initial_points=5,\n",
        "                              project_name='/content/drive/MyDrive/__ed__/lstm_B32',\n",
        "                            )"
      ],
      "execution_count": 11,
      "outputs": [
        {
          "output_type": "stream",
          "text": [
            "Model: \"sequential\"\n",
            "_________________________________________________________________\n",
            "Layer (type)                 Output Shape              Param #   \n",
            "=================================================================\n",
            "embedding (Embedding)        (None, 300, 128)          1920000   \n",
            "_________________________________________________________________\n",
            "lstm (LSTM)                  (None, 16)                9280      \n",
            "_________________________________________________________________\n",
            "dense (Dense)                (None, 6)                 102       \n",
            "=================================================================\n",
            "Total params: 1,929,382\n",
            "Trainable params: 1,929,382\n",
            "Non-trainable params: 0\n",
            "_________________________________________________________________\n"
          ],
          "name": "stdout"
        }
      ]
    },
    {
      "cell_type": "code",
      "metadata": {
        "colab": {
          "base_uri": "https://localhost:8080/"
        },
        "id": "JTw_YSxOBdmH",
        "outputId": "26f9ca99-dda5-4f85-d911-7c7fca2f89d5"
      },
      "source": [
        "history = tuner.search(\n",
        "    sequence_train, target_train,\n",
        "    validation_split=0.1,\n",
        "    epochs=3\n",
        ")"
      ],
      "execution_count": 12,
      "outputs": [
        {
          "output_type": "stream",
          "text": [
            "Trial 16 Complete [00h 02m 56s]\n",
            "val_accuracy: 0.9244117438793182\n",
            "\n",
            "Best val_accuracy So Far: 0.9288235306739807\n",
            "Total elapsed time: 00h 42m 57s\n",
            "INFO:tensorflow:Oracle triggered exit\n"
          ],
          "name": "stdout"
        }
      ]
    },
    {
      "cell_type": "code",
      "metadata": {
        "colab": {
          "base_uri": "https://localhost:8080/"
        },
        "id": "PiaBmqPJLfI7",
        "outputId": "3c953519-f6d1-455a-8c6f-fd370e4bc3ba"
      },
      "source": [
        "tuner.search_space_summary()"
      ],
      "execution_count": 13,
      "outputs": [
        {
          "output_type": "stream",
          "text": [
            "Search space summary\n",
            "Default search space size: 5\n",
            "output_dim (Choice)\n",
            "{'default': 128, 'conditions': [], 'values': [128, 256], 'ordered': True}\n",
            "optimizer (Choice)\n",
            "{'default': 'adam', 'conditions': [], 'values': ['adam', 'amsgrad'], 'ordered': False}\n",
            "lstm_units (Choice)\n",
            "{'default': 16, 'conditions': [], 'values': [16, 32, 64, 128], 'ordered': True}\n",
            "max_len (Fixed)\n",
            "{'conditions': [], 'value': 300}\n",
            "num_words (Fixed)\n",
            "{'conditions': [], 'value': 15000}\n"
          ],
          "name": "stdout"
        }
      ]
    },
    {
      "cell_type": "code",
      "metadata": {
        "colab": {
          "base_uri": "https://localhost:8080/"
        },
        "id": "DW6uZblCLg11",
        "outputId": "04070603-27e6-4194-ebb0-66d99402b5d4"
      },
      "source": [
        "tuner.results_summary(num_trials=3)"
      ],
      "execution_count": 14,
      "outputs": [
        {
          "output_type": "stream",
          "text": [
            "Results summary\n",
            "Results in /content/drive/MyDrive/__ed__/lstm_B32\n",
            "Showing 3 best trials\n",
            "Objective(name='val_accuracy', direction='max')\n",
            "Trial summary\n",
            "Hyperparameters:\n",
            "output_dim: 256\n",
            "optimizer: amsgrad\n",
            "lstm_units: 128\n",
            "max_len: 300\n",
            "num_words: 15000\n",
            "Score: 0.9288235306739807\n",
            "Trial summary\n",
            "Hyperparameters:\n",
            "output_dim: 256\n",
            "optimizer: amsgrad\n",
            "lstm_units: 128\n",
            "max_len: 300\n",
            "num_words: 15000\n",
            "Score: 0.9288235306739807\n",
            "Trial summary\n",
            "Hyperparameters:\n",
            "output_dim: 256\n",
            "optimizer: amsgrad\n",
            "lstm_units: 128\n",
            "max_len: 300\n",
            "num_words: 15000\n",
            "Score: 0.9276470839977264\n"
          ],
          "name": "stdout"
        }
      ]
    },
    {
      "cell_type": "code",
      "metadata": {
        "colab": {
          "base_uri": "https://localhost:8080/"
        },
        "id": "p3tKIj-rBmHL",
        "outputId": "a50979a6-e509-4553-8a04-dfbff81042b6"
      },
      "source": [
        "best_model = tuner.get_best_models(num_models=1)[0]"
      ],
      "execution_count": 15,
      "outputs": [
        {
          "output_type": "stream",
          "text": [
            "Model: \"sequential\"\n",
            "_________________________________________________________________\n",
            "Layer (type)                 Output Shape              Param #   \n",
            "=================================================================\n",
            "embedding (Embedding)        (None, 300, 256)          3840000   \n",
            "_________________________________________________________________\n",
            "lstm (LSTM)                  (None, 128)               197120    \n",
            "_________________________________________________________________\n",
            "dense (Dense)                (None, 6)                 774       \n",
            "=================================================================\n",
            "Total params: 4,037,894\n",
            "Trainable params: 4,037,894\n",
            "Non-trainable params: 0\n",
            "_________________________________________________________________\n"
          ],
          "name": "stdout"
        }
      ]
    },
    {
      "cell_type": "code",
      "metadata": {
        "colab": {
          "base_uri": "https://localhost:8080/",
          "height": 708
        },
        "id": "u1BE0IEvLqFj",
        "outputId": "85547337-ba36-4a98-d065-4ecc005d58d7"
      },
      "source": [
        "utils.model_evaluate(best_model, sequence_test, target_test, 32)"
      ],
      "execution_count": 16,
      "outputs": [
        {
          "output_type": "stream",
          "text": [
            "/usr/local/lib/python3.7/dist-packages/tensorflow/python/keras/engine/sequential.py:450: UserWarning: `model.predict_classes()` is deprecated and will be removed after 2021-01-01. Please use instead:* `np.argmax(model.predict(x), axis=-1)`,   if your model does multi-class classification   (e.g. if it uses a `softmax` last-layer activation).* `(model.predict(x) > 0.5).astype(\"int32\")`,   if your model does binary classification   (e.g. if it uses a `sigmoid` last-layer activation).\n",
            "  warnings.warn('`model.predict_classes()` is deprecated and '\n"
          ],
          "name": "stderr"
        },
        {
          "output_type": "stream",
          "text": [
            "94/94 [==============================] - 1s 8ms/step\n",
            "Accuracy:\t91.6%\n",
            "\n",
            "\n",
            "              precision    recall  f1-score   support\n",
            "\n",
            "           0       0.90      0.94      0.92       406\n",
            "           1       0.91      0.85      0.88       356\n",
            "           2       0.95      0.91      0.93      1014\n",
            "           3       0.82      0.85      0.83       246\n",
            "           4       0.94      0.97      0.95       870\n",
            "           5       0.73      0.83      0.78       108\n",
            "\n",
            "    accuracy                           0.92      3000\n",
            "   macro avg       0.88      0.89      0.88      3000\n",
            "weighted avg       0.92      0.92      0.92      3000\n",
            "\n"
          ],
          "name": "stdout"
        },
        {
          "output_type": "display_data",
          "data": {
            "image/png": "[encoded data removed]",
            "text/plain": [
              "<Figure size 360x360 with 1 Axes>"
            ]
          },
          "metadata": {
            "tags": [],
            "needs_background": "light"
          }
        }
      ]
    },
    {
      "cell_type": "code",
      "metadata": {
        "id": "BQ4whGOgL3g0"
      },
      "source": [
        "# best_model.save('best_lstm.h5')\n",
        "# utils.dump(tokenizer,'/content/drive/MyDrive/__ed__/lstm_B32/tokenizer.pickle')"
      ],
      "execution_count": 18,
      "outputs": []
    },
    {
      "cell_type": "code",
      "metadata": {
        "colab": {
          "base_uri": "https://localhost:8080/",
          "height": 422
        },
        "id": "3CSmTsTCLxQa",
        "outputId": "9319269f-3238-435e-82de-062f914307a0"
      },
      "source": [
        "from keras.utils import plot_model\n",
        "plot_model(\n",
        "    best_model,\n",
        "    to_file='/content/drive/MyDrive/__ed__/lstm_B32/plot.png',\n",
        "    show_shapes=True,\n",
        "    show_dtype=True,\n",
        "    show_layer_names=True\n",
        "    )"
      ],
      "execution_count": 17,
      "outputs": [
        {
          "output_type": "execute_result",
          "data": {
            "image/png": "[encoded data removed]",
            "text/plain": [
              "<IPython.core.display.Image object>"
            ]
          },
          "metadata": {
            "tags": []
          },
          "execution_count": 17
        }
      ]
    }
  ]
}
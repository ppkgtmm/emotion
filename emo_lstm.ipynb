{
  "nbformat": 4,
  "nbformat_minor": 0,
  "metadata": {
    "colab": {
      "name": "emo_lstm.ipynb",
      "provenance": [],
      "mount_file_id": "1JuX9U9tl8i1LtGkpn2gKvEUcpYZhaq-L",
      "authorship_tag": "ABX9TyP+YNRDqvv8jYwf/OdStC61",
      "include_colab_link": true
    },
    "kernelspec": {
      "name": "python3",
      "display_name": "Python 3"
    },
    "language_info": {
      "name": "python"
    },
    "accelerator": "GPU"
  },
  "cells": [
    {
      "cell_type": "markdown",
      "metadata": {
        "id": "view-in-github",
        "colab_type": "text"
      },
      "source": [
        "<a href=\"https://colab.research.google.com/github/ppkgtmm/emotion/blob/BiGRU/emo_lstm.ipynb\" target=\"_parent\"><img src=\"https://colab.research.google.com/assets/colab-badge.svg\" alt=\"Open In Colab\"/></a>"
      ]
    },
    {
      "cell_type": "code",
      "metadata": {
        "id": "WMj6s3qN_lQy"
      },
      "source": [
        "# !pip install -q keras-tuner\n",
        "# !rm -r emotion\n",
        "# !git clone --branch BiGRU https://github.com/ppkgtmm/emotion.git emotion"
      ],
      "execution_count": 2,
      "outputs": []
    },
    {
      "cell_type": "code",
      "metadata": {
        "id": "b-q1M4K2Algm"
      },
      "source": [
        "import pandas as pd\n",
        "import numpy as np\n",
        "from keras.preprocessing.text import  Tokenizer\n",
        "from emotion.models import utils, lstm\n",
        "from kerastuner.tuners.bayesian import BayesianOptimization\n",
        "from kerastuner import HyperParameters"
      ],
      "execution_count": 3,
      "outputs": []
    },
    {
      "cell_type": "code",
      "metadata": {
        "id": "NAVRZDTwAwu-"
      },
      "source": [
        "num_words = 15000\n",
        "max_len = 300\n",
        "hp = HyperParameters()\n",
        "hp.Choice('output_dim',[128, 256])\n",
        "hp.Choice('optimizer', ['adam', 'amsgrad'])\n",
        "hp.Choice('lstm_units', [16, 32, 64, 128])\n",
        "hp.Fixed('max_len', max_len)\n",
        "hp.Fixed('num_words', num_words)\n",
        "seed = 1234"
      ],
      "execution_count": 4,
      "outputs": []
    },
    {
      "cell_type": "code",
      "metadata": {
        "colab": {
          "base_uri": "https://localhost:8080/",
          "height": 204
        },
        "id": "FQOC9c7TA4s7",
        "outputId": "088010aa-847e-495b-aa46-4eda6feb91ba"
      },
      "source": [
        "train, test = utils.read_and_split()\n",
        "train.sample(5)"
      ],
      "execution_count": 5,
      "outputs": [
        {
          "output_type": "execute_result",
          "data": {
            "text/html": [
              "<div>\n",
              "<style scoped>\n",
              "    .dataframe tbody tr th:only-of-type {\n",
              "        vertical-align: middle;\n",
              "    }\n",
              "\n",
              "    .dataframe tbody tr th {\n",
              "        vertical-align: top;\n",
              "    }\n",
              "\n",
              "    .dataframe thead th {\n",
              "        text-align: right;\n",
              "    }\n",
              "</style>\n",
              "<table border=\"1\" class=\"dataframe\">\n",
              "  <thead>\n",
              "    <tr style=\"text-align: right;\">\n",
              "      <th></th>\n",
              "      <th>text</th>\n",
              "      <th>target</th>\n",
              "    </tr>\n",
              "  </thead>\n",
              "  <tbody>\n",
              "    <tr>\n",
              "      <th>10230</th>\n",
              "      <td>i do when i feel lethargic</td>\n",
              "      <td>sadness</td>\n",
              "    </tr>\n",
              "    <tr>\n",
              "      <th>6273</th>\n",
              "      <td>i sing i swim this feels like a pleasant passi...</td>\n",
              "      <td>joy</td>\n",
              "    </tr>\n",
              "    <tr>\n",
              "      <th>1401</th>\n",
              "      <td>i understand the logic of having a student con...</td>\n",
              "      <td>sadness</td>\n",
              "    </tr>\n",
              "    <tr>\n",
              "      <th>16925</th>\n",
              "      <td>i am feeling triumphant i bang my helmet hard ...</td>\n",
              "      <td>joy</td>\n",
              "    </tr>\n",
              "    <tr>\n",
              "      <th>13290</th>\n",
              "      <td>i didnt need that reminder plus her words made...</td>\n",
              "      <td>sadness</td>\n",
              "    </tr>\n",
              "  </tbody>\n",
              "</table>\n",
              "</div>"
            ],
            "text/plain": [
              "                                                    text   target\n",
              "10230                         i do when i feel lethargic  sadness\n",
              "6273   i sing i swim this feels like a pleasant passi...      joy\n",
              "1401   i understand the logic of having a student con...  sadness\n",
              "16925  i am feeling triumphant i bang my helmet hard ...      joy\n",
              "13290  i didnt need that reminder plus her words made...  sadness"
            ]
          },
          "metadata": {
            "tags": []
          },
          "execution_count": 5
        }
      ]
    },
    {
      "cell_type": "code",
      "metadata": {
        "id": "npcoa-SxBEZd"
      },
      "source": [
        "tokenizer = Tokenizer(num_words=num_words, oov_token='OOV')\n",
        "tokenizer.fit_on_texts(train['text'])"
      ],
      "execution_count": 6,
      "outputs": []
    },
    {
      "cell_type": "code",
      "metadata": {
        "id": "JdIp5TGeBGSd"
      },
      "source": [
        "sequence_train = utils.get_sequences(tokenizer, train['text'], max_len)\n",
        "sequence_test = utils.get_sequences(tokenizer, test['text'], max_len)"
      ],
      "execution_count": 7,
      "outputs": []
    },
    {
      "cell_type": "code",
      "metadata": {
        "id": "HmbC2TsxBJXw"
      },
      "source": [
        "target_train = utils.OH_fit_transform(train['target'])\n",
        "target_test = utils.OH_transform(test['target'])"
      ],
      "execution_count": 8,
      "outputs": []
    },
    {
      "cell_type": "code",
      "metadata": {
        "colab": {
          "base_uri": "https://localhost:8080/"
        },
        "id": "35A1fO1ABMhC",
        "outputId": "a6cdfbf6-bbd3-4a44-b975-664c8b429cde"
      },
      "source": [
        "tuner = BayesianOptimization( lstm.build_lstm,\n",
        "                              'val_accuracy',\n",
        "                              16,\n",
        "                              executions_per_trial=2,\n",
        "                              hyperparameters=hp, \n",
        "                              seed=seed,\n",
        "                              num_initial_points=5,\n",
        "                              project_name='/content/drive/MyDrive/__ed__/lstm_B32',\n",
        "                            )"
      ],
      "execution_count": 9,
      "outputs": [
        {
          "output_type": "stream",
          "text": [
            "INFO:tensorflow:Reloading Oracle from existing project /content/drive/MyDrive/__ed__/lstm_B32/oracle.json\n",
            "Model: \"sequential\"\n",
            "_________________________________________________________________\n",
            "Layer (type)                 Output Shape              Param #   \n",
            "=================================================================\n",
            "embedding (Embedding)        (None, 300, 128)          1920000   \n",
            "_________________________________________________________________\n",
            "lstm (LSTM)                  (None, 16)                9280      \n",
            "_________________________________________________________________\n",
            "dense (Dense)                (None, 6)                 102       \n",
            "=================================================================\n",
            "Total params: 1,929,382\n",
            "Trainable params: 1,929,382\n",
            "Non-trainable params: 0\n",
            "_________________________________________________________________\n",
            "INFO:tensorflow:Reloading Tuner from /content/drive/MyDrive/__ed__/lstm_B32/tuner0.json\n"
          ],
          "name": "stdout"
        }
      ]
    },
    {
      "cell_type": "code",
      "metadata": {
        "colab": {
          "base_uri": "https://localhost:8080/"
        },
        "id": "JTw_YSxOBdmH",
        "outputId": "26f9ca99-dda5-4f85-d911-7c7fca2f89d5"
      },
      "source": [
        "history = tuner.search(\n",
        "    sequence_train, target_train,\n",
        "    validation_split=0.1,\n",
        "    epochs=3\n",
        ")"
      ],
      "execution_count": null,
      "outputs": [
        {
          "output_type": "stream",
          "text": [
            "Trial 16 Complete [00h 02m 56s]\n",
            "val_accuracy: 0.9244117438793182\n",
            "\n",
            "Best val_accuracy So Far: 0.9288235306739807\n",
            "Total elapsed time: 00h 42m 57s\n",
            "INFO:tensorflow:Oracle triggered exit\n"
          ],
          "name": "stdout"
        }
      ]
    },
    {
      "cell_type": "code",
      "metadata": {
        "colab": {
          "base_uri": "https://localhost:8080/"
        },
        "id": "PiaBmqPJLfI7",
        "outputId": "3c953519-f6d1-455a-8c6f-fd370e4bc3ba"
      },
      "source": [
        "tuner.search_space_summary()"
      ],
      "execution_count": null,
      "outputs": [
        {
          "output_type": "stream",
          "text": [
            "Search space summary\n",
            "Default search space size: 5\n",
            "output_dim (Choice)\n",
            "{'default': 128, 'conditions': [], 'values': [128, 256], 'ordered': True}\n",
            "optimizer (Choice)\n",
            "{'default': 'adam', 'conditions': [], 'values': ['adam', 'amsgrad'], 'ordered': False}\n",
            "lstm_units (Choice)\n",
            "{'default': 16, 'conditions': [], 'values': [16, 32, 64, 128], 'ordered': True}\n",
            "max_len (Fixed)\n",
            "{'conditions': [], 'value': 300}\n",
            "num_words (Fixed)\n",
            "{'conditions': [], 'value': 15000}\n"
          ],
          "name": "stdout"
        }
      ]
    },
    {
      "cell_type": "code",
      "metadata": {
        "colab": {
          "base_uri": "https://localhost:8080/"
        },
        "id": "DW6uZblCLg11",
        "outputId": "04070603-27e6-4194-ebb0-66d99402b5d4"
      },
      "source": [
        "tuner.results_summary(num_trials=3)"
      ],
      "execution_count": null,
      "outputs": [
        {
          "output_type": "stream",
          "text": [
            "Results summary\n",
            "Results in /content/drive/MyDrive/__ed__/lstm_B32\n",
            "Showing 3 best trials\n",
            "Objective(name='val_accuracy', direction='max')\n",
            "Trial summary\n",
            "Hyperparameters:\n",
            "output_dim: 256\n",
            "optimizer: amsgrad\n",
            "lstm_units: 128\n",
            "max_len: 300\n",
            "num_words: 15000\n",
            "Score: 0.9288235306739807\n",
            "Trial summary\n",
            "Hyperparameters:\n",
            "output_dim: 256\n",
            "optimizer: amsgrad\n",
            "lstm_units: 128\n",
            "max_len: 300\n",
            "num_words: 15000\n",
            "Score: 0.9288235306739807\n",
            "Trial summary\n",
            "Hyperparameters:\n",
            "output_dim: 256\n",
            "optimizer: amsgrad\n",
            "lstm_units: 128\n",
            "max_len: 300\n",
            "num_words: 15000\n",
            "Score: 0.9276470839977264\n"
          ],
          "name": "stdout"
        }
      ]
    },
    {
      "cell_type": "code",
      "metadata": {
        "colab": {
          "base_uri": "https://localhost:8080/"
        },
        "id": "p3tKIj-rBmHL",
        "outputId": "f9de89ff-bb3e-4f3a-9395-49c3e05b2c6f"
      },
      "source": [
        "best_model = tuner.get_best_models(num_models=1)[0]"
      ],
      "execution_count": 10,
      "outputs": [
        {
          "output_type": "stream",
          "text": [
            "Model: \"sequential\"\n",
            "_________________________________________________________________\n",
            "Layer (type)                 Output Shape              Param #   \n",
            "=================================================================\n",
            "embedding (Embedding)        (None, 300, 256)          3840000   \n",
            "_________________________________________________________________\n",
            "lstm (LSTM)                  (None, 128)               197120    \n",
            "_________________________________________________________________\n",
            "dense (Dense)                (None, 6)                 774       \n",
            "=================================================================\n",
            "Total params: 4,037,894\n",
            "Trainable params: 4,037,894\n",
            "Non-trainable params: 0\n",
            "_________________________________________________________________\n"
          ],
          "name": "stdout"
        }
      ]
    },
    {
      "cell_type": "code",
      "metadata": {
        "colab": {
          "base_uri": "https://localhost:8080/",
          "height": 738
        },
        "id": "z55a-LxalZCu",
        "outputId": "d7ef2cdc-8d6a-4e15-9d77-730e62c98fbe"
      },
      "source": [
        "utils.model_evaluate(best_model, sequence_test, target_test, 32)"
      ],
      "execution_count": 12,
      "outputs": [
        {
          "output_type": "stream",
          "text": [
            "94/94 [==============================] - 1s 9ms/step\n",
            "Accuracy:\t91.6%\n",
            "\n",
            "\n",
            "              precision    recall  f1-score   support\n",
            "\n",
            "       anger       0.90      0.94      0.92       406\n",
            "        fear       0.91      0.85      0.88       356\n",
            "         joy       0.95      0.91      0.93      1014\n",
            "        love       0.82      0.85      0.83       246\n",
            "     sadness       0.94      0.97      0.95       870\n",
            "    surprise       0.73      0.83      0.78       108\n",
            "\n",
            "    accuracy                           0.92      3000\n",
            "   macro avg       0.88      0.89      0.88      3000\n",
            "weighted avg       0.92      0.92      0.92      3000\n",
            "\n"
          ],
          "name": "stdout"
        },
        {
          "output_type": "display_data",
          "data": {
            "text/plain": [
              "<Figure size 432x288 with 0 Axes>"
            ]
          },
          "metadata": {
            "tags": []
          }
        },
        {
          "output_type": "display_data",
          "data": {
            "image/png": "[encoded data removed]",
            "text/plain": [
              "<Figure size 432x432 with 1 Axes>"
            ]
          },
          "metadata": {
            "tags": [],
            "needs_background": "light"
          }
        }
      ]
    },
    {
      "cell_type": "code",
      "metadata": {
        "id": "BQ4whGOgL3g0"
      },
      "source": [
        "# best_model.save('best_lstm.h5')\n",
        "# utils.dump(tokenizer,'/content/drive/MyDrive/__ed__/lstm_B32/tokenizer.pickle')"
      ],
      "execution_count": null,
      "outputs": []
    },
    {
      "cell_type": "code",
      "metadata": {
        "colab": {
          "base_uri": "https://localhost:8080/",
          "height": 422
        },
        "id": "3CSmTsTCLxQa",
        "outputId": "9319269f-3238-435e-82de-062f914307a0"
      },
      "source": [
        "from keras.utils import plot_model\n",
        "plot_model(\n",
        "    best_model,\n",
        "    to_file='/content/drive/MyDrive/__ed__/lstm_B32/plot.png',\n",
        "    show_shapes=True,\n",
        "    show_dtype=True,\n",
        "    show_layer_names=True\n",
        "    )"
      ],
      "execution_count": null,
      "outputs": [
        {
          "output_type": "execute_result",
          "data": {
            "image/png": "[encoded data removed]",
            "text/plain": [
              "<IPython.core.display.Image object>"
            ]
          },
          "metadata": {
            "tags": []
          },
          "execution_count": 17
        }
      ]
    }
  ]
}
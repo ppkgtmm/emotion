{
  "nbformat": 4,
  "nbformat_minor": 0,
  "metadata": {
    "colab": {
      "name": "emo_gru.ipynb",
      "provenance": [],
      "mount_file_id": "1uuwn3dnZVHGo1yJcE9QoBemGlrEHXtuV",
      "authorship_tag": "ABX9TyM8hHTPGu8k7xqywAMdmUEB",
      "include_colab_link": true
    },
    "kernelspec": {
      "name": "python3",
      "display_name": "Python 3"
    },
    "language_info": {
      "name": "python"
    },
    "accelerator": "GPU"
  },
  "cells": [
    {
      "cell_type": "markdown",
      "metadata": {
        "id": "view-in-github",
        "colab_type": "text"
      },
      "source": [
        "<a href=\"https://colab.research.google.com/github/ppkgtmm/emotion/blob/BiGRU/emo_gru.ipynb\" target=\"_parent\"><img src=\"https://colab.research.google.com/assets/colab-badge.svg\" alt=\"Open In Colab\"/></a>"
      ]
    },
    {
      "cell_type": "code",
      "metadata": {
        "id": "BR-_Hb6VAFAV"
      },
      "source": [
        "# !pip install -q keras-tuner\n",
        "# !rm -r emotion\n",
        "# !git clone --branch BiGRU https://github.com/ppkgtmm/emotion.git emotion"
      ],
      "execution_count": 2,
      "outputs": []
    },
    {
      "cell_type": "code",
      "metadata": {
        "id": "V5niYNvCBVzd"
      },
      "source": [
        "import pandas as pd\n",
        "import numpy as np\n",
        "from keras.preprocessing.text import  Tokenizer\n",
        "from emotion.models import utils, gru\n",
        "from kerastuner.tuners.bayesian import BayesianOptimization\n",
        "from kerastuner import HyperParameters"
      ],
      "execution_count": 3,
      "outputs": []
    },
    {
      "cell_type": "code",
      "metadata": {
        "id": "SkgQur2WBYUU"
      },
      "source": [
        "num_words = 15000\n",
        "max_len = 300\n",
        "hp = HyperParameters()\n",
        "hp.Choice('output_dim',[128, 256])\n",
        "hp.Choice('optimizer', ['adam', 'amsgrad'])\n",
        "hp.Choice('gru_units', [16, 32, 64])\n",
        "hp.Fixed('max_len', max_len)\n",
        "hp.Fixed('num_words', num_words)\n",
        "seed = 1234"
      ],
      "execution_count": 4,
      "outputs": []
    },
    {
      "cell_type": "code",
      "metadata": {
        "colab": {
          "base_uri": "https://localhost:8080/",
          "height": 204
        },
        "id": "OdLdYJ1YCGia",
        "outputId": "0836501d-e6df-4849-ba25-330505cea330"
      },
      "source": [
        "train, test = utils.read_and_split()\n",
        "train.sample(5)"
      ],
      "execution_count": 5,
      "outputs": [
        {
          "output_type": "execute_result",
          "data": {
            "text/html": [
              "<div>\n",
              "<style scoped>\n",
              "    .dataframe tbody tr th:only-of-type {\n",
              "        vertical-align: middle;\n",
              "    }\n",
              "\n",
              "    .dataframe tbody tr th {\n",
              "        vertical-align: top;\n",
              "    }\n",
              "\n",
              "    .dataframe thead th {\n",
              "        text-align: right;\n",
              "    }\n",
              "</style>\n",
              "<table border=\"1\" class=\"dataframe\">\n",
              "  <thead>\n",
              "    <tr style=\"text-align: right;\">\n",
              "      <th></th>\n",
              "      <th>text</th>\n",
              "      <th>target</th>\n",
              "    </tr>\n",
              "  </thead>\n",
              "  <tbody>\n",
              "    <tr>\n",
              "      <th>15311</th>\n",
              "      <td>i don t even think that i should feel ashamed ...</td>\n",
              "      <td>sadness</td>\n",
              "    </tr>\n",
              "    <tr>\n",
              "      <th>18985</th>\n",
              "      <td>i feel about this part of my life and how trea...</td>\n",
              "      <td>love</td>\n",
              "    </tr>\n",
              "    <tr>\n",
              "      <th>11308</th>\n",
              "      <td>i feel slightly dazed and tired and angry but ...</td>\n",
              "      <td>surprise</td>\n",
              "    </tr>\n",
              "    <tr>\n",
              "      <th>3502</th>\n",
              "      <td>i feel sorry for the employees but if this is ...</td>\n",
              "      <td>sadness</td>\n",
              "    </tr>\n",
              "    <tr>\n",
              "      <th>8135</th>\n",
              "      <td>i feel so blessed to be a part of your days</td>\n",
              "      <td>love</td>\n",
              "    </tr>\n",
              "  </tbody>\n",
              "</table>\n",
              "</div>"
            ],
            "text/plain": [
              "                                                    text    target\n",
              "15311  i don t even think that i should feel ashamed ...   sadness\n",
              "18985  i feel about this part of my life and how trea...      love\n",
              "11308  i feel slightly dazed and tired and angry but ...  surprise\n",
              "3502   i feel sorry for the employees but if this is ...   sadness\n",
              "8135         i feel so blessed to be a part of your days      love"
            ]
          },
          "metadata": {
            "tags": []
          },
          "execution_count": 5
        }
      ]
    },
    {
      "cell_type": "code",
      "metadata": {
        "id": "tjHiakcZCJy1"
      },
      "source": [
        "tokenizer = Tokenizer(num_words=num_words, oov_token='OOV')\n",
        "tokenizer.fit_on_texts(train['text'])"
      ],
      "execution_count": 6,
      "outputs": []
    },
    {
      "cell_type": "code",
      "metadata": {
        "id": "CB0WuCWbCMzj"
      },
      "source": [
        "sequence_train = utils.get_sequences(tokenizer, train['text'], max_len)\n",
        "sequence_test = utils.get_sequences(tokenizer, test['text'], max_len)"
      ],
      "execution_count": 7,
      "outputs": []
    },
    {
      "cell_type": "code",
      "metadata": {
        "id": "G-m0GXlwCPoO"
      },
      "source": [
        "target_train = utils.OH_fit_transform(train['target'])\n",
        "target_test = utils.OH_transform(test['target'])"
      ],
      "execution_count": 8,
      "outputs": []
    },
    {
      "cell_type": "code",
      "metadata": {
        "colab": {
          "base_uri": "https://localhost:8080/"
        },
        "id": "DJ7u2N0jCSnN",
        "outputId": "3e5a3f6a-b227-4b9c-f54a-f8cabaacb9bb"
      },
      "source": [
        "tuner = BayesianOptimization( gru.build_gru,\n",
        "                              'val_accuracy',\n",
        "                              12,\n",
        "                              executions_per_trial=2,\n",
        "                              hyperparameters=hp, \n",
        "                              seed=seed,\n",
        "                              num_initial_points=5,\n",
        "                              project_name='/content/drive/MyDrive/__ed__/gru_B32',\n",
        "                            )"
      ],
      "execution_count": 9,
      "outputs": [
        {
          "output_type": "stream",
          "text": [
            "INFO:tensorflow:Reloading Oracle from existing project /content/drive/MyDrive/__ed__/gru_B32/oracle.json\n",
            "Model: \"sequential\"\n",
            "_________________________________________________________________\n",
            "Layer (type)                 Output Shape              Param #   \n",
            "=================================================================\n",
            "embedding (Embedding)        (None, 300, 128)          1920000   \n",
            "_________________________________________________________________\n",
            "gru (GRU)                    (None, 16)                7008      \n",
            "_________________________________________________________________\n",
            "dense (Dense)                (None, 6)                 102       \n",
            "=================================================================\n",
            "Total params: 1,927,110\n",
            "Trainable params: 1,927,110\n",
            "Non-trainable params: 0\n",
            "_________________________________________________________________\n",
            "INFO:tensorflow:Reloading Tuner from /content/drive/MyDrive/__ed__/gru_B32/tuner0.json\n"
          ],
          "name": "stdout"
        }
      ]
    },
    {
      "cell_type": "code",
      "metadata": {
        "colab": {
          "base_uri": "https://localhost:8080/"
        },
        "id": "Kf9bHOapCjxX",
        "outputId": "70bfd089-8006-4200-8b68-90ea88c97324"
      },
      "source": [
        "history = tuner.search(\n",
        "    sequence_train, target_train,\n",
        "             validation_split=0.1,\n",
        "             epochs=3)"
      ],
      "execution_count": null,
      "outputs": [
        {
          "output_type": "stream",
          "text": [
            "Trial 12 Complete [00h 02m 53s]\n",
            "val_accuracy: 0.9358823299407959\n",
            "\n",
            "Best val_accuracy So Far: 0.9358823299407959\n",
            "Total elapsed time: 00h 30m 54s\n",
            "INFO:tensorflow:Oracle triggered exit\n"
          ],
          "name": "stdout"
        }
      ]
    },
    {
      "cell_type": "code",
      "metadata": {
        "colab": {
          "base_uri": "https://localhost:8080/"
        },
        "id": "Y_-7L82IJ0-s",
        "outputId": "004bb01f-29b0-4cb5-d04a-1093dceb534b"
      },
      "source": [
        "tuner.search_space_summary()"
      ],
      "execution_count": null,
      "outputs": [
        {
          "output_type": "stream",
          "text": [
            "Search space summary\n",
            "Default search space size: 5\n",
            "output_dim (Choice)\n",
            "{'default': 128, 'conditions': [], 'values': [128, 256], 'ordered': True}\n",
            "optimizer (Choice)\n",
            "{'default': 'adam', 'conditions': [], 'values': ['adam', 'amsgrad'], 'ordered': False}\n",
            "gru_units (Choice)\n",
            "{'default': 16, 'conditions': [], 'values': [16, 32, 64], 'ordered': True}\n",
            "max_len (Fixed)\n",
            "{'conditions': [], 'value': 300}\n",
            "num_words (Fixed)\n",
            "{'conditions': [], 'value': 15000}\n"
          ],
          "name": "stdout"
        }
      ]
    },
    {
      "cell_type": "code",
      "metadata": {
        "colab": {
          "base_uri": "https://localhost:8080/"
        },
        "id": "6i1tjqsKFDR5",
        "outputId": "40fd961f-a701-4968-d9af-d6260ed73b2e"
      },
      "source": [
        "tuner.results_summary(num_trials=3)"
      ],
      "execution_count": null,
      "outputs": [
        {
          "output_type": "stream",
          "text": [
            "Results summary\n",
            "Results in /content/drive/MyDrive/__ed__/gru_B32\n",
            "Showing 3 best trials\n",
            "Objective(name='val_accuracy', direction='max')\n",
            "Trial summary\n",
            "Hyperparameters:\n",
            "output_dim: 256\n",
            "optimizer: amsgrad\n",
            "gru_units: 64\n",
            "max_len: 300\n",
            "num_words: 15000\n",
            "Score: 0.9358823299407959\n",
            "Trial summary\n",
            "Hyperparameters:\n",
            "output_dim: 256\n",
            "optimizer: amsgrad\n",
            "gru_units: 64\n",
            "max_len: 300\n",
            "num_words: 15000\n",
            "Score: 0.9344117641448975\n",
            "Trial summary\n",
            "Hyperparameters:\n",
            "output_dim: 256\n",
            "optimizer: adam\n",
            "gru_units: 64\n",
            "max_len: 300\n",
            "num_words: 15000\n",
            "Score: 0.9344117641448975\n"
          ],
          "name": "stdout"
        }
      ]
    },
    {
      "cell_type": "code",
      "metadata": {
        "colab": {
          "base_uri": "https://localhost:8080/"
        },
        "id": "dU3tcJp2J6wK",
        "outputId": "be65bd7a-5859-4f80-8080-d1c5c826c816"
      },
      "source": [
        "best_model = tuner.get_best_models(num_models=1)[0]"
      ],
      "execution_count": 10,
      "outputs": [
        {
          "output_type": "stream",
          "text": [
            "Model: \"sequential\"\n",
            "_________________________________________________________________\n",
            "Layer (type)                 Output Shape              Param #   \n",
            "=================================================================\n",
            "embedding (Embedding)        (None, 300, 256)          3840000   \n",
            "_________________________________________________________________\n",
            "gru (GRU)                    (None, 64)                61824     \n",
            "_________________________________________________________________\n",
            "dense (Dense)                (None, 6)                 390       \n",
            "=================================================================\n",
            "Total params: 3,902,214\n",
            "Trainable params: 3,902,214\n",
            "Non-trainable params: 0\n",
            "_________________________________________________________________\n"
          ],
          "name": "stdout"
        }
      ]
    },
    {
      "cell_type": "code",
      "metadata": {
        "colab": {
          "base_uri": "https://localhost:8080/",
          "height": 738
        },
        "id": "GUBhaBRZKBa5",
        "outputId": "104f7767-8c19-4b34-854d-5809fc791d80"
      },
      "source": [
        "utils.model_evaluate(best_model, sequence_test, target_test, 32)"
      ],
      "execution_count": 11,
      "outputs": [
        {
          "output_type": "stream",
          "text": [
            "94/94 [==============================] - 32s 8ms/step\n",
            "Accuracy:\t92.4%\n",
            "\n",
            "\n",
            "              precision    recall  f1-score   support\n",
            "\n",
            "       anger       0.89      0.96      0.92       406\n",
            "        fear       0.91      0.88      0.89       356\n",
            "         joy       0.97      0.91      0.94      1014\n",
            "        love       0.77      0.89      0.83       246\n",
            "     sadness       0.96      0.97      0.97       870\n",
            "    surprise       0.82      0.81      0.81       108\n",
            "\n",
            "    accuracy                           0.92      3000\n",
            "   macro avg       0.89      0.90      0.89      3000\n",
            "weighted avg       0.93      0.92      0.92      3000\n",
            "\n"
          ],
          "name": "stdout"
        },
        {
          "output_type": "display_data",
          "data": {
            "text/plain": [
              "<Figure size 432x288 with 0 Axes>"
            ]
          },
          "metadata": {
            "tags": []
          }
        },
        {
          "output_type": "display_data",
          "data": {
            "image/png": "[encoded data removed]",
            "text/plain": [
              "<Figure size 432x432 with 1 Axes>"
            ]
          },
          "metadata": {
            "tags": [],
            "needs_background": "light"
          }
        }
      ]
    },
    {
      "cell_type": "code",
      "metadata": {
        "id": "JoS6QIfrKljk"
      },
      "source": [
        "# best_model.save('best_gru.h5')\n",
        "# utils.dump(tokenizer,'/content/drive/MyDrive/__ed__/gru_B32/tokenizer.pickle')"
      ],
      "execution_count": null,
      "outputs": []
    },
    {
      "cell_type": "code",
      "metadata": {
        "colab": {
          "base_uri": "https://localhost:8080/",
          "height": 422
        },
        "id": "ILkvmlrIKJ39",
        "outputId": "9b66992b-dc1a-4ae0-84b9-b6c7cb0719f1"
      },
      "source": [
        "from keras.utils import plot_model\n",
        "plot_model(\n",
        "    best_model,\n",
        "    to_file='/content/drive/MyDrive/__ed__/gru_B32/plot.png',\n",
        "    show_shapes=True,\n",
        "    show_dtype=True,\n",
        "    show_layer_names=True\n",
        "    )"
      ],
      "execution_count": null,
      "outputs": [
        {
          "output_type": "execute_result",
          "data": {
            "image/png": "[encoded data removed]",
            "text/plain": [
              "<IPython.core.display.Image object>"
            ]
          },
          "metadata": {
            "tags": []
          },
          "execution_count": 20
        }
      ]
    }
  ]
}
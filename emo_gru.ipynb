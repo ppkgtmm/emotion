{
  "nbformat": 4,
  "nbformat_minor": 0,
  "metadata": {
    "colab": {
      "name": "emo_gru.ipynb",
      "provenance": [],
      "mount_file_id": "1uuwn3dnZVHGo1yJcE9QoBemGlrEHXtuV",
      "authorship_tag": "ABX9TyPHYdP/5Uww5QYp5e+LzBHJ",
      "include_colab_link": true
    },
    "kernelspec": {
      "name": "python3",
      "display_name": "Python 3"
    },
    "language_info": {
      "name": "python"
    },
    "accelerator": "GPU"
  },
  "cells": [
    {
      "cell_type": "markdown",
      "metadata": {
        "id": "view-in-github",
        "colab_type": "text"
      },
      "source": [
        "<a href=\"https://colab.research.google.com/github/ppkgtmm/emotion/blob/GRU/emo_gru.ipynb\" target=\"_parent\"><img src=\"https://colab.research.google.com/assets/colab-badge.svg\" alt=\"Open In Colab\"/></a>"
      ]
    },
    {
      "cell_type": "code",
      "metadata": {
        "id": "BR-_Hb6VAFAV"
      },
      "source": [
        "# !pip install -q keras-tuner\n",
        "# !rm -r emotion\n",
        "# !git clone --branch GRU https://github.com/ppkgtmm/emotion.git emotion"
      ],
      "execution_count": 2,
      "outputs": []
    },
    {
      "cell_type": "code",
      "metadata": {
        "id": "V5niYNvCBVzd"
      },
      "source": [
        "import pandas as pd\n",
        "import numpy as np\n",
        "from keras.preprocessing.text import  Tokenizer\n",
        "from emotion.models import utils, gru\n",
        "from kerastuner.tuners.bayesian import BayesianOptimization\n",
        "from kerastuner import HyperParameters"
      ],
      "execution_count": 6,
      "outputs": []
    },
    {
      "cell_type": "code",
      "metadata": {
        "id": "SkgQur2WBYUU"
      },
      "source": [
        "num_words = 15000\n",
        "max_len = 300\n",
        "hp = HyperParameters()\n",
        "hp.Choice('output_dim',[128, 256])\n",
        "hp.Choice('optimizer', ['adam', 'amsgrad'])\n",
        "hp.Choice('gru_units', [16, 32, 64])\n",
        "hp.Fixed('max_len', max_len)\n",
        "hp.Fixed('num_words', num_words)\n",
        "seed = 1234"
      ],
      "execution_count": 8,
      "outputs": []
    },
    {
      "cell_type": "code",
      "metadata": {
        "colab": {
          "base_uri": "https://localhost:8080/",
          "height": 204
        },
        "id": "OdLdYJ1YCGia",
        "outputId": "b0150f98-b283-4d86-e883-9aabccd9f91e"
      },
      "source": [
        "train, test = utils.read_and_split()\n",
        "train.sample(5)"
      ],
      "execution_count": 9,
      "outputs": [
        {
          "output_type": "execute_result",
          "data": {
            "text/html": [
              "<div>\n",
              "<style scoped>\n",
              "    .dataframe tbody tr th:only-of-type {\n",
              "        vertical-align: middle;\n",
              "    }\n",
              "\n",
              "    .dataframe tbody tr th {\n",
              "        vertical-align: top;\n",
              "    }\n",
              "\n",
              "    .dataframe thead th {\n",
              "        text-align: right;\n",
              "    }\n",
              "</style>\n",
              "<table border=\"1\" class=\"dataframe\">\n",
              "  <thead>\n",
              "    <tr style=\"text-align: right;\">\n",
              "      <th></th>\n",
              "      <th>text</th>\n",
              "      <th>target</th>\n",
              "    </tr>\n",
              "  </thead>\n",
              "  <tbody>\n",
              "    <tr>\n",
              "      <th>14451</th>\n",
              "      <td>i waited to hold my precious boy in my arms no...</td>\n",
              "      <td>joy</td>\n",
              "    </tr>\n",
              "    <tr>\n",
              "      <th>10380</th>\n",
              "      <td>i set off to drive back to derbyshire on frida...</td>\n",
              "      <td>sadness</td>\n",
              "    </tr>\n",
              "    <tr>\n",
              "      <th>15245</th>\n",
              "      <td>i feel dumb after that</td>\n",
              "      <td>sadness</td>\n",
              "    </tr>\n",
              "    <tr>\n",
              "      <th>9228</th>\n",
              "      <td>i feel strongly it could be helping people and...</td>\n",
              "      <td>fear</td>\n",
              "    </tr>\n",
              "    <tr>\n",
              "      <th>15842</th>\n",
              "      <td>im really feeling lonely</td>\n",
              "      <td>sadness</td>\n",
              "    </tr>\n",
              "  </tbody>\n",
              "</table>\n",
              "</div>"
            ],
            "text/plain": [
              "                                                    text   target\n",
              "14451  i waited to hold my precious boy in my arms no...      joy\n",
              "10380  i set off to drive back to derbyshire on frida...  sadness\n",
              "15245                             i feel dumb after that  sadness\n",
              "9228   i feel strongly it could be helping people and...     fear\n",
              "15842                           im really feeling lonely  sadness"
            ]
          },
          "metadata": {
            "tags": []
          },
          "execution_count": 9
        }
      ]
    },
    {
      "cell_type": "code",
      "metadata": {
        "id": "tjHiakcZCJy1"
      },
      "source": [
        "tokenizer = Tokenizer(num_words=num_words, oov_token='OOV')\n",
        "tokenizer.fit_on_texts(train['text'])"
      ],
      "execution_count": 10,
      "outputs": []
    },
    {
      "cell_type": "code",
      "metadata": {
        "id": "CB0WuCWbCMzj"
      },
      "source": [
        "sequence_train = utils.get_sequences(tokenizer, train['text'], max_len)\n",
        "sequence_test = utils.get_sequences(tokenizer, test['text'], max_len)"
      ],
      "execution_count": 11,
      "outputs": []
    },
    {
      "cell_type": "code",
      "metadata": {
        "id": "G-m0GXlwCPoO"
      },
      "source": [
        "target_train = utils.OH_fit_transform(train['target'])\n",
        "target_test = utils.OH_transform(test['target'])"
      ],
      "execution_count": 12,
      "outputs": []
    },
    {
      "cell_type": "code",
      "metadata": {
        "colab": {
          "base_uri": "https://localhost:8080/"
        },
        "id": "DJ7u2N0jCSnN",
        "outputId": "8d261f9b-d8cb-4d86-9949-3b9ac2f8b0c4"
      },
      "source": [
        "tuner = BayesianOptimization( gru.build_gru,\n",
        "                              'val_accuracy',\n",
        "                              12,\n",
        "                              executions_per_trial=2,\n",
        "                              hyperparameters=hp, \n",
        "                              seed=seed,\n",
        "                              num_initial_points=5,\n",
        "                              project_name='/content/drive/MyDrive/__ed__/gru_B32',\n",
        "                            )"
      ],
      "execution_count": 13,
      "outputs": [
        {
          "output_type": "stream",
          "text": [
            "Model: \"sequential\"\n",
            "_________________________________________________________________\n",
            "Layer (type)                 Output Shape              Param #   \n",
            "=================================================================\n",
            "embedding (Embedding)        (None, 300, 128)          1920000   \n",
            "_________________________________________________________________\n",
            "gru (GRU)                    (None, 16)                7008      \n",
            "_________________________________________________________________\n",
            "dense (Dense)                (None, 6)                 102       \n",
            "=================================================================\n",
            "Total params: 1,927,110\n",
            "Trainable params: 1,927,110\n",
            "Non-trainable params: 0\n",
            "_________________________________________________________________\n"
          ],
          "name": "stdout"
        }
      ]
    },
    {
      "cell_type": "code",
      "metadata": {
        "colab": {
          "base_uri": "https://localhost:8080/"
        },
        "id": "Kf9bHOapCjxX",
        "outputId": "70bfd089-8006-4200-8b68-90ea88c97324"
      },
      "source": [
        "history = tuner.search(\n",
        "    sequence_train, target_train,\n",
        "             validation_split=0.1,\n",
        "             epochs=3)"
      ],
      "execution_count": 14,
      "outputs": [
        {
          "output_type": "stream",
          "text": [
            "Trial 12 Complete [00h 02m 53s]\n",
            "val_accuracy: 0.9358823299407959\n",
            "\n",
            "Best val_accuracy So Far: 0.9358823299407959\n",
            "Total elapsed time: 00h 30m 54s\n",
            "INFO:tensorflow:Oracle triggered exit\n"
          ],
          "name": "stdout"
        }
      ]
    },
    {
      "cell_type": "code",
      "metadata": {
        "colab": {
          "base_uri": "https://localhost:8080/"
        },
        "id": "Y_-7L82IJ0-s",
        "outputId": "004bb01f-29b0-4cb5-d04a-1093dceb534b"
      },
      "source": [
        "tuner.search_space_summary()"
      ],
      "execution_count": 15,
      "outputs": [
        {
          "output_type": "stream",
          "text": [
            "Search space summary\n",
            "Default search space size: 5\n",
            "output_dim (Choice)\n",
            "{'default': 128, 'conditions': [], 'values': [128, 256], 'ordered': True}\n",
            "optimizer (Choice)\n",
            "{'default': 'adam', 'conditions': [], 'values': ['adam', 'amsgrad'], 'ordered': False}\n",
            "gru_units (Choice)\n",
            "{'default': 16, 'conditions': [], 'values': [16, 32, 64], 'ordered': True}\n",
            "max_len (Fixed)\n",
            "{'conditions': [], 'value': 300}\n",
            "num_words (Fixed)\n",
            "{'conditions': [], 'value': 15000}\n"
          ],
          "name": "stdout"
        }
      ]
    },
    {
      "cell_type": "code",
      "metadata": {
        "colab": {
          "base_uri": "https://localhost:8080/"
        },
        "id": "6i1tjqsKFDR5",
        "outputId": "40fd961f-a701-4968-d9af-d6260ed73b2e"
      },
      "source": [
        "tuner.results_summary(num_trials=3)"
      ],
      "execution_count": 16,
      "outputs": [
        {
          "output_type": "stream",
          "text": [
            "Results summary\n",
            "Results in /content/drive/MyDrive/__ed__/gru_B32\n",
            "Showing 3 best trials\n",
            "Objective(name='val_accuracy', direction='max')\n",
            "Trial summary\n",
            "Hyperparameters:\n",
            "output_dim: 256\n",
            "optimizer: amsgrad\n",
            "gru_units: 64\n",
            "max_len: 300\n",
            "num_words: 15000\n",
            "Score: 0.9358823299407959\n",
            "Trial summary\n",
            "Hyperparameters:\n",
            "output_dim: 256\n",
            "optimizer: amsgrad\n",
            "gru_units: 64\n",
            "max_len: 300\n",
            "num_words: 15000\n",
            "Score: 0.9344117641448975\n",
            "Trial summary\n",
            "Hyperparameters:\n",
            "output_dim: 256\n",
            "optimizer: adam\n",
            "gru_units: 64\n",
            "max_len: 300\n",
            "num_words: 15000\n",
            "Score: 0.9344117641448975\n"
          ],
          "name": "stdout"
        }
      ]
    },
    {
      "cell_type": "code",
      "metadata": {
        "colab": {
          "base_uri": "https://localhost:8080/"
        },
        "id": "dU3tcJp2J6wK",
        "outputId": "34f0547b-291a-4bc6-af3a-c47e8cd9d653"
      },
      "source": [
        "best_model = tuner.get_best_models(num_models=1)[0]"
      ],
      "execution_count": 17,
      "outputs": [
        {
          "output_type": "stream",
          "text": [
            "Model: \"sequential\"\n",
            "_________________________________________________________________\n",
            "Layer (type)                 Output Shape              Param #   \n",
            "=================================================================\n",
            "embedding (Embedding)        (None, 300, 256)          3840000   \n",
            "_________________________________________________________________\n",
            "gru (GRU)                    (None, 64)                61824     \n",
            "_________________________________________________________________\n",
            "dense (Dense)                (None, 6)                 390       \n",
            "=================================================================\n",
            "Total params: 3,902,214\n",
            "Trainable params: 3,902,214\n",
            "Non-trainable params: 0\n",
            "_________________________________________________________________\n"
          ],
          "name": "stdout"
        }
      ]
    },
    {
      "cell_type": "code",
      "metadata": {
        "colab": {
          "base_uri": "https://localhost:8080/",
          "height": 708
        },
        "id": "GUBhaBRZKBa5",
        "outputId": "b8b85f6f-2fdd-48ea-b027-d4c6225eb9fb"
      },
      "source": [
        "utils.model_evaluate(best_model, sequence_test, target_test, 32)"
      ],
      "execution_count": 19,
      "outputs": [
        {
          "output_type": "stream",
          "text": [
            "13/94 [===>..........................] - ETA: 0s"
          ],
          "name": "stdout"
        },
        {
          "output_type": "stream",
          "text": [
            "/usr/local/lib/python3.7/dist-packages/tensorflow/python/keras/engine/sequential.py:450: UserWarning: `model.predict_classes()` is deprecated and will be removed after 2021-01-01. Please use instead:* `np.argmax(model.predict(x), axis=-1)`,   if your model does multi-class classification   (e.g. if it uses a `softmax` last-layer activation).* `(model.predict(x) > 0.5).astype(\"int32\")`,   if your model does binary classification   (e.g. if it uses a `sigmoid` last-layer activation).\n",
            "  warnings.warn('`model.predict_classes()` is deprecated and '\n"
          ],
          "name": "stderr"
        },
        {
          "output_type": "stream",
          "text": [
            "94/94 [==============================] - 1s 8ms/step\n",
            "Accuracy:\t92.4%\n",
            "\n",
            "\n",
            "              precision    recall  f1-score   support\n",
            "\n",
            "           0       0.89      0.96      0.92       406\n",
            "           1       0.91      0.88      0.89       356\n",
            "           2       0.97      0.91      0.94      1014\n",
            "           3       0.77      0.89      0.83       246\n",
            "           4       0.96      0.97      0.97       870\n",
            "           5       0.82      0.81      0.81       108\n",
            "\n",
            "    accuracy                           0.92      3000\n",
            "   macro avg       0.89      0.90      0.89      3000\n",
            "weighted avg       0.93      0.92      0.92      3000\n",
            "\n"
          ],
          "name": "stdout"
        },
        {
          "output_type": "display_data",
          "data": {
            "image/png": "[encoded data removed]",
            "text/plain": [
              "<Figure size 360x360 with 1 Axes>"
            ]
          },
          "metadata": {
            "tags": [],
            "needs_background": "light"
          }
        }
      ]
    },
    {
      "cell_type": "code",
      "metadata": {
        "id": "JoS6QIfrKljk"
      },
      "source": [
        "# best_model.save('best_gru.h5')\n",
        "# utils.dump(tokenizer,'/content/drive/MyDrive/__ed__/gru_B32/tokenizer.pickle')"
      ],
      "execution_count": 21,
      "outputs": []
    },
    {
      "cell_type": "code",
      "metadata": {
        "colab": {
          "base_uri": "https://localhost:8080/",
          "height": 422
        },
        "id": "ILkvmlrIKJ39",
        "outputId": "9b66992b-dc1a-4ae0-84b9-b6c7cb0719f1"
      },
      "source": [
        "from keras.utils import plot_model\n",
        "plot_model(\n",
        "    best_model,\n",
        "    to_file='/content/drive/MyDrive/__ed__/gru_B32/plot.png',\n",
        "    show_shapes=True,\n",
        "    show_dtype=True,\n",
        "    show_layer_names=True\n",
        "    )"
      ],
      "execution_count": 20,
      "outputs": [
        {
          "output_type": "execute_result",
          "data": {
            "image/png": "[encoded data removed]",
            "text/plain": [
              "<IPython.core.display.Image object>"
            ]
          },
          "metadata": {
            "tags": []
          },
          "execution_count": 20
        }
      ]
    }
  ]
}
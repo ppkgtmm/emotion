{
  "nbformat": 4,
  "nbformat_minor": 0,
  "metadata": {
    "colab": {
      "name": "emo_EDA.ipynb",
      "provenance": [],
      "collapsed_sections": [],
      "mount_file_id": "1g4wd541AB1VBtwC-gHIv_vw1Y_lmZEyf",
      "authorship_tag": "ABX9TyNhyNf+A1kYFv3W7Nd4IZCl",
      "include_colab_link": true
    },
    "kernelspec": {
      "name": "python3",
      "display_name": "Python 3"
    }
  },
  "cells": [
    {
      "cell_type": "markdown",
      "metadata": {
        "id": "view-in-github",
        "colab_type": "text"
      },
      "source": [
        "<a href=\"https://colab.research.google.com/github/ppkgtmm/emotion/blob/main/emo_EDA.ipynb\" target=\"_parent\"><img src=\"https://colab.research.google.com/assets/colab-badge.svg\" alt=\"Open In Colab\"/></a>"
      ]
    },
    {
      "cell_type": "code",
      "metadata": {
        "id": "QXlzbGiZ3uiI"
      },
      "source": [
        "# !pip install keras-tuner\n",
        "# !git clone --branch utils https://github.com/ppkgtmm/sentiment.git sentiment"
      ],
      "execution_count": 8,
      "outputs": []
    },
    {
      "cell_type": "code",
      "metadata": {
        "id": "w1hnCb_L8jLS"
      },
      "source": [
        "from sentiment.utils import read_data\n",
        "import pandas as pd\n",
        "import math\n",
        "import matplotlib.pyplot as plt\n",
        "import re\n",
        "import nltk\n",
        "from unicodedata import normalize\n",
        "import collections"
      ],
      "execution_count": 68,
      "outputs": []
    },
    {
      "cell_type": "code",
      "metadata": {
        "colab": {
          "base_uri": "https://localhost:8080/"
        },
        "id": "WDt6NXLnHNc4",
        "outputId": "5bde3f15-051a-4689-bfda-9cc7f76c73a3"
      },
      "source": [
        "nltk.download('punkt')\n",
        "from nltk import word_tokenize"
      ],
      "execution_count": 69,
      "outputs": [
        {
          "output_type": "stream",
          "text": [
            "[nltk_data] Downloading package punkt to /root/nltk_data...\n",
            "[nltk_data]   Unzipping tokenizers/punkt.zip.\n"
          ],
          "name": "stdout"
        }
      ]
    },
    {
      "cell_type": "code",
      "metadata": {
        "id": "KMRuDtiQCkCo"
      },
      "source": [
        "cols = ['text', 'emotions']"
      ],
      "execution_count": 39,
      "outputs": []
    },
    {
      "cell_type": "code",
      "metadata": {
        "id": "DNr3Gimb81w6"
      },
      "source": [
        "data = read_data('/content/drive/MyDrive/emotion/data/text_emo_tweet.csv', cols)"
      ],
      "execution_count": 40,
      "outputs": []
    },
    {
      "cell_type": "code",
      "metadata": {
        "colab": {
          "base_uri": "https://localhost:8080/"
        },
        "id": "iJwF_44DCPtC",
        "outputId": "8df8ee25-2101-4bbc-fa1a-f1a5681e63df"
      },
      "source": [
        "data.info()"
      ],
      "execution_count": 41,
      "outputs": [
        {
          "output_type": "stream",
          "text": [
            "<class 'pandas.core.frame.DataFrame'>\n",
            "RangeIndex: 50000 entries, 0 to 49999\n",
            "Data columns (total 2 columns):\n",
            " #   Column    Non-Null Count  Dtype \n",
            "---  ------    --------------  ----- \n",
            " 0   text      50000 non-null  object\n",
            " 1   emotions  50000 non-null  object\n",
            "dtypes: object(2)\n",
            "memory usage: 781.4+ KB\n"
          ],
          "name": "stdout"
        }
      ]
    },
    {
      "cell_type": "code",
      "metadata": {
        "colab": {
          "base_uri": "https://localhost:8080/",
          "height": 80
        },
        "id": "NF0q1dqs9AeG",
        "outputId": "015a9046-aa95-482f-abac-3630abde938c"
      },
      "source": [
        "data[['text']].describe().transpose()"
      ],
      "execution_count": 42,
      "outputs": [
        {
          "output_type": "execute_result",
          "data": {
            "text/html": [
              "<div>\n",
              "<style scoped>\n",
              "    .dataframe tbody tr th:only-of-type {\n",
              "        vertical-align: middle;\n",
              "    }\n",
              "\n",
              "    .dataframe tbody tr th {\n",
              "        vertical-align: top;\n",
              "    }\n",
              "\n",
              "    .dataframe thead th {\n",
              "        text-align: right;\n",
              "    }\n",
              "</style>\n",
              "<table border=\"1\" class=\"dataframe\">\n",
              "  <thead>\n",
              "    <tr style=\"text-align: right;\">\n",
              "      <th></th>\n",
              "      <th>count</th>\n",
              "      <th>unique</th>\n",
              "      <th>top</th>\n",
              "      <th>freq</th>\n",
              "    </tr>\n",
              "  </thead>\n",
              "  <tbody>\n",
              "    <tr>\n",
              "      <th>text</th>\n",
              "      <td>50000</td>\n",
              "      <td>49672</td>\n",
              "      <td>i expected hoped but being at unca has certain...</td>\n",
              "      <td>2</td>\n",
              "    </tr>\n",
              "  </tbody>\n",
              "</table>\n",
              "</div>"
            ],
            "text/plain": [
              "      count unique                                                top freq\n",
              "text  50000  49672  i expected hoped but being at unca has certain...    2"
            ]
          },
          "metadata": {
            "tags": []
          },
          "execution_count": 42
        }
      ]
    },
    {
      "cell_type": "code",
      "metadata": {
        "colab": {
          "base_uri": "https://localhost:8080/",
          "height": 235
        },
        "id": "jCspjpTQ_lie",
        "outputId": "3f2b08cb-dc6c-428b-c04d-ef991ed59fe9"
      },
      "source": [
        "data.groupby('emotions').count().reset_index()"
      ],
      "execution_count": 47,
      "outputs": [
        {
          "output_type": "execute_result",
          "data": {
            "text/html": [
              "<div>\n",
              "<style scoped>\n",
              "    .dataframe tbody tr th:only-of-type {\n",
              "        vertical-align: middle;\n",
              "    }\n",
              "\n",
              "    .dataframe tbody tr th {\n",
              "        vertical-align: top;\n",
              "    }\n",
              "\n",
              "    .dataframe thead th {\n",
              "        text-align: right;\n",
              "    }\n",
              "</style>\n",
              "<table border=\"1\" class=\"dataframe\">\n",
              "  <thead>\n",
              "    <tr style=\"text-align: right;\">\n",
              "      <th></th>\n",
              "      <th>emotions</th>\n",
              "      <th>text</th>\n",
              "    </tr>\n",
              "  </thead>\n",
              "  <tbody>\n",
              "    <tr>\n",
              "      <th>0</th>\n",
              "      <td>anger</td>\n",
              "      <td>6923</td>\n",
              "    </tr>\n",
              "    <tr>\n",
              "      <th>1</th>\n",
              "      <td>fear</td>\n",
              "      <td>5635</td>\n",
              "    </tr>\n",
              "    <tr>\n",
              "      <th>2</th>\n",
              "      <td>joy</td>\n",
              "      <td>16982</td>\n",
              "    </tr>\n",
              "    <tr>\n",
              "      <th>3</th>\n",
              "      <td>love</td>\n",
              "      <td>4163</td>\n",
              "    </tr>\n",
              "    <tr>\n",
              "      <th>4</th>\n",
              "      <td>sadness</td>\n",
              "      <td>14553</td>\n",
              "    </tr>\n",
              "    <tr>\n",
              "      <th>5</th>\n",
              "      <td>surprise</td>\n",
              "      <td>1744</td>\n",
              "    </tr>\n",
              "  </tbody>\n",
              "</table>\n",
              "</div>"
            ],
            "text/plain": [
              "   emotions   text\n",
              "0     anger   6923\n",
              "1      fear   5635\n",
              "2       joy  16982\n",
              "3      love   4163\n",
              "4   sadness  14553\n",
              "5  surprise   1744"
            ]
          },
          "metadata": {
            "tags": []
          },
          "execution_count": 47
        }
      ]
    },
    {
      "cell_type": "code",
      "metadata": {
        "colab": {
          "base_uri": "https://localhost:8080/",
          "height": 235
        },
        "id": "B8-Q7uxVEGAF",
        "outputId": "f91ce57f-23a5-464e-f03e-77adf74032b4"
      },
      "source": [
        "target_dist = data.groupby('emotions').count().reset_index()\n",
        "target_dist['proportion'] = target_dist['text'] / sum(list(target_dist['text']))\n",
        "target_dist"
      ],
      "execution_count": 48,
      "outputs": [
        {
          "output_type": "execute_result",
          "data": {
            "text/html": [
              "<div>\n",
              "<style scoped>\n",
              "    .dataframe tbody tr th:only-of-type {\n",
              "        vertical-align: middle;\n",
              "    }\n",
              "\n",
              "    .dataframe tbody tr th {\n",
              "        vertical-align: top;\n",
              "    }\n",
              "\n",
              "    .dataframe thead th {\n",
              "        text-align: right;\n",
              "    }\n",
              "</style>\n",
              "<table border=\"1\" class=\"dataframe\">\n",
              "  <thead>\n",
              "    <tr style=\"text-align: right;\">\n",
              "      <th></th>\n",
              "      <th>emotions</th>\n",
              "      <th>text</th>\n",
              "      <th>proportion</th>\n",
              "    </tr>\n",
              "  </thead>\n",
              "  <tbody>\n",
              "    <tr>\n",
              "      <th>0</th>\n",
              "      <td>anger</td>\n",
              "      <td>6923</td>\n",
              "      <td>0.13846</td>\n",
              "    </tr>\n",
              "    <tr>\n",
              "      <th>1</th>\n",
              "      <td>fear</td>\n",
              "      <td>5635</td>\n",
              "      <td>0.11270</td>\n",
              "    </tr>\n",
              "    <tr>\n",
              "      <th>2</th>\n",
              "      <td>joy</td>\n",
              "      <td>16982</td>\n",
              "      <td>0.33964</td>\n",
              "    </tr>\n",
              "    <tr>\n",
              "      <th>3</th>\n",
              "      <td>love</td>\n",
              "      <td>4163</td>\n",
              "      <td>0.08326</td>\n",
              "    </tr>\n",
              "    <tr>\n",
              "      <th>4</th>\n",
              "      <td>sadness</td>\n",
              "      <td>14553</td>\n",
              "      <td>0.29106</td>\n",
              "    </tr>\n",
              "    <tr>\n",
              "      <th>5</th>\n",
              "      <td>surprise</td>\n",
              "      <td>1744</td>\n",
              "      <td>0.03488</td>\n",
              "    </tr>\n",
              "  </tbody>\n",
              "</table>\n",
              "</div>"
            ],
            "text/plain": [
              "   emotions   text  proportion\n",
              "0     anger   6923     0.13846\n",
              "1      fear   5635     0.11270\n",
              "2       joy  16982     0.33964\n",
              "3      love   4163     0.08326\n",
              "4   sadness  14553     0.29106\n",
              "5  surprise   1744     0.03488"
            ]
          },
          "metadata": {
            "tags": []
          },
          "execution_count": 48
        }
      ]
    },
    {
      "cell_type": "code",
      "metadata": {
        "colab": {
          "base_uri": "https://localhost:8080/",
          "height": 340
        },
        "id": "wJFlU-rEE5Vi",
        "outputId": "9d4999df-0c95-4d32-aa31-a9c0c7bed4af"
      },
      "source": [
        "target_dist.plot(x='emotions', y='proportion', kind='barh', rot=0, \\\n",
        "                 colormap='Pastel1', fontsize=12, figsize=(5,5))"
      ],
      "execution_count": 54,
      "outputs": [
        {
          "output_type": "execute_result",
          "data": {
            "text/plain": [
              "<matplotlib.axes._subplots.AxesSubplot at 0x7fb4887376d0>"
            ]
          },
          "metadata": {
            "tags": []
          },
          "execution_count": 54
        },
        {
          "output_type": "display_data",
          "data": {
            "image/png": "[encoded data removed]",
            "text/plain": [
              "<Figure size 360x360 with 1 Axes>"
            ]
          },
          "metadata": {
            "tags": [],
            "needs_background": "light"
          }
        }
      ]
    },
    {
      "cell_type": "code",
      "metadata": {
        "id": "mnM6QCvSGBSv"
      },
      "source": [
        "copy = data.copy()\n",
        "copy['word_count'] = copy['text'].apply(lambda x: len(x.split(' ')))"
      ],
      "execution_count": 55,
      "outputs": []
    },
    {
      "cell_type": "code",
      "metadata": {
        "id": "t5G1aINsFAYl"
      },
      "source": [
        "def avg_word_length(text):\n",
        "    words = text.split(' ')\n",
        "    length = [len(w) for w in words]\n",
        "    return math.ceil(sum(length) / len(length))\n",
        "\n",
        "copy['avg_word_length'] = copy['text'].apply(avg_word_length)"
      ],
      "execution_count": 58,
      "outputs": []
    },
    {
      "cell_type": "code",
      "metadata": {
        "colab": {
          "base_uri": "https://localhost:8080/",
          "height": 204
        },
        "id": "w2RXyoHxGYUm",
        "outputId": "5e08fc49-b713-4f5c-b913-3dd9bd3aa18f"
      },
      "source": [
        "copy.head(5)"
      ],
      "execution_count": 59,
      "outputs": [
        {
          "output_type": "execute_result",
          "data": {
            "text/html": [
              "<div>\n",
              "<style scoped>\n",
              "    .dataframe tbody tr th:only-of-type {\n",
              "        vertical-align: middle;\n",
              "    }\n",
              "\n",
              "    .dataframe tbody tr th {\n",
              "        vertical-align: top;\n",
              "    }\n",
              "\n",
              "    .dataframe thead th {\n",
              "        text-align: right;\n",
              "    }\n",
              "</style>\n",
              "<table border=\"1\" class=\"dataframe\">\n",
              "  <thead>\n",
              "    <tr style=\"text-align: right;\">\n",
              "      <th></th>\n",
              "      <th>text</th>\n",
              "      <th>emotions</th>\n",
              "      <th>word_count</th>\n",
              "      <th>avg_word_length</th>\n",
              "    </tr>\n",
              "  </thead>\n",
              "  <tbody>\n",
              "    <tr>\n",
              "      <th>0</th>\n",
              "      <td>i learned these past weeks and i confess to fe...</td>\n",
              "      <td>joy</td>\n",
              "      <td>23</td>\n",
              "      <td>5</td>\n",
              "    </tr>\n",
              "    <tr>\n",
              "      <th>1</th>\n",
              "      <td>i guess it just makes no sense to think that t...</td>\n",
              "      <td>joy</td>\n",
              "      <td>55</td>\n",
              "      <td>4</td>\n",
              "    </tr>\n",
              "    <tr>\n",
              "      <th>2</th>\n",
              "      <td>i shopped from the comfort of my sofa and mana...</td>\n",
              "      <td>joy</td>\n",
              "      <td>22</td>\n",
              "      <td>5</td>\n",
              "    </tr>\n",
              "    <tr>\n",
              "      <th>3</th>\n",
              "      <td>ive been feeling restless and im not sure why</td>\n",
              "      <td>fear</td>\n",
              "      <td>9</td>\n",
              "      <td>5</td>\n",
              "    </tr>\n",
              "    <tr>\n",
              "      <th>4</th>\n",
              "      <td>i was not feeling very long suffering</td>\n",
              "      <td>sadness</td>\n",
              "      <td>7</td>\n",
              "      <td>5</td>\n",
              "    </tr>\n",
              "  </tbody>\n",
              "</table>\n",
              "</div>"
            ],
            "text/plain": [
              "                                                text  ... avg_word_length\n",
              "0  i learned these past weeks and i confess to fe...  ...               5\n",
              "1  i guess it just makes no sense to think that t...  ...               4\n",
              "2  i shopped from the comfort of my sofa and mana...  ...               5\n",
              "3      ive been feeling restless and im not sure why  ...               5\n",
              "4              i was not feeling very long suffering  ...               5\n",
              "\n",
              "[5 rows x 4 columns]"
            ]
          },
          "metadata": {
            "tags": []
          },
          "execution_count": 59
        }
      ]
    },
    {
      "cell_type": "code",
      "metadata": {
        "colab": {
          "base_uri": "https://localhost:8080/",
          "height": 111
        },
        "id": "nvtd4mbgGbnk",
        "outputId": "3ad65f1c-ac65-4246-b4af-768bb2c8ee48"
      },
      "source": [
        "copy.describe().transpose()"
      ],
      "execution_count": 61,
      "outputs": [
        {
          "output_type": "execute_result",
          "data": {
            "text/html": [
              "<div>\n",
              "<style scoped>\n",
              "    .dataframe tbody tr th:only-of-type {\n",
              "        vertical-align: middle;\n",
              "    }\n",
              "\n",
              "    .dataframe tbody tr th {\n",
              "        vertical-align: top;\n",
              "    }\n",
              "\n",
              "    .dataframe thead th {\n",
              "        text-align: right;\n",
              "    }\n",
              "</style>\n",
              "<table border=\"1\" class=\"dataframe\">\n",
              "  <thead>\n",
              "    <tr style=\"text-align: right;\">\n",
              "      <th></th>\n",
              "      <th>count</th>\n",
              "      <th>mean</th>\n",
              "      <th>std</th>\n",
              "      <th>min</th>\n",
              "      <th>25%</th>\n",
              "      <th>50%</th>\n",
              "      <th>75%</th>\n",
              "      <th>max</th>\n",
              "    </tr>\n",
              "  </thead>\n",
              "  <tbody>\n",
              "    <tr>\n",
              "      <th>word_count</th>\n",
              "      <td>50000.0</td>\n",
              "      <td>19.2701</td>\n",
              "      <td>11.015951</td>\n",
              "      <td>1.0</td>\n",
              "      <td>11.0</td>\n",
              "      <td>17.0</td>\n",
              "      <td>25.0</td>\n",
              "      <td>69.0</td>\n",
              "    </tr>\n",
              "    <tr>\n",
              "      <th>avg_word_length</th>\n",
              "      <td>50000.0</td>\n",
              "      <td>4.6057</td>\n",
              "      <td>0.649797</td>\n",
              "      <td>2.0</td>\n",
              "      <td>4.0</td>\n",
              "      <td>5.0</td>\n",
              "      <td>5.0</td>\n",
              "      <td>8.0</td>\n",
              "    </tr>\n",
              "  </tbody>\n",
              "</table>\n",
              "</div>"
            ],
            "text/plain": [
              "                   count     mean        std  min   25%   50%   75%   max\n",
              "word_count       50000.0  19.2701  11.015951  1.0  11.0  17.0  25.0  69.0\n",
              "avg_word_length  50000.0   4.6057   0.649797  2.0   4.0   5.0   5.0   8.0"
            ]
          },
          "metadata": {
            "tags": []
          },
          "execution_count": 61
        }
      ]
    },
    {
      "cell_type": "code",
      "metadata": {
        "colab": {
          "base_uri": "https://localhost:8080/",
          "height": 394
        },
        "id": "I7i0xw8ZGjCm",
        "outputId": "11fb54f0-a51e-40ab-f26e-818b771288a4"
      },
      "source": [
        "copy.word_count.plot(kind='kde', fontsize=12, figsize=(5,6))"
      ],
      "execution_count": 62,
      "outputs": [
        {
          "output_type": "execute_result",
          "data": {
            "text/plain": [
              "<matplotlib.axes._subplots.AxesSubplot at 0x7fb488557d10>"
            ]
          },
          "metadata": {
            "tags": []
          },
          "execution_count": 62
        },
        {
          "output_type": "display_data",
          "data": {
            "image/png": "[encoded data removed]",
            "text/plain": [
              "<Figure size 360x432 with 1 Axes>"
            ]
          },
          "metadata": {
            "tags": [],
            "needs_background": "light"
          }
        }
      ]
    },
    {
      "cell_type": "code",
      "metadata": {
        "colab": {
          "base_uri": "https://localhost:8080/",
          "height": 394
        },
        "id": "NFQMd0mUGm58",
        "outputId": "a73c6fd7-d2d3-4dfc-d4d2-8370fc299885"
      },
      "source": [
        "copy.avg_word_length.plot(kind='kde', fontsize=12, figsize=(5,6))"
      ],
      "execution_count": 63,
      "outputs": [
        {
          "output_type": "execute_result",
          "data": {
            "text/plain": [
              "<matplotlib.axes._subplots.AxesSubplot at 0x7fb4891130d0>"
            ]
          },
          "metadata": {
            "tags": []
          },
          "execution_count": 63
        },
        {
          "output_type": "display_data",
          "data": {
            "image/png": "[encoded data removed]",
            "text/plain": [
              "<Figure size 360x432 with 1 Axes>"
            ]
          },
          "metadata": {
            "tags": [],
            "needs_background": "light"
          }
        }
      ]
    },
    {
      "cell_type": "code",
      "metadata": {
        "colab": {
          "base_uri": "https://localhost:8080/",
          "height": 394
        },
        "id": "T95QX2LFGqnb",
        "outputId": "e120a2d5-31b4-4dc7-a1a4-69d0489f3a4b"
      },
      "source": [
        "copy.word_count.plot(kind='box', fontsize=12, figsize=(5,6))"
      ],
      "execution_count": 64,
      "outputs": [
        {
          "output_type": "execute_result",
          "data": {
            "text/plain": [
              "<matplotlib.axes._subplots.AxesSubplot at 0x7fb4892eed10>"
            ]
          },
          "metadata": {
            "tags": []
          },
          "execution_count": 64
        },
        {
          "output_type": "display_data",
          "data": {
            "image/png": "[encoded data removed]",
            "text/plain": [
              "<Figure size 360x432 with 1 Axes>"
            ]
          },
          "metadata": {
            "tags": [],
            "needs_background": "light"
          }
        }
      ]
    },
    {
      "cell_type": "code",
      "metadata": {
        "colab": {
          "base_uri": "https://localhost:8080/",
          "height": 394
        },
        "id": "7_S5_LB9HgfX",
        "outputId": "6792fa4a-9c7b-4c00-9236-74220b907a8f"
      },
      "source": [
        "copy.avg_word_length.plot(kind='box', fontsize=12, figsize=(5,6))"
      ],
      "execution_count": 71,
      "outputs": [
        {
          "output_type": "execute_result",
          "data": {
            "text/plain": [
              "<matplotlib.axes._subplots.AxesSubplot at 0x7fb4753e9ad0>"
            ]
          },
          "metadata": {
            "tags": []
          },
          "execution_count": 71
        },
        {
          "output_type": "display_data",
          "data": {
            "image/png": "[encoded data removed]",
            "text/plain": [
              "<Figure size 360x432 with 1 Axes>"
            ]
          },
          "metadata": {
            "tags": [],
            "needs_background": "light"
          }
        }
      ]
    },
    {
      "cell_type": "code",
      "metadata": {
        "id": "ItLzHkzmHlVm"
      },
      "source": [
        "word_counts = collections.Counter(\" \".join(copy['text']).split())"
      ],
      "execution_count": 72,
      "outputs": []
    },
    {
      "cell_type": "code",
      "metadata": {
        "colab": {
          "base_uri": "https://localhost:8080/",
          "height": 204
        },
        "id": "WMGkwHajHoY8",
        "outputId": "c34828e4-e561-4d4b-abc8-f8fa1488dd8a"
      },
      "source": [
        "count_df = pd.DataFrame(word_counts.most_common(20))\n",
        "count_df.columns = ['word', 'count']\n",
        "count_df['proportion'] = count_df['count'] / sum(list(count_df['count']))\n",
        "count_df.head()"
      ],
      "execution_count": 73,
      "outputs": [
        {
          "output_type": "execute_result",
          "data": {
            "text/html": [
              "<div>\n",
              "<style scoped>\n",
              "    .dataframe tbody tr th:only-of-type {\n",
              "        vertical-align: middle;\n",
              "    }\n",
              "\n",
              "    .dataframe tbody tr th {\n",
              "        vertical-align: top;\n",
              "    }\n",
              "\n",
              "    .dataframe thead th {\n",
              "        text-align: right;\n",
              "    }\n",
              "</style>\n",
              "<table border=\"1\" class=\"dataframe\">\n",
              "  <thead>\n",
              "    <tr style=\"text-align: right;\">\n",
              "      <th></th>\n",
              "      <th>word</th>\n",
              "      <th>count</th>\n",
              "      <th>proportion</th>\n",
              "    </tr>\n",
              "  </thead>\n",
              "  <tbody>\n",
              "    <tr>\n",
              "      <th>0</th>\n",
              "      <td>i</td>\n",
              "      <td>81226</td>\n",
              "      <td>0.224408</td>\n",
              "    </tr>\n",
              "    <tr>\n",
              "      <th>1</th>\n",
              "      <td>feel</td>\n",
              "      <td>34787</td>\n",
              "      <td>0.096108</td>\n",
              "    </tr>\n",
              "    <tr>\n",
              "      <th>2</th>\n",
              "      <td>and</td>\n",
              "      <td>30085</td>\n",
              "      <td>0.083118</td>\n",
              "    </tr>\n",
              "    <tr>\n",
              "      <th>3</th>\n",
              "      <td>to</td>\n",
              "      <td>28260</td>\n",
              "      <td>0.078076</td>\n",
              "    </tr>\n",
              "    <tr>\n",
              "      <th>4</th>\n",
              "      <td>the</td>\n",
              "      <td>26249</td>\n",
              "      <td>0.072520</td>\n",
              "    </tr>\n",
              "  </tbody>\n",
              "</table>\n",
              "</div>"
            ],
            "text/plain": [
              "   word  count  proportion\n",
              "0     i  81226    0.224408\n",
              "1  feel  34787    0.096108\n",
              "2   and  30085    0.083118\n",
              "3    to  28260    0.078076\n",
              "4   the  26249    0.072520"
            ]
          },
          "metadata": {
            "tags": []
          },
          "execution_count": 73
        }
      ]
    },
    {
      "cell_type": "code",
      "metadata": {
        "colab": {
          "base_uri": "https://localhost:8080/",
          "height": 448
        },
        "id": "etu673bSHtVZ",
        "outputId": "be7f3900-059d-451e-a617-400943936e64"
      },
      "source": [
        "count_df.plot(kind='barh', x='word', y='proportion', rot=0, \\\n",
        "                 colormap='Pastel1', fontsize=12, figsize=(8,7))"
      ],
      "execution_count": 74,
      "outputs": [
        {
          "output_type": "execute_result",
          "data": {
            "text/plain": [
              "<matplotlib.axes._subplots.AxesSubplot at 0x7fb475362e90>"
            ]
          },
          "metadata": {
            "tags": []
          },
          "execution_count": 74
        },
        {
          "output_type": "display_data",
          "data": {
            "image/png": "[encoded data removed]",
            "text/plain": [
              "<Figure size 576x504 with 1 Axes>"
            ]
          },
          "metadata": {
            "tags": [],
            "needs_background": "light"
          }
        }
      ]
    },
    {
      "cell_type": "code",
      "metadata": {
        "id": "_s8Y6dYEGuLf"
      },
      "source": [
        "reserved_words = [\"EMAIL\", \"NUMBER\", \"MENTION\", \"URL\"]\n",
        "token_dict = {\n",
        "            \"ca\": \"can\",\n",
        "            \"wo\": \"will\",\n",
        "            \"sha\": \"shall\",\n",
        "            \"'ve\": \"have\",\n",
        "            \"'ll\": \"will\",\n",
        "            \"'m\": \"am\",\n",
        "            \"n't\": \"not\",\n",
        "            \"'re\": \"are\",\n",
        "        }\n",
        "word_dict = {\n",
        "            \"cant\": \"can not\",\n",
        "            \"couldnt\": \"could not\",\n",
        "            \"wont\": \"will not\",\n",
        "            \"pls\": \"please\",\n",
        "            \"plz\": \"please\",\n",
        "            \"youre\": \"you are\",\n",
        "            \"theyre\": \"they are\",\n",
        "            \"ive\": \"I have\",\n",
        "            \"havent\": \"have not\",\n",
        "            \"hasnt\": \"has not\",\n",
        "            \"hadnt\": \"had not\",\n",
        "            \"im\": \"I am\",\n",
        "            \"didnt\": \"did not\",\n",
        "            \"dont\": \"do not\",\n",
        "            \"doesnt\": \"does not\",\n",
        "            \"gotta\": \"got to\",\n",
        "            \"wanna\": \"want to\",\n",
        "            \"gonna\": \"going to\",\n",
        "            \"wannabe\": \"want to be\",\n",
        "            \"cannot\": \"can not\",\n",
        "        }"
      ],
      "execution_count": 65,
      "outputs": []
    },
    {
      "cell_type": "code",
      "metadata": {
        "id": "BduoQZ0BG8r5"
      },
      "source": [
        "def substitute(doc):\n",
        "        doc = re.sub(r\"<br />\", \" \", doc)\n",
        "        doc = re.sub(r\"\\S+@\\S+\", \" EMAIL \", doc)\n",
        "        doc = re.sub(r\"@\\S+\", \" MENTION \", doc)\n",
        "        doc = re.sub(r\"https?:\\S+|http?:\\S+\", \" URL \", doc)\n",
        "        doc = re.sub(r\"(\\d+\\-\\d+)|\\d+\", \" NUMBER \", doc)\n",
        "        doc = re.sub(r\"[^A-Za-z']\", \" \", doc)\n",
        "\n",
        "        return doc\n",
        "\n",
        "def expand(token):\n",
        "        if token in reserved_words:\n",
        "            return token\n",
        "        token = token.lower()\n",
        "        if token.lower().strip() == \"let's\":\n",
        "            return \"let us\"\n",
        "\n",
        "        if token.lower().strip() == \"'twas\":\n",
        "            return \"it was\"\n",
        "\n",
        "        if word_dict.get(token, None):\n",
        "            return word_dict.get(token)\n",
        "\n",
        "        tokens = word_tokenize(token)\n",
        "        if len(tokens) == 1:\n",
        "            return word_dict.get(tokens[0], tokens[0])\n",
        "        for i in range(len(tokens)):\n",
        "            tokens[i] = token_dict.get(tokens[i], tokens[i])\n",
        "\n",
        "        return \" \".join(tokens)\n",
        "\n",
        "def preprocess(doc):\n",
        "        doc = normalize('NFD',doc).encode('ascii', 'ignore').decode('utf-8')\n",
        "        doc = substitute(doc)\n",
        "        tokens = doc.split()\n",
        "        doc = \" \".join([expand(w) for w in tokens])\n",
        "\n",
        "        tokens = doc.split()\n",
        "        tokens = [word for word in tokens if word.isalpha()]\n",
        "\n",
        "        tokens = [\n",
        "            word.lower() if word not in reserved_words else word for word in tokens\n",
        "        ]\n",
        "\n",
        "        return \" \".join(tokens)"
      ],
      "execution_count": 66,
      "outputs": []
    },
    {
      "cell_type": "code",
      "metadata": {
        "colab": {
          "base_uri": "https://localhost:8080/",
          "height": 52
        },
        "id": "zn-RuoiLHCZa",
        "outputId": "46236a0f-38c6-440d-a8c9-ea29fad8e8a6"
      },
      "source": [
        "preprocess(\"😂 @mama124 Im gonna enter http:bit.ly.12673/ab \\\n",
        "for 30th time :| don't know why cant i České Budějovic á Ś cé\")"
      ],
      "execution_count": 70,
      "outputs": [
        {
          "output_type": "execute_result",
          "data": {
            "application/vnd.google.colaboratory.intrinsic+json": {
              "type": "string"
            },
            "text/plain": [
              "'MENTION i am going to enter URL for NUMBER th time do not know why can not i ceske budejovic a s ce'"
            ]
          },
          "metadata": {
            "tags": []
          },
          "execution_count": 70
        }
      ]
    },
    {
      "cell_type": "code",
      "metadata": {
        "colab": {
          "base_uri": "https://localhost:8080/"
        },
        "id": "e7RUybF2HZ1Z",
        "outputId": "bcc8c4a2-7819-4ed1-f919-8e50ed7f69ef"
      },
      "source": [
        "%%time \n",
        "copy['text'] = copy['text'].apply(preprocess)"
      ],
      "execution_count": 75,
      "outputs": [
        {
          "output_type": "stream",
          "text": [
            "CPU times: user 1min 4s, sys: 11.2 ms, total: 1min 4s\n",
            "Wall time: 1min 4s\n"
          ],
          "name": "stdout"
        }
      ]
    },
    {
      "cell_type": "code",
      "metadata": {
        "id": "R50F3m20IYJA"
      },
      "source": [
        ""
      ],
      "execution_count": null,
      "outputs": []
    }
  ]
}
{
  "nbformat": 4,
  "nbformat_minor": 0,
  "metadata": {
    "colab": {
      "name": "emo_EDA.ipynb",
      "provenance": [],
      "collapsed_sections": [],
      "mount_file_id": "1g4wd541AB1VBtwC-gHIv_vw1Y_lmZEyf",
      "authorship_tag": "ABX9TyOiVYH9dJvgfkD3zYfpXspM",
      "include_colab_link": true
    },
    "kernelspec": {
      "name": "python3",
      "display_name": "Python 3"
    }
  },
  "cells": [
    {
      "cell_type": "markdown",
      "metadata": {
        "id": "view-in-github",
        "colab_type": "text"
      },
      "source": [
        "<a href=\"https://colab.research.google.com/github/ppkgtmm/emotion/blob/main/emo_EDA.ipynb\" target=\"_parent\"><img src=\"https://colab.research.google.com/assets/colab-badge.svg\" alt=\"Open In Colab\"/></a>"
      ]
    },
    {
      "cell_type": "code",
      "metadata": {
        "id": "QXlzbGiZ3uiI"
      },
      "source": [
        "# !pip install -q keras-tuner\n",
        "# !git clone --branch main https://github.com/ppkgtmm/sentiment.git sentiment"
      ],
      "execution_count": 2,
      "outputs": []
    },
    {
      "cell_type": "code",
      "metadata": {
        "id": "w1hnCb_L8jLS"
      },
      "source": [
        "from sentiment.models.utils import read_data\n",
        "import pandas as pd\n",
        "import math\n",
        "import matplotlib.pyplot as plt\n",
        "import re\n",
        "import nltk\n",
        "from unicodedata import normalize\n",
        "import collections"
      ],
      "execution_count": 4,
      "outputs": []
    },
    {
      "cell_type": "code",
      "metadata": {
        "colab": {
          "base_uri": "https://localhost:8080/"
        },
        "id": "WDt6NXLnHNc4",
        "outputId": "8a2ac7f9-98a5-4359-e7a4-c665627f11b4"
      },
      "source": [
        "nltk.download('punkt')\n",
        "from nltk import word_tokenize"
      ],
      "execution_count": 5,
      "outputs": [
        {
          "output_type": "stream",
          "text": [
            "[nltk_data] Downloading package punkt to /root/nltk_data...\n",
            "[nltk_data]   Unzipping tokenizers/punkt.zip.\n"
          ],
          "name": "stdout"
        }
      ]
    },
    {
      "cell_type": "code",
      "metadata": {
        "id": "KMRuDtiQCkCo"
      },
      "source": [
        "cols = ['text', 'target']"
      ],
      "execution_count": 7,
      "outputs": []
    },
    {
      "cell_type": "code",
      "metadata": {
        "id": "DNr3Gimb81w6"
      },
      "source": [
        "data = read_data('/content/drive/MyDrive/emotion/data/emotion_nlp.csv')"
      ],
      "execution_count": 8,
      "outputs": []
    },
    {
      "cell_type": "code",
      "metadata": {
        "colab": {
          "base_uri": "https://localhost:8080/",
          "height": 204
        },
        "id": "hVuSPWwMB1NJ",
        "outputId": "bc5e0128-dca5-4749-c96a-4bb5b7c9051a"
      },
      "source": [
        "data.sample(5)"
      ],
      "execution_count": 9,
      "outputs": [
        {
          "output_type": "execute_result",
          "data": {
            "text/html": [
              "<div>\n",
              "<style scoped>\n",
              "    .dataframe tbody tr th:only-of-type {\n",
              "        vertical-align: middle;\n",
              "    }\n",
              "\n",
              "    .dataframe tbody tr th {\n",
              "        vertical-align: top;\n",
              "    }\n",
              "\n",
              "    .dataframe thead th {\n",
              "        text-align: right;\n",
              "    }\n",
              "</style>\n",
              "<table border=\"1\" class=\"dataframe\">\n",
              "  <thead>\n",
              "    <tr style=\"text-align: right;\">\n",
              "      <th></th>\n",
              "      <th>text</th>\n",
              "      <th>target</th>\n",
              "    </tr>\n",
              "  </thead>\n",
              "  <tbody>\n",
              "    <tr>\n",
              "      <th>12712</th>\n",
              "      <td>my girlfriend who had spent months abroad brok...</td>\n",
              "      <td>sadness</td>\n",
              "    </tr>\n",
              "    <tr>\n",
              "      <th>8307</th>\n",
              "      <td>i thought i would challenge myself i really wa...</td>\n",
              "      <td>joy</td>\n",
              "    </tr>\n",
              "    <tr>\n",
              "      <th>5746</th>\n",
              "      <td>i have the dried bladders all ready for a day ...</td>\n",
              "      <td>joy</td>\n",
              "    </tr>\n",
              "    <tr>\n",
              "      <th>4891</th>\n",
              "      <td>i feel so sorry for the people affected</td>\n",
              "      <td>sadness</td>\n",
              "    </tr>\n",
              "    <tr>\n",
              "      <th>5371</th>\n",
              "      <td>i feel rebellious and think let them do so</td>\n",
              "      <td>anger</td>\n",
              "    </tr>\n",
              "  </tbody>\n",
              "</table>\n",
              "</div>"
            ],
            "text/plain": [
              "                                                    text   target\n",
              "12712  my girlfriend who had spent months abroad brok...  sadness\n",
              "8307   i thought i would challenge myself i really wa...      joy\n",
              "5746   i have the dried bladders all ready for a day ...      joy\n",
              "4891             i feel so sorry for the people affected  sadness\n",
              "5371          i feel rebellious and think let them do so    anger"
            ]
          },
          "metadata": {
            "tags": []
          },
          "execution_count": 9
        }
      ]
    },
    {
      "cell_type": "code",
      "metadata": {
        "colab": {
          "base_uri": "https://localhost:8080/"
        },
        "id": "iJwF_44DCPtC",
        "outputId": "a73d0941-1a11-424a-cd43-41c05d6328a9"
      },
      "source": [
        "data.info()"
      ],
      "execution_count": 10,
      "outputs": [
        {
          "output_type": "stream",
          "text": [
            "<class 'pandas.core.frame.DataFrame'>\n",
            "RangeIndex: 20000 entries, 0 to 19999\n",
            "Data columns (total 2 columns):\n",
            " #   Column  Non-Null Count  Dtype \n",
            "---  ------  --------------  ----- \n",
            " 0   text    20000 non-null  object\n",
            " 1   target  20000 non-null  object\n",
            "dtypes: object(2)\n",
            "memory usage: 312.6+ KB\n"
          ],
          "name": "stdout"
        }
      ]
    },
    {
      "cell_type": "code",
      "metadata": {
        "colab": {
          "base_uri": "https://localhost:8080/",
          "height": 80
        },
        "id": "NF0q1dqs9AeG",
        "outputId": "032168d8-194b-4518-e8bc-4b4816bded7c"
      },
      "source": [
        "data[['text']].describe().transpose()"
      ],
      "execution_count": 11,
      "outputs": [
        {
          "output_type": "execute_result",
          "data": {
            "text/html": [
              "<div>\n",
              "<style scoped>\n",
              "    .dataframe tbody tr th:only-of-type {\n",
              "        vertical-align: middle;\n",
              "    }\n",
              "\n",
              "    .dataframe tbody tr th {\n",
              "        vertical-align: top;\n",
              "    }\n",
              "\n",
              "    .dataframe thead th {\n",
              "        text-align: right;\n",
              "    }\n",
              "</style>\n",
              "<table border=\"1\" class=\"dataframe\">\n",
              "  <thead>\n",
              "    <tr style=\"text-align: right;\">\n",
              "      <th></th>\n",
              "      <th>count</th>\n",
              "      <th>unique</th>\n",
              "      <th>top</th>\n",
              "      <th>freq</th>\n",
              "    </tr>\n",
              "  </thead>\n",
              "  <tbody>\n",
              "    <tr>\n",
              "      <th>text</th>\n",
              "      <td>20000</td>\n",
              "      <td>19948</td>\n",
              "      <td>i have had several new members tell me how com...</td>\n",
              "      <td>2</td>\n",
              "    </tr>\n",
              "  </tbody>\n",
              "</table>\n",
              "</div>"
            ],
            "text/plain": [
              "      count unique                                                top freq\n",
              "text  20000  19948  i have had several new members tell me how com...    2"
            ]
          },
          "metadata": {
            "tags": []
          },
          "execution_count": 11
        }
      ]
    },
    {
      "cell_type": "code",
      "metadata": {
        "colab": {
          "base_uri": "https://localhost:8080/",
          "height": 235
        },
        "id": "jCspjpTQ_lie",
        "outputId": "74810ecb-f89f-49e6-e613-880c91e84a21"
      },
      "source": [
        "data.groupby('target').count().reset_index()"
      ],
      "execution_count": 13,
      "outputs": [
        {
          "output_type": "execute_result",
          "data": {
            "text/html": [
              "<div>\n",
              "<style scoped>\n",
              "    .dataframe tbody tr th:only-of-type {\n",
              "        vertical-align: middle;\n",
              "    }\n",
              "\n",
              "    .dataframe tbody tr th {\n",
              "        vertical-align: top;\n",
              "    }\n",
              "\n",
              "    .dataframe thead th {\n",
              "        text-align: right;\n",
              "    }\n",
              "</style>\n",
              "<table border=\"1\" class=\"dataframe\">\n",
              "  <thead>\n",
              "    <tr style=\"text-align: right;\">\n",
              "      <th></th>\n",
              "      <th>target</th>\n",
              "      <th>text</th>\n",
              "    </tr>\n",
              "  </thead>\n",
              "  <tbody>\n",
              "    <tr>\n",
              "      <th>0</th>\n",
              "      <td>anger</td>\n",
              "      <td>2709</td>\n",
              "    </tr>\n",
              "    <tr>\n",
              "      <th>1</th>\n",
              "      <td>fear</td>\n",
              "      <td>2373</td>\n",
              "    </tr>\n",
              "    <tr>\n",
              "      <th>2</th>\n",
              "      <td>joy</td>\n",
              "      <td>6761</td>\n",
              "    </tr>\n",
              "    <tr>\n",
              "      <th>3</th>\n",
              "      <td>love</td>\n",
              "      <td>1641</td>\n",
              "    </tr>\n",
              "    <tr>\n",
              "      <th>4</th>\n",
              "      <td>sadness</td>\n",
              "      <td>5797</td>\n",
              "    </tr>\n",
              "    <tr>\n",
              "      <th>5</th>\n",
              "      <td>surprise</td>\n",
              "      <td>719</td>\n",
              "    </tr>\n",
              "  </tbody>\n",
              "</table>\n",
              "</div>"
            ],
            "text/plain": [
              "     target  text\n",
              "0     anger  2709\n",
              "1      fear  2373\n",
              "2       joy  6761\n",
              "3      love  1641\n",
              "4   sadness  5797\n",
              "5  surprise   719"
            ]
          },
          "metadata": {
            "tags": []
          },
          "execution_count": 13
        }
      ]
    },
    {
      "cell_type": "code",
      "metadata": {
        "colab": {
          "base_uri": "https://localhost:8080/",
          "height": 235
        },
        "id": "B8-Q7uxVEGAF",
        "outputId": "228cc47e-7dae-4407-ceea-7eeb123da41b"
      },
      "source": [
        "target_dist = data.groupby('target').count().reset_index()\n",
        "target_dist['proportion'] = target_dist['text'] / sum(list(target_dist['text']))\n",
        "target_dist"
      ],
      "execution_count": 14,
      "outputs": [
        {
          "output_type": "execute_result",
          "data": {
            "text/html": [
              "<div>\n",
              "<style scoped>\n",
              "    .dataframe tbody tr th:only-of-type {\n",
              "        vertical-align: middle;\n",
              "    }\n",
              "\n",
              "    .dataframe tbody tr th {\n",
              "        vertical-align: top;\n",
              "    }\n",
              "\n",
              "    .dataframe thead th {\n",
              "        text-align: right;\n",
              "    }\n",
              "</style>\n",
              "<table border=\"1\" class=\"dataframe\">\n",
              "  <thead>\n",
              "    <tr style=\"text-align: right;\">\n",
              "      <th></th>\n",
              "      <th>target</th>\n",
              "      <th>text</th>\n",
              "      <th>proportion</th>\n",
              "    </tr>\n",
              "  </thead>\n",
              "  <tbody>\n",
              "    <tr>\n",
              "      <th>0</th>\n",
              "      <td>anger</td>\n",
              "      <td>2709</td>\n",
              "      <td>0.13545</td>\n",
              "    </tr>\n",
              "    <tr>\n",
              "      <th>1</th>\n",
              "      <td>fear</td>\n",
              "      <td>2373</td>\n",
              "      <td>0.11865</td>\n",
              "    </tr>\n",
              "    <tr>\n",
              "      <th>2</th>\n",
              "      <td>joy</td>\n",
              "      <td>6761</td>\n",
              "      <td>0.33805</td>\n",
              "    </tr>\n",
              "    <tr>\n",
              "      <th>3</th>\n",
              "      <td>love</td>\n",
              "      <td>1641</td>\n",
              "      <td>0.08205</td>\n",
              "    </tr>\n",
              "    <tr>\n",
              "      <th>4</th>\n",
              "      <td>sadness</td>\n",
              "      <td>5797</td>\n",
              "      <td>0.28985</td>\n",
              "    </tr>\n",
              "    <tr>\n",
              "      <th>5</th>\n",
              "      <td>surprise</td>\n",
              "      <td>719</td>\n",
              "      <td>0.03595</td>\n",
              "    </tr>\n",
              "  </tbody>\n",
              "</table>\n",
              "</div>"
            ],
            "text/plain": [
              "     target  text  proportion\n",
              "0     anger  2709     0.13545\n",
              "1      fear  2373     0.11865\n",
              "2       joy  6761     0.33805\n",
              "3      love  1641     0.08205\n",
              "4   sadness  5797     0.28985\n",
              "5  surprise   719     0.03595"
            ]
          },
          "metadata": {
            "tags": []
          },
          "execution_count": 14
        }
      ]
    },
    {
      "cell_type": "code",
      "metadata": {
        "colab": {
          "base_uri": "https://localhost:8080/",
          "height": 340
        },
        "id": "wJFlU-rEE5Vi",
        "outputId": "da5a4354-d491-4ff6-d1c9-3a80a0856711"
      },
      "source": [
        "target_dist.sort_values('proportion').plot(x='target', y='proportion', \\\n",
        "                              kind='barh', rot=0, colormap='Pastel1', \\\n",
        "                              fontsize=12, figsize=(5,5))"
      ],
      "execution_count": 16,
      "outputs": [
        {
          "output_type": "execute_result",
          "data": {
            "text/plain": [
              "<matplotlib.axes._subplots.AxesSubplot at 0x7f86d803bfd0>"
            ]
          },
          "metadata": {
            "tags": []
          },
          "execution_count": 16
        },
        {
          "output_type": "display_data",
          "data": {
            "image/png": "[encoded data removed]",
            "text/plain": [
              "<Figure size 360x360 with 1 Axes>"
            ]
          },
          "metadata": {
            "tags": [],
            "needs_background": "light"
          }
        }
      ]
    },
    {
      "cell_type": "code",
      "metadata": {
        "id": "w6NBvokwBXtf"
      },
      "source": [
        "copy = data.drop_duplicates(subset=cols, keep='last')"
      ],
      "execution_count": 17,
      "outputs": []
    },
    {
      "cell_type": "code",
      "metadata": {
        "id": "bNtsUw7fCPhD"
      },
      "source": [
        "dup_counts = copy.groupby('text').nunique('target').reset_index().sort_values('target')"
      ],
      "execution_count": 18,
      "outputs": []
    },
    {
      "cell_type": "code",
      "metadata": {
        "colab": {
          "base_uri": "https://localhost:8080/"
        },
        "id": "OzX5ssqYC27N",
        "outputId": "3a1148b7-14c9-418e-edd3-8bbee4d206c3"
      },
      "source": [
        "dup_counts[dup_counts['target'] > 1].shape"
      ],
      "execution_count": 19,
      "outputs": [
        {
          "output_type": "execute_result",
          "data": {
            "text/plain": [
              "(51, 2)"
            ]
          },
          "metadata": {
            "tags": []
          },
          "execution_count": 19
        }
      ]
    },
    {
      "cell_type": "code",
      "metadata": {
        "id": "mnM6QCvSGBSv",
        "colab": {
          "base_uri": "https://localhost:8080/"
        },
        "outputId": "bf71d8eb-8293-4f62-9e36-b891cc5fa48c"
      },
      "source": [
        "copy['word_count'] = copy['text'].apply(lambda x: len(x.split(' ')))"
      ],
      "execution_count": 20,
      "outputs": [
        {
          "output_type": "stream",
          "text": [
            "/usr/local/lib/python3.7/dist-packages/ipykernel_launcher.py:1: SettingWithCopyWarning: \n",
            "A value is trying to be set on a copy of a slice from a DataFrame.\n",
            "Try using .loc[row_indexer,col_indexer] = value instead\n",
            "\n",
            "See the caveats in the documentation: https://pandas.pydata.org/pandas-docs/stable/user_guide/indexing.html#returning-a-view-versus-a-copy\n",
            "  \"\"\"Entry point for launching an IPython kernel.\n"
          ],
          "name": "stderr"
        }
      ]
    },
    {
      "cell_type": "code",
      "metadata": {
        "id": "t5G1aINsFAYl",
        "colab": {
          "base_uri": "https://localhost:8080/"
        },
        "outputId": "b6a8b2bd-ab63-4750-b400-b92cfa7a45b8"
      },
      "source": [
        "def avg_word_length(text):\n",
        "    words = text.split(' ')\n",
        "    length = [len(w) for w in words]\n",
        "    return math.ceil(sum(length) / len(length))\n",
        "\n",
        "copy['avg_word_length'] = copy['text'].apply(avg_word_length)"
      ],
      "execution_count": 21,
      "outputs": [
        {
          "output_type": "stream",
          "text": [
            "/usr/local/lib/python3.7/dist-packages/ipykernel_launcher.py:6: SettingWithCopyWarning: \n",
            "A value is trying to be set on a copy of a slice from a DataFrame.\n",
            "Try using .loc[row_indexer,col_indexer] = value instead\n",
            "\n",
            "See the caveats in the documentation: https://pandas.pydata.org/pandas-docs/stable/user_guide/indexing.html#returning-a-view-versus-a-copy\n",
            "  \n"
          ],
          "name": "stderr"
        }
      ]
    },
    {
      "cell_type": "code",
      "metadata": {
        "colab": {
          "base_uri": "https://localhost:8080/",
          "height": 204
        },
        "id": "w2RXyoHxGYUm",
        "outputId": "19edc89a-4191-4e32-b1b4-3a467e44f911"
      },
      "source": [
        "copy.head(5)"
      ],
      "execution_count": 22,
      "outputs": [
        {
          "output_type": "execute_result",
          "data": {
            "text/html": [
              "<div>\n",
              "<style scoped>\n",
              "    .dataframe tbody tr th:only-of-type {\n",
              "        vertical-align: middle;\n",
              "    }\n",
              "\n",
              "    .dataframe tbody tr th {\n",
              "        vertical-align: top;\n",
              "    }\n",
              "\n",
              "    .dataframe thead th {\n",
              "        text-align: right;\n",
              "    }\n",
              "</style>\n",
              "<table border=\"1\" class=\"dataframe\">\n",
              "  <thead>\n",
              "    <tr style=\"text-align: right;\">\n",
              "      <th></th>\n",
              "      <th>text</th>\n",
              "      <th>target</th>\n",
              "      <th>word_count</th>\n",
              "      <th>avg_word_length</th>\n",
              "    </tr>\n",
              "  </thead>\n",
              "  <tbody>\n",
              "    <tr>\n",
              "      <th>0</th>\n",
              "      <td>i didnt feel humiliated</td>\n",
              "      <td>sadness</td>\n",
              "      <td>4</td>\n",
              "      <td>5</td>\n",
              "    </tr>\n",
              "    <tr>\n",
              "      <th>1</th>\n",
              "      <td>i can go from feeling so hopeless to so damned...</td>\n",
              "      <td>sadness</td>\n",
              "      <td>21</td>\n",
              "      <td>5</td>\n",
              "    </tr>\n",
              "    <tr>\n",
              "      <th>2</th>\n",
              "      <td>im grabbing a minute to post i feel greedy wrong</td>\n",
              "      <td>anger</td>\n",
              "      <td>10</td>\n",
              "      <td>4</td>\n",
              "    </tr>\n",
              "    <tr>\n",
              "      <th>3</th>\n",
              "      <td>i am ever feeling nostalgic about the fireplac...</td>\n",
              "      <td>love</td>\n",
              "      <td>18</td>\n",
              "      <td>5</td>\n",
              "    </tr>\n",
              "    <tr>\n",
              "      <th>4</th>\n",
              "      <td>i am feeling grouchy</td>\n",
              "      <td>anger</td>\n",
              "      <td>4</td>\n",
              "      <td>5</td>\n",
              "    </tr>\n",
              "  </tbody>\n",
              "</table>\n",
              "</div>"
            ],
            "text/plain": [
              "                                                text  ... avg_word_length\n",
              "0                            i didnt feel humiliated  ...               5\n",
              "1  i can go from feeling so hopeless to so damned...  ...               5\n",
              "2   im grabbing a minute to post i feel greedy wrong  ...               4\n",
              "3  i am ever feeling nostalgic about the fireplac...  ...               5\n",
              "4                               i am feeling grouchy  ...               5\n",
              "\n",
              "[5 rows x 4 columns]"
            ]
          },
          "metadata": {
            "tags": []
          },
          "execution_count": 22
        }
      ]
    },
    {
      "cell_type": "code",
      "metadata": {
        "colab": {
          "base_uri": "https://localhost:8080/",
          "height": 111
        },
        "id": "nvtd4mbgGbnk",
        "outputId": "a5b02354-1c33-4a27-f53e-ef64dc140441"
      },
      "source": [
        "copy.describe().transpose()"
      ],
      "execution_count": 23,
      "outputs": [
        {
          "output_type": "execute_result",
          "data": {
            "text/html": [
              "<div>\n",
              "<style scoped>\n",
              "    .dataframe tbody tr th:only-of-type {\n",
              "        vertical-align: middle;\n",
              "    }\n",
              "\n",
              "    .dataframe tbody tr th {\n",
              "        vertical-align: top;\n",
              "    }\n",
              "\n",
              "    .dataframe thead th {\n",
              "        text-align: right;\n",
              "    }\n",
              "</style>\n",
              "<table border=\"1\" class=\"dataframe\">\n",
              "  <thead>\n",
              "    <tr style=\"text-align: right;\">\n",
              "      <th></th>\n",
              "      <th>count</th>\n",
              "      <th>mean</th>\n",
              "      <th>std</th>\n",
              "      <th>min</th>\n",
              "      <th>25%</th>\n",
              "      <th>50%</th>\n",
              "      <th>75%</th>\n",
              "      <th>max</th>\n",
              "    </tr>\n",
              "  </thead>\n",
              "  <tbody>\n",
              "    <tr>\n",
              "      <th>word_count</th>\n",
              "      <td>19999.0</td>\n",
              "      <td>19.135407</td>\n",
              "      <td>10.972174</td>\n",
              "      <td>2.0</td>\n",
              "      <td>11.0</td>\n",
              "      <td>17.0</td>\n",
              "      <td>25.0</td>\n",
              "      <td>66.0</td>\n",
              "    </tr>\n",
              "    <tr>\n",
              "      <th>avg_word_length</th>\n",
              "      <td>19999.0</td>\n",
              "      <td>4.605930</td>\n",
              "      <td>0.648698</td>\n",
              "      <td>3.0</td>\n",
              "      <td>4.0</td>\n",
              "      <td>5.0</td>\n",
              "      <td>5.0</td>\n",
              "      <td>9.0</td>\n",
              "    </tr>\n",
              "  </tbody>\n",
              "</table>\n",
              "</div>"
            ],
            "text/plain": [
              "                   count       mean        std  min   25%   50%   75%   max\n",
              "word_count       19999.0  19.135407  10.972174  2.0  11.0  17.0  25.0  66.0\n",
              "avg_word_length  19999.0   4.605930   0.648698  3.0   4.0   5.0   5.0   9.0"
            ]
          },
          "metadata": {
            "tags": []
          },
          "execution_count": 23
        }
      ]
    },
    {
      "cell_type": "code",
      "metadata": {
        "colab": {
          "base_uri": "https://localhost:8080/",
          "height": 394
        },
        "id": "I7i0xw8ZGjCm",
        "outputId": "35bd1828-a1a7-4a07-f579-c4d7272c9ed6"
      },
      "source": [
        "copy.word_count.plot(kind='kde', fontsize=12, figsize=(5,6))"
      ],
      "execution_count": 24,
      "outputs": [
        {
          "output_type": "execute_result",
          "data": {
            "text/plain": [
              "<matplotlib.axes._subplots.AxesSubplot at 0x7f86d7f909d0>"
            ]
          },
          "metadata": {
            "tags": []
          },
          "execution_count": 24
        },
        {
          "output_type": "display_data",
          "data": {
            "image/png": "[encoded data removed]",
            "text/plain": [
              "<Figure size 360x432 with 1 Axes>"
            ]
          },
          "metadata": {
            "tags": [],
            "needs_background": "light"
          }
        }
      ]
    },
    {
      "cell_type": "code",
      "metadata": {
        "colab": {
          "base_uri": "https://localhost:8080/",
          "height": 394
        },
        "id": "NFQMd0mUGm58",
        "outputId": "14f5f536-105d-4ada-8f01-035d255ddfe1"
      },
      "source": [
        "copy.avg_word_length.plot(kind='kde', fontsize=12, figsize=(5,6))"
      ],
      "execution_count": 25,
      "outputs": [
        {
          "output_type": "execute_result",
          "data": {
            "text/plain": [
              "<matplotlib.axes._subplots.AxesSubplot at 0x7f86d7f6f8d0>"
            ]
          },
          "metadata": {
            "tags": []
          },
          "execution_count": 25
        },
        {
          "output_type": "display_data",
          "data": {
            "image/png": "[encoded data removed]",
            "text/plain": [
              "<Figure size 360x432 with 1 Axes>"
            ]
          },
          "metadata": {
            "tags": [],
            "needs_background": "light"
          }
        }
      ]
    },
    {
      "cell_type": "code",
      "metadata": {
        "colab": {
          "base_uri": "https://localhost:8080/",
          "height": 394
        },
        "id": "T95QX2LFGqnb",
        "outputId": "d096676d-f1d7-4d98-9c80-b158adcc6a21"
      },
      "source": [
        "copy.word_count.plot(kind='box', fontsize=12, figsize=(5,6))"
      ],
      "execution_count": 26,
      "outputs": [
        {
          "output_type": "execute_result",
          "data": {
            "text/plain": [
              "<matplotlib.axes._subplots.AxesSubplot at 0x7f86cd17f710>"
            ]
          },
          "metadata": {
            "tags": []
          },
          "execution_count": 26
        },
        {
          "output_type": "display_data",
          "data": {
            "image/png": "[encoded data removed]",
            "text/plain": [
              "<Figure size 360x432 with 1 Axes>"
            ]
          },
          "metadata": {
            "tags": [],
            "needs_background": "light"
          }
        }
      ]
    },
    {
      "cell_type": "code",
      "metadata": {
        "colab": {
          "base_uri": "https://localhost:8080/",
          "height": 394
        },
        "id": "7_S5_LB9HgfX",
        "outputId": "88c5e882-4433-4549-824a-7d09336dd1b5"
      },
      "source": [
        "copy.avg_word_length.plot(kind='box', fontsize=12, figsize=(5,6))"
      ],
      "execution_count": 27,
      "outputs": [
        {
          "output_type": "execute_result",
          "data": {
            "text/plain": [
              "<matplotlib.axes._subplots.AxesSubplot at 0x7f86cd147e10>"
            ]
          },
          "metadata": {
            "tags": []
          },
          "execution_count": 27
        },
        {
          "output_type": "display_data",
          "data": {
            "image/png": "[encoded data removed]",
            "text/plain": [
              "<Figure size 360x432 with 1 Axes>"
            ]
          },
          "metadata": {
            "tags": [],
            "needs_background": "light"
          }
        }
      ]
    },
    {
      "cell_type": "code",
      "metadata": {
        "id": "ItLzHkzmHlVm"
      },
      "source": [
        "word_counts = collections.Counter(\" \".join(copy['text']).split())"
      ],
      "execution_count": 28,
      "outputs": []
    },
    {
      "cell_type": "code",
      "metadata": {
        "colab": {
          "base_uri": "https://localhost:8080/",
          "height": 204
        },
        "id": "WMGkwHajHoY8",
        "outputId": "9e9069e2-32b0-4820-afa0-9ce200b4830a"
      },
      "source": [
        "count_df = pd.DataFrame(word_counts.most_common(20))\n",
        "count_df.columns = ['word', 'count']\n",
        "count_df['proportion'] = count_df['count'] / sum(list(count_df['count']))\n",
        "count_df.head()"
      ],
      "execution_count": 29,
      "outputs": [
        {
          "output_type": "execute_result",
          "data": {
            "text/html": [
              "<div>\n",
              "<style scoped>\n",
              "    .dataframe tbody tr th:only-of-type {\n",
              "        vertical-align: middle;\n",
              "    }\n",
              "\n",
              "    .dataframe tbody tr th {\n",
              "        vertical-align: top;\n",
              "    }\n",
              "\n",
              "    .dataframe thead th {\n",
              "        text-align: right;\n",
              "    }\n",
              "</style>\n",
              "<table border=\"1\" class=\"dataframe\">\n",
              "  <thead>\n",
              "    <tr style=\"text-align: right;\">\n",
              "      <th></th>\n",
              "      <th>word</th>\n",
              "      <th>count</th>\n",
              "      <th>proportion</th>\n",
              "    </tr>\n",
              "  </thead>\n",
              "  <tbody>\n",
              "    <tr>\n",
              "      <th>0</th>\n",
              "      <td>i</td>\n",
              "      <td>32241</td>\n",
              "      <td>0.223672</td>\n",
              "    </tr>\n",
              "    <tr>\n",
              "      <th>1</th>\n",
              "      <td>feel</td>\n",
              "      <td>13937</td>\n",
              "      <td>0.096688</td>\n",
              "    </tr>\n",
              "    <tr>\n",
              "      <th>2</th>\n",
              "      <td>and</td>\n",
              "      <td>11996</td>\n",
              "      <td>0.083222</td>\n",
              "    </tr>\n",
              "    <tr>\n",
              "      <th>3</th>\n",
              "      <td>to</td>\n",
              "      <td>11207</td>\n",
              "      <td>0.077749</td>\n",
              "    </tr>\n",
              "    <tr>\n",
              "      <th>4</th>\n",
              "      <td>the</td>\n",
              "      <td>10462</td>\n",
              "      <td>0.072580</td>\n",
              "    </tr>\n",
              "  </tbody>\n",
              "</table>\n",
              "</div>"
            ],
            "text/plain": [
              "   word  count  proportion\n",
              "0     i  32241    0.223672\n",
              "1  feel  13937    0.096688\n",
              "2   and  11996    0.083222\n",
              "3    to  11207    0.077749\n",
              "4   the  10462    0.072580"
            ]
          },
          "metadata": {
            "tags": []
          },
          "execution_count": 29
        }
      ]
    },
    {
      "cell_type": "code",
      "metadata": {
        "colab": {
          "base_uri": "https://localhost:8080/",
          "height": 448
        },
        "id": "etu673bSHtVZ",
        "outputId": "b8dbacee-1289-4825-8a58-183e19175760"
      },
      "source": [
        "count_df.plot(kind='barh', x='word', y='proportion', rot=0, \\\n",
        "                 colormap='Pastel1', fontsize=12, figsize=(8,7))"
      ],
      "execution_count": 30,
      "outputs": [
        {
          "output_type": "execute_result",
          "data": {
            "text/plain": [
              "<matplotlib.axes._subplots.AxesSubplot at 0x7f86cd0cce10>"
            ]
          },
          "metadata": {
            "tags": []
          },
          "execution_count": 30
        },
        {
          "output_type": "display_data",
          "data": {
            "image/png": "[encoded data removed]",
            "text/plain": [
              "<Figure size 576x504 with 1 Axes>"
            ]
          },
          "metadata": {
            "tags": [],
            "needs_background": "light"
          }
        }
      ]
    },
    {
      "cell_type": "code",
      "metadata": {
        "id": "_s8Y6dYEGuLf"
      },
      "source": [
        "reserved_words = [\"EMAIL\", \"NUMBER\", \"MENTION\", \"URL\"]\n",
        "token_dict = {\n",
        "            \"ca\": \"can\",\n",
        "            \"wo\": \"will\",\n",
        "            \"sha\": \"shall\",\n",
        "            \"'ve\": \"have\",\n",
        "            \"'ll\": \"will\",\n",
        "            \"'m\": \"am\",\n",
        "            \"n't\": \"not\",\n",
        "            \"'re\": \"are\",\n",
        "        }\n",
        "word_dict = {\n",
        "            \"cant\": \"can not\",\n",
        "            \"couldnt\": \"could not\",\n",
        "            \"wont\": \"will not\",\n",
        "            \"pls\": \"please\",\n",
        "            \"plz\": \"please\",\n",
        "            \"youre\": \"you are\",\n",
        "            \"theyre\": \"they are\",\n",
        "            \"ive\": \"I have\",\n",
        "            \"havent\": \"have not\",\n",
        "            \"hasnt\": \"has not\",\n",
        "            \"hadnt\": \"had not\",\n",
        "            \"im\": \"I am\",\n",
        "            \"didnt\": \"did not\",\n",
        "            \"dont\": \"do not\",\n",
        "            \"doesnt\": \"does not\",\n",
        "            \"gotta\": \"got to\",\n",
        "            \"wanna\": \"want to\",\n",
        "            \"gonna\": \"going to\",\n",
        "            \"wannabe\": \"want to be\",\n",
        "            \"cannot\": \"can not\",\n",
        "        }"
      ],
      "execution_count": 31,
      "outputs": []
    },
    {
      "cell_type": "code",
      "metadata": {
        "id": "BduoQZ0BG8r5"
      },
      "source": [
        "def substitute(doc):\n",
        "        doc = re.sub(r\"<br />\", \" \", doc)\n",
        "        doc = re.sub(r\"\\S+@\\S+\", \" EMAIL \", doc)\n",
        "        doc = re.sub(r\"@\\S+\", \" MENTION \", doc)\n",
        "        doc = re.sub(r\"https?:\\S+|http?:\\S+\", \" URL \", doc)\n",
        "        doc = re.sub(r\"(\\d+\\-\\d+)|\\d+\", \" NUMBER \", doc)\n",
        "        doc = re.sub(r\"[^A-Za-z']\", \" \", doc)\n",
        "\n",
        "        return doc\n",
        "\n",
        "def expand(token):\n",
        "        if token in reserved_words:\n",
        "            return token\n",
        "        token = token.lower()\n",
        "        if token.lower().strip() == \"let's\":\n",
        "            return \"let us\"\n",
        "\n",
        "        if token.lower().strip() == \"'twas\":\n",
        "            return \"it was\"\n",
        "\n",
        "        if word_dict.get(token, None):\n",
        "            return word_dict.get(token)\n",
        "\n",
        "        tokens = word_tokenize(token)\n",
        "        if len(tokens) == 1:\n",
        "            return word_dict.get(tokens[0], tokens[0])\n",
        "        for i in range(len(tokens)):\n",
        "            tokens[i] = token_dict.get(tokens[i], tokens[i])\n",
        "\n",
        "        return \" \".join(tokens)\n",
        "\n",
        "def preprocess(doc):\n",
        "        doc = normalize('NFD',doc).encode('ascii', 'ignore').decode('utf-8')\n",
        "        doc = substitute(doc)\n",
        "        tokens = doc.split()\n",
        "        doc = \" \".join([expand(w) for w in tokens])\n",
        "\n",
        "        tokens = doc.split()\n",
        "        tokens = [word for word in tokens if word.isalpha()]\n",
        "\n",
        "        tokens = [\n",
        "            word.lower() if word not in reserved_words else word for word in tokens\n",
        "        ]\n",
        "\n",
        "        return \" \".join(tokens)"
      ],
      "execution_count": 32,
      "outputs": []
    },
    {
      "cell_type": "code",
      "metadata": {
        "colab": {
          "base_uri": "https://localhost:8080/",
          "height": 52
        },
        "id": "zn-RuoiLHCZa",
        "outputId": "31e9e675-e70e-4c2f-9dd7-142bf8d1c52a"
      },
      "source": [
        "preprocess(\"😂 @mama124 Im gonna enter http:bit.ly.12673/ab \\\n",
        "for 30th time :| don't know why cant i České Budějovic á Ś cé\")"
      ],
      "execution_count": 33,
      "outputs": [
        {
          "output_type": "execute_result",
          "data": {
            "application/vnd.google.colaboratory.intrinsic+json": {
              "type": "string"
            },
            "text/plain": [
              "'MENTION i am going to enter URL for NUMBER th time do not know why can not i ceske budejovic a s ce'"
            ]
          },
          "metadata": {
            "tags": []
          },
          "execution_count": 33
        }
      ]
    },
    {
      "cell_type": "code",
      "metadata": {
        "colab": {
          "base_uri": "https://localhost:8080/"
        },
        "id": "e7RUybF2HZ1Z",
        "outputId": "cb8bfffd-1fc0-4e5f-de43-6703c7b34fb3"
      },
      "source": [
        "%%time \n",
        "copy['text'] = copy['text'].apply(preprocess)"
      ],
      "execution_count": 34,
      "outputs": [
        {
          "output_type": "stream",
          "text": [
            "CPU times: user 26.1 s, sys: 14.6 ms, total: 26.1 s\n",
            "Wall time: 26.1 s\n"
          ],
          "name": "stdout"
        },
        {
          "output_type": "stream",
          "text": [
            "/usr/local/lib/python3.7/dist-packages/ipykernel_launcher.py:1: SettingWithCopyWarning: \n",
            "A value is trying to be set on a copy of a slice from a DataFrame.\n",
            "Try using .loc[row_indexer,col_indexer] = value instead\n",
            "\n",
            "See the caveats in the documentation: https://pandas.pydata.org/pandas-docs/stable/user_guide/indexing.html#returning-a-view-versus-a-copy\n",
            "  \"\"\"Entry point for launching an IPython kernel.\n"
          ],
          "name": "stderr"
        }
      ]
    },
    {
      "cell_type": "code",
      "metadata": {
        "colab": {
          "base_uri": "https://localhost:8080/",
          "height": 204
        },
        "id": "R50F3m20IYJA",
        "outputId": "6aedee24-eaac-4187-8644-5dbec2e7870b"
      },
      "source": [
        "copy.groupby('text')[['target']].count() \\\n",
        ".reset_index().sort_values('target', ascending=False).head(5)"
      ],
      "execution_count": 35,
      "outputs": [
        {
          "output_type": "execute_result",
          "data": {
            "text/html": [
              "<div>\n",
              "<style scoped>\n",
              "    .dataframe tbody tr th:only-of-type {\n",
              "        vertical-align: middle;\n",
              "    }\n",
              "\n",
              "    .dataframe tbody tr th {\n",
              "        vertical-align: top;\n",
              "    }\n",
              "\n",
              "    .dataframe thead th {\n",
              "        text-align: right;\n",
              "    }\n",
              "</style>\n",
              "<table border=\"1\" class=\"dataframe\">\n",
              "  <thead>\n",
              "    <tr style=\"text-align: right;\">\n",
              "      <th></th>\n",
              "      <th>text</th>\n",
              "      <th>target</th>\n",
              "    </tr>\n",
              "  </thead>\n",
              "  <tbody>\n",
              "    <tr>\n",
              "      <th>15482</th>\n",
              "      <td>i miss our talks our cuddling our kissing and ...</td>\n",
              "      <td>2</td>\n",
              "    </tr>\n",
              "    <tr>\n",
              "      <th>17313</th>\n",
              "      <td>i tend to stop breathing when i m feeling stre...</td>\n",
              "      <td>2</td>\n",
              "    </tr>\n",
              "    <tr>\n",
              "      <th>4139</th>\n",
              "      <td>i could feel his breath on me and smell the sw...</td>\n",
              "      <td>2</td>\n",
              "    </tr>\n",
              "    <tr>\n",
              "      <th>16986</th>\n",
              "      <td>i still feel a craving for sweet food</td>\n",
              "      <td>2</td>\n",
              "    </tr>\n",
              "    <tr>\n",
              "      <th>9304</th>\n",
              "      <td>i feel not having a generous spirit or a forgi...</td>\n",
              "      <td>2</td>\n",
              "    </tr>\n",
              "  </tbody>\n",
              "</table>\n",
              "</div>"
            ],
            "text/plain": [
              "                                                    text  target\n",
              "15482  i miss our talks our cuddling our kissing and ...       2\n",
              "17313  i tend to stop breathing when i m feeling stre...       2\n",
              "4139   i could feel his breath on me and smell the sw...       2\n",
              "16986              i still feel a craving for sweet food       2\n",
              "9304   i feel not having a generous spirit or a forgi...       2"
            ]
          },
          "metadata": {
            "tags": []
          },
          "execution_count": 35
        }
      ]
    },
    {
      "cell_type": "code",
      "metadata": {
        "id": "aXqXBw95Jz4L"
      },
      "source": [
        "duplicates = pd.concat(g for _, g in copy.groupby(\"text\") if len(g) > 1)"
      ],
      "execution_count": 36,
      "outputs": []
    },
    {
      "cell_type": "code",
      "metadata": {
        "colab": {
          "base_uri": "https://localhost:8080/",
          "height": 204
        },
        "id": "hFcDiw_RJ-aU",
        "outputId": "24f1a239-9533-4ef6-8f17-4976739a9675"
      },
      "source": [
        "duplicates.groupby('text')[['target']] \\\n",
        ".nunique() \\\n",
        ".reset_index() \\\n",
        ".sort_values('target')\\\n",
        ".tail(5)"
      ],
      "execution_count": 39,
      "outputs": [
        {
          "output_type": "execute_result",
          "data": {
            "text/html": [
              "<div>\n",
              "<style scoped>\n",
              "    .dataframe tbody tr th:only-of-type {\n",
              "        vertical-align: middle;\n",
              "    }\n",
              "\n",
              "    .dataframe tbody tr th {\n",
              "        vertical-align: top;\n",
              "    }\n",
              "\n",
              "    .dataframe thead th {\n",
              "        text-align: right;\n",
              "    }\n",
              "</style>\n",
              "<table border=\"1\" class=\"dataframe\">\n",
              "  <thead>\n",
              "    <tr style=\"text-align: right;\">\n",
              "      <th></th>\n",
              "      <th>text</th>\n",
              "      <th>target</th>\n",
              "    </tr>\n",
              "  </thead>\n",
              "  <tbody>\n",
              "    <tr>\n",
              "      <th>23</th>\n",
              "      <td>i feel on the verge of tears from weariness i ...</td>\n",
              "      <td>2</td>\n",
              "    </tr>\n",
              "    <tr>\n",
              "      <th>24</th>\n",
              "      <td>i feel pretty tortured because i work a job an...</td>\n",
              "      <td>2</td>\n",
              "    </tr>\n",
              "    <tr>\n",
              "      <th>25</th>\n",
              "      <td>i feel pretty weird blogging about deodorant b...</td>\n",
              "      <td>2</td>\n",
              "    </tr>\n",
              "    <tr>\n",
              "      <th>27</th>\n",
              "      <td>i feel so blessed to be a part of your days</td>\n",
              "      <td>2</td>\n",
              "    </tr>\n",
              "    <tr>\n",
              "      <th>53</th>\n",
              "      <td>i write these words i feel sweet baby kicks fr...</td>\n",
              "      <td>2</td>\n",
              "    </tr>\n",
              "  </tbody>\n",
              "</table>\n",
              "</div>"
            ],
            "text/plain": [
              "                                                 text  target\n",
              "23  i feel on the verge of tears from weariness i ...       2\n",
              "24  i feel pretty tortured because i work a job an...       2\n",
              "25  i feel pretty weird blogging about deodorant b...       2\n",
              "27        i feel so blessed to be a part of your days       2\n",
              "53  i write these words i feel sweet baby kicks fr...       2"
            ]
          },
          "metadata": {
            "tags": []
          },
          "execution_count": 39
        }
      ]
    },
    {
      "cell_type": "code",
      "metadata": {
        "colab": {
          "base_uri": "https://localhost:8080/"
        },
        "id": "RVT0Y0gbMUYk",
        "outputId": "f81370c9-b243-4509-f525-ff8c6782b00b"
      },
      "source": [
        "copy.shape"
      ],
      "execution_count": 41,
      "outputs": [
        {
          "output_type": "execute_result",
          "data": {
            "text/plain": [
              "(19999, 4)"
            ]
          },
          "metadata": {
            "tags": []
          },
          "execution_count": 41
        }
      ]
    },
    {
      "cell_type": "code",
      "metadata": {
        "id": "-0sFfRL-KcT7"
      },
      "source": [
        "copy[['text', 'target']].to_csv('/content/drive/MyDrive/emotion/data/nlp_processed.csv')"
      ],
      "execution_count": 42,
      "outputs": []
    },
    {
      "cell_type": "code",
      "metadata": {
        "colab": {
          "base_uri": "https://localhost:8080/",
          "height": 204
        },
        "id": "y4vD6-YiKzqo",
        "outputId": "cec98769-a1c5-4392-f067-aeaf4d61fde9"
      },
      "source": [
        "word_counts = collections.Counter(\" \".join(copy['text']).split())\n",
        "\n",
        "count_df = pd.DataFrame(word_counts.most_common(20))\n",
        "count_df.columns = ['word', 'count']\n",
        "count_df['proportion'] = count_df['count'] / sum(list(count_df['count']))\n",
        "count_df.head()"
      ],
      "execution_count": 43,
      "outputs": [
        {
          "output_type": "execute_result",
          "data": {
            "text/html": [
              "<div>\n",
              "<style scoped>\n",
              "    .dataframe tbody tr th:only-of-type {\n",
              "        vertical-align: middle;\n",
              "    }\n",
              "\n",
              "    .dataframe tbody tr th {\n",
              "        vertical-align: top;\n",
              "    }\n",
              "\n",
              "    .dataframe thead th {\n",
              "        text-align: right;\n",
              "    }\n",
              "</style>\n",
              "<table border=\"1\" class=\"dataframe\">\n",
              "  <thead>\n",
              "    <tr style=\"text-align: right;\">\n",
              "      <th></th>\n",
              "      <th>word</th>\n",
              "      <th>count</th>\n",
              "      <th>proportion</th>\n",
              "    </tr>\n",
              "  </thead>\n",
              "  <tbody>\n",
              "    <tr>\n",
              "      <th>0</th>\n",
              "      <td>i</td>\n",
              "      <td>36019</td>\n",
              "      <td>0.235850</td>\n",
              "    </tr>\n",
              "    <tr>\n",
              "      <th>1</th>\n",
              "      <td>feel</td>\n",
              "      <td>13937</td>\n",
              "      <td>0.091259</td>\n",
              "    </tr>\n",
              "    <tr>\n",
              "      <th>2</th>\n",
              "      <td>and</td>\n",
              "      <td>11996</td>\n",
              "      <td>0.078549</td>\n",
              "    </tr>\n",
              "    <tr>\n",
              "      <th>3</th>\n",
              "      <td>to</td>\n",
              "      <td>11287</td>\n",
              "      <td>0.073906</td>\n",
              "    </tr>\n",
              "    <tr>\n",
              "      <th>4</th>\n",
              "      <td>the</td>\n",
              "      <td>10462</td>\n",
              "      <td>0.068504</td>\n",
              "    </tr>\n",
              "  </tbody>\n",
              "</table>\n",
              "</div>"
            ],
            "text/plain": [
              "   word  count  proportion\n",
              "0     i  36019    0.235850\n",
              "1  feel  13937    0.091259\n",
              "2   and  11996    0.078549\n",
              "3    to  11287    0.073906\n",
              "4   the  10462    0.068504"
            ]
          },
          "metadata": {
            "tags": []
          },
          "execution_count": 43
        }
      ]
    },
    {
      "cell_type": "code",
      "metadata": {
        "id": "qDCI4wC2LKRS",
        "colab": {
          "base_uri": "https://localhost:8080/",
          "height": 448
        },
        "outputId": "dbfc7eb9-ef98-46fd-90b0-33497239110f"
      },
      "source": [
        "count_df.plot(kind='barh', x='word', y='proportion', rot=0, \\\n",
        "                 colormap='Pastel1', fontsize=12, figsize=(8,7))"
      ],
      "execution_count": 44,
      "outputs": [
        {
          "output_type": "execute_result",
          "data": {
            "text/plain": [
              "<matplotlib.axes._subplots.AxesSubplot at 0x7f86ccf0d550>"
            ]
          },
          "metadata": {
            "tags": []
          },
          "execution_count": 44
        },
        {
          "output_type": "display_data",
          "data": {
            "image/png": "[encoded data removed]",
            "text/plain": [
              "<Figure size 576x504 with 1 Axes>"
            ]
          },
          "metadata": {
            "tags": [],
            "needs_background": "light"
          }
        }
      ]
    }
  ]
}
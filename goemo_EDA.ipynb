{
  "nbformat": 4,
  "nbformat_minor": 0,
  "metadata": {
    "colab": {
      "name": "goemo_EDA.ipynb",
      "provenance": [],
      "collapsed_sections": [],
      "mount_file_id": "1d36ql0-NK2k6SPTtP3mfNU_SjkzK0G4M",
      "authorship_tag": "ABX9TyOaY8mFFaoBsYb8JrSJq2sZ",
      "include_colab_link": true
    },
    "kernelspec": {
      "name": "python3",
      "display_name": "Python 3"
    }
  },
  "cells": [
    {
      "cell_type": "markdown",
      "metadata": {
        "id": "view-in-github",
        "colab_type": "text"
      },
      "source": [
        "<a href=\"https://colab.research.google.com/github/ppkgtmm/emotion/blob/main/goemo_EDA.ipynb\" target=\"_parent\"><img src=\"https://colab.research.google.com/assets/colab-badge.svg\" alt=\"Open In Colab\"/></a>"
      ]
    },
    {
      "cell_type": "code",
      "metadata": {
        "id": "P2JYGwB1aVkB"
      },
      "source": [
        "import pandas as pd\n",
        "import math\n",
        "import matplotlib.pyplot as plt\n",
        "import re\n",
        "import nltk\n",
        "from unicodedata import normalize\n",
        "import collections"
      ],
      "execution_count": null,
      "outputs": []
    },
    {
      "cell_type": "code",
      "metadata": {
        "colab": {
          "base_uri": "https://localhost:8080/"
        },
        "id": "33H3zwieUnvW",
        "outputId": "ae936206-4cab-492b-d717-fb666ee66250"
      },
      "source": [
        "nltk.download('punkt')\n",
        "from nltk import word_tokenize"
      ],
      "execution_count": null,
      "outputs": [
        {
          "output_type": "stream",
          "text": [
            "[nltk_data] Downloading package punkt to /root/nltk_data...\n",
            "[nltk_data]   Unzipping tokenizers/punkt.zip.\n"
          ],
          "name": "stdout"
        }
      ]
    },
    {
      "cell_type": "code",
      "metadata": {
        "id": "jr_cfqyuapnX"
      },
      "source": [
        "cols = ['text','target']"
      ],
      "execution_count": null,
      "outputs": []
    },
    {
      "cell_type": "code",
      "metadata": {
        "colab": {
          "base_uri": "https://localhost:8080/",
          "height": 204
        },
        "id": "WSLKsorTahhN",
        "outputId": "794d02be-3a0f-431a-8f78-00f486b4f307"
      },
      "source": [
        "data = pd.read_csv('/content/drive/MyDrive/emotion/data/goemotions.csv')[cols]\n",
        "data.sample(5)"
      ],
      "execution_count": null,
      "outputs": [
        {
          "output_type": "execute_result",
          "data": {
            "text/html": [
              "<div>\n",
              "<style scoped>\n",
              "    .dataframe tbody tr th:only-of-type {\n",
              "        vertical-align: middle;\n",
              "    }\n",
              "\n",
              "    .dataframe tbody tr th {\n",
              "        vertical-align: top;\n",
              "    }\n",
              "\n",
              "    .dataframe thead th {\n",
              "        text-align: right;\n",
              "    }\n",
              "</style>\n",
              "<table border=\"1\" class=\"dataframe\">\n",
              "  <thead>\n",
              "    <tr style=\"text-align: right;\">\n",
              "      <th></th>\n",
              "      <th>text</th>\n",
              "      <th>target</th>\n",
              "    </tr>\n",
              "  </thead>\n",
              "  <tbody>\n",
              "    <tr>\n",
              "      <th>39534</th>\n",
              "      <td>At least you can admit you value one innocent ...</td>\n",
              "      <td>approval</td>\n",
              "    </tr>\n",
              "    <tr>\n",
              "      <th>35191</th>\n",
              "      <td>Ask and you shall receive. Thanks man</td>\n",
              "      <td>approval</td>\n",
              "    </tr>\n",
              "    <tr>\n",
              "      <th>102532</th>\n",
              "      <td>It’s your choice what you choose to do, but ju...</td>\n",
              "      <td>love</td>\n",
              "    </tr>\n",
              "    <tr>\n",
              "      <th>145188</th>\n",
              "      <td>How has nobody in the coaching staff tried to ...</td>\n",
              "      <td>neutral</td>\n",
              "    </tr>\n",
              "    <tr>\n",
              "      <th>128769</th>\n",
              "      <td>Too bad it's the wrong kind of blows!!!</td>\n",
              "      <td>sadness</td>\n",
              "    </tr>\n",
              "  </tbody>\n",
              "</table>\n",
              "</div>"
            ],
            "text/plain": [
              "                                                     text    target\n",
              "39534   At least you can admit you value one innocent ...  approval\n",
              "35191               Ask and you shall receive. Thanks man  approval\n",
              "102532  It’s your choice what you choose to do, but ju...      love\n",
              "145188  How has nobody in the coaching staff tried to ...   neutral\n",
              "128769            Too bad it's the wrong kind of blows!!!   sadness"
            ]
          },
          "metadata": {
            "tags": []
          },
          "execution_count": 3
        }
      ]
    },
    {
      "cell_type": "code",
      "metadata": {
        "colab": {
          "base_uri": "https://localhost:8080/"
        },
        "id": "niZAOrzIbhlO",
        "outputId": "e2f4c977-3496-4e7f-c131-6b6f27e0f249"
      },
      "source": [
        "data.info()"
      ],
      "execution_count": null,
      "outputs": [
        {
          "output_type": "stream",
          "text": [
            "<class 'pandas.core.frame.DataFrame'>\n",
            "RangeIndex: 164954 entries, 0 to 164953\n",
            "Data columns (total 2 columns):\n",
            " #   Column  Non-Null Count   Dtype \n",
            "---  ------  --------------   ----- \n",
            " 0   text    164954 non-null  object\n",
            " 1   target  164954 non-null  object\n",
            "dtypes: object(2)\n",
            "memory usage: 2.5+ MB\n"
          ],
          "name": "stdout"
        }
      ]
    },
    {
      "cell_type": "code",
      "metadata": {
        "colab": {
          "base_uri": "https://localhost:8080/"
        },
        "id": "EYWnxwbobkXl",
        "outputId": "ebfc3617-f283-45dc-ef73-e25385e19927"
      },
      "source": [
        "data.isnull().any()"
      ],
      "execution_count": null,
      "outputs": [
        {
          "output_type": "execute_result",
          "data": {
            "text/plain": [
              "text      False\n",
              "target    False\n",
              "dtype: bool"
            ]
          },
          "metadata": {
            "tags": []
          },
          "execution_count": 5
        }
      ]
    },
    {
      "cell_type": "code",
      "metadata": {
        "colab": {
          "base_uri": "https://localhost:8080/",
          "height": 204
        },
        "id": "H7o9jIt6audU",
        "outputId": "517f2308-63fb-4898-ee4a-ed0a5934e30f"
      },
      "source": [
        "target_dist = data.groupby('target').count().reset_index()\n",
        "target_dist['proportion'] = target_dist['text'] / sum(list(target_dist['text']))\n",
        "target_dist.head()"
      ],
      "execution_count": null,
      "outputs": [
        {
          "output_type": "execute_result",
          "data": {
            "text/html": [
              "<div>\n",
              "<style scoped>\n",
              "    .dataframe tbody tr th:only-of-type {\n",
              "        vertical-align: middle;\n",
              "    }\n",
              "\n",
              "    .dataframe tbody tr th {\n",
              "        vertical-align: top;\n",
              "    }\n",
              "\n",
              "    .dataframe thead th {\n",
              "        text-align: right;\n",
              "    }\n",
              "</style>\n",
              "<table border=\"1\" class=\"dataframe\">\n",
              "  <thead>\n",
              "    <tr style=\"text-align: right;\">\n",
              "      <th></th>\n",
              "      <th>target</th>\n",
              "      <th>text</th>\n",
              "      <th>proportion</th>\n",
              "    </tr>\n",
              "  </thead>\n",
              "  <tbody>\n",
              "    <tr>\n",
              "      <th>0</th>\n",
              "      <td>admiration</td>\n",
              "      <td>9912</td>\n",
              "      <td>0.060089</td>\n",
              "    </tr>\n",
              "    <tr>\n",
              "      <th>1</th>\n",
              "      <td>amusement</td>\n",
              "      <td>5180</td>\n",
              "      <td>0.031403</td>\n",
              "    </tr>\n",
              "    <tr>\n",
              "      <th>2</th>\n",
              "      <td>anger</td>\n",
              "      <td>5644</td>\n",
              "      <td>0.034216</td>\n",
              "    </tr>\n",
              "    <tr>\n",
              "      <th>3</th>\n",
              "      <td>annoyance</td>\n",
              "      <td>10024</td>\n",
              "      <td>0.060768</td>\n",
              "    </tr>\n",
              "    <tr>\n",
              "      <th>4</th>\n",
              "      <td>approval</td>\n",
              "      <td>13235</td>\n",
              "      <td>0.080234</td>\n",
              "    </tr>\n",
              "  </tbody>\n",
              "</table>\n",
              "</div>"
            ],
            "text/plain": [
              "       target   text  proportion\n",
              "0  admiration   9912    0.060089\n",
              "1   amusement   5180    0.031403\n",
              "2       anger   5644    0.034216\n",
              "3   annoyance  10024    0.060768\n",
              "4    approval  13235    0.080234"
            ]
          },
          "metadata": {
            "tags": []
          },
          "execution_count": 7
        }
      ]
    },
    {
      "cell_type": "code",
      "metadata": {
        "colab": {
          "base_uri": "https://localhost:8080/",
          "height": 503
        },
        "id": "K2Iz8_bubtzN",
        "outputId": "cf2cbe83-88c7-4fc5-eff4-561971658366"
      },
      "source": [
        "target_dist.plot(x='target', y='proportion', kind='barh', rot=0, \\\n",
        "                 colormap='Pastel1', fontsize=12, figsize=(6,8))"
      ],
      "execution_count": null,
      "outputs": [
        {
          "output_type": "execute_result",
          "data": {
            "text/plain": [
              "<matplotlib.axes._subplots.AxesSubplot at 0x7fd6f4981310>"
            ]
          },
          "metadata": {
            "tags": []
          },
          "execution_count": 8
        },
        {
          "output_type": "display_data",
          "data": {
            "image/png": "[encoded data removed]",
            "text/plain": [
              "<Figure size 432x576 with 1 Axes>"
            ]
          },
          "metadata": {
            "tags": [],
            "needs_background": "light"
          }
        }
      ]
    },
    {
      "cell_type": "code",
      "metadata": {
        "id": "3eoQu24hb_fI"
      },
      "source": [
        "mapping = {\n",
        "\"anger\": [\"anger\", \"annoyance\", \"disapproval\"],\n",
        "\"disgust\": [\"disgust\"],\n",
        "\"fear\": [\"fear\", \"nervousness\"],\n",
        "\"joy\": [\"joy\", \"amusement\", \"approval\", \"excitement\", \"gratitude\",  \"love\", \"optimism\", \"relief\", \"pride\", \"admiration\", \"desire\", \"caring\"],\n",
        "\"sadness\": [\"sadness\", \"disappointment\", \"embarrassment\", \"grief\",  \"remorse\"],\n",
        "\"surprise\": [\"surprise\", \"realization\", \"confusion\", \"curiosity\"]\n",
        "}"
      ],
      "execution_count": null,
      "outputs": []
    },
    {
      "cell_type": "code",
      "metadata": {
        "id": "jiOUB6Y7PWSb"
      },
      "source": [
        "df ={ }"
      ],
      "execution_count": null,
      "outputs": []
    },
    {
      "cell_type": "code",
      "metadata": {
        "colab": {
          "base_uri": "https://localhost:8080/"
        },
        "id": "8bOJ9W1iPK0m",
        "outputId": "d3165f5b-f99b-493e-da35-741e25596df2"
      },
      "source": [
        "for key in mapping.keys():\n",
        "  df[key] = data[data['target'].isin(mapping[key])]\n",
        "  df[key]['target'] = key"
      ],
      "execution_count": null,
      "outputs": [
        {
          "output_type": "stream",
          "text": [
            "/usr/local/lib/python3.7/dist-packages/ipykernel_launcher.py:3: SettingWithCopyWarning: \n",
            "A value is trying to be set on a copy of a slice from a DataFrame.\n",
            "Try using .loc[row_indexer,col_indexer] = value instead\n",
            "\n",
            "See the caveats in the documentation: https://pandas.pydata.org/pandas-docs/stable/user_guide/indexing.html#returning-a-view-versus-a-copy\n",
            "  This is separate from the ipykernel package so we can avoid doing imports until\n"
          ],
          "name": "stderr"
        }
      ]
    },
    {
      "cell_type": "code",
      "metadata": {
        "id": "Q4ivONcYQR4b"
      },
      "source": [
        "mapped = pd.concat([v for k,v in df.items()])"
      ],
      "execution_count": null,
      "outputs": []
    },
    {
      "cell_type": "code",
      "metadata": {
        "colab": {
          "base_uri": "https://localhost:8080/",
          "height": 204
        },
        "id": "VhD6G4MOQmPZ",
        "outputId": "0a9356d5-3738-4187-d751-f081c08ea605"
      },
      "source": [
        "mapped.head(5)"
      ],
      "execution_count": null,
      "outputs": [
        {
          "output_type": "execute_result",
          "data": {
            "text/html": [
              "<div>\n",
              "<style scoped>\n",
              "    .dataframe tbody tr th:only-of-type {\n",
              "        vertical-align: middle;\n",
              "    }\n",
              "\n",
              "    .dataframe tbody tr th {\n",
              "        vertical-align: top;\n",
              "    }\n",
              "\n",
              "    .dataframe thead th {\n",
              "        text-align: right;\n",
              "    }\n",
              "</style>\n",
              "<table border=\"1\" class=\"dataframe\">\n",
              "  <thead>\n",
              "    <tr style=\"text-align: right;\">\n",
              "      <th></th>\n",
              "      <th>text</th>\n",
              "      <th>target</th>\n",
              "    </tr>\n",
              "  </thead>\n",
              "  <tbody>\n",
              "    <tr>\n",
              "      <th>15092</th>\n",
              "      <td>I thought it was very good. The guy was one si...</td>\n",
              "      <td>anger</td>\n",
              "    </tr>\n",
              "    <tr>\n",
              "      <th>15093</th>\n",
              "      <td>Lol. Build your own or make some tweaks to the...</td>\n",
              "      <td>anger</td>\n",
              "    </tr>\n",
              "    <tr>\n",
              "      <th>15094</th>\n",
              "      <td>his traps hide the fucking sun.</td>\n",
              "      <td>anger</td>\n",
              "    </tr>\n",
              "    <tr>\n",
              "      <th>15098</th>\n",
              "      <td>Disgusting!!! Where were the adults? The adult...</td>\n",
              "      <td>anger</td>\n",
              "    </tr>\n",
              "    <tr>\n",
              "      <th>15101</th>\n",
              "      <td>TAKE ME TO YOUR CRYPT, I WANT TO PAY MY RESPECTS!</td>\n",
              "      <td>anger</td>\n",
              "    </tr>\n",
              "  </tbody>\n",
              "</table>\n",
              "</div>"
            ],
            "text/plain": [
              "                                                    text target\n",
              "15092  I thought it was very good. The guy was one si...  anger\n",
              "15093  Lol. Build your own or make some tweaks to the...  anger\n",
              "15094                    his traps hide the fucking sun.  anger\n",
              "15098  Disgusting!!! Where were the adults? The adult...  anger\n",
              "15101  TAKE ME TO YOUR CRYPT, I WANT TO PAY MY RESPECTS!  anger"
            ]
          },
          "metadata": {
            "tags": []
          },
          "execution_count": 55
        }
      ]
    },
    {
      "cell_type": "code",
      "metadata": {
        "colab": {
          "base_uri": "https://localhost:8080/",
          "height": 204
        },
        "id": "2ORHOZo5QtHj",
        "outputId": "b48eee22-9e3f-4e9a-8dde-a89e9e4d04cd"
      },
      "source": [
        "mapped.tail(5)"
      ],
      "execution_count": null,
      "outputs": [
        {
          "output_type": "execute_result",
          "data": {
            "text/html": [
              "<div>\n",
              "<style scoped>\n",
              "    .dataframe tbody tr th:only-of-type {\n",
              "        vertical-align: middle;\n",
              "    }\n",
              "\n",
              "    .dataframe tbody tr th {\n",
              "        vertical-align: top;\n",
              "    }\n",
              "\n",
              "    .dataframe thead th {\n",
              "        text-align: right;\n",
              "    }\n",
              "</style>\n",
              "<table border=\"1\" class=\"dataframe\">\n",
              "  <thead>\n",
              "    <tr style=\"text-align: right;\">\n",
              "      <th></th>\n",
              "      <th>text</th>\n",
              "      <th>target</th>\n",
              "    </tr>\n",
              "  </thead>\n",
              "  <tbody>\n",
              "    <tr>\n",
              "      <th>133503</th>\n",
              "      <td>Wow did you really just scam me😔</td>\n",
              "      <td>surprise</td>\n",
              "    </tr>\n",
              "    <tr>\n",
              "      <th>133504</th>\n",
              "      <td>&gt; you're probably a little bit of a closeted n...</td>\n",
              "      <td>surprise</td>\n",
              "    </tr>\n",
              "    <tr>\n",
              "      <th>133505</th>\n",
              "      <td>OH YEAH!!</td>\n",
              "      <td>surprise</td>\n",
              "    </tr>\n",
              "    <tr>\n",
              "      <th>133506</th>\n",
              "      <td>Yeh? It just changed on me last night after I ...</td>\n",
              "      <td>surprise</td>\n",
              "    </tr>\n",
              "    <tr>\n",
              "      <th>133507</th>\n",
              "      <td>Guess I hit a triple</td>\n",
              "      <td>surprise</td>\n",
              "    </tr>\n",
              "  </tbody>\n",
              "</table>\n",
              "</div>"
            ],
            "text/plain": [
              "                                                     text    target\n",
              "133503                   Wow did you really just scam me😔  surprise\n",
              "133504  > you're probably a little bit of a closeted n...  surprise\n",
              "133505                                          OH YEAH!!  surprise\n",
              "133506  Yeh? It just changed on me last night after I ...  surprise\n",
              "133507                               Guess I hit a triple  surprise"
            ]
          },
          "metadata": {
            "tags": []
          },
          "execution_count": 29
        }
      ]
    },
    {
      "cell_type": "code",
      "metadata": {
        "id": "xnosVQkOSTBb"
      },
      "source": [
        "mapped = mapped.drop_duplicates(subset=['text','target'], keep='last')"
      ],
      "execution_count": null,
      "outputs": []
    },
    {
      "cell_type": "code",
      "metadata": {
        "colab": {
          "base_uri": "https://localhost:8080/"
        },
        "id": "UkWTVfb8SbWZ",
        "outputId": "82e362b1-1e77-471a-82f3-3e816eff15fd"
      },
      "source": [
        "mapped.shape"
      ],
      "execution_count": null,
      "outputs": [
        {
          "output_type": "execute_result",
          "data": {
            "text/plain": [
              "(89564, 2)"
            ]
          },
          "metadata": {
            "tags": []
          },
          "execution_count": 42
        }
      ]
    },
    {
      "cell_type": "code",
      "metadata": {
        "colab": {
          "base_uri": "https://localhost:8080/",
          "height": 204
        },
        "id": "tPtqjj9QQv_k",
        "outputId": "d00d00c0-9131-41d2-fd4a-064d4559dd05"
      },
      "source": [
        "target_dist = mapped.groupby('target').count().reset_index()\n",
        "target_dist['proportion'] = target_dist['text'] / sum(list(target_dist['text']))\n",
        "target_dist.head()"
      ],
      "execution_count": null,
      "outputs": [
        {
          "output_type": "execute_result",
          "data": {
            "text/html": [
              "<div>\n",
              "<style scoped>\n",
              "    .dataframe tbody tr th:only-of-type {\n",
              "        vertical-align: middle;\n",
              "    }\n",
              "\n",
              "    .dataframe tbody tr th {\n",
              "        vertical-align: top;\n",
              "    }\n",
              "\n",
              "    .dataframe thead th {\n",
              "        text-align: right;\n",
              "    }\n",
              "</style>\n",
              "<table border=\"1\" class=\"dataframe\">\n",
              "  <thead>\n",
              "    <tr style=\"text-align: right;\">\n",
              "      <th></th>\n",
              "      <th>target</th>\n",
              "      <th>text</th>\n",
              "      <th>proportion</th>\n",
              "    </tr>\n",
              "  </thead>\n",
              "  <tbody>\n",
              "    <tr>\n",
              "      <th>0</th>\n",
              "      <td>anger</td>\n",
              "      <td>17771</td>\n",
              "      <td>0.198417</td>\n",
              "    </tr>\n",
              "    <tr>\n",
              "      <th>1</th>\n",
              "      <td>disgust</td>\n",
              "      <td>4053</td>\n",
              "      <td>0.045253</td>\n",
              "    </tr>\n",
              "    <tr>\n",
              "      <th>2</th>\n",
              "      <td>fear</td>\n",
              "      <td>3089</td>\n",
              "      <td>0.034489</td>\n",
              "    </tr>\n",
              "    <tr>\n",
              "      <th>3</th>\n",
              "      <td>joy</td>\n",
              "      <td>35588</td>\n",
              "      <td>0.397347</td>\n",
              "    </tr>\n",
              "    <tr>\n",
              "      <th>4</th>\n",
              "      <td>sadness</td>\n",
              "      <td>11487</td>\n",
              "      <td>0.128255</td>\n",
              "    </tr>\n",
              "  </tbody>\n",
              "</table>\n",
              "</div>"
            ],
            "text/plain": [
              "    target   text  proportion\n",
              "0    anger  17771    0.198417\n",
              "1  disgust   4053    0.045253\n",
              "2     fear   3089    0.034489\n",
              "3      joy  35588    0.397347\n",
              "4  sadness  11487    0.128255"
            ]
          },
          "metadata": {
            "tags": []
          },
          "execution_count": 43
        }
      ]
    },
    {
      "cell_type": "code",
      "metadata": {
        "colab": {
          "base_uri": "https://localhost:8080/",
          "height": 394
        },
        "id": "fOVNrzFbRUXJ",
        "outputId": "d47dc3fa-50af-40dc-d16c-6d6cd00ac73e"
      },
      "source": [
        "target_dist.plot(x='target', y='proportion', kind='barh', rot=0, \\\n",
        "                 colormap='Pastel1', fontsize=12, figsize=(6,6))"
      ],
      "execution_count": null,
      "outputs": [
        {
          "output_type": "execute_result",
          "data": {
            "text/plain": [
              "<matplotlib.axes._subplots.AxesSubplot at 0x7fd6eb6f9fd0>"
            ]
          },
          "metadata": {
            "tags": []
          },
          "execution_count": 44
        },
        {
          "output_type": "display_data",
          "data": {
            "image/png": "[encoded data removed]",
            "text/plain": [
              "<Figure size 432x432 with 1 Axes>"
            ]
          },
          "metadata": {
            "tags": [],
            "needs_background": "light"
          }
        }
      ]
    },
    {
      "cell_type": "code",
      "metadata": {
        "colab": {
          "base_uri": "https://localhost:8080/",
          "height": 111
        },
        "id": "JdcPJh_CRem4",
        "outputId": "afcba5c1-fe11-4938-850b-f0045b373777"
      },
      "source": [
        "mapped.describe().transpose()"
      ],
      "execution_count": null,
      "outputs": [
        {
          "output_type": "execute_result",
          "data": {
            "text/html": [
              "<div>\n",
              "<style scoped>\n",
              "    .dataframe tbody tr th:only-of-type {\n",
              "        vertical-align: middle;\n",
              "    }\n",
              "\n",
              "    .dataframe tbody tr th {\n",
              "        vertical-align: top;\n",
              "    }\n",
              "\n",
              "    .dataframe thead th {\n",
              "        text-align: right;\n",
              "    }\n",
              "</style>\n",
              "<table border=\"1\" class=\"dataframe\">\n",
              "  <thead>\n",
              "    <tr style=\"text-align: right;\">\n",
              "      <th></th>\n",
              "      <th>count</th>\n",
              "      <th>unique</th>\n",
              "      <th>top</th>\n",
              "      <th>freq</th>\n",
              "    </tr>\n",
              "  </thead>\n",
              "  <tbody>\n",
              "    <tr>\n",
              "      <th>text</th>\n",
              "      <td>89564</td>\n",
              "      <td>53490</td>\n",
              "      <td>Yeah I probably would've started crying on the...</td>\n",
              "      <td>6</td>\n",
              "    </tr>\n",
              "    <tr>\n",
              "      <th>target</th>\n",
              "      <td>89564</td>\n",
              "      <td>6</td>\n",
              "      <td>joy</td>\n",
              "      <td>35588</td>\n",
              "    </tr>\n",
              "  </tbody>\n",
              "</table>\n",
              "</div>"
            ],
            "text/plain": [
              "        count unique                                                top   freq\n",
              "text    89564  53490  Yeah I probably would've started crying on the...      6\n",
              "target  89564      6                                                joy  35588"
            ]
          },
          "metadata": {
            "tags": []
          },
          "execution_count": 47
        }
      ]
    },
    {
      "cell_type": "code",
      "metadata": {
        "colab": {
          "base_uri": "https://localhost:8080/",
          "height": 204
        },
        "id": "gaIfbcCuSxbS",
        "outputId": "49dc4e43-a72e-4a55-f995-505cdf1a1d3e"
      },
      "source": [
        "duplicates = pd.concat(rows for _, rows in mapped.groupby('text') \\\n",
        "                       if len(rows) > 1)\n",
        "duplicates.head()"
      ],
      "execution_count": null,
      "outputs": [
        {
          "output_type": "execute_result",
          "data": {
            "text/html": [
              "<div>\n",
              "<style scoped>\n",
              "    .dataframe tbody tr th:only-of-type {\n",
              "        vertical-align: middle;\n",
              "    }\n",
              "\n",
              "    .dataframe tbody tr th {\n",
              "        vertical-align: top;\n",
              "    }\n",
              "\n",
              "    .dataframe thead th {\n",
              "        text-align: right;\n",
              "    }\n",
              "</style>\n",
              "<table border=\"1\" class=\"dataframe\">\n",
              "  <thead>\n",
              "    <tr style=\"text-align: right;\">\n",
              "      <th></th>\n",
              "      <th>text</th>\n",
              "      <th>target</th>\n",
              "    </tr>\n",
              "  </thead>\n",
              "  <tbody>\n",
              "    <tr>\n",
              "      <th>26048</th>\n",
              "      <td>\"If you don't wear BROWN AND ORANGE...YOU DON...</td>\n",
              "      <td>anger</td>\n",
              "    </tr>\n",
              "    <tr>\n",
              "      <th>111030</th>\n",
              "      <td>\"If you don't wear BROWN AND ORANGE...YOU DON...</td>\n",
              "      <td>joy</td>\n",
              "    </tr>\n",
              "    <tr>\n",
              "      <th>103029</th>\n",
              "      <td>\"What do Scottish people look like?\" How I wo...</td>\n",
              "      <td>joy</td>\n",
              "    </tr>\n",
              "    <tr>\n",
              "      <th>58927</th>\n",
              "      <td>\"What do Scottish people look like?\" How I wo...</td>\n",
              "      <td>surprise</td>\n",
              "    </tr>\n",
              "    <tr>\n",
              "      <th>75169</th>\n",
              "      <td>&gt;sexuality shouldn’t be a grouping category I...</td>\n",
              "      <td>anger</td>\n",
              "    </tr>\n",
              "  </tbody>\n",
              "</table>\n",
              "</div>"
            ],
            "text/plain": [
              "                                                     text    target\n",
              "26048    \"If you don't wear BROWN AND ORANGE...YOU DON...     anger\n",
              "111030   \"If you don't wear BROWN AND ORANGE...YOU DON...       joy\n",
              "103029   \"What do Scottish people look like?\" How I wo...       joy\n",
              "58927    \"What do Scottish people look like?\" How I wo...  surprise\n",
              "75169    >sexuality shouldn’t be a grouping category I...     anger"
            ]
          },
          "metadata": {
            "tags": []
          },
          "execution_count": 56
        }
      ]
    },
    {
      "cell_type": "code",
      "metadata": {
        "colab": {
          "base_uri": "https://localhost:8080/",
          "height": 204
        },
        "id": "GJzemVfUS2Dd",
        "outputId": "b0f16fd1-b675-46eb-aade-7c5c5b3c1463"
      },
      "source": [
        "duplicates.groupby('text').nunique().reset_index().sort_values('target').tail()"
      ],
      "execution_count": null,
      "outputs": [
        {
          "output_type": "execute_result",
          "data": {
            "text/html": [
              "<div>\n",
              "<style scoped>\n",
              "    .dataframe tbody tr th:only-of-type {\n",
              "        vertical-align: middle;\n",
              "    }\n",
              "\n",
              "    .dataframe tbody tr th {\n",
              "        vertical-align: top;\n",
              "    }\n",
              "\n",
              "    .dataframe thead th {\n",
              "        text-align: right;\n",
              "    }\n",
              "</style>\n",
              "<table border=\"1\" class=\"dataframe\">\n",
              "  <thead>\n",
              "    <tr style=\"text-align: right;\">\n",
              "      <th></th>\n",
              "      <th>text</th>\n",
              "      <th>target</th>\n",
              "    </tr>\n",
              "  </thead>\n",
              "  <tbody>\n",
              "    <tr>\n",
              "      <th>18015</th>\n",
              "      <td>There is something legitimately wrong with you</td>\n",
              "      <td>6</td>\n",
              "    </tr>\n",
              "    <tr>\n",
              "      <th>15067</th>\n",
              "      <td>SWTOR is horrible when you want to play togeth...</td>\n",
              "      <td>6</td>\n",
              "    </tr>\n",
              "    <tr>\n",
              "      <th>4450</th>\n",
              "      <td>HAS THE WHOLE WORLD GONE CRAZY‽ AM I THE ONLY ...</td>\n",
              "      <td>6</td>\n",
              "    </tr>\n",
              "    <tr>\n",
              "      <th>17225</th>\n",
              "      <td>That's what I said! Except the bad person part...</td>\n",
              "      <td>6</td>\n",
              "    </tr>\n",
              "    <tr>\n",
              "      <th>3216</th>\n",
              "      <td>Doctor charged 400 bucks for a blood pressure ...</td>\n",
              "      <td>6</td>\n",
              "    </tr>\n",
              "  </tbody>\n",
              "</table>\n",
              "</div>"
            ],
            "text/plain": [
              "                                                    text  target\n",
              "18015     There is something legitimately wrong with you       6\n",
              "15067  SWTOR is horrible when you want to play togeth...       6\n",
              "4450   HAS THE WHOLE WORLD GONE CRAZY‽ AM I THE ONLY ...       6\n",
              "17225  That's what I said! Except the bad person part...       6\n",
              "3216   Doctor charged 400 bucks for a blood pressure ...       6"
            ]
          },
          "metadata": {
            "tags": []
          },
          "execution_count": 57
        }
      ]
    },
    {
      "cell_type": "code",
      "metadata": {
        "id": "8zkANWwaUgcC"
      },
      "source": [
        "copy = mapped.copy()\n",
        "copy['word_count'] = copy['text'].apply(lambda x: len(x.split(' ')))"
      ],
      "execution_count": null,
      "outputs": []
    },
    {
      "cell_type": "code",
      "metadata": {
        "id": "57PBpb4dU08B"
      },
      "source": [
        "def avg_word_length(text):\n",
        "    words = text.split(' ')\n",
        "    length = [len(w) for w in words]\n",
        "    return math.ceil(sum(length) / len(length))\n",
        "\n",
        "copy['avg_word_length'] = copy['text'].apply(avg_word_length)"
      ],
      "execution_count": null,
      "outputs": []
    },
    {
      "cell_type": "code",
      "metadata": {
        "colab": {
          "base_uri": "https://localhost:8080/",
          "height": 204
        },
        "id": "TA1clwQoU3CQ",
        "outputId": "a7b5223e-4168-4279-baa2-d6f9d3e96e9c"
      },
      "source": [
        "copy.head(5)"
      ],
      "execution_count": null,
      "outputs": [
        {
          "output_type": "execute_result",
          "data": {
            "text/html": [
              "<div>\n",
              "<style scoped>\n",
              "    .dataframe tbody tr th:only-of-type {\n",
              "        vertical-align: middle;\n",
              "    }\n",
              "\n",
              "    .dataframe tbody tr th {\n",
              "        vertical-align: top;\n",
              "    }\n",
              "\n",
              "    .dataframe thead th {\n",
              "        text-align: right;\n",
              "    }\n",
              "</style>\n",
              "<table border=\"1\" class=\"dataframe\">\n",
              "  <thead>\n",
              "    <tr style=\"text-align: right;\">\n",
              "      <th></th>\n",
              "      <th>text</th>\n",
              "      <th>target</th>\n",
              "      <th>word_count</th>\n",
              "      <th>avg_word_length</th>\n",
              "    </tr>\n",
              "  </thead>\n",
              "  <tbody>\n",
              "    <tr>\n",
              "      <th>15092</th>\n",
              "      <td>I thought it was very good. The guy was one si...</td>\n",
              "      <td>anger</td>\n",
              "      <td>15</td>\n",
              "      <td>4</td>\n",
              "    </tr>\n",
              "    <tr>\n",
              "      <th>15093</th>\n",
              "      <td>Lol. Build your own or make some tweaks to the...</td>\n",
              "      <td>anger</td>\n",
              "      <td>11</td>\n",
              "      <td>5</td>\n",
              "    </tr>\n",
              "    <tr>\n",
              "      <th>15094</th>\n",
              "      <td>his traps hide the fucking sun.</td>\n",
              "      <td>anger</td>\n",
              "      <td>6</td>\n",
              "      <td>5</td>\n",
              "    </tr>\n",
              "    <tr>\n",
              "      <th>15098</th>\n",
              "      <td>Disgusting!!! Where were the adults? The adult...</td>\n",
              "      <td>anger</td>\n",
              "      <td>16</td>\n",
              "      <td>6</td>\n",
              "    </tr>\n",
              "    <tr>\n",
              "      <th>15101</th>\n",
              "      <td>TAKE ME TO YOUR CRYPT, I WANT TO PAY MY RESPECTS!</td>\n",
              "      <td>anger</td>\n",
              "      <td>11</td>\n",
              "      <td>4</td>\n",
              "    </tr>\n",
              "  </tbody>\n",
              "</table>\n",
              "</div>"
            ],
            "text/plain": [
              "                                                    text  ... avg_word_length\n",
              "15092  I thought it was very good. The guy was one si...  ...               4\n",
              "15093  Lol. Build your own or make some tweaks to the...  ...               5\n",
              "15094                    his traps hide the fucking sun.  ...               5\n",
              "15098  Disgusting!!! Where were the adults? The adult...  ...               6\n",
              "15101  TAKE ME TO YOUR CRYPT, I WANT TO PAY MY RESPECTS!  ...               4\n",
              "\n",
              "[5 rows x 4 columns]"
            ]
          },
          "metadata": {
            "tags": []
          },
          "execution_count": 62
        }
      ]
    },
    {
      "cell_type": "code",
      "metadata": {
        "colab": {
          "base_uri": "https://localhost:8080/",
          "height": 111
        },
        "id": "uBnyzZaZU7GC",
        "outputId": "436f4f05-ca00-48fd-e8fe-00235e64c236"
      },
      "source": [
        "copy.describe().transpose()"
      ],
      "execution_count": null,
      "outputs": [
        {
          "output_type": "execute_result",
          "data": {
            "text/html": [
              "<div>\n",
              "<style scoped>\n",
              "    .dataframe tbody tr th:only-of-type {\n",
              "        vertical-align: middle;\n",
              "    }\n",
              "\n",
              "    .dataframe tbody tr th {\n",
              "        vertical-align: top;\n",
              "    }\n",
              "\n",
              "    .dataframe thead th {\n",
              "        text-align: right;\n",
              "    }\n",
              "</style>\n",
              "<table border=\"1\" class=\"dataframe\">\n",
              "  <thead>\n",
              "    <tr style=\"text-align: right;\">\n",
              "      <th></th>\n",
              "      <th>count</th>\n",
              "      <th>mean</th>\n",
              "      <th>std</th>\n",
              "      <th>min</th>\n",
              "      <th>25%</th>\n",
              "      <th>50%</th>\n",
              "      <th>75%</th>\n",
              "      <th>max</th>\n",
              "    </tr>\n",
              "  </thead>\n",
              "  <tbody>\n",
              "    <tr>\n",
              "      <th>word_count</th>\n",
              "      <td>89564.0</td>\n",
              "      <td>13.842995</td>\n",
              "      <td>6.594036</td>\n",
              "      <td>1.0</td>\n",
              "      <td>8.0</td>\n",
              "      <td>14.0</td>\n",
              "      <td>19.0</td>\n",
              "      <td>33.0</td>\n",
              "    </tr>\n",
              "    <tr>\n",
              "      <th>avg_word_length</th>\n",
              "      <td>89564.0</td>\n",
              "      <td>4.891809</td>\n",
              "      <td>0.891409</td>\n",
              "      <td>1.0</td>\n",
              "      <td>4.0</td>\n",
              "      <td>5.0</td>\n",
              "      <td>5.0</td>\n",
              "      <td>50.0</td>\n",
              "    </tr>\n",
              "  </tbody>\n",
              "</table>\n",
              "</div>"
            ],
            "text/plain": [
              "                   count       mean       std  min  25%   50%   75%   max\n",
              "word_count       89564.0  13.842995  6.594036  1.0  8.0  14.0  19.0  33.0\n",
              "avg_word_length  89564.0   4.891809  0.891409  1.0  4.0   5.0   5.0  50.0"
            ]
          },
          "metadata": {
            "tags": []
          },
          "execution_count": 63
        }
      ]
    },
    {
      "cell_type": "code",
      "metadata": {
        "colab": {
          "base_uri": "https://localhost:8080/",
          "height": 394
        },
        "id": "z6xZfgjhVB-h",
        "outputId": "85052565-2080-498d-c2d1-44765207de49"
      },
      "source": [
        "copy.word_count.plot(kind='kde', fontsize=12, figsize=(5,6))"
      ],
      "execution_count": null,
      "outputs": [
        {
          "output_type": "execute_result",
          "data": {
            "text/plain": [
              "<matplotlib.axes._subplots.AxesSubplot at 0x7fd6e64ece50>"
            ]
          },
          "metadata": {
            "tags": []
          },
          "execution_count": 64
        },
        {
          "output_type": "display_data",
          "data": {
            "image/png": "[encoded data removed]",
            "text/plain": [
              "<Figure size 360x432 with 1 Axes>"
            ]
          },
          "metadata": {
            "tags": [],
            "needs_background": "light"
          }
        }
      ]
    },
    {
      "cell_type": "code",
      "metadata": {
        "colab": {
          "base_uri": "https://localhost:8080/",
          "height": 394
        },
        "id": "tY9dmlLbVFJI",
        "outputId": "1d12157f-837f-4156-9aaf-e11ca3fcd235"
      },
      "source": [
        "copy.avg_word_length.plot(kind='kde', fontsize=12, figsize=(5,6))"
      ],
      "execution_count": null,
      "outputs": [
        {
          "output_type": "execute_result",
          "data": {
            "text/plain": [
              "<matplotlib.axes._subplots.AxesSubplot at 0x7fd6e64692d0>"
            ]
          },
          "metadata": {
            "tags": []
          },
          "execution_count": 65
        },
        {
          "output_type": "display_data",
          "data": {
            "image/png": "[encoded data removed]",
            "text/plain": [
              "<Figure size 360x432 with 1 Axes>"
            ]
          },
          "metadata": {
            "tags": [],
            "needs_background": "light"
          }
        }
      ]
    },
    {
      "cell_type": "code",
      "metadata": {
        "colab": {
          "base_uri": "https://localhost:8080/",
          "height": 394
        },
        "id": "_GOTuvHJVJSV",
        "outputId": "edd8d124-3878-4430-f5db-0e947787f2f5"
      },
      "source": [
        "copy.word_count.plot(kind='box', fontsize=12, figsize=(5,6))"
      ],
      "execution_count": null,
      "outputs": [
        {
          "output_type": "execute_result",
          "data": {
            "text/plain": [
              "<matplotlib.axes._subplots.AxesSubplot at 0x7fd6ce7e4550>"
            ]
          },
          "metadata": {
            "tags": []
          },
          "execution_count": 68
        },
        {
          "output_type": "display_data",
          "data": {
            "image/png": "[encoded data removed]",
            "text/plain": [
              "<Figure size 360x432 with 1 Axes>"
            ]
          },
          "metadata": {
            "tags": [],
            "needs_background": "light"
          }
        }
      ]
    },
    {
      "cell_type": "code",
      "metadata": {
        "id": "rSIy_QHmVSPp"
      },
      "source": [
        "reserved_words = [\"EMAIL\", \"NUMBER\", \"MENTION\", \"URL\"]\n",
        "token_dict = {\n",
        "            \"ca\": \"can\",\n",
        "            \"wo\": \"will\",\n",
        "            \"sha\": \"shall\",\n",
        "            \"'ve\": \"have\",\n",
        "            \"'ll\": \"will\",\n",
        "            \"'m\": \"am\",\n",
        "            \"n't\": \"not\",\n",
        "            \"'re\": \"are\",\n",
        "        }\n",
        "word_dict = {\n",
        "            \"cant\": \"can not\",\n",
        "            \"couldnt\": \"could not\",\n",
        "            \"wont\": \"will not\",\n",
        "            \"pls\": \"please\",\n",
        "            \"plz\": \"please\",\n",
        "            \"youre\": \"you are\",\n",
        "            \"theyre\": \"they are\",\n",
        "            \"ive\": \"I have\",\n",
        "            \"havent\": \"have not\",\n",
        "            \"hasnt\": \"has not\",\n",
        "            \"hadnt\": \"had not\",\n",
        "            \"im\": \"I am\",\n",
        "            \"didnt\": \"did not\",\n",
        "            \"dont\": \"do not\",\n",
        "            \"doesnt\": \"does not\",\n",
        "            \"gotta\": \"got to\",\n",
        "            \"wanna\": \"want to\",\n",
        "            \"gonna\": \"going to\",\n",
        "            \"wannabe\": \"want to be\",\n",
        "            \"cannot\": \"can not\",\n",
        "        }"
      ],
      "execution_count": null,
      "outputs": []
    },
    {
      "cell_type": "code",
      "metadata": {
        "id": "0taCYvEqVeC8"
      },
      "source": [
        "def substitute(doc):\n",
        "        doc = re.sub(r\"<br />\", \" \", doc)\n",
        "        doc = re.sub(r\"\\S+@\\S+\", \" EMAIL \", doc)\n",
        "        doc = re.sub(r\"@\\S+\", \" MENTION \", doc)\n",
        "        doc = re.sub(r\"https?:\\S+|http?:\\S+\", \" URL \", doc)\n",
        "        doc = re.sub(r\"(\\d+\\-\\d+)|\\d+\", \" NUMBER \", doc)\n",
        "        doc = re.sub(r\"[^A-Za-z']\", \" \", doc)\n",
        "\n",
        "        return doc\n",
        "\n",
        "def expand(token):\n",
        "        if token in reserved_words:\n",
        "            return token\n",
        "        token = token.lower()\n",
        "        if token.lower().strip() == \"let's\":\n",
        "            return \"let us\"\n",
        "\n",
        "        if token.lower().strip() == \"'twas\":\n",
        "            return \"it was\"\n",
        "\n",
        "        if word_dict.get(token, None):\n",
        "            return word_dict.get(token)\n",
        "\n",
        "        tokens = word_tokenize(token)\n",
        "        if len(tokens) == 1:\n",
        "            return word_dict.get(tokens[0], tokens[0])\n",
        "        for i in range(len(tokens)):\n",
        "            tokens[i] = token_dict.get(tokens[i], tokens[i])\n",
        "\n",
        "        return \" \".join(tokens)\n",
        "\n",
        "def preprocess(doc):\n",
        "        doc = normalize('NFD',doc).encode('ascii', 'ignore').decode('utf-8')\n",
        "        doc = substitute(doc)\n",
        "        tokens = doc.split()\n",
        "        doc = \" \".join([expand(w) for w in tokens])\n",
        "\n",
        "        tokens = doc.split()\n",
        "        tokens = [word for word in tokens if word.isalpha()]\n",
        "\n",
        "        tokens = [\n",
        "            word.lower() if word not in reserved_words else word for word in tokens\n",
        "        ]\n",
        "\n",
        "        return \" \".join(tokens)"
      ],
      "execution_count": null,
      "outputs": []
    },
    {
      "cell_type": "code",
      "metadata": {
        "colab": {
          "base_uri": "https://localhost:8080/",
          "height": 35
        },
        "id": "3isvFNEcVfD9",
        "outputId": "4bb8e2b3-cc79-4d84-c0dc-905ba3a0297e"
      },
      "source": [
        "preprocess(\"😂 @mama124 Im gonna enter http:bit.ly.12673/ab \\\n",
        "for 30th time :| don't know why cant i České Budějovic á Ś cé\")"
      ],
      "execution_count": null,
      "outputs": [
        {
          "output_type": "execute_result",
          "data": {
            "application/vnd.google.colaboratory.intrinsic+json": {
              "type": "string"
            },
            "text/plain": [
              "'MENTION i am going to enter URL for NUMBER th time do not know why can not i ceske budejovic a s ce'"
            ]
          },
          "metadata": {
            "tags": []
          },
          "execution_count": 71
        }
      ]
    },
    {
      "cell_type": "code",
      "metadata": {
        "colab": {
          "base_uri": "https://localhost:8080/"
        },
        "id": "geXB5BrUViRL",
        "outputId": "1f4a5033-cf2a-4cb4-e848-5b09459a6cda"
      },
      "source": [
        "%%time \n",
        "copy['text'] = copy['text'].apply(preprocess)"
      ],
      "execution_count": null,
      "outputs": [
        {
          "output_type": "stream",
          "text": [
            "CPU times: user 1min 23s, sys: 216 ms, total: 1min 23s\n",
            "Wall time: 1min 24s\n"
          ],
          "name": "stdout"
        }
      ]
    },
    {
      "cell_type": "code",
      "metadata": {
        "colab": {
          "base_uri": "https://localhost:8080/",
          "height": 204
        },
        "id": "L5PP13drWdHK",
        "outputId": "e8211534-fa37-437c-a3d7-ea8eb398ca3d"
      },
      "source": [
        "duplicates = pd.concat(rows for _, rows in copy.groupby('text') \\\n",
        "                       if len(rows) > 1)\n",
        "duplicates.head()"
      ],
      "execution_count": null,
      "outputs": [
        {
          "output_type": "execute_result",
          "data": {
            "text/html": [
              "<div>\n",
              "<style scoped>\n",
              "    .dataframe tbody tr th:only-of-type {\n",
              "        vertical-align: middle;\n",
              "    }\n",
              "\n",
              "    .dataframe tbody tr th {\n",
              "        vertical-align: top;\n",
              "    }\n",
              "\n",
              "    .dataframe thead th {\n",
              "        text-align: right;\n",
              "    }\n",
              "</style>\n",
              "<table border=\"1\" class=\"dataframe\">\n",
              "  <thead>\n",
              "    <tr style=\"text-align: right;\">\n",
              "      <th></th>\n",
              "      <th>text</th>\n",
              "      <th>target</th>\n",
              "      <th>word_count</th>\n",
              "      <th>avg_word_length</th>\n",
              "    </tr>\n",
              "  </thead>\n",
              "  <tbody>\n",
              "    <tr>\n",
              "      <th>33205</th>\n",
              "      <td>MENTION sorry if i used the wrong pronoun</td>\n",
              "      <td>joy</td>\n",
              "      <td>8</td>\n",
              "      <td>7</td>\n",
              "    </tr>\n",
              "    <tr>\n",
              "      <th>128079</th>\n",
              "      <td>MENTION sorry if i used the wrong pronoun</td>\n",
              "      <td>sadness</td>\n",
              "      <td>8</td>\n",
              "      <td>7</td>\n",
              "    </tr>\n",
              "    <tr>\n",
              "      <th>112614</th>\n",
              "      <td>NUMBER NUMBER NUMBER all deuce could this be a...</td>\n",
              "      <td>joy</td>\n",
              "      <td>9</td>\n",
              "      <td>5</td>\n",
              "    </tr>\n",
              "    <tr>\n",
              "      <th>58187</th>\n",
              "      <td>NUMBER NUMBER NUMBER all deuce could this be a...</td>\n",
              "      <td>surprise</td>\n",
              "      <td>9</td>\n",
              "      <td>5</td>\n",
              "    </tr>\n",
              "    <tr>\n",
              "      <th>29952</th>\n",
              "      <td>NUMBER NUMBER NUMBER its completely dead you s...</td>\n",
              "      <td>anger</td>\n",
              "      <td>18</td>\n",
              "      <td>5</td>\n",
              "    </tr>\n",
              "  </tbody>\n",
              "</table>\n",
              "</div>"
            ],
            "text/plain": [
              "                                                     text  ... avg_word_length\n",
              "33205           MENTION sorry if i used the wrong pronoun  ...               7\n",
              "128079          MENTION sorry if i used the wrong pronoun  ...               7\n",
              "112614  NUMBER NUMBER NUMBER all deuce could this be a...  ...               5\n",
              "58187   NUMBER NUMBER NUMBER all deuce could this be a...  ...               5\n",
              "29952   NUMBER NUMBER NUMBER its completely dead you s...  ...               5\n",
              "\n",
              "[5 rows x 4 columns]"
            ]
          },
          "metadata": {
            "tags": []
          },
          "execution_count": 76
        }
      ]
    },
    {
      "cell_type": "code",
      "metadata": {
        "colab": {
          "base_uri": "https://localhost:8080/",
          "height": 204
        },
        "id": "fY0BcxgSWrd3",
        "outputId": "8f96ae7d-b894-46b9-ff77-7a7c737194b8"
      },
      "source": [
        "duplicates.groupby('text')['target'].nunique().reset_index() \\\n",
        ".sort_values('target').tail()"
      ],
      "execution_count": null,
      "outputs": [
        {
          "output_type": "execute_result",
          "data": {
            "text/html": [
              "<div>\n",
              "<style scoped>\n",
              "    .dataframe tbody tr th:only-of-type {\n",
              "        vertical-align: middle;\n",
              "    }\n",
              "\n",
              "    .dataframe tbody tr th {\n",
              "        vertical-align: top;\n",
              "    }\n",
              "\n",
              "    .dataframe thead th {\n",
              "        text-align: right;\n",
              "    }\n",
              "</style>\n",
              "<table border=\"1\" class=\"dataframe\">\n",
              "  <thead>\n",
              "    <tr style=\"text-align: right;\">\n",
              "      <th></th>\n",
              "      <th>text</th>\n",
              "      <th>target</th>\n",
              "    </tr>\n",
              "  </thead>\n",
              "  <tbody>\n",
              "    <tr>\n",
              "      <th>13781</th>\n",
              "      <td>name will probably get something as worse as n...</td>\n",
              "      <td>6</td>\n",
              "    </tr>\n",
              "    <tr>\n",
              "      <th>17933</th>\n",
              "      <td>swtor is horrible when you want to play togeth...</td>\n",
              "      <td>6</td>\n",
              "    </tr>\n",
              "    <tr>\n",
              "      <th>23573</th>\n",
              "      <td>yeah all they have to do is ask for absolution...</td>\n",
              "      <td>6</td>\n",
              "    </tr>\n",
              "    <tr>\n",
              "      <th>14209</th>\n",
              "      <td>no that horrible news for galaxy fans lol</td>\n",
              "      <td>6</td>\n",
              "    </tr>\n",
              "    <tr>\n",
              "      <th>13378</th>\n",
              "      <td>name has come down with a terrible sickness wh...</td>\n",
              "      <td>6</td>\n",
              "    </tr>\n",
              "  </tbody>\n",
              "</table>\n",
              "</div>"
            ],
            "text/plain": [
              "                                                    text  target\n",
              "13781  name will probably get something as worse as n...       6\n",
              "17933  swtor is horrible when you want to play togeth...       6\n",
              "23573  yeah all they have to do is ask for absolution...       6\n",
              "14209          no that horrible news for galaxy fans lol       6\n",
              "13378  name has come down with a terrible sickness wh...       6"
            ]
          },
          "metadata": {
            "tags": []
          },
          "execution_count": 80
        }
      ]
    },
    {
      "cell_type": "code",
      "metadata": {
        "id": "wTAzITxvXSdG"
      },
      "source": [
        "temp = copy"
      ],
      "execution_count": null,
      "outputs": []
    },
    {
      "cell_type": "code",
      "metadata": {
        "id": "oqIKQ_hnXn-r"
      },
      "source": [
        "temp = temp.drop_duplicates(subset=['text'])"
      ],
      "execution_count": null,
      "outputs": []
    },
    {
      "cell_type": "code",
      "metadata": {
        "id": "0LBL781MXbAX"
      },
      "source": [
        "# ValueError: No objects to concatenate\n",
        "# duplicates = pd.concat(rows for _, rows in temp.groupby('text') \\\n",
        "#                        if len(rows) > 1)\n",
        "# duplicates.head()"
      ],
      "execution_count": null,
      "outputs": []
    },
    {
      "cell_type": "code",
      "metadata": {
        "colab": {
          "base_uri": "https://localhost:8080/",
          "height": 80
        },
        "id": "s1buv6TPX-aa",
        "outputId": "859b4172-49a8-475e-fbbe-e9ba0d9adaef"
      },
      "source": [
        "temp[['text']].describe().transpose()"
      ],
      "execution_count": 108,
      "outputs": [
        {
          "output_type": "execute_result",
          "data": {
            "text/html": [
              "<div>\n",
              "<style scoped>\n",
              "    .dataframe tbody tr th:only-of-type {\n",
              "        vertical-align: middle;\n",
              "    }\n",
              "\n",
              "    .dataframe tbody tr th {\n",
              "        vertical-align: top;\n",
              "    }\n",
              "\n",
              "    .dataframe thead th {\n",
              "        text-align: right;\n",
              "    }\n",
              "</style>\n",
              "<table border=\"1\" class=\"dataframe\">\n",
              "  <thead>\n",
              "    <tr style=\"text-align: right;\">\n",
              "      <th></th>\n",
              "      <th>count</th>\n",
              "      <th>unique</th>\n",
              "      <th>top</th>\n",
              "      <th>freq</th>\n",
              "    </tr>\n",
              "  </thead>\n",
              "  <tbody>\n",
              "    <tr>\n",
              "      <th>text</th>\n",
              "      <td>52991</td>\n",
              "      <td>52991</td>\n",
              "      <td>they definitely did not do name mode justice w...</td>\n",
              "      <td>1</td>\n",
              "    </tr>\n",
              "  </tbody>\n",
              "</table>\n",
              "</div>"
            ],
            "text/plain": [
              "      count unique                                                top freq\n",
              "text  52991  52991  they definitely did not do name mode justice w...    1"
            ]
          },
          "metadata": {
            "tags": []
          },
          "execution_count": 108
        }
      ]
    },
    {
      "cell_type": "code",
      "metadata": {
        "colab": {
          "base_uri": "https://localhost:8080/",
          "height": 204
        },
        "id": "W38JQVaVZ2Qm",
        "outputId": "b7f076b6-2824-40be-e4bc-749e55cb4904"
      },
      "source": [
        "target_dist = temp.groupby('target')['text'].count().reset_index()\n",
        "target_dist['proportion'] = target_dist['text'] / sum(list(target_dist['text']))\n",
        "target_dist.head()"
      ],
      "execution_count": 112,
      "outputs": [
        {
          "output_type": "execute_result",
          "data": {
            "text/html": [
              "<div>\n",
              "<style scoped>\n",
              "    .dataframe tbody tr th:only-of-type {\n",
              "        vertical-align: middle;\n",
              "    }\n",
              "\n",
              "    .dataframe tbody tr th {\n",
              "        vertical-align: top;\n",
              "    }\n",
              "\n",
              "    .dataframe thead th {\n",
              "        text-align: right;\n",
              "    }\n",
              "</style>\n",
              "<table border=\"1\" class=\"dataframe\">\n",
              "  <thead>\n",
              "    <tr style=\"text-align: right;\">\n",
              "      <th></th>\n",
              "      <th>target</th>\n",
              "      <th>text</th>\n",
              "      <th>proportion</th>\n",
              "    </tr>\n",
              "  </thead>\n",
              "  <tbody>\n",
              "    <tr>\n",
              "      <th>0</th>\n",
              "      <td>anger</td>\n",
              "      <td>17707</td>\n",
              "      <td>0.334151</td>\n",
              "    </tr>\n",
              "    <tr>\n",
              "      <th>1</th>\n",
              "      <td>disgust</td>\n",
              "      <td>1196</td>\n",
              "      <td>0.022570</td>\n",
              "    </tr>\n",
              "    <tr>\n",
              "      <th>2</th>\n",
              "      <td>fear</td>\n",
              "      <td>1688</td>\n",
              "      <td>0.031854</td>\n",
              "    </tr>\n",
              "    <tr>\n",
              "      <th>3</th>\n",
              "      <td>joy</td>\n",
              "      <td>25842</td>\n",
              "      <td>0.487668</td>\n",
              "    </tr>\n",
              "    <tr>\n",
              "      <th>4</th>\n",
              "      <td>sadness</td>\n",
              "      <td>2319</td>\n",
              "      <td>0.043762</td>\n",
              "    </tr>\n",
              "  </tbody>\n",
              "</table>\n",
              "</div>"
            ],
            "text/plain": [
              "    target   text  proportion\n",
              "0    anger  17707    0.334151\n",
              "1  disgust   1196    0.022570\n",
              "2     fear   1688    0.031854\n",
              "3      joy  25842    0.487668\n",
              "4  sadness   2319    0.043762"
            ]
          },
          "metadata": {
            "tags": []
          },
          "execution_count": 112
        }
      ]
    },
    {
      "cell_type": "code",
      "metadata": {
        "id": "o2xg--xhYT1Y"
      },
      "source": [
        "# temp[['text','target']] \\\n",
        "# .to_csv('/content/drive/MyDrive/emotion/data/go_preprocessed.csv')"
      ],
      "execution_count": null,
      "outputs": []
    }
  ]
}